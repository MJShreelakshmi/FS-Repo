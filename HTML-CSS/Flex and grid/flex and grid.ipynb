{
 "cells": [
  {
   "cell_type": "markdown",
   "id": "7ac9672e",
   "metadata": {},
   "source": [
    "#### flex\n",
    "flex is used to create one dimensional layout (which means we can arrange the elements in row wise or column wise\n",
    "\n",
    "display: flex;\n",
    "\n",
    "flex-direction: column;   ------> row, row-reverse, column-reverse\n",
    "\n",
    "flex-wrap; nowrap\n",
    "\n",
    "flex-flow: column wrap; ---> flex-direction, flex-wrap --> combo of flex-direction & flex-wrap\n",
    "\n",
    "column-gap: 20px;  ------> row-gap: 20px  OR gap: row, col\n",
    "\n",
    "row-gap: 20px;\n",
    "\n",
    "gap: 20px; --> (row, column); in case of single value, both row & col have same values --> combo of row-gap & column-gap\n",
    "\n",
    "justify-content: start; ( center, right, space-around, space-evenly, space-between )\n",
    "\n",
    "align-content: start; ( center, end, space-around, space-evenly, space-between )\n",
    "\n",
    "#### Note:\n",
    "flex-wrap--> when we dont want to reduce the gap of the elemnts; default is nowrap\n",
    "\n",
    "justify-content--> to get the content on left/right/center on X OR Y axis; the axis depends on the flex direction\n",
    "\n",
    "align-content --> works on the complementary axis (suppose justify-content is on Main (X) axis, then align-content is on cross(Y) axis"
   ]
  },
  {
   "cell_type": "code",
   "execution_count": null,
   "id": "8a3f53e0",
   "metadata": {},
   "outputs": [],
   "source": []
  }
 ],
 "metadata": {
  "kernelspec": {
   "display_name": "Python 3 (ipykernel)",
   "language": "python",
   "name": "python3"
  },
  "language_info": {
   "codemirror_mode": {
    "name": "ipython",
    "version": 3
   },
   "file_extension": ".py",
   "mimetype": "text/x-python",
   "name": "python",
   "nbconvert_exporter": "python",
   "pygments_lexer": "ipython3",
   "version": "3.8.3"
  }
 },
 "nbformat": 4,
 "nbformat_minor": 5
}
