{
 "cells": [
  {
   "cell_type": "code",
   "execution_count": 2,
   "id": "e9d35ddf",
   "metadata": {},
   "outputs": [],
   "source": [
    "# class-1   (Note: External CSS(not working), PsuedoClass and PseudoElement incomplete syntax)\n",
    "from IPython.display import HTML"
   ]
  },
  {
   "cell_type": "markdown",
   "id": "0ce7484b",
   "metadata": {},
   "source": [
    "### HTML\n",
    "1. HTML stands for Hyper Text Markup Language\n",
    "2. HTML is used to create the layouts of webpages\n",
    "3. HTML was developed by Time Bermer Eee in 1991\n",
    "4. To write HTML programs we have to use tags\n",
    "5. Tag means th etext which is surrounded by angular brackets\n",
    "      \n",
    "          < text > ----> tag\n",
    "6. The tag which has only opening tag is known as \"unpaired tag\"\n",
    "7. The tag which has both opening and closing tag is called as \"paired tag\"\n",
    "\n",
    "        < h1 > --> opening tag < /h1> ---> closing tag\n",
    "8. HTML is not a case senitive language"
   ]
  },
  {
   "cell_type": "raw",
   "id": "3b2150b1",
   "metadata": {},
   "source": [
    "<html>\n",
    "    <head>\n",
    "        <title> New tab</title>\n",
    "    </head>\n",
    "    <body>\n",
    "        <h1> Hello world..!!</h1>\n",
    "    </body>\n",
    "</html>"
   ]
  },
  {
   "cell_type": "markdown",
   "id": "b5eb3f85",
   "metadata": {},
   "source": [
    "<html>\n",
    "    <head>\n",
    "        <title> New tab</title>\n",
    "    </head>\n",
    "    <body>\n",
    "        <h1> Hello world..!!</h1>\n",
    "    </body>\n",
    "</html>"
   ]
  },
  {
   "cell_type": "markdown",
   "id": "575c95ea",
   "metadata": {},
   "source": [
    "#### What is an element?\n",
    "The content which is present between the opening tag and closing tag is known as element\n",
    "#### HTML DOCTYPE Declaration\n",
    "1. DOCTYPE declaration is used to represent the version of HTML\n",
    "2. The latest version of HTML IS HTML 5.0\n",
    "3. In HTML 5.0, the data type is simple  < !DOCTYPE html >\n",
    "\n",
    "#### Versions of HTML\n",
    "* HTML 1.0 -- 1991\n",
    "* HTML 2.0 -- 1995\n",
    "* HTML 3.0 -- 1997\n",
    "* HTML 4.0 -- 1999\n",
    "* XHTML    -- 2000\n",
    "* HTML 5.0 -- 2014"
   ]
  },
  {
   "cell_type": "raw",
   "id": "143ca1f5",
   "metadata": {},
   "source": [
    "<!DOCYTYPE html>\n",
    "<html>\n",
    "    <head>\n",
    "        <title> New tab </title>\n",
    "    </head>\n",
    "    <body>\n",
    "        <h1> Hello world </h1>\n",
    "        <!....comments in HTML...>\n",
    "        <!.. There are 6 heading tags h1 to h6..>\n",
    "    </body>\n",
    "</html>"
   ]
  },
  {
   "cell_type": "markdown",
   "id": "42de1937",
   "metadata": {},
   "source": [
    "<!DOCYTYPE html>\n",
    "<html>\n",
    "    <head>\n",
    "        <title> New tab </title>\n",
    "    </head>\n",
    "    <body>\n",
    "        <h1> Hello world </h1>\n",
    "        <!....comments in HTML...>\n",
    "        <!.. There are 6 heading tags h1 to h6..>\n",
    "    </body>\n",
    "</html>"
   ]
  },
  {
   "cell_type": "markdown",
   "id": "4ea4cc61",
   "metadata": {},
   "source": [
    "#### HTML Attributes\n",
    "By using attributes, we can provide additional functionality to the html tags\n",
    "\n",
    "Syntax:\n",
    "        < tagname attrname=\"value\">\n",
    "        ------content-----\n",
    "        < /tagname>\n",
    "example:\n",
    "\n",
    "< h1 align=\"left\"> Flipkart</ h1>\n",
    "<h1 align=\"leftt\"> Flipkart</h1>"
   ]
  },
  {
   "cell_type": "raw",
   "id": "dc7ca78c",
   "metadata": {},
   "source": [
    "<!DOCTYE html>\n",
    "<html lang = \"en\">\n",
    "    <head>\n",
    "        <title> Document </title>\n",
    "    </head>\n",
    "    <body> \n",
    "        <h1> Flipkart Homepage</h1>\n",
    "        <img src=\"./f1.cms\" alt=\"Image not found\" width=\"200px\" height=\"200px\"/>\n",
    "        <h1> FK Homepage </h1>\n",
    "        <img src=\"./../src/assets/f2.jpg\" alt=\"Image not found\" width=\"200px\" height=\"200px\"/>\n",
    "        <h1> FK Homepage </h1>\n",
    "        <img src=\"./../src/assets/f3.jpg\" alt=\"Image not found\" width=\"200px\" height=\"200px\"/>\n",
    "        <h1> FK Homepage </h1>\n",
    "    </body>\n",
    "</html>"
   ]
  },
  {
   "cell_type": "markdown",
   "id": "721e8078",
   "metadata": {},
   "source": [
    "<!DOCTYE html>\n",
    "<html lang = \"en\">\n",
    "    <head>\n",
    "        <title> Document </title>\n",
    "    </head>\n",
    "    <body> \n",
    "        <h1> Flipkart Homepage</h1>\n",
    "        <img src=\"./f1.cms\" alt=\"Image not found\" width=\"200px\" height=\"200px\"/>\n",
    "        <h1> FK Homepage </h1>\n",
    "        <img src=\"./../src/assets/f2.jpg\" alt=\"Image not found\" width=\"200px\" height=\"200px\"/>\n",
    "        <h1> FK Homepage </h1>\n",
    "        <img src=\"./../src/assets/f3.jpg\" alt=\"Image not found\" width=\"200px\" height=\"200px\"/>\n",
    "        <h1> FK Homepage </h1>\n",
    "    </body>\n",
    "</html>"
   ]
  },
  {
   "cell_type": "code",
   "execution_count": 14,
   "id": "d8d55abb",
   "metadata": {},
   "outputs": [],
   "source": [
    "# Class-2"
   ]
  },
  {
   "cell_type": "markdown",
   "id": "bd5612d6",
   "metadata": {},
   "source": [
    "### HTML \n",
    "1. Hyper Text - Hyper text holds the reference of another webpage \n",
    "2. HTML is used to design the layout/structure of webpages\n",
    "3. It can be used to create static web pages\n",
    "### CSS -Cascading Style Sheets\n",
    "CSS is used to style the webpages\n",
    "### Bootstrap\n",
    "1. Bootstrap is the predefined library of HTML, CSS and Javascript\n",
    "2. It is used to create the responsive web pages -- (i.e., web pages according to the screen size)\n",
    "### Javascript \n",
    "Javasccript is a programming language used to get the dynamic functionalitites for the html web pages\n",
    "### Attributes\n",
    "1. Attributes are used to provide additional functionality for the html element\n",
    "2. Attributes must be declared within the opening tags only\n",
    "3. For example, align is an attribute which has 3 values i.e., right, center and left\n",
    "syntax:\n",
    "        < tagname attribute=\"value\"> content </ tagname>\n",
    "\n",
    "Example:  < h1 align=\"center\"> HTML </ h1>\n",
    "<h1 align=\"center\"> HTML </h1>"
   ]
  },
  {
   "cell_type": "raw",
   "id": "ba52cbd3",
   "metadata": {},
   "source": [
    "                                                     Tables\n",
    "<!DOCTYE html>\n",
    "<html lang = \"en\">\n",
    "    <head>\n",
    "        <title> Heading Tags </title>\n",
    "    </head>\n",
    "    <body> \n",
    "        <h2> Student Table </h2>\n",
    "        <table border=\"2px\" width=\"500px\">\n",
    "            <thead>\n",
    "                <tr>\n",
    "                    <th>SId</th>\n",
    "                    <th>SName</th>\n",
    "                    <th>Age</th>\n",
    "                    <th>Course</th>\n",
    "                </tr>\n",
    "            </thead>\n",
    "            <tbody align=\"center\">\n",
    "                <tr>\n",
    "                    <td>101</td>\n",
    "                    <td>Naveen</td>\n",
    "                    <td>24</td>\n",
    "                    <td>Python</td>\n",
    "                </tr>\n",
    "                <tr>\n",
    "                    <td>102</td>\n",
    "                    <td>Navya</td>\n",
    "                    <td>24</td>\n",
    "                    <td>SQL</td>\n",
    "                </tr>\n",
    "            </tbody>\n",
    "        </table>\n",
    "    </body>\n",
    "</html>"
   ]
  },
  {
   "cell_type": "markdown",
   "id": "2efd9e80",
   "metadata": {},
   "source": [
    "<!DOCTYE html>\n",
    "<html lang = \"en\">\n",
    "    <head>\n",
    "        <title> Heading Tags </title>\n",
    "    </head>\n",
    "    <body> \n",
    "        <h2> Student Table </h2>\n",
    "        <table border=\"2px\" width=\"500px\">\n",
    "            <thead>\n",
    "                <tr>\n",
    "                    <th>SId</th>\n",
    "                    <th>SName</th>\n",
    "                    <th>Age</th>\n",
    "                    <th>Course</th>\n",
    "                </tr>\n",
    "            </thead>\n",
    "            <tbody align=\"center\">\n",
    "                <tr>\n",
    "                    <td>101</td>\n",
    "                    <td>Naveen</td>\n",
    "                    <td>24</td>\n",
    "                    <td>Python</td>\n",
    "                </tr>\n",
    "                <tr>\n",
    "                    <td>102</td>\n",
    "                    <td>Navya</td>\n",
    "                    <td>24</td>\n",
    "                    <td>SQL</td>\n",
    "                </tr>\n",
    "            </tbody>\n",
    "        </table>\n",
    "    </body>\n",
    "</html>"
   ]
  },
  {
   "cell_type": "raw",
   "id": "75582ca9",
   "metadata": {},
   "source": [
    "Table with rowspan and colspan attributes"
   ]
  },
  {
   "cell_type": "markdown",
   "id": "29f65849",
   "metadata": {},
   "source": [
    "<!DOCTYE html>\n",
    "<html lang = \"en\">\n",
    "    <head>\n",
    "        <title> Student Info </title>\n",
    "    </head>\n",
    "    <body> \n",
    "        <table border=\"5px\" width=\"100%\">\n",
    "            <thead>\n",
    "                <tr>\n",
    "                    <th>SId</th>\n",
    "                    <th>SName</th>\n",
    "                    <th>Age</th>\n",
    "                    <th colspan=\"2\">Courses</th>\n",
    "                </tr>\n",
    "            </thead>\n",
    "            <tbody align=\"center\">\n",
    "                <tr>\n",
    "                    <td>101</td>\n",
    "                    <td>Naveen</td>\n",
    "                    <td>23</td>\n",
    "                    <td rowspan=\"4\">HTML</td>\n",
    "                    <td rowspan=\"2\">Python</td>\n",
    "                </tr>\n",
    "                <tr>\n",
    "                    <td>102</td>\n",
    "                    <td>Navya</td>\n",
    "                    <td>24</td>\n",
    "                </tr>\n",
    "                <tr>\n",
    "                    <td>101</td>\n",
    "                    <td>Raj</td>\n",
    "                    <td>22</td>\n",
    "                    <td rowspan=\"2\">Java</td>\n",
    "                </tr>\n",
    "                <tr>\n",
    "                    <td>101</td>\n",
    "                    <td>Shravan</td>\n",
    "                    <td>21</td>\n",
    "                </tr>\n",
    "            </tbody>\n",
    "        </table>\n",
    "    </body>\n",
    "</html>"
   ]
  },
  {
   "cell_type": "markdown",
   "id": "dc1c66d2",
   "metadata": {},
   "source": [
    "### Anchor Tags"
   ]
  },
  {
   "cell_type": "raw",
   "id": "d08f6d54",
   "metadata": {},
   "source": [
    "Hyper Texts:\n",
    "1. Hyper texts are also known as Hyper links\n",
    "2. The text which holds the reference of another webpage is known an hyper text\n",
    "3. If we want to hold the reference of another webpage, then we should use anchor tag\n",
    "4. <a> tag stands for anchor tag, has an attribute called href to hold the address of the other webpage\n",
    "Syntax:\n",
    "        <a href=\"address\"> content</a>\n",
    "\n",
    "Target Attribute:\n",
    "Target is an attribute which is used to open our webpage in new tab\n",
    "Target attribute has 2 values 1)_self  2)_blank"
   ]
  },
  {
   "cell_type": "raw",
   "id": "ff5059a4",
   "metadata": {},
   "source": [
    "<!DOCTYE html>\n",
    "<html lang = \"en\">\n",
    "    <head>\n",
    "        <title> Anchor Tag </title>\n",
    "    </head>\n",
    "    <body>\n",
    "        <h4> To know the courses available in Jspiders <a target=\"_blank\" href=\"test_anchor.html\">Click Here </a></h4>\n",
    "    </body>\n",
    "</html>"
   ]
  },
  {
   "cell_type": "markdown",
   "id": "76b917f4",
   "metadata": {},
   "source": [
    "<!DOCTYE html>\n",
    "<html lang = \"en\">\n",
    "    <head>\n",
    "        <title> Anchor Tag </title>\n",
    "    </head>\n",
    "    <body>\n",
    "        <h4> To know the courses available in Jspiders <a target=\"_blank\" href=\"test_anchor.html\">Click Here </a></h4>\n",
    "    </body>\n",
    "</html>"
   ]
  },
  {
   "cell_type": "markdown",
   "id": "902e5966",
   "metadata": {},
   "source": [
    "### Text Formatting Tags"
   ]
  },
  {
   "cell_type": "raw",
   "id": "77a7f5f3",
   "metadata": {},
   "source": [
    "<b> -- bold tag\n",
    "<strong> -- bold tag\n",
    "<i> - italic tag\n",
    "<em> -- emphasise tag\n",
    "<sup> -- superscript\n",
    "<sub> -- subscript\n",
    "<del> -- scratch the content\n",
    "<ins> -- insert the content\n",
    "<samll> -- to get the lower case fontsize\n",
    "<hr> -- \n",
    "<span> -- "
   ]
  },
  {
   "cell_type": "markdown",
   "id": "498cec5b",
   "metadata": {},
   "source": [
    "### CSS\n",
    "1. CSS stands for Cascading Style Sheets\n",
    "2. By using CSS, we can apply styling on HTML web page\n",
    "3. The current version of CSS is CSS-3\n",
    "4. CSS was devoloped by Haykon Wium Lee in 1994\n",
    "\n",
    "There are 3 types of CSS\n",
    "1. Inline CSS\n",
    "2. Internal CSS\n",
    "3. External CSS\n",
    "\n",
    "#### Inline CSS\n",
    "In Inline CSS, we will write CSS styles withtin the tag itself\n",
    "\n",
    "In Inline CSS, we will apply styles with the help of style attribute\n",
    "\n",
    "Syntax:\n",
    "        < tagname attributename=\"property:value;\"> Content </ tagname>"
   ]
  },
  {
   "cell_type": "raw",
   "id": "cba2db90",
   "metadata": {},
   "source": [
    "<!DOCTYE html>\n",
    "<html lang = \"en\">\n",
    "    <head>\n",
    "        <title> Inline CSS </title>\n",
    "    </head>\n",
    "    <body>\n",
    "        <h3 style=\"background-color: red;\"> Inline CSS </h3>\n",
    "        <h3 style=\"background-color: green;\"> Inline CSS </h3>\n",
    "        <h3> Inline CSS</h3>\n",
    "    </body>\n",
    "</html>"
   ]
  },
  {
   "cell_type": "markdown",
   "id": "2221fb18",
   "metadata": {},
   "source": [
    "<!DOCTYE html>\n",
    "<html lang = \"en\">\n",
    "    <head>\n",
    "        <title> Inline CSS </title>\n",
    "    </head>\n",
    "    <body>\n",
    "        <h3 style=\"background-color: red;\"> Inline CSS </h3>\n",
    "        <h3 style=\"background-color: green;\"> Inline CSS </h3>\n",
    "        <h3> Inline CSS</h3>\n",
    "    </body>\n",
    "</html>"
   ]
  },
  {
   "cell_type": "markdown",
   "id": "4854c1c9",
   "metadata": {},
   "source": [
    "#### Limitations of Inline CSS\n",
    "1. Duplicate code issue\n",
    "2. In Inline CSS, we cannot perform sudden modifications.\n",
    "\n",
    "To overcome these limitations, we should go for Internal CSS\n",
    "\n",
    "### Internal CSS    (refer internal_css.html)\n",
    "1. In Internal CSS, we will apply CSS styles (anywhere) within the HTML document with the help of style tag\n",
    "2. The recommended place to write the style tag is within the head tag\n",
    "\n",
    "Syntax:\n",
    "        \n",
    "        < style>\n",
    "        \n",
    "            selector\n",
    "                {\n",
    "                    property:value;\n",
    "                 }\n",
    "         </ style>"
   ]
  },
  {
   "cell_type": "raw",
   "id": "48f600bc",
   "metadata": {},
   "source": [
    "<!DOCTYE html>\n",
    "<html lang = \"en\">\n",
    "    <head>\n",
    "        <title> Internal CSS </title>\n",
    "        <style>\n",
    "            h3{ \n",
    "                background-color: green;\n",
    "                color: white;\n",
    "               }\n",
    "        </style>\n",
    "    </head>\n",
    "    <body>\n",
    "        <h3 > Internal CSS </h3>\n",
    "        <h3 > Internal CSS </h3>\n",
    "        <h3> Internal CSS</h3>\n",
    "    </body>\n",
    "</html>"
   ]
  },
  {
   "cell_type": "markdown",
   "id": "98e1914a",
   "metadata": {},
   "source": [
    "#### Limitations of Internal CSS\n",
    "\n",
    "The styles will be applicable for only one web page using Internal CSS\n",
    "\n",
    "Inorder to use the same style for multiple web pages, then its mandatory to use External CSS\n",
    "\n",
    "### External CSS   -- not working\n",
    "In External CSS, we will write CSS styles out of the HTML document\n",
    "\n",
    "If we want to connect that external page, we need to use link tag\n"
   ]
  },
  {
   "cell_type": "raw",
   "id": "3f681e7e",
   "metadata": {},
   "source": [
    "<!DOCTYE html>\n",
    "<html lang = \"en\">\n",
    "    <head>\n",
    "        <link rel=\"stylesheet\" href=\"style.css\">\n",
    "        <title> External CSS </title>\n",
    "    </head>\n",
    "    <body>\n",
    "        <h3> External CSS </h3>\n",
    "        <h3> External CSS </h3>\n",
    "        <h3> External CSS</h3>\n",
    "    </body>\n",
    "</html>"
   ]
  },
  {
   "cell_type": "markdown",
   "id": "2a2a5f91",
   "metadata": {},
   "source": [
    "#### CSS Selectors\n",
    "By using CSS selectors, we can apply CSS styles for selected group of elements\n",
    "\n",
    "We have following selectors in CSS:\n",
    "1. Tagname Selector\n",
    "2. Class selector\n",
    "3. Id Selector\n",
    "4. Attribute Selector\n",
    "5. Group Selector\n",
    "6. Universal Selector\n",
    "7. PseudoClass selector\n",
    "8. PseudoElement Selector\n",
    "\n",
    "### Class Selector\n",
    "By using Class Selector, we can apply CSS styles for group of elements\n",
    "\n",
    "Class selector is represented by using '.' operator\n",
    "\n",
    "Syntax:\n",
    "\n",
    "        .classname\n",
    "            {\n",
    "            property:value;\n",
    "            }"
   ]
  },
  {
   "cell_type": "code",
   "execution_count": 1,
   "id": "ccbfc8f4",
   "metadata": {},
   "outputs": [],
   "source": [
    "#  refer class_selector.html"
   ]
  },
  {
   "cell_type": "raw",
   "id": "9229ddbc",
   "metadata": {},
   "source": [
    "<!DOCTYE html>\n",
    "<html lang = \"en\">\n",
    "    <head>\n",
    "        <title> Class selector </title>\n",
    "        <style>\n",
    "            .mno\n",
    "            {\n",
    "              background-color: blue;\n",
    "              color: white;\n",
    "            }\n",
    "            .xyz\n",
    "            {\n",
    "              background-color: red;\n",
    "              color: white;\n",
    "            }\n",
    "        </style>\n",
    "    </head>\n",
    "    <body>\n",
    "        <h3 class=\"one mno\"> Class selector </h3>\n",
    "        <h3 class=\"one\"> Class selector </h3>\n",
    "        <h3 class=\"xyz\"> Class selector</h3>\n",
    "        <h3 class=\"xyz\"> Class selector</h3>\n",
    "        <h3> Class selector</h3>\n",
    "    </body>\n",
    "</html>"
   ]
  },
  {
   "cell_type": "markdown",
   "id": "1ba9f3d1",
   "metadata": {},
   "source": [
    "### Id Selector\n",
    "1. By using Id Selector, we can apply unique styles for HTML elements\n",
    "2. Id Selector is represented by using # operator\n",
    "Syntax:\n",
    "       \n",
    "       #id_name\n",
    "               \n",
    "              {\n",
    "                property:value;\n",
    "               }\n"
   ]
  },
  {
   "cell_type": "raw",
   "id": "b2310c37",
   "metadata": {},
   "source": [
    "<!DOCTYE html>\n",
    "<html lang = \"en\">\n",
    "    <head>\n",
    "        <title> Id Selector </title>\n",
    "        <style>\n",
    "            #one\n",
    "            {\n",
    "              background-color: blue;\n",
    "              color: white;\n",
    "            }\n",
    "            #two\n",
    "            {\n",
    "              background-color: red;\n",
    "              color: white;\n",
    "            }\n",
    "            #three\n",
    "            {\n",
    "              background-color: red;\n",
    "              color: white;\n",
    "            }\n",
    "        </style>\n",
    "    </head>\n",
    "    <body>\n",
    "        <h3 id=\"one\"> Id Selector </h3>\n",
    "        <h3 id=\"two\"> Id Selector </h3>\n",
    "        <h3 id=\"three\"> Id Selector</h3>\n",
    "        <h3> Id Selector</h3>\n",
    "    </body>\n",
    "</html>"
   ]
  },
  {
   "cell_type": "markdown",
   "id": "e1626ce0",
   "metadata": {},
   "source": [
    "### Div Tag\n",
    "1. Div tag is used to make one web page into multiple elements\n",
    "2. Div tag is a block level element\n",
    "3. The height it takes is based on the content (provided the height attribute value is not mentioned unlike the below  example..)(but being a block level element it consumes complete width of the web page)"
   ]
  },
  {
   "cell_type": "raw",
   "id": "96fa5506",
   "metadata": {},
   "source": [
    "<!DOCTYE html>\n",
    "<html lang = \"en\">\n",
    "    <head>\n",
    "        <title> Div Tag </title>\n",
    "        <style>\n",
    "            #one\n",
    "            {\n",
    "              background-color: lightpink;\n",
    "              height:200px;\n",
    "            }\n",
    "            #two\n",
    "            {\n",
    "              background-color: lightgreen;\n",
    "              height:200px;\n",
    "            }\n",
    "            #three\n",
    "            {\n",
    "              background-color: lightblue;\n",
    "              height:200px;\n",
    "            }\n",
    "        </style>\n",
    "    </head>\n",
    "    <body>\n",
    "        <div id=\"one\"> Div Tag </div>\n",
    "        <div id=\"two\"> Div Tag </div>\n",
    "        <div id=\"three\"> Div Tag</div>\n",
    "        <div> Div Tag</div>\n",
    "    </body>\n",
    "</html>"
   ]
  },
  {
   "cell_type": "markdown",
   "id": "f0f226ae",
   "metadata": {},
   "source": [
    "### Attribute selector\n",
    "1. Applying the styles with the help of attributes is called as Attribute selector\n",
    "2. Attribute selector is represented using [ ]\n",
    "\n",
    "Syntax:\n",
    "        \n",
    "        [attribute_name]            [attribute_name = \"value\"]           selector[attribute_name = \"value\"]\n",
    "        {                      OR   {                              OR    {\n",
    "        property:value;             property:value;                      property:value;\n",
    "        }                           }                                    }"
   ]
  },
  {
   "cell_type": "raw",
   "id": "91b286b0",
   "metadata": {},
   "source": [
    "<!DOCTYE html>\n",
    "<html lang = \"en\">\n",
    "    <head>\n",
    "        <title> Attribute selector </title>\n",
    "        <style>\n",
    "            h3[align=\"left\"]\n",
    "            {\n",
    "                color:blue\n",
    "            }\n",
    "            [align=\"center\"]\n",
    "            {\n",
    "                color:green\n",
    "            }\n",
    "            [align=\"right\"]\n",
    "            {\n",
    "                color:brown\n",
    "            }\n",
    "            \n",
    "        </style>\n",
    "    </head>\n",
    "    <body>\n",
    "        <h3 align=\"left\">Attribute selector</h3>\n",
    "        <h3 align=\"center\">Attribute selector</h3>\n",
    "        <h3 align=\"right\">Attribute selector</h3>\n",
    "        <h4 align=\"left\">Attribute selector</h4>\n",
    "        <h4 align=\"center\">Attribute selector</h4>\n",
    "        <h4 align=\"right\">Attribute selector</h4>\n",
    "    </body>\n",
    "</html>"
   ]
  },
  {
   "cell_type": "markdown",
   "id": "8956f067",
   "metadata": {},
   "source": [
    "### Group Selector\n",
    "1. The combination of more than one selector is called as Group selector\n",
    "2. Group selector is represented by using ',' operator\n",
    "\n",
    "Syntax:\n",
    "            \n",
    "            selector1, selector2, selector3,...n\n",
    "            {\n",
    "            property:value;\n",
    "            }"
   ]
  },
  {
   "cell_type": "raw",
   "id": "053a2919",
   "metadata": {},
   "source": [
    "# Example\n",
    "<style>\n",
    "    h1,.xyz,#mno,h4\n",
    "    {\n",
    "        backgroung-color:blue;\n",
    "    }\n",
    "</style>"
   ]
  },
  {
   "cell_type": "markdown",
   "id": "b4c128aa",
   "metadata": {},
   "source": [
    "### Universal Selector\n",
    "1. By using Univeral selector, we can apply common styles for all the HTML elements\n",
    "2. Universal selector is represented by using *\n",
    "\n",
    "Syntax:\n",
    "\n",
    "    *\n",
    "    {\n",
    "    property:value;\n",
    "    }"
   ]
  },
  {
   "cell_type": "raw",
   "id": "c67d8bbb",
   "metadata": {},
   "source": [
    "# Example\n",
    "<style>\n",
    "    *\n",
    "    {\n",
    "        margin:0px;\n",
    "    }\n",
    "</style>"
   ]
  },
  {
   "cell_type": "markdown",
   "id": "7ec4bd2d",
   "metadata": {},
   "source": [
    "### PseudoClass Selector\n",
    "1. It is used to apply styles for whole HTML element\n",
    "2. To represent PseudoClass Selector, we have to use single colon\n",
    "\n",
    "syntax:\n",
    "\n",
    "    selector:pseudoClassName\n",
    "    {\n",
    "    cssPropName:value;\n",
    "    }\n",
    "Example: hover, active, visited, link etc are PesudoClass Names"
   ]
  },
  {
   "cell_type": "raw",
   "id": "32c7054a",
   "metadata": {},
   "source": [
    "<!DOCTYE html>\n",
    "<html lang = \"en\">\n",
    "    <head>\n",
    "        <title> PseudoClass Selector </title>\n",
    "        <style>\n",
    "            h3\n",
    "            {\n",
    "                background-color:blue;\n",
    "                color:white;\n",
    "            }\n",
    "            selector:demo\n",
    "            {\n",
    "            hover:45\n",
    "            }\n",
    "        </style>\n",
    "    </head>\n",
    "    <body>\n",
    "        <h3 align=\"left\">Pseudoclass selector</h3>\n",
    "        <h3 align=\"center\">Pseudoclass selector</h3>\n",
    "        <h3 align=\"right\">Pseudoclass selector</h3>\n",
    "        <h4 align=\"left\">Pseudoclass selector</h4>\n",
    "        <h4 align=\"center\">Pseudoclass selector</h4>\n",
    "        <h4 align=\"right\">Pseudoclass selector</h4>\n",
    "    </body>\n",
    "</html>"
   ]
  },
  {
   "cell_type": "markdown",
   "id": "43f687c1",
   "metadata": {},
   "source": [
    "### PseudoElement Selector\n",
    "1. By using Pseudoelement selector, we can apply CSS styles for specific part of HTML element\n",
    "2. To represent PseudoElement Selector, we have to use ' : : '\n",
    "\n",
    "Syntax:\n",
    "\n",
    "        selector::pseudoElementName\n",
    "        {\n",
    "        cssPropName:value;\n",
    "        }\n",
    "Example: first-letter, before, after, selected"
   ]
  },
  {
   "cell_type": "code",
   "execution_count": null,
   "id": "4b759c80",
   "metadata": {},
   "outputs": [],
   "source": []
  },
  {
   "cell_type": "markdown",
   "id": "f3cee21a",
   "metadata": {},
   "source": [
    "#### Combinators\n",
    "\n",
    "* Combinators are also a typs of selectors. \n",
    "* They are used when there is a parent and child relationship\n",
    "* There are 4 types of combinators\n",
    "1. Child selector\n",
    "2. Decscendent selector\n",
    "3. Adjacent selector\n",
    "4. General sibling selector\n",
    "\n",
    "#### 1. Child selector\n",
    "1. By using child selector, we can apply CSS styles only for a  direct child, but not for indirect child\n",
    "2. Child selector is representedby using > operator\n",
    "\n",
    "Note:\n",
    "\n",
    "span tag is a inline level element, it takes as much space required for the data and fits in the space well instead of going to the next line --> prints the content line by line \n",
    "\n",
    "h1 tag is a block level element--> takes 100% width of the web page\n",
    "\n",
    "combinators.html"
   ]
  },
  {
   "cell_type": "markdown",
   "id": "72fde953",
   "metadata": {},
   "source": [
    "#### 2. Descendent Selector\n",
    "By using descendent selectors, we can apply css styles for direct child as well as indirect child.\n",
    "\n",
    "Descendent Selector is represented by using Space"
   ]
  },
  {
   "cell_type": "raw",
   "id": "ff0b79b6",
   "metadata": {},
   "source": [
    "example:\n",
    "\n",
    "<style>\n",
    "    .parent h1 {\n",
    "        background color: blue;\n",
    "        }\n",
    "</style>"
   ]
  },
  {
   "cell_type": "code",
   "execution_count": null,
   "id": "af1d1d71",
   "metadata": {},
   "outputs": [],
   "source": []
  }
 ],
 "metadata": {
  "kernelspec": {
   "display_name": "Python 3 (ipykernel)",
   "language": "python",
   "name": "python3"
  },
  "language_info": {
   "codemirror_mode": {
    "name": "ipython",
    "version": 3
   },
   "file_extension": ".py",
   "mimetype": "text/x-python",
   "name": "python",
   "nbconvert_exporter": "python",
   "pygments_lexer": "ipython3",
   "version": "3.8.3"
  }
 },
 "nbformat": 4,
 "nbformat_minor": 5
}
