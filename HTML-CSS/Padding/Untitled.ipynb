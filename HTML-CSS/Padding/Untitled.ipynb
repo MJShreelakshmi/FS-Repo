{
 "cells": [
  {
   "cell_type": "markdown",
   "id": "038e716a",
   "metadata": {},
   "source": [
    "#### CSS Box Model"
   ]
  },
  {
   "cell_type": "code",
   "execution_count": null,
   "id": "0c12b3dc",
   "metadata": {},
   "outputs": [],
   "source": []
  },
  {
   "cell_type": "markdown",
   "id": "75951b98",
   "metadata": {},
   "source": [
    "#### Padding\n",
    "The space between content and border is called Padding"
   ]
  },
  {
   "cell_type": "markdown",
   "id": "80cb0e84",
   "metadata": {},
   "source": [
    "#### Fontawesome\n",
    "\n",
    "#### Text Properties\n",
    "\n",
    "#### Background Properties"
   ]
  },
  {
   "cell_type": "code",
   "execution_count": null,
   "id": "6f814ea7",
   "metadata": {},
   "outputs": [],
   "source": []
  }
 ],
 "metadata": {
  "kernelspec": {
   "display_name": "Python 3 (ipykernel)",
   "language": "python",
   "name": "python3"
  },
  "language_info": {
   "codemirror_mode": {
    "name": "ipython",
    "version": 3
   },
   "file_extension": ".py",
   "mimetype": "text/x-python",
   "name": "python",
   "nbconvert_exporter": "python",
   "pygments_lexer": "ipython3",
   "version": "3.8.3"
  }
 },
 "nbformat": 4,
 "nbformat_minor": 5
}
