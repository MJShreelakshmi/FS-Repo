{
 "cells": [
  {
   "cell_type": "markdown",
   "id": "91646876",
   "metadata": {},
   "source": [
    "margin can be used only till 20-30px\n",
    "position prop:\n",
    "static ---> "
   ]
  },
  {
   "cell_type": "markdown",
   "id": "c81fc499",
   "metadata": {},
   "source": [
    "#### z-index\n",
    "* z-index property is used to manage the stacking order of elements \n",
    "* This property only works for non-static position elements\n",
    "* The default value of z-index is zero\n",
    "* Higher valued z-inex element moves to the top of the stack and the lower one goes down in the stacking order"
   ]
  },
  {
   "cell_type": "markdown",
   "id": "a12ab00c",
   "metadata": {},
   "source": []
  },
  {
   "cell_type": "code",
   "execution_count": null,
   "id": "69f26bbd",
   "metadata": {},
   "outputs": [],
   "source": []
  }
 ],
 "metadata": {
  "kernelspec": {
   "display_name": "Python 3 (ipykernel)",
   "language": "python",
   "name": "python3"
  },
  "language_info": {
   "codemirror_mode": {
    "name": "ipython",
    "version": 3
   },
   "file_extension": ".py",
   "mimetype": "text/x-python",
   "name": "python",
   "nbconvert_exporter": "python",
   "pygments_lexer": "ipython3",
   "version": "3.8.3"
  }
 },
 "nbformat": 4,
 "nbformat_minor": 5
}
