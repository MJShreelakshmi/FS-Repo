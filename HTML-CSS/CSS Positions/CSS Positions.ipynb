{
 "cells": [
  {
   "cell_type": "markdown",
   "id": "eeb9f6b7",
   "metadata": {},
   "source": [
    "#### CSS Positions\n",
    "BY using CSS Positions, we can change the position of an HTML element.\n",
    "\n",
    "We have 5 types of CSS Positions\n",
    "1. Static Position\n",
    "2. Fixed Position\n",
    "3. Relative Position\n",
    "4. Sticky Position\n",
    "5. Absolute Position\n",
    "\n",
    "#### static\n",
    "* If we make the position as static, we cannot change the position of an HTML element. But we can scroll it\n",
    "* The default posiiton of every element is static\n",
    "\n",
    "#### fixed\n",
    "* If we make the position as fixed, we can change the position of an HTML element, but we cannot scroll it. (Fixed values)"
   ]
  },
  {
   "cell_type": "markdown",
   "id": "15365332",
   "metadata": {},
   "source": [
    "#### relative\n",
    "* If we make the position as relative we can change the position of HTML element and we can scroll the relative values as well\n",
    "\n",
    "##### Note:\n",
    "Relative position always takes the values from its original position of the element, not from the top of the webpage unlike the static property\n",
    "\n",
    "#### Sticky \n",
    "* If we want the element to get stick to the given values"
   ]
  },
  {
   "cell_type": "markdown",
   "id": "806048ac",
   "metadata": {},
   "source": [
    "#### absolute\n",
    "* If we want to use absolute position, Is A Relationship (Preant and child relationship) is mandatory\n",
    "* Absolute position always depends on Parent's relative position\n",
    "* If parent is not having relative position, then it checks for grandparent's position.\n",
    "* If the grand parent's position is also not relative, then takes the values from top of the webpage."
   ]
  },
  {
   "cell_type": "markdown",
   "id": "e1e8c8e3",
   "metadata": {},
   "source": [
    "#### Display Properties\n",
    "\n",
    "#### display: inline\n",
    "If we want to convert block level elements to inline elements, we need to use \"display: inline property\".\n",
    "\n",
    "For display: inline property, height and width properties are not applicable.\n",
    "\n",
    "#### display: inline-block\n",
    "Display: inline-block is used to convert block level elements to Inline elements\n",
    "\n",
    "In display: inline-block height and width properties will work\n",
    "\n",
    "#### display: block\n",
    "If we want to convert inline elements to block level elements, we need to use \"display: block\" property\n",
    "\n",
    "If we make display: block, by default the elements the occupy 100% width of the webpage\n",
    "\n",
    "#### display: none\n",
    "If we want to display any content on the webpage, we can use \"display: none\""
   ]
  },
  {
   "cell_type": "code",
   "execution_count": null,
   "id": "2160542f",
   "metadata": {},
   "outputs": [],
   "source": []
  }
 ],
 "metadata": {
  "kernelspec": {
   "display_name": "Python 3 (ipykernel)",
   "language": "python",
   "name": "python3"
  },
  "language_info": {
   "codemirror_mode": {
    "name": "ipython",
    "version": 3
   },
   "file_extension": ".py",
   "mimetype": "text/x-python",
   "name": "python",
   "nbconvert_exporter": "python",
   "pygments_lexer": "ipython3",
   "version": "3.8.3"
  }
 },
 "nbformat": 4,
 "nbformat_minor": 5
}
