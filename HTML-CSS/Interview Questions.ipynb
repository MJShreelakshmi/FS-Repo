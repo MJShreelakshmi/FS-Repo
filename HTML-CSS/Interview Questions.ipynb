{
 "cells": [
  {
   "cell_type": "markdown",
   "id": "8f518cee",
   "metadata": {},
   "source": [
    "### HTML\n",
    "1. What is HTML and where to use HTML?\n",
    "2. What is HTML tag and HTML element? (Paired tags and Unpaired tags)\n",
    "3. What is HTML attributes? Give eg:\n",
    "4. What is the difference between Inline level element and Block level elements?\n",
    "5. What are Semantic tags in HTML?\n",
    "6. What is HTML list and types of list? (Ordered, Unoredered, Description(-->optional)  -- lists)\n",
    "7. What is the difference between cell padding and cell spacing? (table attr-- rowspan, colspan, cell padding, cell spacing)\n",
    "8. What is HTML void element? --Element where we cant write anything\n",
    "9. Example of form attributes (method/ action.. etc)\n",
    "10. Types of inputs (text, email, password type etc)\n",
    "11. What is the use of iframe tag? --> embedding one website in another website (also look into embedding of imgs, videos etc)"
   ]
  },
  {
   "cell_type": "markdown",
   "id": "d6bf8228",
   "metadata": {},
   "source": [
    "### CSS\n",
    "1. What is CSS and its types? Also which is better\n",
    "2. Example of CSS selectors\n",
    "3. Difference b/w id and class selector\n",
    "4. What are the types of CSS combination selectors\n",
    "5. Difference b/w pseudo-class and pseudo-element selectors\n",
    "6. What is CSS specificity? (Which selector has more priority )\n",
    "7. What is CSS Box model? (content, margin, padding, border)\n",
    "8. Difference b/w padding and margin property\n",
    "9. Explain CSS positions and its types \n",
    "10. What is z-index?\n",
    "11. Difference b/w display: inline and inline-block property? (all the values for display property)\n",
    "12. Difference b/w visibility: hidden and display:None property\n",
    "13. What is media query?\n",
    "14. Explain CSS Units and difference b/w percent value and pixel value\n",
    "15. What is display:flex ?\n",
    "16. Diference b/w flex and grid"
   ]
  },
  {
   "cell_type": "raw",
   "id": "b2a9810c",
   "metadata": {},
   "source": [
    "flex-grid\n",
    "display prop\n",
    "position prop\n",
    "box model\n",
    "transition/transformations\n",
    "\n",
    "function, this, objects, "
   ]
  },
  {
   "cell_type": "code",
   "execution_count": null,
   "id": "1ceb342d",
   "metadata": {},
   "outputs": [],
   "source": []
  }
 ],
 "metadata": {
  "kernelspec": {
   "display_name": "Python 3 (ipykernel)",
   "language": "python",
   "name": "python3"
  },
  "language_info": {
   "codemirror_mode": {
    "name": "ipython",
    "version": 3
   },
   "file_extension": ".py",
   "mimetype": "text/x-python",
   "name": "python",
   "nbconvert_exporter": "python",
   "pygments_lexer": "ipython3",
   "version": "3.8.3"
  }
 },
 "nbformat": 4,
 "nbformat_minor": 5
}
