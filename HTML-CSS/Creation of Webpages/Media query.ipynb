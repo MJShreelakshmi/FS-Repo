{
 "cells": [
  {
   "cell_type": "markdown",
   "id": "d7831f41",
   "metadata": {},
   "source": [
    "#### Media Query\n",
    "Syntax:\n",
    "\n",
    "        @media screen and (min-width:__px) and (max_width:__px){\n",
    "                // styles\n",
    "             }\n",
    "             \n",
    "        @media (min-width:__px) and (max_width:__px){\n",
    "                // styles\n",
    "             }\n",
    "             \n",
    "Media query is used to create responsive websites for different screen sizes or devices"
   ]
  },
  {
   "cell_type": "code",
   "execution_count": null,
   "id": "cf103c09",
   "metadata": {},
   "outputs": [],
   "source": []
  }
 ],
 "metadata": {
  "kernelspec": {
   "display_name": "Python 3 (ipykernel)",
   "language": "python",
   "name": "python3"
  },
  "language_info": {
   "codemirror_mode": {
    "name": "ipython",
    "version": 3
   },
   "file_extension": ".py",
   "mimetype": "text/x-python",
   "name": "python",
   "nbconvert_exporter": "python",
   "pygments_lexer": "ipython3",
   "version": "3.8.3"
  }
 },
 "nbformat": 4,
 "nbformat_minor": 5
}
