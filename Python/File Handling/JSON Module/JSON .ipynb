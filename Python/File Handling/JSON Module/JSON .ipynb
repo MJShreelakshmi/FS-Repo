{
 "cells": [
  {
   "cell_type": "markdown",
   "id": "6ff4acd0",
   "metadata": {},
   "source": [
    "#### JSON - Javascript Object Notation \n",
    "1. It is generalized text format ( which can be understood by the applications in different languages)\n",
    "2. json data will be stored in the form of key and value pairs\n",
    "3. We can easily transfer json data from one resource to another resource\n",
    "4. Inorder to deal with json data, python has a module called json module"
   ]
  },
  {
   "cell_type": "raw",
   "id": "595e205c",
   "metadata": {},
   "source": [
    "python objects               equivalent json objects\n",
    "integer, float, complex             number\n",
    "True                                true\n",
    "False                               false\n",
    "None                                null\n",
    "str                                 string\n",
    "list, tuple, set                    array\n",
    "dictionary                          object"
   ]
  },
  {
   "cell_type": "markdown",
   "id": "8cfb8718",
   "metadata": {},
   "source": [
    "#### Writing json objects into files\n",
    "                 \n",
    "             convert            write\n",
    "python objects -----------> json objects ----------------> files\n",
    "\n",
    "We can write json data into files by using 2 functions\n",
    "1. dumps\n",
    "2. dump\n",
    "\n",
    "#### 1. dumps()\n",
    "1. dumps function can just convert user-defined data (python objects) to json format\n",
    "2. If we want to rite that data, we need to use write method\n",
    "3. dumps() is used whenever we want to write same (converted) data into multiple file objects\n",
    "\n",
    "Syntax:\n",
    "\n",
    "        dumps(python_objects)"
   ]
  },
  {
   "cell_type": "code",
   "execution_count": 1,
   "id": "cc5e4aed",
   "metadata": {},
   "outputs": [
    {
     "name": "stdout",
     "output_type": "stream",
     "text": [
      "{'name': 'lokesh', 'age': 20, 'mobile': (987, 567), 'male': True, 'female': False, 'occupation': 'student'}\n",
      "{\"name\": \"lokesh\", \"age\": 20, \"mobile\": [987, 567], \"male\": true, \"female\": false, \"occupation\": \"student\"}\n"
     ]
    }
   ],
   "source": [
    "# Example:\n",
    "with open('json_data.txt', 'w') as file:\n",
    "    import json\n",
    "    po = {'name':'lokesh', 'age':20, 'mobile':(987, 567), 'male':True, 'female':False, 'occupation': 'student'}\n",
    "    print(po)\n",
    "    jo = json.dumps(po)\n",
    "    print(jo)\n",
    "    file.write(jo)"
   ]
  },
  {
   "cell_type": "markdown",
   "id": "9d853add",
   "metadata": {},
   "source": [
    "#### dump\n",
    "dump() function is cpable of converting python data into json data and write the converted data into files\n",
    "\n",
    "Syntax:\n",
    "\n",
    "        dump(arg1, arg2)\n",
    "        arg1 --> python data to be converted \n",
    "        arg2 --> file object into which the data is to be converted"
   ]
  },
  {
   "cell_type": "code",
   "execution_count": 1,
   "id": "918d7a1b",
   "metadata": {},
   "outputs": [
    {
     "name": "stdout",
     "output_type": "stream",
     "text": [
      "{'name': 'lokesh', 'age': 20, 'mobile': (987, 567), 'male': True, 'female': False, 'occupation': 'student'}\n"
     ]
    }
   ],
   "source": [
    "# Example:\n",
    "with open('json_data.txt', 'w') as file:\n",
    "    import json\n",
    "    po = {'name':'lokesh', 'age':20, 'mobile':(987, 567), 'male':True, 'female':False, 'occupation': 'student'}\n",
    "    print(po)\n",
    "    json.dump(po, file)"
   ]
  },
  {
   "cell_type": "markdown",
   "id": "6eddb2f4",
   "metadata": {},
   "source": [
    "#### Reading  json objects from files\n",
    "                 \n",
    "     read              re-convert\n",
    "file -----------> json objects ----------------> python objects\n",
    "\n",
    "We can read json data by using 2 methods:\n",
    "1. loads\n",
    "2. load\n",
    "\n",
    "#### 1. loads\n",
    "loads() function is capable of just converting the read json data into python data\n",
    "\n",
    "Two steps are:\n",
    "1. to read the json data\n",
    "2. after reading, loads() will convert it to pyhton objects\n",
    "\n",
    "Syntax:\n",
    "\n",
    "        loads(json_data)"
   ]
  },
  {
   "cell_type": "code",
   "execution_count": 3,
   "id": "6907adb9",
   "metadata": {},
   "outputs": [],
   "source": [
    "# Example:\n",
    "with open('new.txt', 'r') as fo:   # new.txt is a json file\n",
    "    import json\n",
    "    js1 = fo.read()\n",
    "    print(js1)\n",
    "    po = json.loads(js1)\n",
    "    print(po)"
   ]
  },
  {
   "cell_type": "markdown",
   "id": "31e75526",
   "metadata": {},
   "source": [
    "#### 2. load() function\n",
    "It is capable of reading and and converting the json data into normal data\n",
    "\n",
    "Syntax:\n",
    "\n",
    "        load(arg1)\n",
    "        arg1 -->fileobject from which the data is to be read\n",
    "#### Reading of json data from files by using load function        "
   ]
  },
  {
   "cell_type": "code",
   "execution_count": 4,
   "id": "668536bd",
   "metadata": {},
   "outputs": [],
   "source": [
    "with open('new.txt', 'r') as fo:\n",
    "    import json\n",
    "    po = json.load(fo)\n",
    "    print(po)"
   ]
  },
  {
   "cell_type": "code",
   "execution_count": null,
   "id": "afe44f5d",
   "metadata": {},
   "outputs": [],
   "source": []
  }
 ],
 "metadata": {
  "kernelspec": {
   "display_name": "Python 3 (ipykernel)",
   "language": "python",
   "name": "python3"
  },
  "language_info": {
   "codemirror_mode": {
    "name": "ipython",
    "version": 3
   },
   "file_extension": ".py",
   "mimetype": "text/x-python",
   "name": "python",
   "nbconvert_exporter": "python",
   "pygments_lexer": "ipython3",
   "version": "3.8.3"
  }
 },
 "nbformat": 4,
 "nbformat_minor": 5
}
