{
 "cells": [
  {
   "cell_type": "markdown",
   "id": "d5f02256",
   "metadata": {},
   "source": [
    "### Exception Handling"
   ]
  },
  {
   "cell_type": "markdown",
   "id": "38399f7b",
   "metadata": {},
   "source": [
    "#### Error\n",
    "Error is an unexpected event which terminates the execution of remaining statements\n",
    "\n",
    "#### Type of errors\n",
    "* Syntax Errors\n",
    "* Operational Errors\n",
    "\n",
    "#### Note:\n",
    "We cannot handle syntax errors\n",
    "\n",
    "#### Exception Handling\n",
    "1. An unexpexted event which terminates the execution of remaining statements is known as execution\n",
    "2. When an unexpected event has occured at the execution, an exception object is created and raised to represent the unexpected event\n",
    "3. The raised object should be handled, otherwise it will terminate the execution of the program\n",
    "4. This unexpected event is handled by using try-except blocks in python"
   ]
  },
  {
   "cell_type": "markdown",
   "id": "d3b24b15",
   "metadata": {},
   "source": [
    "#### Different blocks of exception handling\n",
    "    try:\n",
    "        risky codde\n",
    "    except:\n",
    "        code which handles the error\n",
    "    else:\n",
    "        code to be exceuted when there is no error\n",
    "    finally:\n",
    "        code to be executed irrespective of error"
   ]
  },
  {
   "cell_type": "code",
   "execution_count": 2,
   "id": "5c4fa5d1",
   "metadata": {},
   "outputs": [
    {
     "name": "stdout",
     "output_type": "stream",
     "text": [
      "main starts\n",
      "try started\n",
      "Enter index position2\n",
      "44\n",
      "name 'a' is not defined\n",
      "main ends\n"
     ]
    }
   ],
   "source": [
    "# Example of try with multiple except blocks and aliasing\n",
    "print('main starts')\n",
    "l = [11,22,44]\n",
    "try:\n",
    "    print('try started')\n",
    "    ip = int(input('Enter index position'))\n",
    "    print(l[ip])\n",
    "    print(a)\n",
    "    print('try ended')\n",
    "except IndexError as ie:\n",
    "    print(ie)\n",
    "except NameError as ne:\n",
    "    print(ne)\n",
    "print('main ends')"
   ]
  },
  {
   "cell_type": "markdown",
   "id": "c7857dbe",
   "metadata": {},
   "source": [
    "SyntaxError: \n",
    "Indicates a syntax error in the code.\n",
    "\n",
    "TypeError: \n",
    "Raised when an operation or function is applied to an object of inappropriate type.\n",
    "\n",
    "ReferenceError: \n",
    "Occurs when trying to reference a variable that is not declared.\n",
    "\n",
    "RangeError: \n",
    "Generated when a value is not within the set or permissible range.\n",
    "\n",
    "EvalError: \n",
    "Related to the global eval() function.\n",
    "\n",
    "URIError: \n",
    "Raised when the global encodeURI() or decodeURI() functions are used incorrectly.\n",
    "\n",
    "AssertionError: \n",
    "Thrown when an assertion fails.\n",
    "\n",
    "ImportError: \n",
    "Raised when an import statement fails to find the module definition or a module fails to load.\n",
    "\n",
    "IndexError: \n",
    "Occurs when trying to access an index that is out of range of a sequence.\n",
    "\n",
    "KeyError: \n",
    "Raised when a dictionary key is not found.\n",
    "\n",
    "AttributeError: \n",
    "Occurs when an attribute reference or assignment fails.\n",
    "\n",
    "StopIteration: \n",
    "Raised to signal the end of an iterator's items.\n",
    "\n",
    "OverflowError: \n",
    "Generated when a numeric calculation exceeds the maximum limit for a numeric type.\n",
    "\n",
    "ZeroDivisionError: \n",
    "Raised when the second argument of a division or modulo operation is zero.\n",
    "\n",
    "EnvironmentError: \n",
    "Base class for all exceptions that occur outside the Python environment.\n",
    "\n",
    "IOError: \n",
    "Occurs when an input/output operation fails.\n",
    "\n",
    "OSError: \n",
    "Raised when a system-related operation fails.\n",
    "\n",
    "FloatingPointError: \n",
    "Generated when a floating-point operation fails.\n",
    "\n",
    "MemoryError: \n",
    "Raised when an operation runs out of memory.\n",
    "\n",
    "NotImplementedError: \n",
    "Indicates that a method or function is not implemented.\n",
    "\n",
    "UnicodeError: \n",
    "Raised when a Unicode-related encoding or decoding error occurs.\n",
    "\n",
    "UnicodeEncodeError: \n",
    "Occurs when a Unicode encoding error happens.\n",
    "\n",
    "\n",
    "UnicodeDecodeError: \n",
    "Raised when a Unicode decoding error occurs.\n",
    "\n",
    "UnicodeTranslateError: \n",
    "Generated when a Unicode translation error occurs.\n",
    "\n",
    "ValueError: \n",
    "Raised when a function receives an argument of the correct type but inappropriate value.\n",
    "\n",
    "RuntimeError: \n",
    "Raised when an error does not fall under any other category.\n",
    "\n",
    "SystemError: \n",
    "Occurs when the interpreter detects an internal error.\n",
    "\n",
    "KeyboardInterrupt: \n",
    "Raised when the user interrupts program execution, usually by pressing Ctrl+C.\n",
    "\n",
    "TimeoutError: \n",
    "Generated when a system function times out at the system level.\n",
    "\n",
    "ConnectionError: \n",
    "Raised when a network connection error occurs."
   ]
  },
  {
   "cell_type": "raw",
   "id": "879d87f8",
   "metadata": {},
   "source": [
    "            Default exception class                                          Generic exception class\n",
    "1. Predefined by programming languages                         1. Custom defined by developers\n",
    "2. Handle common error scenarios                               2. Handle application specific error scenarios\n",
    "   eg: NullpointException, DivideByZeroError                      eg: InvalidUserInputException\n",
    "3. Typically inherit from base exception classes               3. Can inherit from default / base classes\n",
    "4. Provide basic Error information                             4. Provide additional application - specific error information\n",
    "5. It is used for simple errors                                5. It is used for complex errors\n",
    "6. A default exception class is a pre-defined exception        6. A generic exception class is a custom defined exception \n",
    "   class provided by a programming language to handle common      class that handles application - specific error scenarios\n",
    "   error scenarios                                                beyond the default exception classes\n"
   ]
  },
  {
   "cell_type": "markdown",
   "id": "a1d597ee",
   "metadata": {},
   "source": [
    "#### Default Exception Block\n",
    "It is repsonsible for handling any type of exception but it cannot specify which error it has handled\n",
    "\n",
    "except keyword is used for creating default exception block"
   ]
  },
  {
   "cell_type": "code",
   "execution_count": 5,
   "id": "386d6966",
   "metadata": {},
   "outputs": [
    {
     "name": "stdout",
     "output_type": "stream",
     "text": [
      "main starts\n",
      "try started\n",
      "Enter index position 1\n",
      "22\n",
      "Error is handled\n",
      "main ends\n"
     ]
    }
   ],
   "source": [
    "# example:\n",
    "print('main starts')\n",
    "l = [11,22,44]\n",
    "try:\n",
    "    print('try started')\n",
    "    ip = int(input('Enter index position '))\n",
    "    print(l[ip])\n",
    "    print(a)\n",
    "    print('try ended')\n",
    "except :\n",
    "    print('Error is handled')\n",
    "print('main ends')"
   ]
  },
  {
   "cell_type": "markdown",
   "id": "b24c7eba",
   "metadata": {},
   "source": [
    "#### Generic Exception Block\n",
    "It is used for handling any type of exception and it specifies which error it has handled\n",
    "\n",
    "Exception class is repsonsible for creating generic exception block"
   ]
  },
  {
   "cell_type": "code",
   "execution_count": 7,
   "id": "d040411a",
   "metadata": {},
   "outputs": [
    {
     "name": "stdout",
     "output_type": "stream",
     "text": [
      "main starts\n",
      "try started\n",
      "Enter index position 2\n",
      "44\n",
      "name 'a' is not defined\n",
      "main ends\n"
     ]
    }
   ],
   "source": [
    "# Example:\n",
    "print('main starts')\n",
    "l = [11,22,44]\n",
    "try:\n",
    "    print('try started')\n",
    "    ip = int(input('Enter index position '))\n",
    "    print(l[ip])\n",
    "    print(a)\n",
    "    print('try ended')\n",
    "except Exception as e:\n",
    "    print(e)\n",
    "print('main ends')"
   ]
  },
  {
   "cell_type": "markdown",
   "id": "aa1ae423",
   "metadata": {},
   "source": [
    "#### Else block\n",
    "else block will get exceuted whenever there is no error in the try block"
   ]
  },
  {
   "cell_type": "code",
   "execution_count": 12,
   "id": "24b401ff",
   "metadata": {},
   "outputs": [
    {
     "name": "stdout",
     "output_type": "stream",
     "text": [
      "main starts\n",
      "try started\n",
      "10\n",
      "5\n",
      "try ended\n",
      "within else block  2.0\n",
      "main ends\n"
     ]
    }
   ],
   "source": [
    "# example:\n",
    "print('main starts')\n",
    "try:\n",
    "    print('try started')\n",
    "    num1 = int(input())\n",
    "    num2 = int(input())\n",
    "    res = num1/num2\n",
    "    print('try ended')\n",
    "except Exception as e:\n",
    "    print(e)\n",
    "else:\n",
    "    print('within else block ', res)\n",
    "print('main ends')"
   ]
  },
  {
   "cell_type": "markdown",
   "id": "120c4b38",
   "metadata": {},
   "source": [
    "#### finally block\n",
    "finally block will get executed irresepective of error occurence"
   ]
  },
  {
   "cell_type": "code",
   "execution_count": 10,
   "id": "212020e3",
   "metadata": {},
   "outputs": [
    {
     "name": "stdout",
     "output_type": "stream",
     "text": [
      "main starts\n",
      "try started\n",
      "12\n",
      "0\n",
      "division by zero\n",
      "finally is getting executed\n",
      "main ends\n"
     ]
    }
   ],
   "source": [
    "# example:\n",
    "print('main starts')\n",
    "try:\n",
    "    print('try started')\n",
    "    num1 = int(input())\n",
    "    num2 = int(input())\n",
    "    res = num1/num2\n",
    "    print('try ended')\n",
    "except Exception as e:\n",
    "    print(e)\n",
    "else:\n",
    "    print('within else block ', res)\n",
    "finally:\n",
    "    print('finally is getting executed')\n",
    "print('main ends')"
   ]
  },
  {
   "cell_type": "markdown",
   "id": "fbb0d0fc",
   "metadata": {},
   "source": [
    "#### Nested Exception Handling\n",
    "It is the process of defining try-except inside another try-except block."
   ]
  },
  {
   "cell_type": "code",
   "execution_count": 13,
   "id": "46456f8e",
   "metadata": {},
   "outputs": [
    {
     "name": "stdout",
     "output_type": "stream",
     "text": [
      "main starts\n",
      "outer try started\n",
      "a\n",
      "inner try started\n",
      "5.0\n",
      "inner try ended\n",
      "outer try ended\n",
      "main ends\n"
     ]
    }
   ],
   "source": [
    "# example:\n",
    "print('main starts')\n",
    "try:\n",
    "    print('outer try started')\n",
    "    print('a')\n",
    "    try:\n",
    "        print('inner try started')\n",
    "        print(10/2)\n",
    "        print('inner try ended')\n",
    "    except Exception as e:\n",
    "        print(e)\n",
    "    print('outer try ended')\n",
    "except Exception as e:\n",
    "    print(e)\n",
    "print('main ends')"
   ]
  },
  {
   "cell_type": "markdown",
   "id": "2434dfd1",
   "metadata": {},
   "source": [
    "#### Performing File Operations along with Exception Handling"
   ]
  },
  {
   "cell_type": "code",
   "execution_count": 18,
   "id": "047e524d",
   "metadata": {},
   "outputs": [
    {
     "name": "stdout",
     "output_type": "stream",
     "text": [
      "main started\n",
      "Enter text: 'File writing operations with Nested Exception Handling'\n",
      "True\n",
      "main ended\n"
     ]
    }
   ],
   "source": [
    "# example:\n",
    "print('main started')\n",
    "try:\n",
    "    fo = open('hello.txt', 'x')\n",
    "    try:\n",
    "        data = eval(input('Enter text: '))\n",
    "        fo.write(data)\n",
    "    except Exception as e:\n",
    "        print(e)\n",
    "    finally:\n",
    "        fo.close()\n",
    "        print(fo.closed)\n",
    "except Exception as e:\n",
    "    print(e)\n",
    "print('main ended')"
   ]
  },
  {
   "cell_type": "markdown",
   "id": "4a1ddfa8",
   "metadata": {},
   "source": [
    "#### raise keyword\n",
    "* raise keyword is used for creating exceptions based on user-requirements\n",
    "* By using raise keyword, we can create both built-in and user-defined exceptions"
   ]
  },
  {
   "cell_type": "markdown",
   "id": "38afb83a",
   "metadata": {},
   "source": [
    "#### raise keyword with built-in error classes"
   ]
  },
  {
   "cell_type": "code",
   "execution_count": 5,
   "id": "7fcd4955",
   "metadata": {},
   "outputs": [
    {
     "name": "stdout",
     "output_type": "stream",
     "text": [
      "main started\n",
      "5\n",
      "0\n",
      "Cannot be divided\n",
      "main ended\n"
     ]
    }
   ],
   "source": [
    "# example:\n",
    "print('main started')\n",
    "try:\n",
    "    a=int(input())\n",
    "    b=int(input())\n",
    "    if b==0:\n",
    "        raise ZeroDivisionError('Cannot be divided')\n",
    "except Exception as e:\n",
    "    print(e)\n",
    "print('main ended')"
   ]
  },
  {
   "cell_type": "markdown",
   "id": "25f0a9a3",
   "metadata": {},
   "source": [
    "#### User-defined Exception Classes\n",
    "1. User-defined Exception classes can be used for creating a class which is inherited from BaseException Class\n",
    "\n",
    "Syntax:\n",
    "\n",
    "        class class_name(BaseException):\n",
    "            statements\n",
    "2. Use raise keyword to call the user-defined exception class as shown below\n",
    "\n",
    "syntax:\n",
    "\n",
    "        raise classname(Arguments)\n",
    "3. After raising an error, handle it by using exception handler\n",
    "\n",
    "#### Note:\n",
    "We cannot handle user-defined exception classes by using generic exception class"
   ]
  },
  {
   "cell_type": "code",
   "execution_count": 10,
   "id": "9a87c762",
   "metadata": {
    "scrolled": false
   },
   "outputs": [
    {
     "name": "stdout",
     "output_type": "stream",
     "text": [
      "main started\n",
      "User has raised this error\n",
      "main ended\n"
     ]
    }
   ],
   "source": [
    "# example:\n",
    "class DemoError(BaseException):\n",
    "    def __init__(self,msg):\n",
    "        self.msg = msg\n",
    "    print('main started')\n",
    "    \n",
    "try:\n",
    "    raise DemoError('User has raised this error')\n",
    "except DemoError as d:\n",
    "    print(d)\n",
    "print('main ended')"
   ]
  },
  {
   "cell_type": "code",
   "execution_count": 11,
   "id": "c0693774",
   "metadata": {},
   "outputs": [
    {
     "name": "stdout",
     "output_type": "stream",
     "text": [
      "main starts\n",
      "f2 is started\n",
      "f1 is started\n",
      "f1 is ended\n",
      "f2 is ended\n",
      "main ended\n"
     ]
    }
   ],
   "source": [
    "# eg2:\n",
    "def f1():\n",
    "    print('f1 is started')\n",
    "    a=10/10\n",
    "    print('f1 is ended')\n",
    "def f2():\n",
    "    print('f2 is started')\n",
    "    f1()\n",
    "    print('f2 is ended')\n",
    "print('main starts')\n",
    "f2()\n",
    "print('main ended')"
   ]
  },
  {
   "cell_type": "markdown",
   "id": "52d4e4d0",
   "metadata": {},
   "source": [
    "#### Exceution Process\n",
    "1. As error occurs, firt it checks for handler in the current function. If not, it will check the caller function. If it is not there as well, it will look for handler at the place where caller functio is called\n",
    "\n",
    "2. As we have not defined handler anywhere, exception causes the termination\n",
    "\n",
    "#### Note:\n",
    "If the exception is raised, it must be handled in current function or in caller function or from the place where caller function is called"
   ]
  },
  {
   "cell_type": "code",
   "execution_count": 26,
   "id": "39207f68",
   "metadata": {},
   "outputs": [
    {
     "name": "stdout",
     "output_type": "stream",
     "text": [
      "main is started\n",
      "first line of f2\n",
      "first line of f1\n",
      "division by zero\n",
      "last line of f1\n",
      "last line of f2\n",
      "main is ended\n"
     ]
    }
   ],
   "source": [
    "#### Handler in current function\n",
    "def f1():\n",
    "    print('first line of f1')\n",
    "    try:\n",
    "        result = 10/0\n",
    "    except Exception as e:\n",
    "        print(e)\n",
    "    print('last line of f1')\n",
    "def f2():\n",
    "    print('first line of f2')\n",
    "    f1()\n",
    "    print('last line of f2')\n",
    "print('main is started')\n",
    "f2()\n",
    "print('main is ended')"
   ]
  },
  {
   "cell_type": "code",
   "execution_count": 27,
   "id": "949e5bf9",
   "metadata": {},
   "outputs": [
    {
     "name": "stdout",
     "output_type": "stream",
     "text": [
      "main is started\n",
      "f2 is started\n",
      "f1 is started\n",
      "division by zero\n",
      "f2 is ended\n",
      "main is ended\n"
     ]
    }
   ],
   "source": [
    "# handler in caller function\n",
    "def f1():\n",
    "    print('f1 is started')\n",
    "    a = 10/0\n",
    "    print('f1 is ended')\n",
    "    \n",
    "def f2():\n",
    "    print('f2 is started')\n",
    "    try:\n",
    "        f1()\n",
    "    except Exception as e:\n",
    "        print(e)\n",
    "    print('f2 is ended')\n",
    "print('main is started')\n",
    "f2()\n",
    "print('main is ended')"
   ]
  },
  {
   "cell_type": "code",
   "execution_count": 28,
   "id": "70fcb48d",
   "metadata": {},
   "outputs": [
    {
     "name": "stdout",
     "output_type": "stream",
     "text": [
      "main is started\n",
      "f2 is started\n",
      "f1 is started\n",
      "division by zero\n",
      "main is ended\n"
     ]
    }
   ],
   "source": [
    "#  handler at the place where function is called (i.e., mainspace)\n",
    "def f1():\n",
    "    print('f1 is started')\n",
    "    a=10/0\n",
    "    print('f1 is ended')\n",
    "def f2():\n",
    "    print('f2 is started')\n",
    "    f1()\n",
    "    print('f2 is ended') \n",
    "print('main is started')\n",
    "try:\n",
    "    f2()\n",
    "except Exception as e:\n",
    "    print(e)\n",
    "print('main is ended')"
   ]
  },
  {
   "cell_type": "markdown",
   "id": "90a78d6c",
   "metadata": {},
   "source": [
    "#### Take a banking example for withdrawing. If wrong pin, give pin error, else ask for amount. If amount is more, give insufficient amount error. Withdraw if both are correct "
   ]
  },
  {
   "cell_type": "code",
   "execution_count": 24,
   "id": "3b395cd7",
   "metadata": {},
   "outputs": [],
   "source": [
    "class PinError(BaseException):\n",
    "    def __init__(self,msg):\n",
    "        self.msg = msg\n",
    "class BalError(BaseException):\n",
    "    def __init__(self, msg):\n",
    "        self.msg = msg\n",
    "        \n",
    "class Bank:\n",
    "    bank_name = 'sbi'\n",
    "    bank_isfc = 1234\n",
    "    def __init__(self, cn,cbal, pin):\n",
    "        self.cname = cn\n",
    "        self.cbalance = cbal\n",
    "        self.pin = pin\n",
    "    def withdraw(self):\n",
    "        epin = int(input('enter pin: '))\n",
    "        try:\n",
    "            if epin != self.pin:\n",
    "                raise PinError('Incorrect Pin')\n",
    "            else:\n",
    "                amount = int(input('Enter amount: '))\n",
    "            try:\n",
    "                if amount>self.cbalance:\n",
    "                    raise BalError('Insufficient Balance')\n",
    "            except BalError as be:\n",
    "                print(be)\n",
    "            else:\n",
    "                self.cbalance -= amount\n",
    "                print(self.cbalance)\n",
    "        except PinError as pe:\n",
    "            print(pe)"
   ]
  },
  {
   "cell_type": "code",
   "execution_count": 25,
   "id": "54f12b79",
   "metadata": {},
   "outputs": [
    {
     "name": "stdout",
     "output_type": "stream",
     "text": [
      "enter pin: 1234\n",
      "Enter amount: 15000\n",
      "Insufficient Balance\n"
     ]
    }
   ],
   "source": [
    "shree = Bank('shree', 10000,1234)\n",
    "shree.withdraw()"
   ]
  },
  {
   "cell_type": "code",
   "execution_count": null,
   "id": "91d3a6d8",
   "metadata": {},
   "outputs": [],
   "source": []
  }
 ],
 "metadata": {
  "kernelspec": {
   "display_name": "Python 3 (ipykernel)",
   "language": "python",
   "name": "python3"
  },
  "language_info": {
   "codemirror_mode": {
    "name": "ipython",
    "version": 3
   },
   "file_extension": ".py",
   "mimetype": "text/x-python",
   "name": "python",
   "nbconvert_exporter": "python",
   "pygments_lexer": "ipython3",
   "version": "3.8.3"
  }
 },
 "nbformat": 4,
 "nbformat_minor": 5
}
