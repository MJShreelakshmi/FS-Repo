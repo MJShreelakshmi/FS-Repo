{
 "cells": [
  {
   "cell_type": "markdown",
   "id": "7f64a2fc",
   "metadata": {},
   "source": [
    "#### Pickling process or Encryption\n",
    "It is the process of converting user-defined data into binary format of data \n",
    "\n",
    "#### Unpickling process or Decryption\n",
    "It is the proecss of re-converting the binary data into user-defined data. \n",
    "\n",
    "Both of these processes (Pickling and Unpickling ) can be done using pickle module\n",
    "\n",
    "#### Differences between pickle and json"
   ]
  },
  {
   "cell_type": "raw",
   "id": "f1513442",
   "metadata": {},
   "source": [
    "                    json data       binary data\n",
    "file extension       .txt              .pkl\n",
    "module               json              pickle\n",
    "file mode            r,w,a           rb, wb, ab"
   ]
  },
  {
   "cell_type": "code",
   "execution_count": 4,
   "id": "9f312be3",
   "metadata": {},
   "outputs": [],
   "source": [
    "# writing binary data using dumps\n",
    "\n",
    "with open('pickle_1.pkl', 'wb') as f:\n",
    "    d = {'name':'Ashu', 'age':2}\n",
    "    import pickle\n",
    "    bo = pickle.dumps(d)\n",
    "    f.write(bo)"
   ]
  },
  {
   "cell_type": "code",
   "execution_count": 10,
   "id": "c87e71e9",
   "metadata": {},
   "outputs": [],
   "source": [
    "# writing binary data using dump\n",
    "\n",
    "with open('pickle_1.pkl', 'wb') as f:\n",
    "    d = {'name':'Ashu', 'age':2}\n",
    "    import pickle\n",
    "    bo = pickle.dump(d, f)"
   ]
  },
  {
   "cell_type": "markdown",
   "id": "7b6ecb83",
   "metadata": {},
   "source": [
    "#### Reading of binary data from files using loads() of pickle module"
   ]
  },
  {
   "cell_type": "code",
   "execution_count": 11,
   "id": "f00ee6b9",
   "metadata": {},
   "outputs": [
    {
     "name": "stdout",
     "output_type": "stream",
     "text": [
      "b'\\x80\\x04\\x95\\x1b\\x00\\x00\\x00\\x00\\x00\\x00\\x00}\\x94(\\x8c\\x04name\\x94\\x8c\\x04Ashu\\x94\\x8c\\x03age\\x94K\\x02u.'\n"
     ]
    }
   ],
   "source": [
    "with open('pickle_1.pkl', 'rb') as f:\n",
    "    import pickle\n",
    "    bo=f.read()\n",
    "    po = pickle.loads(bo)\n",
    "    print(bo)"
   ]
  },
  {
   "cell_type": "markdown",
   "id": "778dc953",
   "metadata": {},
   "source": [
    "#### Reading of binary data from files using load() of pickle modul"
   ]
  },
  {
   "cell_type": "code",
   "execution_count": 12,
   "id": "cc90c530",
   "metadata": {},
   "outputs": [
    {
     "name": "stdout",
     "output_type": "stream",
     "text": [
      "{'name': 'Ashu', 'age': 2}\n"
     ]
    }
   ],
   "source": [
    "with open('pickle_1.pkl', 'rb') as f:\n",
    "    import pickle\n",
    "    po = pickle.load(f)\n",
    "    print(po)"
   ]
  },
  {
   "cell_type": "code",
   "execution_count": null,
   "id": "518fbf8c",
   "metadata": {},
   "outputs": [],
   "source": []
  }
 ],
 "metadata": {
  "kernelspec": {
   "display_name": "Python 3 (ipykernel)",
   "language": "python",
   "name": "python3"
  },
  "language_info": {
   "codemirror_mode": {
    "name": "ipython",
    "version": 3
   },
   "file_extension": ".py",
   "mimetype": "text/x-python",
   "name": "python",
   "nbconvert_exporter": "python",
   "pygments_lexer": "ipython3",
   "version": "3.8.3"
  }
 },
 "nbformat": 4,
 "nbformat_minor": 5
}
