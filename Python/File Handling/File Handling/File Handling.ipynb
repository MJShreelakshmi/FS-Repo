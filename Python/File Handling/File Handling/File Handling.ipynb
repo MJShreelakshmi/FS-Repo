{
 "cells": [
  {
   "cell_type": "markdown",
   "id": "ba5bff47",
   "metadata": {},
   "source": [
    "#### File Handling\n",
    "File Handling is the process of performing operations on files by using python language\n",
    "\n",
    "#### Process of File Handling:\n",
    "1. Open file\n",
    "2. Perform the operations\n",
    "3. Close the file\n",
    "\n",
    "#### 1. Open the file\n",
    "By using the open function, we can open a file for performing operations\n",
    "\n",
    "Syntax for open function:\n",
    "\n",
    "        open(path, mode)\n",
    "        \n",
    "#### Note:\n",
    "Open function creates a file object on which we can perform operations\n",
    "\n",
    "#### Path\n",
    "Path is used for specifying the location of the file on which we have to perform the operations\n",
    "\n",
    "* If python and text file are in same folder, path ---> directly file name\n",
    "* If python and text file are in different folders, path --> entire path of the file name\n",
    "\n",
    "#### Mode\n",
    "It is used for specifying the type of operation that we need to perform on the file"
   ]
  },
  {
   "cell_type": "raw",
   "id": "7875c037",
   "metadata": {},
   "source": [
    "Mode          symbol\n",
    "Read           'r'         \n",
    "Write          'w'\n",
    "Append         'a'\n",
    "Exclusive      'x'   "
   ]
  },
  {
   "cell_type": "markdown",
   "id": "ab8d3db4",
   "metadata": {},
   "source": [
    "#### Write Mode\n",
    "We open a file in write mode when we have to write new data into files\n",
    "\n",
    "Once we open a file in write mode, then\n",
    "* If the file is not present, it will crate a new file\n",
    "* If the file is present, it will erase the existing data and allows us to write new data\n",
    "\n",
    "#### Methods to write data into files\n",
    "File object is having 2 methods by using which we can write data into files\n",
    "\n",
    "1. write\n",
    "2. writelines\n",
    "\n",
    "#### write method\n",
    "It is used for writing only string type of data into files\n",
    "\n",
    "Syntax:\n",
    "\n",
    "        write(data)\n",
    "        \n",
    "##### Note: data must be only strings\n"
   ]
  },
  {
   "cell_type": "code",
   "execution_count": 4,
   "id": "54db0fb8",
   "metadata": {},
   "outputs": [],
   "source": [
    "# Example\n",
    "fo = open('write_method.txt', 'w')\n",
    "s = 'hey this is write mode'\n",
    "fo.write(s)\n",
    "fo.close()"
   ]
  },
  {
   "cell_type": "markdown",
   "id": "85bd07fd",
   "metadata": {},
   "source": [
    "#### writelines method\n",
    "It is used for writing any type of data into files\n",
    "\n",
    "Syntax:\n",
    "\n",
    "        writelines(data)\n",
    "##### Note: Any colection type of data can be written but it must have only strings as elements"
   ]
  },
  {
   "cell_type": "code",
   "execution_count": 3,
   "id": "218caa7a",
   "metadata": {},
   "outputs": [],
   "source": [
    "# Exapmle:\n",
    "fo = open('writelines_method.txt', 'w')\n",
    "l = ['hai\\n','hello\\n', 'bye\\n', '99\\n']\n",
    "fo.writelines(l)\n",
    "fo.close()"
   ]
  },
  {
   "cell_type": "markdown",
   "id": "d9eba7b6",
   "metadata": {},
   "source": [
    "##### Note: Its mandatory to close the files after writing some data into files. Because the data gets saved only after closing the file\n",
    "\n",
    "#### close()\n",
    "close method is used for closing the opened file in python\n",
    "\n",
    "#### append mode\n",
    "We open a file in append mode when we have to add new data into the file along with existing data\n",
    "\n",
    "Once we open a file in append mode, then\n",
    "* If the file is not present, it will crate a new file\n",
    "* If the file is present, it will allow us to write new data after the existing lines of data\n",
    "\n",
    "##### Note: We can use write and writelines method to write the data into files even in case of append mode"
   ]
  },
  {
   "cell_type": "code",
   "execution_count": 6,
   "id": "14f91680",
   "metadata": {},
   "outputs": [],
   "source": [
    "# Example\n",
    "fo = open('append_mode.txt', 'a')\n",
    "fo.writelines(' hey shree this is append mode')\n",
    "fo.close()"
   ]
  },
  {
   "cell_type": "markdown",
   "id": "a30fcd0c",
   "metadata": {},
   "source": [
    "#### exclusive mode\n",
    "We can open a file in exclusive mode when we only have to write data into new files\n",
    "\n",
    "Once we open a file in exclusive mode then\n",
    "* If the file is not present, it will crate a new file\n",
    "* If the file is present, it will raise FileExists Error"
   ]
  },
  {
   "cell_type": "code",
   "execution_count": 9,
   "id": "fa988784",
   "metadata": {},
   "outputs": [],
   "source": [
    "# Example:\n",
    "fo = open('exclusive_mode.txt', 'x')\n",
    "fo.writelines(' hey shree this is exclusive mode')\n",
    "fo.close()"
   ]
  },
  {
   "cell_type": "markdown",
   "id": "78c5b781",
   "metadata": {},
   "source": [
    "##### Note: We can use write and writelines method  in case of exclusive method"
   ]
  },
  {
   "cell_type": "markdown",
   "id": "90b08311",
   "metadata": {},
   "source": [
    "#### read mode\n",
    "we can open a file in read mode when we have to read the data from the files\n",
    "\n",
    "Once we open a file in read mode\n",
    "* If the file is not present, it will throw FileNotFound Error\n",
    "* If the file is present, then it will allow us to read the data from the files \n",
    "\n",
    "Inorder to read the data from files, we have 3 methods\n",
    "1. read method\n",
    "2. readline method\n",
    "3. readlines method\n",
    "\n",
    "#### read method\n",
    "It is used for reading entire data from the file and represents data in the string format\n",
    "\n",
    "Syntax:\n",
    "\n",
    "        read()"
   ]
  },
  {
   "cell_type": "code",
   "execution_count": 7,
   "id": "bd65f614",
   "metadata": {},
   "outputs": [
    {
     "name": "stdout",
     "output_type": "stream",
     "text": [
      "<class 'str'>\n",
      "Hey shree this is append mode. \n",
      "This is the second line\n",
      "\n",
      "58\n",
      "<class 'str'>\n",
      "\n"
     ]
    }
   ],
   "source": [
    "# Example:\n",
    "fo = open('append_mode.txt', 'r')\n",
    "data = fo.read()\n",
    "print(type(data))\n",
    "print(data)\n",
    "print(fo.tell())\n",
    "data1 =fo.read()\n",
    "print(type(data1))\n",
    "print(data1)"
   ]
  },
  {
   "cell_type": "markdown",
   "id": "49b9f817",
   "metadata": {},
   "source": [
    "#### readline method\n",
    "It is used for reading a single line of data or specified number of characters from the file and represent the data in the form of strings\n",
    "\n",
    "Syntax:\n",
    "\n",
    "        readline(no_of_characters)"
   ]
  },
  {
   "cell_type": "code",
   "execution_count": 2,
   "id": "c1e873bf",
   "metadata": {},
   "outputs": [
    {
     "name": "stdout",
     "output_type": "stream",
     "text": [
      "<class 'str'>\n",
      "Hey s\n",
      "<class 'str'>\n",
      "hree this is append mode. \n",
      "\n",
      "<class 'str'>\n",
      "hree this \n"
     ]
    }
   ],
   "source": [
    "fo = open('append_mode.txt', 'r')\n",
    "data = fo.readline(5)\n",
    "print(type(data))\n",
    "print(data)\n",
    "data1 = fo.readline()\n",
    "print(type(data1))\n",
    "print(data1)\n",
    "\n",
    "fo.seek(5)\n",
    "data1 = fo.readline(10)\n",
    "print(type(data1))\n",
    "print(data1)"
   ]
  },
  {
   "cell_type": "markdown",
   "id": "e371ec36",
   "metadata": {},
   "source": [
    "#### readlines\n",
    "It is used for reading the entire data from the file and represent the data in the list format\n",
    "\n",
    "Syntax:\n",
    "\n",
    "        readlines()"
   ]
  },
  {
   "cell_type": "code",
   "execution_count": 1,
   "id": "465212e5",
   "metadata": {},
   "outputs": [
    {
     "name": "stdout",
     "output_type": "stream",
     "text": [
      "['Hey shree this is append mode. \\n', 'This is the second line\\n']\n",
      "<class 'list'>\n"
     ]
    }
   ],
   "source": [
    "# Example:\n",
    "fo = open('append_mode.txt', 'r')\n",
    "data = fo.readlines()\n",
    "print(data)\n",
    "print(type(data))"
   ]
  },
  {
   "cell_type": "markdown",
   "id": "b9e6b0c9",
   "metadata": {},
   "source": [
    "#### tell()\n",
    "tell method is used for specifying the current position of the cursor\n",
    "\n",
    "#### seek()\n",
    "It is used for taking the cursor to specified index position\n",
    "\n",
    "Syntax:\n",
    "\n",
    "        seek(index, position)\n",
    "        \n",
    "#### Important methods /attributes of file handling\n",
    "1. name: It gives name of the opened file\n",
    "2. mode: It gives mode in which we have opened the file\n",
    "3. readable(): It returns True if the file is opened in read mode, otherwise False\n",
    "4. writable(): It returns True if the file is opened in write or append or exclusive mode, otherwise False\n",
    "5. closed: It rerturns True if the file is closed otherwise False"
   ]
  },
  {
   "cell_type": "code",
   "execution_count": 5,
   "id": "777c92ba",
   "metadata": {},
   "outputs": [
    {
     "name": "stdout",
     "output_type": "stream",
     "text": [
      "test.txt\n",
      "a\n",
      "False\n",
      "False\n",
      "True\n"
     ]
    }
   ],
   "source": [
    "fo = open('test.txt', 'a')\n",
    "print(fo.name)\n",
    "print(fo.mode)\n",
    "print(fo.closed)\n",
    "print(fo.readable())\n",
    "print(fo.writable())"
   ]
  },
  {
   "cell_type": "markdown",
   "id": "368dc9c2",
   "metadata": {},
   "source": [
    "While converting json back to pyhton objects, original collection data types like list, tuple, set etc are converted to list only. Bczjavascript considers all of them as array only and while converting back to python it always gives back a list"
   ]
  },
  {
   "cell_type": "code",
   "execution_count": 13,
   "id": "44174b3c",
   "metadata": {},
   "outputs": [],
   "source": [
    "#  print how many lines of data is present in the given file"
   ]
  },
  {
   "cell_type": "code",
   "execution_count": 7,
   "id": "471f3b0b",
   "metadata": {},
   "outputs": [],
   "source": [
    "# print how many words of data is present in the given file"
   ]
  },
  {
   "cell_type": "code",
   "execution_count": 8,
   "id": "ac7cfb7c",
   "metadata": {},
   "outputs": [],
   "source": [
    "# print how many files of data present in the given file with exactly 55 characters"
   ]
  },
  {
   "cell_type": "code",
   "execution_count": 9,
   "id": "045ae0fe",
   "metadata": {},
   "outputs": [],
   "source": [
    "# print lengthiest word in the given file"
   ]
  },
  {
   "cell_type": "code",
   "execution_count": 10,
   "id": "c9bd657f",
   "metadata": {},
   "outputs": [],
   "source": [
    "# print lengthiest line in the given line"
   ]
  },
  {
   "cell_type": "code",
   "execution_count": 11,
   "id": "03568952",
   "metadata": {},
   "outputs": [],
   "source": [
    "# print words which are starting with 'h'"
   ]
  },
  {
   "cell_type": "code",
   "execution_count": 12,
   "id": "bef75425",
   "metadata": {},
   "outputs": [],
   "source": [
    "# print words which are having 10 characters in it"
   ]
  },
  {
   "cell_type": "code",
   "execution_count": 1,
   "id": "53db45b7",
   "metadata": {},
   "outputs": [],
   "source": [
    "# r+,w+, a+"
   ]
  },
  {
   "cell_type": "code",
   "execution_count": null,
   "id": "806a862f",
   "metadata": {},
   "outputs": [],
   "source": []
  }
 ],
 "metadata": {
  "kernelspec": {
   "display_name": "Python 3 (ipykernel)",
   "language": "python",
   "name": "python3"
  },
  "language_info": {
   "codemirror_mode": {
    "name": "ipython",
    "version": 3
   },
   "file_extension": ".py",
   "mimetype": "text/x-python",
   "name": "python",
   "nbconvert_exporter": "python",
   "pygments_lexer": "ipython3",
   "version": "3.8.3"
  }
 },
 "nbformat": 4,
 "nbformat_minor": 5
}
