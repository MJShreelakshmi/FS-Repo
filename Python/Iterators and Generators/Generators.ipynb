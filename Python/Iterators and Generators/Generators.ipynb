{
 "cells": [
  {
   "cell_type": "markdown",
   "id": "30578ec6",
   "metadata": {},
   "source": [
    "#### Disadvantages of Iterators:\n",
    "1. We have to create a class with _ _iter_ _() and _ _next_ _() methods to create a custome iterator and trackall the states and we have to raise StopIteration Error if no values are there to return\n",
    "\n",
    "#### Definition of Generators\n",
    "1. Pyhton generator is a function which is used to return a Iterable generator object which can be iterated to extract values one by one\n",
    "2. Generator is a function with yield statement instead of return\n",
    "3. Python generators are a simple way of creating iterators\n",
    "4. All the work of initialization and traversing are done automatically handled by generators in python\n",
    "5. Generator follows pause and execution approach"
   ]
  },
  {
   "cell_type": "code",
   "execution_count": 14,
   "id": "40233320",
   "metadata": {},
   "outputs": [
    {
     "name": "stdout",
     "output_type": "stream",
     "text": [
      "<generator object genfunction at 0x0000019FCC53A0B0>\n",
      "genf is started\n",
      "25\n",
      "content of genf after first yield\n",
      "hello\n",
      "content of genf after second yield\n",
      "last\n",
      "(89, 34, 'bye')\n"
     ]
    }
   ],
   "source": [
    "def genfunction():\n",
    "    print('genf is started')\n",
    "    yield 25\n",
    "    print('content of genf after first yield')\n",
    "    yield 'hello'\n",
    "    print('content of genf after second yield')\n",
    "    print('last')\n",
    "    yield 89,34, 'bye'\n",
    "    \n",
    "gnf = genfunction()\n",
    "print(gnf)\n",
    "print(next(gnf))\n",
    "print(next(gnf))\n",
    "print(next(gnf))"
   ]
  },
  {
   "cell_type": "markdown",
   "id": "a670c382",
   "metadata": {},
   "source": [
    "#### Demonstration of range function by using generators"
   ]
  },
  {
   "cell_type": "code",
   "execution_count": 18,
   "id": "6b78bdc5",
   "metadata": {},
   "outputs": [
    {
     "name": "stdout",
     "output_type": "stream",
     "text": [
      "1 3 5 7 9 "
     ]
    }
   ],
   "source": [
    "def rangegen(ll, ul, up=1):\n",
    "    while ll<ul:\n",
    "        yield ll\n",
    "        ll+=up\n",
    "rgo = rangegen(1,10,2)\n",
    "\n",
    "for i in rgo:\n",
    "    print(i, end = ' ')"
   ]
  },
  {
   "cell_type": "code",
   "execution_count": 24,
   "id": "dee630c3",
   "metadata": {},
   "outputs": [
    {
     "name": "stdout",
     "output_type": "stream",
     "text": [
      "2 3 5 8 13 21 34 55 89 144 "
     ]
    }
   ],
   "source": [
    "#  create a generator function for printing the fibonacci series of numbers\n",
    "# def fibo(ll, ul, n):\n",
    "#     i = 1\n",
    "#     while i<=n-1:\n",
    "#         if i==1:\n",
    "#             yield ll, ul\n",
    "#         else:\n",
    "#             next_ = ll+ul\n",
    "#             yield next_\n",
    "#             ll=ul\n",
    "#             ul = next_\n",
    "#         i+=1\n",
    "# f = fibo(2,3,10)\n",
    "\n",
    "# for i in f:\n",
    "#     print(i, end = ' ')\n",
    "\n",
    "def fibo(fv, sv, n):\n",
    "    i=1\n",
    "    while i<=n:\n",
    "        yield fv\n",
    "        fv, sv = sv, fv+sv\n",
    "        i+=1\n",
    "f = fibo(2,3,10)\n",
    "\n",
    "for i in f:\n",
    "    print(i, end = ' ')"
   ]
  },
  {
   "cell_type": "markdown",
   "id": "ce2c00cd",
   "metadata": {},
   "source": [
    "#### Differences b/w RETURN and YIELD\n"
   ]
  },
  {
   "cell_type": "markdown",
   "id": "5a2fcd18",
   "metadata": {},
   "source": [
    "                    return                                                               yield\n",
    "    1. After writing return statement, we cannot write any       1. After writing a yield statement inside a generator function \n",
    "       other statements inside that block                           we can write n number of statements inside that block\n",
    "\n",
    "    2. Directly values will be returned                          2. It will return a generator object\n",
    "\n",
    "    3. It is used for returning some values/data                 3. It is used for returning some values/data \n",
    "\n",
    "    4. While returning multiple values/data as output, the       4. While returning multiple values/data as output, the format \n",
    "       format of return is a Tuple                                  of yield is a Tuple\n",
    "\n",
    "    5. We can return a y type of data                            5. We can return a y type of data\n",
    "\n",
    "    6. We can return any number of data                          6. We can return any number of data"
   ]
  },
  {
   "cell_type": "markdown",
   "id": "d0911c20",
   "metadata": {},
   "source": [
    "#### Differences b/w Iterators and Generators"
   ]
  },
  {
   "cell_type": "markdown",
   "id": "b93219bb",
   "metadata": {},
   "source": [
    "              Generators                                                              Iterators\n",
    "\n",
    "    1. In creating a python generator, we use a function         1. In creating an iterator in pyhton, we use iter()\n",
    "\n",
    "    2. A generator in python makes use of the 'yield' keyword    2. A python iterator doesn't use yield statement\n",
    "\n",
    "    3. Python generator saves the state of local variables       3. An iterator does not make use of local variable. All it \n",
    "       every time 'yield' pauses the loop in python                 needs is an iterable to iterate on\n",
    "\n",
    "    4. A generator doesnot need class in python                  4. We can create custom iterators using python class\n",
    "\n",
    "    5. Python generators let us write fast and compact code      5. Iterators are slow compared to generators  \n",
    "\n",
    "    6. Generators are less memory efficient compared to          6. Python iterator is more memory efficient\n",
    "       iterators"
   ]
  },
  {
   "cell_type": "code",
   "execution_count": 29,
   "id": "0536cdfa",
   "metadata": {},
   "outputs": [
    {
     "name": "stdout",
     "output_type": "stream",
     "text": [
      "96\n",
      "32\n"
     ]
    }
   ],
   "source": [
    "#Example\n",
    "\n",
    "def gen():\n",
    "    i=1\n",
    "    while i<2:\n",
    "        yield i\n",
    "        i+=1\n",
    "go  = gen()        \n",
    "print(go.__sizeof__())\n",
    "print(iter([11]).__sizeof__())  # Proof for memory efficiency"
   ]
  },
  {
   "cell_type": "markdown",
   "id": "9df8dc11",
   "metadata": {},
   "source": [
    "#### Differences b/w Generators and Functions"
   ]
  },
  {
   "cell_type": "markdown",
   "id": "0eb56206",
   "metadata": {},
   "source": [
    "            Generators                                                                    Functions\n",
    "    1. Generators are the fucntions with yield statement                1. Functions contain return statement\n",
    "\n",
    "    2. When called it returns an object (iterator)                      2. Function returns a value based on user definition\n",
    "\n",
    "    3. Doesnot start execution immediately                              3. Functions will be executed immediately\n",
    "\n",
    "    4. Once the function yields, the function is paused and the         4. No concept of yielding and passing the execution\n",
    "       control is transferred to the caller\n",
    "\n",
    "    5. When the function terminates, StopIteration Error is raised      5. Doesnot raise any exception after termination of \n",
    "       automatically on further calls                                      function\n",
    "\n",
    "    6. We can use generators with for loops directly                    6. We cannot use functions with for loop directly at                                                                          all times"
   ]
  },
  {
   "cell_type": "code",
   "execution_count": null,
   "id": "1a35162f",
   "metadata": {},
   "outputs": [],
   "source": []
  },
  {
   "cell_type": "code",
   "execution_count": null,
   "id": "dc21b42a",
   "metadata": {},
   "outputs": [],
   "source": []
  }
 ],
 "metadata": {
  "kernelspec": {
   "display_name": "Python 3 (ipykernel)",
   "language": "python",
   "name": "python3"
  },
  "language_info": {
   "codemirror_mode": {
    "name": "ipython",
    "version": 3
   },
   "file_extension": ".py",
   "mimetype": "text/x-python",
   "name": "python",
   "nbconvert_exporter": "python",
   "pygments_lexer": "ipython3",
   "version": "3.8.3"
  }
 },
 "nbformat": 4,
 "nbformat_minor": 5
}
