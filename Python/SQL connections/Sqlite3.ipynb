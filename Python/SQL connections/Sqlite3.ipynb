{
 "cells": [
  {
   "cell_type": "markdown",
   "id": "e6b95ee5",
   "metadata": {},
   "source": [
    "### Sqlite 3"
   ]
  },
  {
   "cell_type": "raw",
   "id": "206f2497",
   "metadata": {},
   "source": [
    "sqlite3 --> connect\n",
    "\n",
    "            connection object\n",
    "                    |\n",
    "                    |cursor() method\n",
    "                    v\n",
    "                cursor object\n",
    "                    |\n",
    "                    |execute() method\n",
    "                    v\n",
    "           performing CRUD operations\n",
    "           \n",
    "commit() method ---> save"
   ]
  },
  {
   "cell_type": "markdown",
   "id": "a5b0e90a",
   "metadata": {},
   "source": [
    "\n",
    "* Sqlite is C library that provides a light-weight, disk-based databse that doesnt require a database for processing\n",
    "* Create connection object\n",
    "    \n",
    "    1) To use sqlite3 in python, first we have to import the sqlite3 module\n",
    "    2) Create a connection object which will connect us to the database and let us execute the sql statements\n",
    "    3) We can create connection object by using the connect function of sqlite3\n",
    "\n",
    "Syntax for creating the connection object:\n",
    "\n",
    "        sqlite3.connect('database_name.db')\n",
    "        \n",
    "#### sqlite3 cursor object\n",
    "1. To execute sqlite statement in python, we need a cursor object, we can create it by using cursor method\n",
    "2. The sqlite3 cursor is a method of the connection object\n",
    "\n",
    "        con = sqlite3.connect('my_database.db')\n",
    "        cursor_obj = con.cursor()\n",
    "After creating cursor object, we  can use it to execute the CRUD operations\n",
    "\n",
    "The commit() method saves all the changes we make"
   ]
  },
  {
   "cell_type": "code",
   "execution_count": 7,
   "id": "b2065c2c",
   "metadata": {},
   "outputs": [],
   "source": [
    "import sqlite3"
   ]
  },
  {
   "cell_type": "code",
   "execution_count": 1,
   "id": "ab8bc4bb",
   "metadata": {},
   "outputs": [
    {
     "name": "stdout",
     "output_type": "stream",
     "text": [
      "table is created\n"
     ]
    }
   ],
   "source": [
    "# example:\n",
    "def create_con():\n",
    "    import sqlite3\n",
    "    dbco = sqlite3.connect('shree.db')\n",
    "    return dbco\n",
    "    \n",
    "DbCo = create_con()\n",
    "\n",
    "def create_table(dbco):\n",
    "    cro = dbco.cursor()\n",
    "    cro.execute('create table Emp(empno integer primary key, ename text)')\n",
    "    dbco.commit()\n",
    "    print('table is created')\n",
    "create_table(DbCo)"
   ]
  },
  {
   "cell_type": "code",
   "execution_count": 2,
   "id": "94d33e45",
   "metadata": {},
   "outputs": [
    {
     "name": "stdout",
     "output_type": "stream",
     "text": [
      "data inserted\n",
      "(1432, 'Shree')\n",
      "data is updated\n",
      "(1432, 'Shree')\n",
      "data is deleted\n",
      "(1432, 'Shree')\n"
     ]
    }
   ],
   "source": [
    "def insert_data(dbco):\n",
    "    cro = dbco.cursor()\n",
    "    cro.execute('insert into Emp values(1432, \"Shree\")')\n",
    "    dbco.commit()\n",
    "    print('data inserted')\n",
    "insert_data(DbCo)\n",
    "\n",
    "def retrieve_data(dbco):\n",
    "    cro = dbco.cursor()\n",
    "    queryset = cro.execute('select * from Emp')\n",
    "    for i in queryset:\n",
    "        print(i)\n",
    "retrieve_data(DbCo)\n",
    "    \n",
    "def update_data(dbco):    \n",
    "    cro = dbco.cursor()\n",
    "    cro.execute('update Emp set ename=\"Harish\" where empno = \"1234\" ')\n",
    "    dbco.commit()\n",
    "    print('data is updated')        \n",
    "update_data(DbCo)\n",
    "retrieve_data(DbCo)\n",
    "\n",
    "def delete_data(dbco):\n",
    "    cro = dbco.cursor()\n",
    "    cro.execute('delete from Emp where empno = 1234')\n",
    "    dbco.commit()\n",
    "    print('data is deleted')\n",
    "delete_data(DbCo)\n",
    "retrieve_data(DbCo)"
   ]
  },
  {
   "cell_type": "code",
   "execution_count": null,
   "id": "0ad9a69f",
   "metadata": {},
   "outputs": [],
   "source": []
  }
 ],
 "metadata": {
  "kernelspec": {
   "display_name": "Python 3 (ipykernel)",
   "language": "python",
   "name": "python3"
  },
  "language_info": {
   "codemirror_mode": {
    "name": "ipython",
    "version": 3
   },
   "file_extension": ".py",
   "mimetype": "text/x-python",
   "name": "python",
   "nbconvert_exporter": "python",
   "pygments_lexer": "ipython3",
   "version": "3.8.3"
  }
 },
 "nbformat": 4,
 "nbformat_minor": 5
}
