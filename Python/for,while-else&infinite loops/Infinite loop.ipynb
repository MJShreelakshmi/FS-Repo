{
 "cells": [
  {
   "cell_type": "markdown",
   "id": "29606171",
   "metadata": {},
   "source": [
    "22-07-24\n",
    "\n",
    "Infinte Loop:\n",
    "    Infinte loop can be created by using while True\n",
    "    \n",
    "Incase of infinte loops, we need to use break statements to terminate the execution of the loop."
   ]
  },
  {
   "cell_type": "raw",
   "id": "e7951b7c",
   "metadata": {},
   "source": [
    "syntax:\n",
    "    while True:\n",
    "        statements\n",
    "        if condition:\n",
    "            break"
   ]
  },
  {
   "cell_type": "code",
   "execution_count": 2,
   "id": "1b4eb075",
   "metadata": {},
   "outputs": [
    {
     "name": "stdout",
     "output_type": "stream",
     "text": [
      "1 2 3 4 5 6 7 8 9 10 "
     ]
    }
   ],
   "source": [
    "# eg:\n",
    "a=1\n",
    "while True:\n",
    "    print(a, end=' ')\n",
    "    if a==10:\n",
    "        break\n",
    "    a+=1"
   ]
  },
  {
   "cell_type": "markdown",
   "id": "c4e7b2f5",
   "metadata": {},
   "source": [
    "#### taking n input from the user and adding it to the list using for loop"
   ]
  },
  {
   "cell_type": "code",
   "execution_count": 8,
   "id": "0e530a5e",
   "metadata": {},
   "outputs": [
    {
     "name": "stdout",
     "output_type": "stream",
     "text": [
      "enter a number value: 3\n",
      "hai\n",
      "hello\n",
      "bye\n",
      "['hai', 'hello', 'bye']\n"
     ]
    }
   ],
   "source": [
    "n=int(input('enter a number value: '))\n",
    "l=[]\n",
    "for i in range(n):\n",
    "    value = input()\n",
    "    l.append(value)\n",
    "print(l)"
   ]
  },
  {
   "cell_type": "code",
   "execution_count": 10,
   "id": "5838515b",
   "metadata": {},
   "outputs": [
    {
     "name": "stdout",
     "output_type": "stream",
     "text": [
      "enter a number value: 5\n",
      "0\n",
      "5\n",
      "20\n",
      "55\n",
      "-1\n",
      "['0', '5', '20', '55', '-1']\n"
     ]
    }
   ],
   "source": [
    "n=int(input('enter a number value: '))\n",
    "l=[]\n",
    "for i in range(n):\n",
    "    value = input()\n",
    "    l.append(value)\n",
    "print(l)"
   ]
  },
  {
   "cell_type": "markdown",
   "id": "7d6be871",
   "metadata": {},
   "source": [
    "#### taking n input from the user and adding it to the list using while loop"
   ]
  },
  {
   "cell_type": "code",
   "execution_count": 13,
   "id": "00e067c4",
   "metadata": {},
   "outputs": [
    {
     "name": "stdout",
     "output_type": "stream",
     "text": [
      "5\n",
      "1\n",
      "10\n",
      "0\n",
      "-2\n",
      "[5, 1, 10, 0]\n"
     ]
    }
   ],
   "source": [
    "l=[]\n",
    "while True:\n",
    "    value = int(input())\n",
    "    if value<0:\n",
    "        break\n",
    "    l.append(value)\n",
    "print(l)"
   ]
  },
  {
   "cell_type": "code",
   "execution_count": 14,
   "id": "e492ed05",
   "metadata": {},
   "outputs": [
    {
     "name": "stdout",
     "output_type": "stream",
     "text": [
      "12\n",
      "28\n",
      "6\n",
      "89\n",
      "[12, 28, 6]\n"
     ]
    }
   ],
   "source": [
    "l=[]\n",
    "while True:\n",
    "    value = int(input())\n",
    "    if value%2==1:\n",
    "        break\n",
    "    l.append(value)\n",
    "print(l)"
   ]
  },
  {
   "cell_type": "code",
   "execution_count": null,
   "id": "a7eb3376",
   "metadata": {},
   "outputs": [],
   "source": []
  }
 ],
 "metadata": {
  "kernelspec": {
   "display_name": "Python 3 (ipykernel)",
   "language": "python",
   "name": "python3"
  },
  "language_info": {
   "codemirror_mode": {
    "name": "ipython",
    "version": 3
   },
   "file_extension": ".py",
   "mimetype": "text/x-python",
   "name": "python",
   "nbconvert_exporter": "python",
   "pygments_lexer": "ipython3",
   "version": "3.8.3"
  }
 },
 "nbformat": 4,
 "nbformat_minor": 5
}
