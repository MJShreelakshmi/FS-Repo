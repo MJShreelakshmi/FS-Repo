{
 "cells": [
  {
   "cell_type": "markdown",
   "id": "93734bf6",
   "metadata": {},
   "source": [
    "#### 16-07-24\n",
    "### for- else block"
   ]
  },
  {
   "cell_type": "raw",
   "id": "85b635b2",
   "metadata": {},
   "source": [
    "for variable in range():\n",
    "    statements \n",
    "    if condition:\n",
    "        break\n",
    "else:\n",
    "    else block"
   ]
  },
  {
   "cell_type": "markdown",
   "id": "5aacde50",
   "metadata": {},
   "source": [
    "#### Flow of execution of for- else block\n",
    "1. If for loop is not terminated, then else block will get executed.\n",
    "2. If for loop is terminated, then else block will not get executed.\n",
    "\n",
    "Note:\n",
    "We can create for else without if condition."
   ]
  },
  {
   "cell_type": "code",
   "execution_count": 1,
   "id": "3a7fb302",
   "metadata": {},
   "outputs": [
    {
     "name": "stdout",
     "output_type": "stream",
     "text": [
      "1\n",
      "I'm on else block\n",
      "2\n",
      "I'm on else block\n",
      "3\n",
      "I'm on else block\n",
      "4\n",
      "I'm on else block\n",
      "5\n"
     ]
    }
   ],
   "source": [
    "#  Example:\n",
    "for i in range(1,11):\n",
    "    print(i)\n",
    "    if i==5:\n",
    "        break\n",
    "else:\n",
    "    print(\"I'm on else block\")"
   ]
  },
  {
   "cell_type": "code",
   "execution_count": 2,
   "id": "fb55251b",
   "metadata": {
    "scrolled": true
   },
   "outputs": [
    {
     "name": "stdout",
     "output_type": "stream",
     "text": [
      "1\n",
      "I'm in else block\n",
      "2\n",
      "I'm in else block\n",
      "3\n",
      "I'm in else block\n",
      "4\n",
      "I'm in else block\n",
      "5\n",
      "I'm in else block\n",
      "6\n",
      "I'm in else block\n",
      "7\n",
      "I'm in else block\n",
      "8\n",
      "I'm in else block\n",
      "9\n",
      "I'm in else block\n",
      "10\n",
      "I'm in else block\n"
     ]
    }
   ],
   "source": [
    "for i in range(1,11):\n",
    "    print(i)\n",
    "    if i==15:\n",
    "        break\n",
    "else:\n",
    "    print(\"I'm in else block\")"
   ]
  },
  {
   "cell_type": "code",
   "execution_count": 5,
   "id": "b2a7c374",
   "metadata": {},
   "outputs": [
    {
     "name": "stdout",
     "output_type": "stream",
     "text": [
      "5\n",
      "5 is prime\n"
     ]
    }
   ],
   "source": [
    "# WAPT check if a given number is prime number or not\n",
    "n=int(input())\n",
    "if n>1:\n",
    "    for i in range(2,n//2+1):\n",
    "        if n%i==0:\n",
    "            print(f'{n} is not prime')\n",
    "            break\n",
    "    else:\n",
    "        print(f'{n} is prime')\n",
    "else:\n",
    "    print(f'{n} is not prime')"
   ]
  },
  {
   "cell_type": "markdown",
   "id": "2e13334b",
   "metadata": {},
   "source": [
    "Explain the above code for n=1,10,6"
   ]
  },
  {
   "cell_type": "markdown",
   "id": "cdd781e9",
   "metadata": {},
   "source": [
    "### While - else block\n",
    "1. If while block is not terminated, then else block will get executed.\n",
    "2. If while loop is terminated, then else block will not get executed.\n",
    "\n",
    "Note: We can create while else without if condition."
   ]
  },
  {
   "cell_type": "raw",
   "id": "ac46a56e",
   "metadata": {},
   "source": [
    "while condition:\n",
    "    statements\n",
    "    if condition:\n",
    "        break\n",
    "    increment/decrement\n",
    "else:\n",
    "    else block"
   ]
  },
  {
   "cell_type": "code",
   "execution_count": 9,
   "id": "68a1c5a3",
   "metadata": {},
   "outputs": [
    {
     "name": "stdout",
     "output_type": "stream",
     "text": [
      "1 2 3 4 5 "
     ]
    }
   ],
   "source": [
    "# Example\n",
    "a=1\n",
    "while a<11:\n",
    "    print(a, end= ' ')\n",
    "    if a==5:\n",
    "        break\n",
    "    a+=1\n",
    "else:\n",
    "    print(\"I'm in else block\")"
   ]
  },
  {
   "cell_type": "code",
   "execution_count": 10,
   "id": "d57cc6f7",
   "metadata": {},
   "outputs": [
    {
     "name": "stdout",
     "output_type": "stream",
     "text": [
      "6\n",
      "6 is not a prime\n"
     ]
    }
   ],
   "source": [
    "# Print if a number is prime number or not using while loop\n",
    "n=int(input())\n",
    "if n>1:\n",
    "    i=2\n",
    "    while i<n//2+1:\n",
    "        if n%i==0:\n",
    "            print(f'{n} is not a prime')\n",
    "            break\n",
    "        i+=1\n",
    "    else:\n",
    "        print(f'{n} is prime')\n",
    "else:\n",
    "    print(f'{n} is not prime')"
   ]
  },
  {
   "cell_type": "code",
   "execution_count": null,
   "id": "95b682fa",
   "metadata": {},
   "outputs": [],
   "source": []
  }
 ],
 "metadata": {
  "kernelspec": {
   "display_name": "Python 3 (ipykernel)",
   "language": "python",
   "name": "python3"
  },
  "language_info": {
   "codemirror_mode": {
    "name": "ipython",
    "version": 3
   },
   "file_extension": ".py",
   "mimetype": "text/x-python",
   "name": "python",
   "nbconvert_exporter": "python",
   "pygments_lexer": "ipython3",
   "version": "3.8.3"
  }
 },
 "nbformat": 4,
 "nbformat_minor": 5
}
