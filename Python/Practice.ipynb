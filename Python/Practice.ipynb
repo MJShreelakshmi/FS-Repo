{
 "cells": [
  {
   "cell_type": "markdown",
   "id": "8d2c37e3",
   "metadata": {},
   "source": [
    "20% - healthy fat, 30% - protien, 50% - carbs"
   ]
  },
  {
   "cell_type": "code",
   "execution_count": 1,
   "id": "ed4a1fea",
   "metadata": {},
   "outputs": [],
   "source": [
    "#  reverse a string - using logic"
   ]
  },
  {
   "cell_type": "code",
   "execution_count": 10,
   "id": "f5a3faa9",
   "metadata": {},
   "outputs": [
    {
     "data": {
      "text/plain": [
       "'cud'"
      ]
     },
     "execution_count": 10,
     "metadata": {},
     "output_type": "execute_result"
    }
   ],
   "source": [
    "'cisuisdiu'[::3]"
   ]
  },
  {
   "cell_type": "code",
   "execution_count": 7,
   "id": "2c382742",
   "metadata": {},
   "outputs": [
    {
     "data": {
      "text/plain": [
       "['c', 'u', 'd']"
      ]
     },
     "execution_count": 7,
     "metadata": {},
     "output_type": "execute_result"
    }
   ],
   "source": [
    "list('cisuisdiu'[::3])"
   ]
  },
  {
   "cell_type": "code",
   "execution_count": 9,
   "id": "f581bb5e",
   "metadata": {},
   "outputs": [
    {
     "data": {
      "text/plain": [
       "['cud']"
      ]
     },
     "execution_count": 9,
     "metadata": {},
     "output_type": "execute_result"
    }
   ],
   "source": [
    "list('cisuisdiu'[::3].split())"
   ]
  },
  {
   "cell_type": "code",
   "execution_count": 11,
   "id": "1894a86c",
   "metadata": {},
   "outputs": [
    {
     "data": {
      "text/plain": [
       "['hai']"
      ]
     },
     "execution_count": 11,
     "metadata": {},
     "output_type": "execute_result"
    }
   ],
   "source": [
    "'hai'.split()"
   ]
  },
  {
   "cell_type": "code",
   "execution_count": 17,
   "id": "a97c132b",
   "metadata": {},
   "outputs": [
    {
     "name": "stdout",
     "output_type": "stream",
     "text": [
      "a: ['e', 'i', 'l', 'n', 's', 't'] b: ['e', 'i', 'l', 'n', 's', 't']\n"
     ]
    },
    {
     "data": {
      "text/plain": [
       "True"
      ]
     },
     "execution_count": 17,
     "metadata": {},
     "output_type": "execute_result"
    }
   ],
   "source": [
    "a=list('listen'[::1])\n",
    "b=list('silent'[::1])\n",
    "a.sort()\n",
    "b.sort()\n",
    "print('a:',a,'b:',b)\n",
    "a==b"
   ]
  },
  {
   "cell_type": "code",
   "execution_count": 2,
   "id": "d5ca92ab",
   "metadata": {},
   "outputs": [
    {
     "data": {
      "text/plain": [
       "['h', 'a', 'i']"
      ]
     },
     "execution_count": 2,
     "metadata": {},
     "output_type": "execute_result"
    }
   ],
   "source": [
    "list('hai')"
   ]
  },
  {
   "cell_type": "code",
   "execution_count": 3,
   "id": "97d1794b",
   "metadata": {},
   "outputs": [
    {
     "data": {
      "text/plain": [
       "['a', 'h', 'i']"
      ]
     },
     "execution_count": 3,
     "metadata": {},
     "output_type": "execute_result"
    }
   ],
   "source": [
    "sorted('hai')"
   ]
  },
  {
   "cell_type": "code",
   "execution_count": 29,
   "id": "9cb69441",
   "metadata": {},
   "outputs": [],
   "source": [
    "[1,2].extend([3])"
   ]
  },
  {
   "cell_type": "code",
   "execution_count": null,
   "id": "7fde8c1b",
   "metadata": {},
   "outputs": [],
   "source": []
  },
  {
   "cell_type": "code",
   "execution_count": 22,
   "id": "d0e530ac",
   "metadata": {},
   "outputs": [
    {
     "name": "stdout",
     "output_type": "stream",
     "text": [
      "['python', 'is', 'wonderful']\n"
     ]
    }
   ],
   "source": [
    "# implement split method logic\n",
    "l = []\n",
    "s = 'python is wonderful'\n",
    "delimiter = ' '\n",
    "dummy = ''\n",
    "for i in s:\n",
    "    if i != delimiter:\n",
    "        dummy+=i\n",
    "    else:\n",
    "        l.append(dummy)\n",
    "        dummy = ''\n",
    "l.append(dummy)\n",
    "print(l)"
   ]
  },
  {
   "cell_type": "raw",
   "id": "b8c9d9c1",
   "metadata": {},
   "source": [
    "iterations:\n",
    "1. i = 'h'                     13. i = 'a'        \n",
    "dummy = 'h'                        dummy = 'a'\n",
    "2. i = 'e'                     14. i = 'r'\n",
    "dummy = 'he'                       dummy = 'ar'\n",
    "3. i = 'l'                     15. i = 'e'\n",
    "dummy = 'hel'                      dummy = 'are'\n",
    "4. i = 'l'                     16. i = ' '\n",
    "dummy = 'hell'                     l = ['hello', 'where', 'are']\n",
    "5. i = 'o'                     17. i = 'y'\n",
    "dummy = 'hello'                    dummy = 'y'\n",
    "6. i = ' '                     18. i = 'o'\n",
    "l = ['hello']                      dummy = 'yo'\n",
    "dummy = ''                     19. i = 'u'\n",
    "7. i = 'w'                         dummy = 'you'\n",
    "dummy = 'w'                    20. exit the for loop\n",
    "8. i = 'h'\n",
    "dummy = 'wh'\n",
    "9. i = 'e'\n",
    "dummy = 'whe'\n",
    "10. i = 'r'\n",
    "dummy = 'wher'\n",
    "11. i = 'e'\n",
    "dummy = 'where'\n",
    "12. i= ' '\n",
    "l = ['hello', 'where']\n",
    "After all the iterations, the last element in 'dummy' will not beadded to the list, \n",
    "hence append the last dummy to the list after exiting from the loop."
   ]
  },
  {
   "cell_type": "code",
   "execution_count": 14,
   "id": "4815d3cf",
   "metadata": {},
   "outputs": [
    {
     "name": "stdout",
     "output_type": "stream",
     "text": [
      "14\n",
      "start\n",
      "entered while block\n",
      "14  entered while block\n",
      "13  entered while block\n",
      "12  entered while block\n",
      "11  end\n"
     ]
    }
   ],
   "source": [
    "a=int(input())\n",
    "print('start')\n",
    "while a>10:\n",
    "    print('entered while block', end = '\\n')\n",
    "    print(a, end = '  ')\n",
    "    a-=1\n",
    "print('end')"
   ]
  },
  {
   "cell_type": "code",
   "execution_count": 9,
   "id": "12fa0634",
   "metadata": {},
   "outputs": [
    {
     "name": "stdout",
     "output_type": "stream",
     "text": [
      "8\n",
      "start\n",
      "entered while block\n",
      "8  entered while block\n",
      "9  end\n"
     ]
    }
   ],
   "source": [
    "a=int(input())\n",
    "print('start')\n",
    "while a<10:\n",
    "    print('entered while block')\n",
    "    print(a, end = '  ')\n",
    "    a+=1\n",
    "print('end')"
   ]
  },
  {
   "cell_type": "code",
   "execution_count": 17,
   "id": "57e191d5",
   "metadata": {},
   "outputs": [
    {
     "name": "stdout",
     "output_type": "stream",
     "text": [
      "5\n",
      "10\n",
      "25 36 49 64 81 100 "
     ]
    }
   ],
   "source": [
    "# WAPT print the squares of numbers in a given range using both for loop and while loop\n",
    "# using for loop\n",
    "for i in range(l, u+1):\n",
    "    print(i**2, end = '  ')\n",
    "\n",
    "#  using while loop\n",
    "l = int(input())\n",
    "u = int(input())\n",
    "while l<=u:\n",
    "    print(l**2, end = ' ')\n",
    "    l+=1"
   ]
  },
  {
   "cell_type": "code",
   "execution_count": null,
   "id": "444f361e",
   "metadata": {},
   "outputs": [],
   "source": []
  },
  {
   "cell_type": "code",
   "execution_count": null,
   "id": "29879b0b",
   "metadata": {},
   "outputs": [],
   "source": []
  },
  {
   "cell_type": "code",
   "execution_count": null,
   "id": "a41531d4",
   "metadata": {},
   "outputs": [],
   "source": []
  }
 ],
 "metadata": {
  "kernelspec": {
   "display_name": "Python 3 (ipykernel)",
   "language": "python",
   "name": "python3"
  },
  "language_info": {
   "codemirror_mode": {
    "name": "ipython",
    "version": 3
   },
   "file_extension": ".py",
   "mimetype": "text/x-python",
   "name": "python",
   "nbconvert_exporter": "python",
   "pygments_lexer": "ipython3",
   "version": "3.8.3"
  }
 },
 "nbformat": 4,
 "nbformat_minor": 5
}
