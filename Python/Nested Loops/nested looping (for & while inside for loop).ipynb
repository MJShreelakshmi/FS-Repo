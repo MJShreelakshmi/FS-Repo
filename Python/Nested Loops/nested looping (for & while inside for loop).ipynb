{
 "cells": [
  {
   "cell_type": "markdown",
   "id": "4e2d014e",
   "metadata": {},
   "source": [
    "### for inside for\n",
    "\n",
    "####  1. both inner and outer loops are executing completely"
   ]
  },
  {
   "cell_type": "code",
   "execution_count": 4,
   "id": "5b92fc64",
   "metadata": {},
   "outputs": [
    {
     "name": "stdout",
     "output_type": "stream",
     "text": [
      "1 1 --- 1 2 --- 1 3 --- 1 4 --- 1 5 --- 2 1 --- 2 2 --- 2 3 --- 2 4 --- 2 5 --- 3 1 --- 3 2 --- 3 3 --- 3 4 --- 3 5 --- 4 1 --- 4 2 --- 4 3 --- 4 4 --- 4 5 --- 5 1 --- 5 2 --- 5 3 --- 5 4 --- 5 5 --- "
     ]
    }
   ],
   "source": [
    "for i in range(1,6):\n",
    "    for j in range(1,6):\n",
    "        print(i,j, end = ' --- ')"
   ]
  },
  {
   "cell_type": "markdown",
   "id": "acdcfa51",
   "metadata": {},
   "source": [
    "#### iterations\n",
    "iteration 1:\n",
    "\n",
    "    outer loop i will 1:\n",
    "        inner loop j will 1:\n",
    "           so  print 1,1\n",
    "        inner loop j = 2:\n",
    "           so print 1,2\n",
    "        inere loop j =3:\n",
    "            so pritn 1,3\n",
    "        inner loop j =4\n",
    "            so print 1,4\n",
    "        inner loop j = 5\n",
    "            so print 1,5\n",
    "iteration 2:\n",
    "\n",
    "    outer loop i = 2:\n",
    "        inner loop will again run for 5 time :\n",
    "            so print 2,1 2,2 2,3 2,4 2,5\n",
    "iteration 3:\n",
    "\n",
    "    outer loop i =3:\n",
    "        inner loop will again run for 5 times:\n",
    "            so print 3,1 3,2 3,3 3,4 3,5\n",
    "iteration 4:\n",
    "\n",
    "    outer loop i =4:\n",
    "        inner loop will again run for 5 times:\n",
    "            so print 4,1 4,2 4,3 4,4 4,5\n",
    "iteration 5:\n",
    "\n",
    "    outer loop i =5:\n",
    "        inner loop will again run for 5 times:\n",
    "            so print 5,1 5,2 5,3 5,4 5,5\n",
    "\n",
    "####  2. breaking inner loop with inner loop value"
   ]
  },
  {
   "cell_type": "code",
   "execution_count": 5,
   "id": "503fbf4d",
   "metadata": {},
   "outputs": [
    {
     "name": "stdout",
     "output_type": "stream",
     "text": [
      "1 1  --  1 2  --  1 3  --  2 1  --  2 2  --  2 3  --  3 1  --  3 2  --  3 3  --  4 1  --  4 2  --  4 3  --  5 1  --  5 2  --  5 3  --  "
     ]
    }
   ],
   "source": [
    "for i in range(1,6):\n",
    "    for j in range(1,6):\n",
    "        print(i,j, end = '  --  ')\n",
    "        if j ==3:\n",
    "            break"
   ]
  },
  {
   "cell_type": "markdown",
   "id": "243d8218",
   "metadata": {},
   "source": [
    "#### iterations\n",
    "\n",
    "iteration 1:\n",
    "\n",
    "    outer loop i will 1:\n",
    "        inner loop j will 1:\n",
    "            so print 1,1\n",
    "            check 1 == 3: false\n",
    "        inner loop j = 2\n",
    "            so print 1,2\n",
    "            check 2 == 3: false\n",
    "        inner loop j = 3\n",
    "            so print 1,3\n",
    "            check 3 == 3: true \n",
    "                so terminate the inner loop\n",
    "iteration 2:\n",
    "\n",
    "    outer loop i = 2:\n",
    "        inner loop will run againg till j == 3\n",
    "            so print 2,1 2,2 2,3 \n",
    "            after that j is 3 so inner loop will terminted\n",
    "iteration 3:\n",
    "\n",
    "    outer loop i = 3:\n",
    "        inner loop will run againg till j == 3\n",
    "            so print 3,1 3,2 3,3 \n",
    "            after that j is 3 so inner loop will terminted\n",
    "iteration 4:\n",
    "\n",
    "    outer loop i = 4:\n",
    "        inner loop will run againg till j == 3\n",
    "            so print 4,1 4,2 4,3 \n",
    "            after that j is 4 so inner loop will terminted\n",
    "iteration 5:\n",
    "\n",
    "    outer loop i = 5:\n",
    "        inner loop will run againg till j == 3\n",
    "            so print 5,1 5,2 5,3 \n",
    "            after that j is 3 so inner loop will terminted\n",
    "            \n",
    "#### 3. breaking inner loop with outer loop value"
   ]
  },
  {
   "cell_type": "code",
   "execution_count": 7,
   "id": "6936b292",
   "metadata": {},
   "outputs": [
    {
     "name": "stdout",
     "output_type": "stream",
     "text": [
      "1 1  --  1 2  --  1 3  --  1 4  --  1 5  --  2 1  --  2 2  --  2 3  --  2 4  --  2 5  --  3 1  --  4 1  --  4 2  --  4 3  --  4 4  --  4 5  --  5 1  --  5 2  --  5 3  --  5 4  --  5 5  --  "
     ]
    }
   ],
   "source": [
    "for i in range(1,6):\n",
    "    for j in range(1,6):\n",
    "        print(i,j, end= '  --  ')\n",
    "        if i == 3:\n",
    "            break"
   ]
  },
  {
   "cell_type": "markdown",
   "id": "698bf008",
   "metadata": {},
   "source": [
    "#### iterations\n",
    "iteration 1:\n",
    "    \n",
    "    outer loop i = 1:\n",
    "        inner loop j = 1:\n",
    "            so print 1,1\n",
    "            check i == 3:false\n",
    "        inner loop j =2:\n",
    "            so print 1,2\n",
    "            check i == 3: false\n",
    "        inner loop j =3:\n",
    "            so print 1,3\n",
    "            check i == 3: false\n",
    "        inner loop j = 4:\n",
    "            so print 1,4\n",
    "            check i == 3: fasle\n",
    "        inner loop j = 5:\n",
    "            so print 1,5\n",
    "            check i == 3: false\n",
    "iteration 2:\n",
    "    \n",
    "    outer loop i = 2:\n",
    "        inner loop will again run for 5 times :\n",
    "            so print 2,1 2,2 2,3 2,4 2,5\n",
    "            becuse in this iteration i == 3 will never true\n",
    "\n",
    "iteration 3:\n",
    "    \n",
    "    outer loop i =3 :\n",
    "        inner loop j = 1\n",
    "            so print 3,1\n",
    "            checkin i ==3 true\n",
    "            so terminate this inner loop\n",
    "iteration 4:\n",
    "    \n",
    "    outer loop i = 4:\n",
    "        inner loop will again run for 5 times :\n",
    "            so print 4,1 4,2 4,3 4,4 4,5\n",
    "            becuse in this iteration i == 3 will never true\n",
    "iteration 5:\n",
    "    \n",
    "    outer loop i = 5:\n",
    "        inner loop will again run for 5 times :\n",
    "            so print 5,1 5,2 5,3 5,4 5,5\n",
    "            becuse in this iteration i == 3 will never true\n",
    "            \n",
    "#### 4. breaking outer loop with outer loop value"
   ]
  },
  {
   "cell_type": "code",
   "execution_count": 8,
   "id": "b1a0f33e",
   "metadata": {},
   "outputs": [
    {
     "name": "stdout",
     "output_type": "stream",
     "text": [
      "1 1  --  1 2  --  1 3  --  1 4  --  1 5  --  2 1  --  2 2  --  2 3  --  2 4  --  2 5  --  3 1  --  3 2  --  3 3  --  3 4  --  3 5  --  1 1  --  1 2  --  1 3  --  1 4  --  1 5  --  2 1  --  2 2  --  2 3  --  2 4  --  2 5  --  "
     ]
    }
   ],
   "source": [
    "#eg:1\n",
    "\n",
    "for i in range(1,6):\n",
    "    for j in range(1,6):\n",
    "        print(i,j, end='  --  ')\n",
    "    if i == 3:\n",
    "        break\n",
    "    \n",
    "\n",
    "#eg:2\n",
    "\n",
    "for i in range(1,6):\n",
    "    if i == 3:\n",
    "        break\n",
    "    for j in range(1,6):\n",
    "        print(i,j, end='  --  ')"
   ]
  },
  {
   "cell_type": "markdown",
   "id": "8487bcf2",
   "metadata": {},
   "source": [
    "#### iterations\n",
    "\n",
    "iteration 1:\n",
    "    \n",
    "    outer loop i = 1:\n",
    "        checking i == 3: false\n",
    "        so we go to inner loop \n",
    "            where j = 1:\n",
    "            so print 1,1\n",
    "        now j = 2:\n",
    "            so print 1,2\n",
    "        now j =3:\n",
    "            so print 1,3\n",
    "        now j = 4:\n",
    "            so print 1,4\n",
    "        now j =5:\n",
    "            so print 1,5\n",
    "iteration 2:\n",
    "    \n",
    "    outer loop i =2:\n",
    "        checking i == 3: false\n",
    "        so we go to inner loop\n",
    "            where again inner loop run for 5 time \n",
    "                so print 2,1 2,2 2,3 2,4 2,5\n",
    "iteration 3:\n",
    "    \n",
    "    outer loop i =3:\n",
    "        checking i == 3: true\n",
    "        so terminate the outer loop so program will end at this point only\n",
    "\n",
    "#### 5. breaking outer loop with inner loop value"
   ]
  },
  {
   "cell_type": "code",
   "execution_count": 12,
   "id": "706ae1a0",
   "metadata": {},
   "outputs": [
    {
     "name": "stdout",
     "output_type": "stream",
     "text": [
      "1 1  --  1 2  --  1 3  --  1 4  --  1 5  --  2 1  --  2 2  --  2 3  --  2 4  --  2 5  --  3 1  --  3 2  --  3 3  --  3 4  --  3 5  --  4 1  --  4 2  --  4 3  --  4 4  --  4 5  --  5 1  --  5 2  --  5 3  --  5 4  --  5 5  --  \n",
      "\n",
      "\n",
      "1 1  --  1 2  --  1 3  --  1 4  --  1 5  --  2 1  --  2 2  --  2 3  --  2 4  --  2 5  --  3 1  --  3 2  --  3 3  --  3 4  --  3 5  --  4 1  --  4 2  --  4 3  --  4 4  --  4 5  --  5 1  --  5 2  --  5 3  --  5 4  --  5 5  --  \n",
      "\n",
      "\n",
      "1 1  -- 1 2  -- 1 3  -- 1 4  -- 1 5  -- "
     ]
    }
   ],
   "source": [
    "#eg:1\n",
    "\n",
    "for i in range(1,6):\n",
    "    if j==3:\n",
    "        break\n",
    "    for j in range(1,6):\n",
    "        print(i,j, end='  --  ')\n",
    "print('\\n\\n')\n",
    "'''\n",
    "error because j is not define'''\n",
    "\n",
    "#eg:2\n",
    "for i in range(1,6):\n",
    "    for j in range(1,6):\n",
    "        print(i,j, end='  --  ')\n",
    "    if j==3:\n",
    "        break\n",
    "print('\\n\\n')\n",
    "'''\n",
    "loop will not break because from inner loop j is comming out with\n",
    "5 as its values'''\n",
    "\n",
    "#eg:3\n",
    "for i in range(1,6):\n",
    "    for j in range(1,6):\n",
    "        print(i,j,end='  -- ')\n",
    "    if j==5:\n",
    "        break"
   ]
  },
  {
   "cell_type": "markdown",
   "id": "5f3fc124",
   "metadata": {},
   "source": [
    "#### iterations:\n",
    "iteration 1:\n",
    "\n",
    "    outer loop i = 1:\n",
    "        inner loop j = 1:\n",
    "            so print 1,1\n",
    "        inner loop j = 2:\n",
    "            so print 1,2\n",
    "        inner loop j =3:\n",
    "            so print 1,3\n",
    "        inner loop j =4\n",
    "            so print 1,4\n",
    "        inner loop j =5\n",
    "            so print 1,5\n",
    "        check j == 5: true \n",
    "        the outer loop gets terminated and hence the program will end"
   ]
  },
  {
   "cell_type": "markdown",
   "id": "cf9a7c19",
   "metadata": {},
   "source": [
    "### for inside while\n",
    "#### 1. both inner and outer loops are executing completely"
   ]
  },
  {
   "cell_type": "code",
   "execution_count": 14,
   "id": "a9c80b26",
   "metadata": {},
   "outputs": [
    {
     "name": "stdout",
     "output_type": "stream",
     "text": [
      "1 1  --  1 2  --  1 3  --  1 4  --  1 5  --  2 1  --  2 2  --  2 3  --  2 4  --  2 5  --  3 1  --  3 2  --  3 3  --  3 4  --  3 5  --  4 1  --  4 2  --  4 3  --  4 4  --  4 5  --  5 1  --  5 2  --  5 3  --  5 4  --  5 5  --  "
     ]
    }
   ],
   "source": [
    "i=1\n",
    "while i<6:\n",
    "    for j in range(1, 6):\n",
    "        print(i,j, end='  --  ')\n",
    "    i+=1"
   ]
  },
  {
   "cell_type": "markdown",
   "id": "8c152123",
   "metadata": {},
   "source": [
    "iteration 1:\n",
    "\n",
    "    outer loop i will 1:\n",
    "        inner loop j will 1:\n",
    "           so  print 1,1\n",
    "        inner loop j = 2:\n",
    "           so print 1,2\n",
    "        inere loop j =3:\n",
    "            so pritn 1,3\n",
    "        inner loop j =4\n",
    "            so print 1,4\n",
    "        inner loop j = 5\n",
    "            so print 1,5\n",
    "        at last increment i from 1 to 2\n",
    "iteration 2:\n",
    "\n",
    "    outer loop i = 2:\n",
    "        inner loop will again run for 5 time :\n",
    "            so print 2,1 2,2 2,3 2,4 2,5\n",
    "        at last increment i from 2 to 3\n",
    "iteration 3:\n",
    "\n",
    "    outer loop i =3:\n",
    "        inner loop will again run for 5 times:\n",
    "            so print 3,1 3,2 3,3 3,4 3,5\n",
    "        at last increment i from 3 to 4\n",
    "iteration 4:\n",
    "\n",
    "    outer loop i =4:\n",
    "        inner loop will again run for 5 times:\n",
    "            so print 4,1 4,2 4,3 4,4 4,5\n",
    "        at last increment i from 4 to 5\n",
    "iteration 5:\n",
    "\n",
    "    outer loop i =5:\n",
    "        inner loop will again run for 5 times:\n",
    "            so print 5,1 5,2 5,3 5,4 5,5\n",
    "        at last increment i from 5 to 6\n",
    "        \n",
    "#### 2. breaking of inner loop with inner value"
   ]
  },
  {
   "cell_type": "code",
   "execution_count": 16,
   "id": "f7f66596",
   "metadata": {},
   "outputs": [
    {
     "name": "stdout",
     "output_type": "stream",
     "text": [
      "1 1  --  1 2  --  1 3  --  2 1  --  2 2  --  2 3  --  3 1  --  3 2  --  3 3  --  4 1  --  4 2  --  4 3  --  5 1  --  5 2  --  5 3  --  "
     ]
    }
   ],
   "source": [
    "i=1\n",
    "while i<6:\n",
    "    for j in range(1,6):\n",
    "        print(i,j,end='  --  ')\n",
    "        if j == 3:\n",
    "            break\n",
    "    i+=1"
   ]
  },
  {
   "cell_type": "markdown",
   "id": "6dab0a91",
   "metadata": {},
   "source": [
    "#### iterations\n",
    "iteration 1:\n",
    "    \n",
    "    outer loop i will 1:\n",
    "        inner loop j will 1:\n",
    "            so print 1,1\n",
    "            check 1 == 3: false\n",
    "        inner loop j = 2\n",
    "            so print 1,2\n",
    "            check 2 == 3: false\n",
    "        inner loop j = 3\n",
    "            so print 1,3\n",
    "            check 3 == 3: true \n",
    "                so terminate the inner loop\n",
    "        at last increment i from 1 to 2\n",
    "iteration 2:\n",
    "    \n",
    "    outer loop i = 2:\n",
    "        inner loop will run againg till j == 3\n",
    "            so print 2,1 2,2 2,3 \n",
    "            after that j is 3 so inner loop will terminted\n",
    "        at last increment i from 2 to 3\n",
    "iteration 3:\n",
    "    \n",
    "    outer loop i = 3:\n",
    "        inner loop will run againg till j == 3\n",
    "            so print 3,1 3,2 3,3 \n",
    "            after that j is 3 so inner loop will terminted\n",
    "        at last increment i from 3 to 4\n",
    "iteration 4:\n",
    "    \n",
    "    outer loop i = 4:\n",
    "        inner loop will run againg till j == 3\n",
    "            so print 4,1 4,2 4,3 \n",
    "            after that j is 4 so inner loop will terminted\n",
    "        at last incremrnt i froom 4 to 5\n",
    "iteration 5:\n",
    "    \n",
    "    outer loop i = 5:\n",
    "        inner loop will run againg till j == 3\n",
    "            so print 5,1 5,2 5,3 \n",
    "            after that j is 3 so inner loop will terminted\n",
    "        at last incremrnt i from 5 to 6\n",
    "        \n",
    "#### 3.  breaking of inner loop with outer value"
   ]
  },
  {
   "cell_type": "code",
   "execution_count": 18,
   "id": "bfc775f2",
   "metadata": {},
   "outputs": [
    {
     "name": "stdout",
     "output_type": "stream",
     "text": [
      "1 1  --  1 2  --  1 3  --  1 4  --  1 5  --  2 1  --  2 2  --  2 3  --  2 4  --  2 5  --  3 1  --  4 1  --  4 2  --  4 3  --  4 4  --  4 5  --  5 1  --  5 2  --  5 3  --  5 4  --  5 5  --  "
     ]
    }
   ],
   "source": [
    "i=1\n",
    "while i<6:\n",
    "    for j in range(1,6):\n",
    "        print(i,j, end='  --  ')\n",
    "        if i == 3:\n",
    "            break\n",
    "    i+=1"
   ]
  },
  {
   "cell_type": "markdown",
   "id": "e3c9508d",
   "metadata": {},
   "source": [
    "#### iterations\n",
    "iteration 1:\n",
    "\n",
    "    outer loop i = 1:\n",
    "        inner loop j = 1:\n",
    "            so print 1,1\n",
    "            check i == 3:false\n",
    "        inner loop j =2:\n",
    "            so print 1,2\n",
    "            check i == 3: false\n",
    "        inner loop j =3:\n",
    "            so print 1,3\n",
    "            check i == 3: false\n",
    "        inner loop j = 4:\n",
    "            so print 1,4\n",
    "            check i == 3: fasle\n",
    "        inner loop j = 5:\n",
    "            so print 1,5\n",
    "            check i == 3: false\n",
    "        in last increment  i from 1 to 2\n",
    "iteration 2:\n",
    "\n",
    "    outer loop i = 2:\n",
    "        inner loop will again run for 5 times :\n",
    "            so print 2,1 2,2 2,3 2,4 2,5\n",
    "            becuse in this iteration i == 3 will never true\n",
    "        in last increment i from 2 to 3\n",
    "\n",
    "iteration 3:\n",
    "\n",
    "    outer loop i =3 :\n",
    "        inner loop j = 1\n",
    "            so print 3,1\n",
    "            checkin i ==3 true\n",
    "            so terminate this inner loop\n",
    "        in last increment i from 3 to 4\n",
    "iteration 4:\n",
    "\n",
    "    outer loop i = 4:\n",
    "        inner loop will again run for 5 times :\n",
    "            so print 4,1 4,2 4,3 4,4 4,5\n",
    "            becuse in this iteration i == 3 will never true\n",
    "        in last increment i from 4 to 5\n",
    "iteration 5:\n",
    "\n",
    "    outer loop i = 5:\n",
    "        inner loop will again run for 5 times :\n",
    "            so print 5,1 5,2 5,3 5,4 5,5\n",
    "            becuse in this iteration i == 3 will never true\n",
    "        in last increment i from 5 to 6\n",
    "\n",
    "#### 4. breaking of outer loop with outer value"
   ]
  },
  {
   "cell_type": "code",
   "execution_count": 19,
   "id": "6e0e5eab",
   "metadata": {},
   "outputs": [
    {
     "name": "stdout",
     "output_type": "stream",
     "text": [
      "1 1  --  1 2  --  1 3  --  1 4  --  1 5  --  2 1  --  2 2  --  2 3  --  2 4  --  2 5  --  3 1  --  3 2  --  3 3  --  3 4  --  3 5  --  1 1  --  1 2  --  1 3  --  1 4  --  1 5  --  2 1  --  2 2  --  2 3  --  2 4  --  2 5  --  "
     ]
    }
   ],
   "source": [
    "# eg:1\n",
    "i=1\n",
    "while i<6:\n",
    "    for j in range(1,6):\n",
    "        print(i,j, end='  --  ')\n",
    "    if i == 3:\n",
    "        break\n",
    "    i+=1\n",
    "\n",
    "# eg:2\n",
    "i=1\n",
    "while i<6:\n",
    "    if i == 3:\n",
    "        break\n",
    "    for j in range(1,6):\n",
    "        print(i,j, end='  --  ')\n",
    "\n",
    "    i+=1"
   ]
  },
  {
   "cell_type": "markdown",
   "id": "6221da48",
   "metadata": {},
   "source": [
    "#### iterations of eg:2\n",
    "\n",
    "iteration 1:\n",
    "    \n",
    "    outer loop i = 1:\n",
    "        checking i == 3: false\n",
    "        so we go to inner loop \n",
    "            where j = 1:\n",
    "            so print 1,1\n",
    "            j = 2\n",
    "            so print 1,2\n",
    "            j = 3\n",
    "            so print 1,3\n",
    "            j = 4\n",
    "            so print 1,4\n",
    "            j = 5\n",
    "            so print 1,5\n",
    "        at last increment i from 1 to 2\n",
    "iteration 2:\n",
    "    \n",
    "    outer loop i =2:\n",
    "        checking i == 3: false\n",
    "        so we go to inner loop\n",
    "            where again inner loop run for 5 time \n",
    "                so print 2,1 2,2 2,3 2,4 2,5\n",
    "        at last increment i from 2 to 3\n",
    "iteration 3:\n",
    "    \n",
    "    outer loop i =3:\n",
    "        checking i == 3: true\n",
    "        so terminate the outer loop so program will end at this point only\n",
    "\n",
    "#### 5. breaking of outer loop with inner value"
   ]
  },
  {
   "cell_type": "code",
   "execution_count": 20,
   "id": "f3bdfcec",
   "metadata": {},
   "outputs": [
    {
     "name": "stdout",
     "output_type": "stream",
     "text": [
      "1 1  --  1 2  --  1 3  --  1 4  --  1 5  --  "
     ]
    }
   ],
   "source": [
    "i=1\n",
    "while i<6:\n",
    "    for j in range(1,6):\n",
    "        print(i,j, end='  --  ')\n",
    "    if j == 5:\n",
    "        break\n",
    "    i+=1"
   ]
  },
  {
   "cell_type": "markdown",
   "id": "bc0d2d33",
   "metadata": {},
   "source": [
    "#### iterations:\n",
    "iteration 1:\n",
    "\n",
    "    outer loop i = 1:\n",
    "        inner loop j = 1:\n",
    "            so print 1,1\n",
    "        inner loop j = 2:\n",
    "            so print 1,2\n",
    "        inner loop j =3:\n",
    "            so print 1,3\n",
    "        inner loop j =4\n",
    "            so print 1,4\n",
    "        inner loop j =5\n",
    "            so print 1,5\n",
    "        check j == 5: true \n",
    "        so terminated the outer loop so program will get end\n"
   ]
  },
  {
   "cell_type": "code",
   "execution_count": null,
   "id": "19e50f72",
   "metadata": {},
   "outputs": [],
   "source": []
  }
 ],
 "metadata": {
  "kernelspec": {
   "display_name": "Python 3 (ipykernel)",
   "language": "python",
   "name": "python3"
  },
  "language_info": {
   "codemirror_mode": {
    "name": "ipython",
    "version": 3
   },
   "file_extension": ".py",
   "mimetype": "text/x-python",
   "name": "python",
   "nbconvert_exporter": "python",
   "pygments_lexer": "ipython3",
   "version": "3.8.3"
  }
 },
 "nbformat": 4,
 "nbformat_minor": 5
}
