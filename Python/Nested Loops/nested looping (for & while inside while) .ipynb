{
 "cells": [
  {
   "cell_type": "markdown",
   "id": "219e3eb2",
   "metadata": {},
   "source": [
    "### for inside while\n",
    "#### while inside for loop"
   ]
  },
  {
   "cell_type": "code",
   "execution_count": 1,
   "id": "375fb1c0",
   "metadata": {},
   "outputs": [
    {
     "name": "stdout",
     "output_type": "stream",
     "text": [
      "1 1  --  1 2  --  1 3  --  1 4  --  1 5  --  2 1  --  2 2  --  2 3  --  2 4  --  2 5  --  3 1  --  3 2  --  3 3  --  3 4  --  3 5  --  4 1  --  4 2  --  4 3  --  4 4  --  4 5  --  5 1  --  5 2  --  5 3  --  5 4  --  5 5  --  "
     ]
    }
   ],
   "source": [
    "# both the loops are executed completely\n",
    "for i in range(1,6):\n",
    "    j=1\n",
    "    while j<6:\n",
    "        print(i,j, end = '  --  ')\n",
    "        j+=1"
   ]
  },
  {
   "cell_type": "markdown",
   "id": "7cf4815a",
   "metadata": {},
   "source": [
    "iteration 1:\n",
    "\n",
    "    outer loop i will 1:\n",
    "        inner loop j will 1:\n",
    "           so  print 1,1\n",
    "           now j increment form 1 to 2\n",
    "        inner loop j = 2:\n",
    "           so print 1,2\n",
    "           j increment form 2 to 3\n",
    "        inere loop j =3:\n",
    "            so pritn 1,3\n",
    "            j increment form 3 to 4\n",
    "        inner loop j =4\n",
    "            so print 1,4\n",
    "            j increment form 4 to 5\n",
    "        inner loop j = 5\n",
    "            so print 1,5\n",
    "            j increment form 5 to 6\n",
    "iteration 2:\n",
    "\n",
    "    outer loop i = 2:\n",
    "        inner loop will again run for 5 time :\n",
    "            so print 2,1 2,2 2,3 2,4 2,5\n",
    "iteration 3:\n",
    "\n",
    "    outer loop i =3:\n",
    "        inner loop will again run for 5 times:\n",
    "            so print 3,1 3,2 3,3 3,4 3,5\n",
    "iteration 4:\n",
    "\n",
    "    outer loop i =4:\n",
    "        inner loop will again run for 5 times:\n",
    "            so print 4,1 4,2 4,3 4,4 4,5\n",
    "iteration 5:\n",
    "\n",
    "    outer loop i =5:\n",
    "        inner loop will again run for 5 times:\n",
    "            so print 5,1 5,2 5,3 5,4 5,5\n",
    "            \n",
    "#### 2. breaking inner loop with inner loop value"
   ]
  },
  {
   "cell_type": "code",
   "execution_count": 2,
   "id": "b57f43fb",
   "metadata": {},
   "outputs": [
    {
     "name": "stdout",
     "output_type": "stream",
     "text": [
      "1 1  --  1 2  --  1 3  --  2 1  --  2 2  --  2 3  --  3 1  --  3 2  --  3 3  --  4 1  --  4 2  --  4 3  --  5 1  --  5 2  --  5 3  --  "
     ]
    }
   ],
   "source": [
    "for i in range(1,6):\n",
    "    j=1\n",
    "    while i<6:\n",
    "        print(i,j, end= '  --  ')\n",
    "        if j == 3:\n",
    "            break\n",
    "        j+=1"
   ]
  },
  {
   "cell_type": "markdown",
   "id": "fd7f8819",
   "metadata": {},
   "source": [
    "#### iterations\n",
    "iteration 1:\n",
    "    \n",
    "    outer loop i will 1:\n",
    "        inner loop j will 1:\n",
    "            so print 1,1\n",
    "            check 1 == 3: false\n",
    "            increment j 1 to 2\n",
    "        inner loop j = 2\n",
    "            so print 1,2\n",
    "            check 2 == 3: false\n",
    "            increment j 2 to 3\n",
    "        inner loop j = 3\n",
    "            so print 1,3\n",
    "            check 3 == 3: true \n",
    "                so terminate the inner loop\n",
    "iteration 2:\n",
    "    \n",
    "    outer loop i = 2:\n",
    "        inner loop will run againg till j == 3\n",
    "            so print 2,1 2,2 2,3 \n",
    "            after that j is 3 so inner loop will terminted\n",
    "iteration 3:\n",
    "    \n",
    "    outer loop i = 3:\n",
    "        inner loop will run againg till j == 3\n",
    "            so print 3,1 3,2 3,3 \n",
    "            after that j is 3 so inner loop will terminted\n",
    "iteration 4:\n",
    "    \n",
    "    outer loop i = 4:\n",
    "        inner loop will run againg till j == 3\n",
    "            so print 4,1 4,2 4,3 \n",
    "            after that j is 4 so inner loop will terminted\n",
    "            \n",
    "iteration 5:\n",
    "\n",
    "    outer loop i = 5:\n",
    "        inner loop will run againg till j == 3\n",
    "            so print 5,1 5,2 5,3 \n",
    "            after that j is 3 so inner loop will terminted\n",
    "\n",
    "#### 3. breaking inner loop with outer loop value"
   ]
  },
  {
   "cell_type": "code",
   "execution_count": 3,
   "id": "00daa16f",
   "metadata": {},
   "outputs": [
    {
     "name": "stdout",
     "output_type": "stream",
     "text": [
      "1 1  --  1 2  --  1 3  --  1 4  --  1 5  --  2 1  --  2 2  --  2 3  --  2 4  --  2 5  --  3 1  --  4 1  --  4 2  --  4 3  --  4 4  --  4 5  --  5 1  --  5 2  --  5 3  --  5 4  --  5 5  --  "
     ]
    }
   ],
   "source": [
    "for i in range(1,6):\n",
    "    j=1\n",
    "    while j<6:\n",
    "        print(i,j, end='  --  ')\n",
    "        if i == 3:\n",
    "            break\n",
    "        j+=1"
   ]
  },
  {
   "cell_type": "markdown",
   "id": "bce828ca",
   "metadata": {},
   "source": [
    "#### iterations\n",
    "iteration 1:\n",
    "    \n",
    "    outer loop i = 1:\n",
    "        inner loop j = 1:\n",
    "            so print 1,1\n",
    "            check i == 3:false\n",
    "        inner loop j =2:\n",
    "            so print 1,2\n",
    "            check i == 3: false\n",
    "        inner loop j =3:\n",
    "            so print 1,3\n",
    "            check i == 3: false\n",
    "        inner loop j = 4:\n",
    "            so print 1,4\n",
    "            check i == 3: fasle\n",
    "        inner loop j = 5:\n",
    "            so print 1,5\n",
    "            check i == 3: false\n",
    "iteration 2:\n",
    "    \n",
    "    outer loop i = 2:\n",
    "        inner loop will again run for 5 times :\n",
    "            so print 2,1 2,2 2,3 2,4 2,5\n",
    "            becuse in this iteration i == 3 will never true\n",
    "\n",
    "iteration 3:\n",
    "    \n",
    "    outer loop i =3 :\n",
    "        inner loop j = 1\n",
    "            so print 3,1\n",
    "            checkin i ==3 true\n",
    "            so terminate this inner loop\n",
    "iteration 4:\n",
    "    \n",
    "    outer loop i = 4:\n",
    "        inner loop will again run for 5 times :\n",
    "            so print 4,1 4,2 4,3 4,4 4,5\n",
    "            becuse in this iteration i == 3 will never true\n",
    "iteration 5:\n",
    "    \n",
    "    outer loop i = 5:\n",
    "        inner loop will again run for 5 times :\n",
    "            so print 5,1 5,2 5,3 5,4 5,5\n",
    "            becuse in this iteration i == 3 will never true\n",
    "\n",
    "#### 4. breaking of outer loop with outer loop value"
   ]
  },
  {
   "cell_type": "code",
   "execution_count": 4,
   "id": "a5562e54",
   "metadata": {},
   "outputs": [
    {
     "name": "stdout",
     "output_type": "stream",
     "text": [
      "1 1  --  1 2  --  1 3  --  1 4  --  1 5  --  2 1  --  2 2  --  2 3  --  2 4  --  2 5  --  3 1  --  3 2  --  3 3  --  3 4  --  3 5  --  1 1  --  1 2  --  1 3  --  1 4  --  1 5  --  2 1  --  2 2  --  2 3  --  2 4  --  2 5  --  "
     ]
    }
   ],
   "source": [
    "#eg:1\n",
    "for i in range(1,6):\n",
    "    j=1\n",
    "\n",
    "    while j<6:\n",
    "        print(i,j, end= '  --  ')\n",
    "        j+=1\n",
    "    if i==3:\n",
    "        break\n",
    "    \n",
    "\n",
    "\n",
    "#eg:2\n",
    "\n",
    "for i in range(1,6):\n",
    "    j=1\n",
    "    if i==3:\n",
    "        break\n",
    "    while j<6:\n",
    "        print(i,j, end= '  --  ')\n",
    "        j+=1\n"
   ]
  },
  {
   "cell_type": "markdown",
   "id": "f795152d",
   "metadata": {},
   "source": [
    "#### iterations\n",
    "iteration 1:\n",
    "    \n",
    "    outer loop i = 1:\n",
    "        checking i == 3: false\n",
    "        so we go to inner loop \n",
    "            where j = 1:\n",
    "            so print 1,1\n",
    "        now j = 2:\n",
    "            so print 1,2\n",
    "        now j =3:\n",
    "            so print 1,3\n",
    "        now j = 4:\n",
    "            so print 1,4\n",
    "        now j =5:\n",
    "            so print 1,5\n",
    "iteration 2:\n",
    "    \n",
    "    outer loop i =2:\n",
    "        checking i == 3: false\n",
    "        so we go to inner loop\n",
    "            where again inner loop run for 5 time \n",
    "                so print 2,1 2,2 2,3 2,4 2,5\n",
    "iteration 3:\n",
    "    \n",
    "    outer loop i =3:\n",
    "        checking i == 3: true\n",
    "        so terminate the outer loop so program will end at this point only\n",
    "\n",
    "#### 5. breaking of outer loop with inner value"
   ]
  },
  {
   "cell_type": "code",
   "execution_count": 11,
   "id": "9d863b17",
   "metadata": {},
   "outputs": [
    {
     "name": "stdout",
     "output_type": "stream",
     "text": [
      "1 1  --  1 2  --  1 3  --  1 4  --  1 5  --  2 1  --  2 2  --  2 3  --  2 4  --  2 5  --  3 1  --  3 2  --  3 3  --  3 4  --  3 5  --  4 1  --  4 2  --  4 3  --  4 4  --  4 5  --  5 1  --  5 2  --  5 3  --  5 4  --  5 5  --  "
     ]
    }
   ],
   "source": [
    "for i in range(1,6):\n",
    "    j=1\n",
    "    while i<6:\n",
    "        print(i,j, end='  --  ')\n",
    "        j+=1\n",
    "        if j==6:\n",
    "            break"
   ]
  },
  {
   "cell_type": "markdown",
   "id": "fecd745b",
   "metadata": {},
   "source": [
    "#### iterations:\n",
    "\n",
    "iteration 1:\n",
    "    \n",
    "    outer loop i = 1:\n",
    "        inner loop j = 1:\n",
    "            so print 1,1\n",
    "            increment j 1 to 2\n",
    "        inner loop j = 2:\n",
    "            so print 1,2\n",
    "            increment j 2 to 3\n",
    "        inner loop j =3:\n",
    "            so print 1,3\n",
    "            increment j 3 to 4\n",
    "        inner loop j =4\n",
    "            so print 1,4\n",
    "            increment j 4 to 5\n",
    "        inner loop j =5\n",
    "            so print 1,5\n",
    "            increment j 5 to 6\n",
    "        check j == 6: true \n",
    "        so terminated the outer loop so program will get end\n",
    "\n",
    "### while inside while\n",
    "#### 1. while inside while loop"
   ]
  },
  {
   "cell_type": "code",
   "execution_count": 13,
   "id": "26a850d0",
   "metadata": {},
   "outputs": [
    {
     "name": "stdout",
     "output_type": "stream",
     "text": [
      "1 1  --  1 2  --  1 3  --  1 4  --  1 5  --  2 1  --  2 2  --  2 3  --  2 4  --  2 5  --  3 1  --  3 2  --  3 3  --  3 4  --  3 5  --  4 1  --  4 2  --  4 3  --  4 4  --  4 5  --  5 1  --  5 2  --  5 3  --  5 4  --  5 5  --  "
     ]
    }
   ],
   "source": [
    "# both loops are executed completely\n",
    "i=1\n",
    "while i<6:\n",
    "    j=1\n",
    "    while j<6:\n",
    "        print(i,j, end='  --  ')\n",
    "        j+=1\n",
    "    i+=1"
   ]
  },
  {
   "cell_type": "markdown",
   "id": "0615f5eb",
   "metadata": {},
   "source": [
    "#### iterations\n",
    "\n",
    "iteration 1:\n",
    "    \n",
    "    outer loop i will 1:\n",
    "        inner loop j will 1:\n",
    "           so  print 1,1\n",
    "           j will increment from 1 to 2\n",
    "        inner loop j = 2:\n",
    "           so print 1,2\n",
    "           j will increment from 2 to 3\n",
    "        inere loop j =3:\n",
    "            so pritn 1,3\n",
    "            j will increment from 3 to 4\n",
    "        inner loop j =4\n",
    "            so print 1,4\n",
    "            j will increment from 4 to 5\n",
    "        inner loop j = 5\n",
    "            so print 1,5\n",
    "            j will increment from 5 to 6\n",
    "        at last increment i from 1 to 2\n",
    "iteration 2:\n",
    "\n",
    "    outer loop i = 2:\n",
    "        inner loop will again run for 5 time :\n",
    "            so print 2,1 2,2 2,3 2,4 2,5\n",
    "        at last increment i from 2 to 3\n",
    "iteration 3:\n",
    "\n",
    "    outer loop i =3:\n",
    "        inner loop will again run for 5 times:\n",
    "            so print 3,1 3,2 3,3 3,4 3,5\n",
    "        at last increment i from 3 to 4\n",
    "iteration 4:\n",
    "\n",
    "    outer loop i =4:\n",
    "        inner loop will again run for 5 times:\n",
    "            so print 4,1 4,2 4,3 4,4 4,5\n",
    "        at last increment i from 4 to 5\n",
    "iteration 5:\n",
    "\n",
    "    outer loop i =5:\n",
    "        inner loop will again run for 5 times:\n",
    "            so print 5,1 5,2 5,3 5,4 5,5\n",
    "        at last increment i from 5 to 6\n",
    "        \n",
    "#### 2. break inner loop with inner value"
   ]
  },
  {
   "cell_type": "code",
   "execution_count": 14,
   "id": "ca45127f",
   "metadata": {},
   "outputs": [
    {
     "name": "stdout",
     "output_type": "stream",
     "text": [
      "1 1  --  1 2  --  1 3  --  2 1  --  2 2  --  2 3  --  3 1  --  3 2  --  3 3  --  4 1  --  4 2  --  4 3  --  5 1  --  5 2  --  5 3  --  "
     ]
    }
   ],
   "source": [
    "i=1\n",
    "while i<6:\n",
    "    j=1\n",
    "    while j<6:\n",
    "        print(i,j, end='  --  ')\n",
    "        if j==3:\n",
    "            break\n",
    "        j+=1\n",
    "    i+=1"
   ]
  },
  {
   "cell_type": "markdown",
   "id": "5a8fa384",
   "metadata": {},
   "source": [
    "#### iterations\n",
    "iteration 1:\n",
    "    \n",
    "    outer loop i will 1:\n",
    "        inner loop j will 1:\n",
    "            so print 1,1\n",
    "            check 1 == 3: false\n",
    "            increment j from 1 to 2\n",
    "        inner loop j = 2\n",
    "            so print 1,2\n",
    "            check 2 == 3: false\n",
    "            increment j from 2 to 3\n",
    "        inner loop j = 3\n",
    "            so print 1,3\n",
    "            check 3 == 3: true \n",
    "                so terminate the inner loop\n",
    "        at last increment i from 1 to 2\n",
    "iteration 2:\n",
    "    \n",
    "    outer loop i = 2:\n",
    "        inner loop will run againg till j == 3\n",
    "            so print 2,1 2,2 2,3 \n",
    "            after that j is 3 so inner loop will terminted\n",
    "        at last increment i from 2 to 3\n",
    "iteration 3:\n",
    "    \n",
    "    outer loop i = 3:\n",
    "        inner loop will run againg till j == 3\n",
    "            so print 3,1 3,2 3,3 \n",
    "            after that j is 3 so inner loop will terminted\n",
    "        at last increment i from 3 to 4\n",
    "iteration 4:\n",
    "    \n",
    "    outer loop i = 4:\n",
    "        inner loop will run againg till j == 3\n",
    "            so print 4,1 4,2 4,3 \n",
    "            after that j is 4 so inner loop will terminted\n",
    "        at last incremrnt i froom 4 to 5\n",
    "iteration 5:\n",
    "    \n",
    "    outer loop i = 5:\n",
    "        inner loop will run againg till j == 3\n",
    "            so print 5,1 5,2 5,3 \n",
    "            after that j is 3 so inner loop will terminted\n",
    "        at last incremrnt i from 5 to 6\n",
    "\n",
    "#### 3. break inner loop with outer loop value"
   ]
  },
  {
   "cell_type": "code",
   "execution_count": 15,
   "id": "a3829c15",
   "metadata": {},
   "outputs": [
    {
     "name": "stdout",
     "output_type": "stream",
     "text": [
      "1 1  --  1 2  --  1 3  --  1 4  --  1 5  --  2 1  --  2 2  --  2 3  --  2 4  --  2 5  --  3 1  --  4 1  --  4 2  --  4 3  --  4 4  --  4 5  --  5 1  --  5 2  --  5 3  --  5 4  --  5 5  --  "
     ]
    }
   ],
   "source": [
    "i=1\n",
    "while i<6:\n",
    "    j=1\n",
    "    while j<6:\n",
    "        print(i,j, end='  --  ')\n",
    "        if i==3:\n",
    "            break\n",
    "        j+=1\n",
    "    i+=1"
   ]
  },
  {
   "cell_type": "markdown",
   "id": "201d6b33",
   "metadata": {},
   "source": [
    "#### iterartions\n",
    "iteration 1:\n",
    "    \n",
    "    outer loop i = 1:\n",
    "        inner loop j = 1:\n",
    "            so print 1,1\n",
    "            check i == 3:false\n",
    "            increment j from 1 to 2\n",
    "        inner loop j =2:\n",
    "            so print 1,2\n",
    "            check i == 3: false\n",
    "            increment j form 2 to 3\n",
    "        inner loop j =3:\n",
    "            so print 1,3\n",
    "            check i == 3: false\n",
    "            increment j from 3 to 4\n",
    "        inner loop j = 4:\n",
    "            so print 1,4\n",
    "            check i == 3: fasle\n",
    "            increment j from 4 to 5\n",
    "        inner loop j = 5:\n",
    "            so print 1,5\n",
    "            check i == 3: false\n",
    "            increment j from 5 to 6\n",
    "        in last increment  i from 1 to 2\n",
    "iteration 2:\n",
    "    \n",
    "    outer loop i = 2:\n",
    "        inner loop will again run for 5 times :\n",
    "            so print 2,1 2,2 2,3 2,4 2,5\n",
    "            becuse in this iteration i == 3 will never true\n",
    "        in last increment i from 2 to 3\n",
    "\n",
    "iteration 3:\n",
    "    \n",
    "    outer loop i =3 :\n",
    "        inner loop j = 1\n",
    "            so print 3,1\n",
    "            checkin i ==3 true\n",
    "            so terminate this inner loop\n",
    "        in last increment i from 3 to 4\n",
    "iteration 4:\n",
    "    \n",
    "    outer loop i = 4:\n",
    "        inner loop will again run for 5 times :\n",
    "            so print 4,1 4,2 4,3 4,4 4,5\n",
    "            becuse in this iteration i == 3 will never true\n",
    "        in last increment i from 4 to 5\n",
    "iteration 5:\n",
    "    \n",
    "    outer loop i = 5:\n",
    "        inner loop will again run for 5 times :\n",
    "            so print 5,1 5,2 5,3 5,4 5,5\n",
    "            becuse in this iteration i == 3 will never true\n",
    "        in last increment i from 5 to 6\n",
    "\n",
    "#### 4. break outer loop with outer loop value"
   ]
  },
  {
   "cell_type": "code",
   "execution_count": 16,
   "id": "bceb86b8",
   "metadata": {},
   "outputs": [
    {
     "name": "stdout",
     "output_type": "stream",
     "text": [
      "1 1  --  1 2  --  1 3  --  1 4  --  1 5  --  2 1  --  2 2  --  2 3  --  2 4  --  2 5  --  3 1  --  3 2  --  3 3  --  3 4  --  3 5  --  1 1  --  1 2  --  1 3  --  1 4  --  1 5  --  2 1  --  2 2  --  2 3  --  2 4  --  2 5  --  "
     ]
    }
   ],
   "source": [
    "#eg:1\n",
    "i=1\n",
    "while i<6:\n",
    "    j=1\n",
    "    while j<6:\n",
    "        print(i,j, end='  --  ')\n",
    "        j+=1\n",
    "    if i==3:\n",
    "        break\n",
    "    i+=1\n",
    "\n",
    "#eg:2\n",
    "i=1\n",
    "while i<6:\n",
    "    j=1\n",
    "    if i==3:\n",
    "        break\n",
    "    while j<6:\n",
    "        print(i,j, end= '  --  ')\n",
    "        j+=1\n",
    "    i+=1"
   ]
  },
  {
   "cell_type": "markdown",
   "id": "baa2ac06",
   "metadata": {},
   "source": [
    "#### iterations for eg:2\n",
    "\n",
    "iteration 1:\n",
    "\n",
    "    outer loop i = 1:\n",
    "        checking i == 3: false\n",
    "        so we go to inner loop \n",
    "            where j = 1:\n",
    "            so print 1,1\n",
    "            increment j from 1 to 2\n",
    "            so print 1,2\n",
    "            j increment from 2 to 3\n",
    "            so print 1,3\n",
    "            j increment from 3 to 4\n",
    "            so print 1,4\n",
    "            j incremnet from 4 to 5\n",
    "            so print 1,5\n",
    "            j increment from 5 to 6\n",
    "        at last increment i from 1 to 2\n",
    "iteration 2:\n",
    "\n",
    "    outer loop i =2:\n",
    "        checking i == 3: false\n",
    "        so we go to inner loop\n",
    "            where again inner loop run for 5 time \n",
    "                so print 2,1 2,2 2,3 2,4 2,5\n",
    "        at last increment i from 2 to 3\n",
    "iteration 3:\n",
    "\n",
    "    outer loop i =3:\n",
    "        checking i == 3: true\n",
    "        so terminate the outer loop so program will end at this point only\n",
    "\n",
    "#### 5. break outer loop with inner loop value"
   ]
  },
  {
   "cell_type": "code",
   "execution_count": 17,
   "id": "fa68d632",
   "metadata": {},
   "outputs": [
    {
     "name": "stdout",
     "output_type": "stream",
     "text": [
      "1 1  --  1 2  --  1 3  --  1 4  --  1 5  --  "
     ]
    }
   ],
   "source": [
    "i=1\n",
    "while i<6:\n",
    "    j=1\n",
    "    while j<6:\n",
    "        print(i,j, end='  --  ')\n",
    "        j+=1\n",
    "    if j==6:\n",
    "        break\n",
    "    i+=1"
   ]
  },
  {
   "cell_type": "markdown",
   "id": "58f53c87",
   "metadata": {},
   "source": [
    "#### iterations\n",
    "iteration 1:\n",
    "\n",
    "    outer loop i = 1:\n",
    "        inner loop j = 1:\n",
    "            so print 1,1\n",
    "            increment j from 1 to 2\n",
    "        inner loop j = 2:\n",
    "            so print 1,2\n",
    "            increment j from 2 to 3\n",
    "        inner loop j =3:\n",
    "            so print 1,3\n",
    "            increment j from 3 to 4\n",
    "        inner loop j =4\n",
    "            so print 1,4\n",
    "            increment j from 4 to 5\n",
    "        inner loop j =5\n",
    "            so print 1,5\n",
    "            increment j from 5 to 6\n",
    "        check j == 6: true \n",
    "        so terminated the outer loop so program will get end\n"
   ]
  },
  {
   "cell_type": "code",
   "execution_count": null,
   "id": "b17ef06a",
   "metadata": {},
   "outputs": [],
   "source": []
  }
 ],
 "metadata": {
  "kernelspec": {
   "display_name": "Python 3 (ipykernel)",
   "language": "python",
   "name": "python3"
  },
  "language_info": {
   "codemirror_mode": {
    "name": "ipython",
    "version": 3
   },
   "file_extension": ".py",
   "mimetype": "text/x-python",
   "name": "python",
   "nbconvert_exporter": "python",
   "pygments_lexer": "ipython3",
   "version": "3.8.3"
  }
 },
 "nbformat": 4,
 "nbformat_minor": 5
}
