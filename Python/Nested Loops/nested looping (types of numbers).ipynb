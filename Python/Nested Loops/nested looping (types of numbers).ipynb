{
 "cells": [
  {
   "cell_type": "markdown",
   "id": "65aeed10",
   "metadata": {},
   "source": [
    "### Armstrong numbers\n",
    "1(**3)+5(**3)+3(**3) = 153"
   ]
  },
  {
   "cell_type": "code",
   "execution_count": 4,
   "id": "ebd05baa",
   "metadata": {
    "scrolled": true
   },
   "outputs": [
    {
     "name": "stdout",
     "output_type": "stream",
     "text": [
      "150\n",
      "200\n",
      "153 is an armstrong number\n"
     ]
    }
   ],
   "source": [
    "# print armstrong no of given range\n",
    "el = int(input())\n",
    "ul = int(input())\n",
    "for i in range(el,ul+1):\n",
    "\n",
    "    summ =0\n",
    "    count = len(str(i))\n",
    "    dummy = i\n",
    "    while dummy>0:\n",
    "        rem=dummy%10\n",
    "        summ+=rem**count\n",
    "        dummy//=10\n",
    "        if summ == i:\n",
    "            print(f'{i} is an armstrong number')"
   ]
  },
  {
   "cell_type": "code",
   "execution_count": 8,
   "id": "d57917ee",
   "metadata": {
    "scrolled": true
   },
   "outputs": [
    {
     "name": "stdout",
     "output_type": "stream",
     "text": [
      "12\n",
      "1  2  3  4  5  6  7  8  9  153  370  371  "
     ]
    }
   ],
   "source": [
    "# print first n armstrong number:\n",
    "\n",
    "ct=int(input())\n",
    "c =0\n",
    "n = 1\n",
    "while True:\n",
    "    summ = 0\n",
    "    count = len(str(n))\n",
    "    dummy = n\n",
    "    while dummy>0:\n",
    "        rem=dummy%10\n",
    "        dummy//=10\n",
    "        summ+=rem**count\n",
    "        \n",
    "    if summ == n:\n",
    "        print(n, end= '  ')\n",
    "        c+=1\n",
    "        if ct == c:\n",
    "            break\n",
    "    n+=1"
   ]
  },
  {
   "cell_type": "code",
   "execution_count": 10,
   "id": "debe462c",
   "metadata": {
    "scrolled": true
   },
   "outputs": [
    {
     "name": "stdout",
     "output_type": "stream",
     "text": [
      "12\n"
     ]
    },
    {
     "ename": "KeyboardInterrupt",
     "evalue": "",
     "output_type": "error",
     "traceback": [
      "\u001b[1;31m---------------------------------------------------------------------------\u001b[0m",
      "\u001b[1;31mKeyboardInterrupt\u001b[0m                         Traceback (most recent call last)",
      "Cell \u001b[1;32mIn[10], line 11\u001b[0m\n\u001b[0;32m      9\u001b[0m     rem\u001b[38;5;241m=\u001b[39mdummy\u001b[38;5;241m%\u001b[39m\u001b[38;5;241m10\u001b[39m\n\u001b[0;32m     10\u001b[0m     dummy\u001b[38;5;241m/\u001b[39m\u001b[38;5;241m/\u001b[39m\u001b[38;5;241m=\u001b[39m\u001b[38;5;241m10\u001b[39m\n\u001b[1;32m---> 11\u001b[0m     sum_\u001b[38;5;241m+\u001b[39m\u001b[38;5;241m=\u001b[39mrem\u001b[38;5;241m*\u001b[39m\u001b[38;5;241m*\u001b[39mpower\n\u001b[0;32m     13\u001b[0m \u001b[38;5;28;01mif\u001b[39;00m sum_ \u001b[38;5;241m==\u001b[39m i:\n\u001b[0;32m     14\u001b[0m     count\u001b[38;5;241m+\u001b[39m\u001b[38;5;241m=\u001b[39m\u001b[38;5;241m1\u001b[39m\n",
      "\u001b[1;31mKeyboardInterrupt\u001b[0m: "
     ]
    }
   ],
   "source": [
    "n = int(input())\n",
    "count=0\n",
    "num=1\n",
    "while count<=n: \n",
    "    power = len(str(num))\n",
    "    sum_ = 0\n",
    "    dummy=num\n",
    "    while dummy>0:\n",
    "        rem=dummy%10\n",
    "        dummy//=10\n",
    "        sum_+=rem**power\n",
    "        \n",
    "    if sum_ == i:\n",
    "        count+=1\n",
    "        \n",
    "        print(i,end=' ')           \n",
    "    num+=1\n",
    "#     else:\n",
    "#         print('no')"
   ]
  },
  {
   "cell_type": "code",
   "execution_count": 13,
   "id": "554bf0aa",
   "metadata": {},
   "outputs": [
    {
     "name": "stdout",
     "output_type": "stream",
     "text": [
      "11\n",
      "370\n"
     ]
    }
   ],
   "source": [
    "# print nth  armstrong number:\n",
    "\n",
    "ct=int(input())\n",
    "c =0\n",
    "n = 1\n",
    "while True:\n",
    "    summ = 0\n",
    "    count = len(str(n))\n",
    "    dummy = n\n",
    "    while dummy>0:\n",
    "        rem=dummy%10\n",
    "        dummy//=10\n",
    "        summ+=rem**count\n",
    "        \n",
    "    if summ == n:\n",
    "        c+=1\n",
    "        if ct == c:\n",
    "            print(n)\n",
    "            break\n",
    "    n+=1\n"
   ]
  },
  {
   "cell_type": "code",
   "execution_count": 1,
   "id": "1316b657",
   "metadata": {},
   "outputs": [
    {
     "name": "stdout",
     "output_type": "stream",
     "text": [
      "5\n",
      "6\n",
      "7\n",
      "8\n",
      "9\n",
      "153\n"
     ]
    }
   ],
   "source": [
    "# print 5th to 10th aramstrong no\n",
    "\n",
    "c =0\n",
    "n = 1\n",
    "while True:\n",
    "    summ = 0\n",
    "    count = len(str(n))\n",
    "    dummy = n\n",
    "    while dummy>0:\n",
    "        rem=dummy%10\n",
    "        dummy//=10\n",
    "        summ+=rem**count\n",
    "        \n",
    "    if summ == n:\n",
    "        c+=1\n",
    "        if c>=5 and c<=10:\n",
    "            print(n)\n",
    "        if c == 10:\n",
    "            break\n",
    "    n+=1"
   ]
  },
  {
   "cell_type": "markdown",
   "id": "5c15d6e0",
   "metadata": {},
   "source": [
    "### Disarium number"
   ]
  },
  {
   "cell_type": "code",
   "execution_count": 20,
   "id": "27501fa1",
   "metadata": {},
   "outputs": [
    {
     "name": "stdout",
     "output_type": "stream",
     "text": [
      "135\n",
      "135 is disarium number \n"
     ]
    }
   ],
   "source": [
    "# the given no is disarium no or not\n",
    "\n",
    "n = int(input())\n",
    "dummy = n\n",
    "summ = 0\n",
    "c = len(str(n))\n",
    "while dummy>0:\n",
    "    rem = dummy%10\n",
    "    dummy//=10\n",
    "    summ += (rem**c)\n",
    "    c-=1\n",
    "if summ ==n:\n",
    "    print(f'{n} is disarium number ')\n",
    "else:\n",
    "    print(f'{n} is not a disarium number')"
   ]
  },
  {
   "cell_type": "code",
   "execution_count": 21,
   "id": "e3a03fbc",
   "metadata": {},
   "outputs": [
    {
     "name": "stdout",
     "output_type": "stream",
     "text": [
      "100\n",
      "200\n",
      "135\n",
      "175\n"
     ]
    }
   ],
   "source": [
    "# print all disarium no in the given range\n",
    "\n",
    "ll = int(input())\n",
    "ul = int(input())\n",
    "\n",
    "for n in range(ll,ul+1):\n",
    "    dummy = n\n",
    "    summ = 0\n",
    "    c = len(str(n))\n",
    "    while dummy>0:\n",
    "        rem = dummy%10\n",
    "        dummy//=10\n",
    "        summ+= (rem**c)\n",
    "        c-=1\n",
    "    if summ == n:\n",
    "        print(n)"
   ]
  },
  {
   "cell_type": "code",
   "execution_count": 24,
   "id": "8688aff6",
   "metadata": {},
   "outputs": [
    {
     "name": "stdout",
     "output_type": "stream",
     "text": [
      "12\n",
      "1  2  3  4  5  6  7  8  9  89  135  175  "
     ]
    }
   ],
   "source": [
    "# print first n disarium no \n",
    "\n",
    "n = int(input())\n",
    "cout = 0\n",
    "i = 1\n",
    "while True:\n",
    "    dummy = i\n",
    "    summ = 0\n",
    "    c = len(str(i))\n",
    "    while dummy>0:\n",
    "        rem = dummy%10\n",
    "        dummy//=10\n",
    "        summ+= (rem**c)\n",
    "        c-=1\n",
    "    if summ ==i:\n",
    "        print(i, end= '  ')\n",
    "        cout+=1\n",
    "        if cout == n:\n",
    "            break\n",
    "    i+=1"
   ]
  },
  {
   "cell_type": "code",
   "execution_count": 25,
   "id": "842f5229",
   "metadata": {},
   "outputs": [
    {
     "name": "stdout",
     "output_type": "stream",
     "text": [
      "11\n",
      "135\n"
     ]
    }
   ],
   "source": [
    "# print nth disarium no \n",
    "\n",
    "n = int(input())\n",
    "\n",
    "ct = 0\n",
    "i = 1\n",
    "while True:\n",
    "    dummy = i\n",
    "    c = len(str(i))\n",
    "    summ = 0\n",
    "    while dummy>0:\n",
    "        rem = dummy%10\n",
    "        dummy//=10\n",
    "        summ+= (rem**c)\n",
    "        c-=1\n",
    "    if summ == i:\n",
    "        ct+=1\n",
    "        if ct == n:\n",
    "            print(i)\n",
    "            break\n",
    "    i+=1"
   ]
  },
  {
   "cell_type": "markdown",
   "id": "28c39f83",
   "metadata": {},
   "source": [
    "### Harshad Number"
   ]
  },
  {
   "cell_type": "code",
   "execution_count": 26,
   "id": "26559061",
   "metadata": {},
   "outputs": [
    {
     "name": "stdout",
     "output_type": "stream",
     "text": [
      "18\n",
      "18 is a harsad number\n"
     ]
    }
   ],
   "source": [
    "# given number is a harshad number or not\n",
    "\n",
    "n = int(input())\n",
    "summ = 0\n",
    "dummy = n\n",
    "while dummy>0:\n",
    "    rem = dummy%10\n",
    "    dummy//=10\n",
    "    summ += rem\n",
    "if n%summ == 0:\n",
    "    print(f'{n} is a harsad number')\n",
    "else:\n",
    "    print(f'{n} is not a harsad number')"
   ]
  },
  {
   "cell_type": "code",
   "execution_count": 27,
   "id": "af41b492",
   "metadata": {},
   "outputs": [
    {
     "name": "stdout",
     "output_type": "stream",
     "text": [
      "10\n",
      "20\n",
      "10\n",
      "12\n",
      "18\n",
      "20\n"
     ]
    }
   ],
   "source": [
    "# print harshad no in given range\n",
    "\n",
    "ll = int(input())\n",
    "ul = int(input())\n",
    "\n",
    "for n in range(ll,ul+1):\n",
    "    dummy = n\n",
    "    summ = 0\n",
    "    while dummy>0:\n",
    "        rem = dummy%10\n",
    "        dummy//=10\n",
    "        summ+= rem\n",
    "    if n%summ == 0:\n",
    "        print(n)"
   ]
  },
  {
   "cell_type": "code",
   "execution_count": 29,
   "id": "2311a9c1",
   "metadata": {},
   "outputs": [
    {
     "name": "stdout",
     "output_type": "stream",
     "text": [
      "15\n",
      "1  2  3  4  5  6  7  8  9  10  12  18  20  21  24  "
     ]
    }
   ],
   "source": [
    "# print first n harshad no\n",
    "\n",
    "n = int(input())\n",
    "c = 0\n",
    "i = 1\n",
    "while True:\n",
    "    dummy = i\n",
    "    summ = 0\n",
    "    while dummy>0:\n",
    "        rem = dummy%10\n",
    "        dummy//=10\n",
    "        summ +=rem\n",
    "    if i%summ==0:\n",
    "        print(i, end= '  ')\n",
    "        c+=1\n",
    "        if c == n:\n",
    "            break\n",
    "    i+=1"
   ]
  },
  {
   "cell_type": "code",
   "execution_count": 30,
   "id": "aca40f14",
   "metadata": {},
   "outputs": [
    {
     "name": "stdout",
     "output_type": "stream",
     "text": [
      "12\n",
      "18\n"
     ]
    }
   ],
   "source": [
    "# print the nth harsad number\n",
    "\n",
    "n = int(input())\n",
    "c = 0\n",
    "i = 1\n",
    "while True:\n",
    "    dummy = i\n",
    "    summ = 0\n",
    "    while dummy>0:\n",
    "        rem = dummy%10\n",
    "        dummy//=10\n",
    "        summ +=rem\n",
    "    if i%summ==0:\n",
    "        c+=1\n",
    "        if c == n:\n",
    "            print(i)\n",
    "            break\n",
    "    i+=1"
   ]
  },
  {
   "cell_type": "code",
   "execution_count": 32,
   "id": "38de352e",
   "metadata": {},
   "outputs": [
    {
     "name": "stdout",
     "output_type": "stream",
     "text": [
      "5 6 7 8 9 10 "
     ]
    }
   ],
   "source": [
    "# print 5th to 10th harsad number\n",
    "\n",
    "c = 0\n",
    "n = 1\n",
    "while True:\n",
    "    dummy = n\n",
    "    summ = 0\n",
    "    while dummy>0:\n",
    "        rem = dummy%10\n",
    "        dummy//=10\n",
    "        summ+=rem\n",
    "    if n%summ ==0:\n",
    "        c+=1\n",
    "        if c>=5 and c<=10:\n",
    "            print(n, end=' ')\n",
    "        if c == 10:\n",
    "            break\n",
    "    n+=1"
   ]
  },
  {
   "cell_type": "markdown",
   "id": "96b7a96c",
   "metadata": {},
   "source": [
    "#### Palindrome Numbers"
   ]
  },
  {
   "cell_type": "code",
   "execution_count": null,
   "id": "4a1d10d1",
   "metadata": {},
   "outputs": [],
   "source": [
    "n = int(input())\n",
    "dummy=n\n",
    "rev = 0\n",
    "while dummy > 0:\n",
    "    rem = dummy%10\n",
    "    \n",
    "`    \n"
   ]
  },
  {
   "cell_type": "code",
   "execution_count": null,
   "id": "2fb921ee",
   "metadata": {},
   "outputs": [],
   "source": [
    "# given no is paliandrome or not\n",
    "\n",
    "n = int(input())\n",
    "dummy = n\n",
    "rev = 0\n",
    "\n",
    "while dummy>0:\n",
    "    rem = dummy%10\n",
    "    dummy//=10\n",
    "    rev = rev*10+rem\n",
    "if rev == n:\n",
    "    print('no is palindrome')\n",
    "else:\n",
    "    print(' not palindrome')\n",
    "\n",
    "\n",
    "# print all palindrome no in given range\n",
    "\n",
    "ll = int(input())\n",
    "ul = int(input())\n",
    "\n",
    "for n in range(ll,ul+1):\n",
    "    dummy = n\n",
    "    rev = 0\n",
    "    while dummy>0:\n",
    "        rem = dummy%10\n",
    "        dummy//=10\n",
    "        rev = rev*10+rem\n",
    "    if rev == n:\n",
    "        print(n)\n",
    "\n",
    "# print first n palindrome no \n",
    "\n",
    "n = int(input())\n",
    "\n",
    "ct = 0\n",
    "i = 1\n",
    "while True:\n",
    "    dummy = i\n",
    "    rev = 0\n",
    "    while dummy>0:\n",
    "        rem = dummy%10\n",
    "        dummy//=10\n",
    "        rev = rev*10+rem\n",
    "    if rev == i:\n",
    "        print(i)\n",
    "        ct+=1\n",
    "        if ct == n:\n",
    "            break\n",
    "    i+=1\n",
    "\n",
    "\n",
    "# print first nth palindrome no \n",
    "\n",
    "n = int(input())\n",
    "i = 1\n",
    "ct = 0\n",
    "while True:\n",
    "    dummy = i\n",
    "    rev = 0\n",
    "    while dummy>0:\n",
    "        rem = dummy%10\n",
    "        dummy//=10\n",
    "        rev = rev*10+rem\n",
    "    if rev == i:\n",
    "        ct+=1\n",
    "        if ct == n:\n",
    "            print(i)\n",
    "            break\n",
    "    i+=1"
   ]
  },
  {
   "cell_type": "markdown",
   "id": "32dd95ec",
   "metadata": {},
   "source": [
    "#### Perfect Number\n",
    "sum of its divisors is equal to the number"
   ]
  },
  {
   "cell_type": "code",
   "execution_count": null,
   "id": "6a3c2b2f",
   "metadata": {},
   "outputs": [],
   "source": [
    "# print all the prefect no in given range\n",
    "'''\n",
    "\n",
    "outer loop : for -range ----> ll to ul\n",
    "1. take each and every number in a given range\n",
    "inner loop : for range -----> 1 to n//2+1\n",
    "2. find out the sum of divisor and compare it with number\n",
    "\n",
    "'''\n",
    "\n",
    "ll = int(input())\n",
    "ul = int(input())\n",
    "for n in range(ll,ul+1):\n",
    "    summ=0\n",
    "    for i in range(1,n//2+1):\n",
    "        if n%i == 0:\n",
    "            summ+=i\n",
    "    if summ == n:\n",
    "        print(n)\n",
    "\n",
    "# printing first n prefecrt number by using infinite loop\n",
    "\n",
    "count= int(input('enter how many prefect number u want:'))\n",
    "n=1\n",
    "c=0\n",
    "\n",
    "while True:\n",
    "    summ = 0\n",
    "    for i in range(1,n//2+1):\n",
    "        if n%i == 0:\n",
    "            summ+=i\n",
    "    if summ == n:\n",
    "        print(n)\n",
    "        c+=1\n",
    "        if count == c:\n",
    "            break\n",
    "    n+=1\n",
    "\n",
    "# print nth prefect no\n",
    "\n",
    "count= int(input('enter how many prefect number u want:'))\n",
    "n=1\n",
    "c=0\n",
    "\n",
    "while True:\n",
    "    summ = 0\n",
    "    for i in range(1,n//2+1):\n",
    "        if n%i == 0:\n",
    "            summ+=i\n",
    "    if summ == n:\n",
    "        \n",
    "        c+=1\n",
    "        if count == c:\n",
    "            print(n)\n",
    "            break\n",
    "    n+=1\n",
    "\n",
    "#print the 5th and 10th prefect no\n",
    "\n",
    "n=1\n",
    "c=0\n",
    "\n",
    "while True:\n",
    "    summ = 0\n",
    "    for i in range(1,n//2+1):\n",
    "        if n%i == 0:\n",
    "            summ+=i\n",
    "    if summ == n:\n",
    "        c+=1\n",
    "        if c>=1 and c<=3:\n",
    "            print(n)\n",
    "        if c==10:\n",
    "            break\n",
    "    n+=1"
   ]
  },
  {
   "cell_type": "markdown",
   "id": "a473a433",
   "metadata": {},
   "source": [
    "### Prime Numbers"
   ]
  },
  {
   "cell_type": "code",
   "execution_count": 34,
   "id": "c71d8aa7",
   "metadata": {
    "scrolled": true
   },
   "outputs": [
    {
     "name": "stdout",
     "output_type": "stream",
     "text": [
      "10\n",
      "25\n",
      "11  13  17  19  23  "
     ]
    }
   ],
   "source": [
    "# wapt to print prime number in a given range\n",
    "\n",
    "ll = int(input())\n",
    "ul = int(input())\n",
    "for n in range(ll,ul+1):\n",
    "    if n>1:\n",
    "        for i in range(2,n//2+1):\n",
    "            if n%i==0:\n",
    "                break\n",
    "        else:\n",
    "            print(n, end= '  ')"
   ]
  },
  {
   "cell_type": "code",
   "execution_count": 40,
   "id": "9aa960cd",
   "metadata": {
    "scrolled": false
   },
   "outputs": [
    {
     "name": "stdout",
     "output_type": "stream",
     "text": [
      "enter how many prime numbers do you need 12\n",
      "2  3  5  7  11  13  17  19  23  29  31  37  "
     ]
    }
   ],
   "source": [
    "# printing first n prime number by using infinite loop\n",
    "\n",
    "count= int(input('enter how many prime numbers do you need '))\n",
    "n =1\n",
    "pc=0\n",
    "while True:\n",
    "    if n>1:\n",
    "        for i in range(2,n//2+1):\n",
    "            if n%i==0:\n",
    "                break\n",
    "        else:\n",
    "            print(n, end= '  ')\n",
    "            pc+=1\n",
    "            if pc>=count:\n",
    "                break\n",
    "    n+=1"
   ]
  },
  {
   "cell_type": "code",
   "execution_count": 21,
   "id": "fe48cf7f",
   "metadata": {},
   "outputs": [
    {
     "name": "stdout",
     "output_type": "stream",
     "text": [
      "enter how many prime numbers do you need 12\n",
      "2 3 5 7 11 13 17 19 23 29 31 37 "
     ]
    }
   ],
   "source": [
    "# printing first n prime numbers by using normal condition\n",
    "count= int(input('enter how many prime numbers do you need '))\n",
    "n =1\n",
    "pc=0\n",
    "while pc<count:\n",
    "    if n>1:\n",
    "        for i in range(2,n//2+1):\n",
    "            if n%i==0:\n",
    "                break\n",
    "        else:\n",
    "            print(n, end=' ')\n",
    "            pc+=1\n",
    "    n+=1"
   ]
  },
  {
   "cell_type": "code",
   "execution_count": 41,
   "id": "2116ef26",
   "metadata": {},
   "outputs": [
    {
     "name": "stdout",
     "output_type": "stream",
     "text": [
      "enter a number: 6\n",
      "13\n"
     ]
    }
   ],
   "source": [
    "# print nth prime number\n",
    "\n",
    "count= int(input('enter a number: '))\n",
    "n =2\n",
    "pc=0\n",
    "while True:\n",
    "    for i in range(2,n//2+1):\n",
    "        if n%i==0:\n",
    "            break\n",
    "    else:\n",
    "        pc+=1\n",
    "        if pc>=count:\n",
    "            print(n)\n",
    "            break\n",
    "\n",
    "    n+=1\n",
    "    \n",
    "# count=int(input())\n",
    "# c=0\n",
    "# n=2\n",
    "# while c<count:\n",
    "#     for i in range(2,n//2+1):\n",
    "#         if n%i==0:\n",
    "#             break\n",
    "#     else:\n",
    "#         print(n, end = ' ')\n",
    "#         c+=1\n",
    "#         if c == count:\n",
    "#             print('\\n',f'{n} is the {c}th prime')\n",
    "\n",
    "#     n+=1"
   ]
  },
  {
   "cell_type": "code",
   "execution_count": 46,
   "id": "5f16f078",
   "metadata": {},
   "outputs": [
    {
     "name": "stdout",
     "output_type": "stream",
     "text": [
      "11  13  17  19  23  29  "
     ]
    }
   ],
   "source": [
    "# write a program to print 5th to 10th prime no\n",
    "\n",
    "n =1\n",
    "pc=0\n",
    "while True:\n",
    "    if n>1:\n",
    "        for i in range(2,n//2+1):\n",
    "            if n%i==0:\n",
    "                break\n",
    "        else:\n",
    "            pc+=1\n",
    "            if pc>=5 and pc<=10:\n",
    "                print(n, end='  ')\n",
    "            if pc==10:\n",
    "                break\n",
    "    n+=1\n",
    "    \n",
    "# ll = int(input())\n",
    "# ul = int(input())\n",
    "# n=1\n",
    "# pc=0\n",
    "# while pc<ul:\n",
    "#     if n>1:\n",
    "#         for i in range(2, n//2+1):\n",
    "#             if n%i==0:\n",
    "#                 break\n",
    "#         else:\n",
    "#             pc+=1\n",
    "#             if pc >=ll and pc <= ul:\n",
    "#                 print(n, end= ' ')\n",
    "#             if pc==ul:\n",
    "#                 break\n",
    "#     n+=1"
   ]
  },
  {
   "cell_type": "markdown",
   "id": "e213b93b",
   "metadata": {},
   "source": [
    "### Special Numbers"
   ]
  },
  {
   "cell_type": "code",
   "execution_count": 40,
   "id": "9ea3d3a5",
   "metadata": {},
   "outputs": [
    {
     "name": "stdout",
     "output_type": "stream",
     "text": [
      "6\n",
      "2 3 5 7 11 13 \n",
      " 13 is the 6th prime\n"
     ]
    }
   ],
   "source": [
    "# nth prime number\n",
    "count=int(input())\n",
    "c=0\n",
    "n=2\n",
    "while c<count:\n",
    "    for i in range(2,n//2+1):\n",
    "        if n%i==0:\n",
    "            break\n",
    "    else:\n",
    "        print(n, end = ' ')\n",
    "        c+=1\n",
    "        if c == count:\n",
    "            print('\\n',f'{n} is the {c}th prime')\n",
    "\n",
    "    n+=1"
   ]
  },
  {
   "cell_type": "code",
   "execution_count": 60,
   "id": "47a453e5",
   "metadata": {},
   "outputs": [
    {
     "name": "stdout",
     "output_type": "stream",
     "text": [
      "145\n",
      "145 is a special number\n"
     ]
    }
   ],
   "source": [
    "# check whether given no is spacial no or not\n",
    "'''\n",
    "A number is considered a special number if \n",
    "the sum of the factorial of the digits in the number is equal to the number itself.\n",
    "'''\n",
    "n = int(input())\n",
    "dummy = n\n",
    "summ = 0\n",
    "while dummy>0:\n",
    "    rem = dummy%10\n",
    "    dummy//=10\n",
    "    fact = 1\n",
    "    for i in range(1,rem+1):\n",
    "        fact*=i\n",
    "    summ+=fact\n",
    "if summ == n:\n",
    "    print(f'{n} is a special number')\n",
    "else:\n",
    "    print(f'{n} is not special number')"
   ]
  },
  {
   "cell_type": "code",
   "execution_count": 62,
   "id": "49bfb0c0",
   "metadata": {},
   "outputs": [
    {
     "name": "stdout",
     "output_type": "stream",
     "text": [
      "1\n",
      "100\n",
      "1  2  "
     ]
    }
   ],
   "source": [
    "# pint all special number in given range\n",
    "\n",
    "ll = int(input())\n",
    "ul = int(input())\n",
    "\n",
    "for n in range(ll,ul+1):\n",
    "    dummy = n\n",
    "    summ = 0\n",
    "    while dummy>0:\n",
    "        rem = dummy%10\n",
    "        dummy//=10\n",
    "        fact = 1\n",
    "        for i in range(1,rem+1):\n",
    "            fact*=i\n",
    "        summ+=fact\n",
    "    if summ == n:\n",
    "        print(n, end='  ')"
   ]
  },
  {
   "cell_type": "code",
   "execution_count": 56,
   "id": "d5627aa4",
   "metadata": {},
   "outputs": [
    {
     "name": "stdout",
     "output_type": "stream",
     "text": [
      "4\n",
      "1 2 145 40585 "
     ]
    }
   ],
   "source": [
    "# first n special no \n",
    "\n",
    "n = int(input())\n",
    "ct = 0\n",
    "i =1\n",
    "while True:\n",
    "    dummy = i\n",
    "    summ = 0\n",
    "    while dummy>0:\n",
    "        rem = dummy%10\n",
    "        dummy//=10\n",
    "        fact = 1\n",
    "        for j in range(1,rem+1):\n",
    "            fact*=j\n",
    "        summ+=fact\n",
    "    if summ == i:\n",
    "        print(i, end=' ')\n",
    "        ct+=1\n",
    "        if ct == n:\n",
    "            break\n",
    "    i+=1"
   ]
  },
  {
   "cell_type": "code",
   "execution_count": 57,
   "id": "644ee8f9",
   "metadata": {},
   "outputs": [
    {
     "name": "stdout",
     "output_type": "stream",
     "text": [
      "3\n",
      "145\n"
     ]
    }
   ],
   "source": [
    "# print nth special no\n",
    "\n",
    "n = int(input())\n",
    "ct = 0\n",
    "i =1\n",
    "while True:\n",
    "    dummy = i\n",
    "    summ = 0\n",
    "    while dummy>0:\n",
    "        rem = dummy%10\n",
    "        dummy//=10\n",
    "        fact = 1\n",
    "        for j in range(1,rem+1):\n",
    "            fact*=j\n",
    "        summ+=fact\n",
    "    if summ == i:\n",
    "        ct+=1\n",
    "        if ct == n:\n",
    "            print(i)\n",
    "            break\n",
    "    i+=1"
   ]
  },
  {
   "cell_type": "raw",
   "id": "4283e41b",
   "metadata": {},
   "source": [
    "prime\n",
    "perfect\n",
    "neon\n",
    "spy\n",
    "automorphic\n",
    "happy\n",
    "special/strong\n",
    "armstrong\n",
    "harshad\n",
    "palindrome\n",
    "reverse\n",
    "paliprime"
   ]
  },
  {
   "cell_type": "code",
   "execution_count": null,
   "id": "cfa46207",
   "metadata": {},
   "outputs": [],
   "source": []
  }
 ],
 "metadata": {
  "kernelspec": {
   "display_name": "Python 3 (ipykernel)",
   "language": "python",
   "name": "python3"
  },
  "language_info": {
   "codemirror_mode": {
    "name": "ipython",
    "version": 3
   },
   "file_extension": ".py",
   "mimetype": "text/x-python",
   "name": "python",
   "nbconvert_exporter": "python",
   "pygments_lexer": "ipython3",
   "version": "3.8.3"
  }
 },
 "nbformat": 4,
 "nbformat_minor": 5
}
