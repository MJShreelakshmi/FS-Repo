{
 "cells": [
  {
   "cell_type": "code",
   "execution_count": null,
   "id": "05a8b0c0",
   "metadata": {},
   "outputs": [],
   "source": []
  },
  {
   "cell_type": "code",
   "execution_count": 1,
   "id": "f169c91d",
   "metadata": {},
   "outputs": [
    {
     "name": "stdout",
     "output_type": "stream",
     "text": [
      "5\n",
      "1 6 11 16 21 \n",
      "2 7 12 17 22 \n",
      "3 8 13 18 23 \n",
      "4 9 14 19 24 \n",
      "5 10 15 20 25 \n"
     ]
    }
   ],
   "source": [
    "n=int(input())\n",
    "for row in range(1,n+1):\n",
    "    dummy=row\n",
    "    for col in range(1,n+1):\n",
    "        print(dummy, end= ' ')\n",
    "        dummy+=5\n",
    "    print()"
   ]
  },
  {
   "cell_type": "code",
   "execution_count": 4,
   "id": "7d088447",
   "metadata": {},
   "outputs": [
    {
     "name": "stdout",
     "output_type": "stream",
     "text": [
      "5\n",
      "        1 \n",
      "      1 2 3 \n",
      "    1 2 3 2 1 \n",
      "  1 2 3 2 1 0 -1 \n",
      "1 2 3 2 1 0 -1 -2 -3 \n"
     ]
    }
   ],
   "source": [
    "# n = int(input())\n",
    "# spaces = n-1\n",
    "# stars = 1\n",
    "\n",
    "# for row in range(1,n+1):\n",
    "#     dummy = 1\n",
    "#     for sp in range(1,spaces+1):\n",
    "#         print(' ', end = ' ')\n",
    "#     for st in range(1,stars+1):\n",
    "#         print(dummy, end = ' ')\n",
    "#         if st>n//2:\n",
    "#             dummy-=1\n",
    "#         else:\n",
    "#             dummy+=1\n",
    "#     stars+=2\n",
    "#     spaces-=1\n",
    "#     print()"
   ]
  },
  {
   "cell_type": "code",
   "execution_count": 27,
   "id": "17efe971",
   "metadata": {},
   "outputs": [
    {
     "name": "stdout",
     "output_type": "stream",
     "text": [
      "5\n",
      "        1 \n",
      "      1 2 1 \n",
      "    1 2 3 2 1 \n",
      "  1 2 3 4 3 2 1 \n",
      "1 2 3 4 5 4 3 2 1 \n"
     ]
    }
   ],
   "source": [
    "n = int(input())\n",
    "spaces = n-1\n",
    "stars = 1\n",
    "\n",
    "for row in range(1,n+1):\n",
    "    dummy = 1\n",
    "    for sp in range(1,spaces+1):\n",
    "        print(' ', end = ' ')\n",
    "    for st in range(1,stars+1):\n",
    "        print(dummy, end=' ')\n",
    "        if st>=row:\n",
    "            dummy-=1\n",
    "        else:\n",
    "            dummy+=1 \n",
    "    stars+=2\n",
    "    spaces-=1\n",
    "    print()"
   ]
  },
  {
   "cell_type": "code",
   "execution_count": 29,
   "id": "abdb535d",
   "metadata": {},
   "outputs": [
    {
     "name": "stdout",
     "output_type": "stream",
     "text": [
      "5\n",
      "        1 \n",
      "      1 2 3 \n",
      "    1 2 3 4 3 \n",
      "  1 2 3 4 5 4 3 \n",
      "1 2 3 4 5 6 5 4 3 \n"
     ]
    }
   ],
   "source": [
    "n = int(input())\n",
    "spaces = n-1\n",
    "stars = 1\n",
    "\n",
    "for row in range(1,n+1):\n",
    "    dummy = 1\n",
    "    for sp in range(1,spaces+1):\n",
    "        print(' ', end = ' ')\n",
    "    for st in range(1,stars+1):\n",
    "        print(dummy, end=' ')\n",
    "        if st>row:\n",
    "            dummy-=1\n",
    "        else:\n",
    "            dummy+=1 \n",
    "    stars+=2\n",
    "    spaces-=1\n",
    "    print()"
   ]
  },
  {
   "cell_type": "code",
   "execution_count": 30,
   "id": "8c477c96",
   "metadata": {},
   "outputs": [
    {
     "name": "stdout",
     "output_type": "stream",
     "text": [
      "5\n",
      "        1 \n",
      "      1 2 1 \n",
      "    1 2 3 2 1 \n",
      "  1 2 3 4 3 2 1 \n",
      "1 2 3 4 5 4 3 2 1 \n"
     ]
    }
   ],
   "source": [
    "n = int(input())\n",
    "space = n-1\n",
    "star= 1\n",
    "for row in range(1,n+1):\n",
    "    dummy =1\n",
    "    for sp in range(1,space+1):\n",
    "        print(' ',end=' ')\n",
    "    for st in range(1,star+1):\n",
    "        print(dummy,end=' ')\n",
    "        if st <row:\n",
    "            dummy+=1\n",
    "        else:\n",
    "            dummy-=1\n",
    "    print()\n",
    "    space-=1\n",
    "    star+=2"
   ]
  },
  {
   "cell_type": "code",
   "execution_count": 1,
   "id": "072ab205",
   "metadata": {},
   "outputs": [
    {
     "name": "stdout",
     "output_type": "stream",
     "text": [
      "5\n",
      "1                 1 \n",
      "1 2             2 1 \n",
      "1 2 3         3 2 1 \n",
      "1 2 3 4     4 3 2 1 \n",
      "1 2 3 4 5 5 4 3 2 1 \n"
     ]
    }
   ],
   "source": [
    "n=int(input())\n",
    "spaces = n\n",
    "for row in range(1,n+1):\n",
    "    dummy=1\n",
    "    stars=row\n",
    "    for st in range(1, row+1):\n",
    "        print(dummy, end=' ')\n",
    "        dummy+=1\n",
    "    for sp in range(1, spaces+n-1):\n",
    "        print(' ', end=' ')\n",
    "    for st in range(1,row+1):\n",
    "        print(stars, end=' ')\n",
    "        stars-=1\n",
    "    spaces-=2\n",
    "    print()"
   ]
  },
  {
   "cell_type": "code",
   "execution_count": 2,
   "id": "93dd9670",
   "metadata": {},
   "outputs": [
    {
     "name": "stdout",
     "output_type": "stream",
     "text": [
      "5\n",
      "1                 1 \n",
      "1 2             2 1 \n",
      "1 2 3         3 2 1 \n",
      "1 2 3 4     4 3 2 1 \n",
      "1 2 3 4 5 5 4 3 2 1 \n"
     ]
    }
   ],
   "source": [
    "n=int(input())\n",
    "spaces = 2*n-2\n",
    "for row in range(1,n+1):\n",
    "    dummy=1\n",
    "    for st in range(1, row+1):\n",
    "        print(dummy, end=' ')\n",
    "        dummy+=1\n",
    "    for sp in range(1, spaces+1):\n",
    "        print(' ', end=' ')\n",
    "    for st in range(1,row+1):\n",
    "        print(row, end=' ')\n",
    "        row-=1\n",
    "    spaces-=2\n",
    "    print()"
   ]
  },
  {
   "cell_type": "code",
   "execution_count": 15,
   "id": "5c68fbd7",
   "metadata": {},
   "outputs": [
    {
     "name": "stdout",
     "output_type": "stream",
     "text": [
      "5\n",
      "\n",
      "5 \n",
      "4 5 \n",
      "3 4 5 \n",
      "2 3 4 5 \n",
      "1 2 3 4 5 \n"
     ]
    }
   ],
   "source": [
    "n=int(input())\n",
    "stars=1\n",
    "print()\n",
    "for row in range(n,0,-1):\n",
    "    dummy=row\n",
    "    for col in range(1,stars+1):    \n",
    "        print(dummy, end = ' ')\n",
    "        dummy+=1\n",
    "    stars+=1\n",
    "    print()"
   ]
  },
  {
   "cell_type": "code",
   "execution_count": 4,
   "id": "4f10068a",
   "metadata": {},
   "outputs": [
    {
     "name": "stdout",
     "output_type": "stream",
     "text": [
      "3\n",
      "        1 \n",
      "    3 3 3 \n",
      "5 5 5 5 5 \n",
      "    3 3 3 \n",
      "        1 \n"
     ]
    }
   ],
   "source": [
    "n=int(input())\n",
    "spaces = 2*n-2\n",
    "stars = 1\n",
    "for row in range(1,2*n):\n",
    "    for sp in range(1,spaces+1):\n",
    "        print(' ', end=' ')\n",
    "    for st in range(1,stars+1):\n",
    "        print(stars , end=' ')    \n",
    "    if row<n:\n",
    "        spaces-=2\n",
    "        stars+=2\n",
    "    else:\n",
    "        spaces+=2\n",
    "        stars-=2\n",
    "    print()"
   ]
  },
  {
   "cell_type": "code",
   "execution_count": 8,
   "id": "e8fe28f1",
   "metadata": {},
   "outputs": [
    {
     "name": "stdout",
     "output_type": "stream",
     "text": [
      "3\n",
      "    3 \n",
      "  3 2 3 \n",
      "3 2 1 2 3 \n",
      "  3 2 3 \n",
      "    3 \n"
     ]
    }
   ],
   "source": [
    "n=int(input())\n",
    "cnt=0\n",
    "spaces=n-1\n",
    "for row in range(1,2*n):\n",
    "    dummy=n\n",
    "    row_int=row\n",
    "    for sp in range(1, spaces+1):\n",
    "        print(' ', end=' ')\n",
    "    if row_int<=n:\n",
    "        row_int=row_int\n",
    "    else:\n",
    "        cnt+=2\n",
    "        row_int=row_int-cnt\n",
    "    stars = row_int*2 - 1\n",
    "    for st in range(1, stars+1) :\n",
    "        print(dummy, end=' ')\n",
    "        if st>stars//2:\n",
    "            dummy+=1\n",
    "        else:\n",
    "            dummy-=1\n",
    "    if row < n:\n",
    "        \n",
    "        spaces-=1\n",
    "        stars+=4\n",
    "        \n",
    "    else: \n",
    "        spaces+=1\n",
    "        stars-=4\n",
    "    print()"
   ]
  },
  {
   "cell_type": "code",
   "execution_count": 7,
   "id": "55b8da21",
   "metadata": {},
   "outputs": [
    {
     "name": "stdout",
     "output_type": "stream",
     "text": [
      "3\n",
      "        3 \n",
      "    3   2   3 \n",
      "3   2   1   2   3 \n",
      "    3   2   3 \n",
      "        3 \n"
     ]
    }
   ],
   "source": [
    "n=int(input())\n",
    "cnt=0\n",
    "spaces=2*n-2\n",
    "for row in range(1,2*n):\n",
    "    dummy=n\n",
    "    row_int=row\n",
    "    for sp in range(1, spaces+1):\n",
    "        print(' ', end=' ')\n",
    "    if row_int<=n:\n",
    "        row_int=row_int\n",
    "    else:\n",
    "        cnt+=2\n",
    "        row_int=row_int-cnt\n",
    "    stars = 4*row_int-3      # row_int*2 + 2*(row_int-2) + 1\n",
    "    for st in range(1, stars+1) :\n",
    "        if st%2==0:\n",
    "            print(' ', end=' ')\n",
    "        else:\n",
    "            print(dummy, end=' ')\n",
    "            if st>stars//2:\n",
    "                dummy+=1\n",
    "            else:\n",
    "                dummy-=1\n",
    "    if row < n:\n",
    "        \n",
    "        spaces-=2\n",
    "        stars+=4\n",
    "        \n",
    "    else: \n",
    "        spaces+=2\n",
    "        stars-=4\n",
    "    print()"
   ]
  },
  {
   "cell_type": "code",
   "execution_count": 8,
   "id": "69ac75f6",
   "metadata": {},
   "outputs": [
    {
     "name": "stdout",
     "output_type": "stream",
     "text": [
      "3\n",
      "        3 \n",
      "    3   2   3 \n",
      "3   2   1   2   3 \n",
      "    3   2   3 \n",
      "        3 \n"
     ]
    }
   ],
   "source": [
    "n=int(input())\n",
    "spaces = 2*n-2\n",
    "stars = 1\n",
    "cnt=0\n",
    "for row in range(1,2*n):\n",
    "    dummy=n\n",
    "    for sp in range(1,spaces+1):\n",
    "        print(' ', end=' ')\n",
    "    if row>n:\n",
    "        cnt+=2\n",
    "        row_int = row-cnt\n",
    "    else:\n",
    "        row_int=row\n",
    "        \n",
    "    for st in range(1,stars+1):\n",
    "        if st%2==0:\n",
    "            print(' ', end=' ')\n",
    "        else:\n",
    "            print(dummy, end=' ')\n",
    "            if st>=(stars+1)//2:\n",
    "                dummy+=1\n",
    "            else:\n",
    "                dummy-=1\n",
    "            \n",
    "    if row<n:\n",
    "        spaces-=2\n",
    "        stars+=4\n",
    "    else:\n",
    "        spaces+=2\n",
    "        stars-=4\n",
    "    print()"
   ]
  },
  {
   "cell_type": "code",
   "execution_count": null,
   "id": "5262b89d",
   "metadata": {},
   "outputs": [],
   "source": []
  }
 ],
 "metadata": {
  "kernelspec": {
   "display_name": "Python 3 (ipykernel)",
   "language": "python",
   "name": "python3"
  },
  "language_info": {
   "codemirror_mode": {
    "name": "ipython",
    "version": 3
   },
   "file_extension": ".py",
   "mimetype": "text/x-python",
   "name": "python",
   "nbconvert_exporter": "python",
   "pygments_lexer": "ipython3",
   "version": "3.8.3"
  }
 },
 "nbformat": 4,
 "nbformat_minor": 5
}
