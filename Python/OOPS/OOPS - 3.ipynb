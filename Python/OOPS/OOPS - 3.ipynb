{
 "cells": [
  {
   "cell_type": "code",
   "execution_count": null,
   "id": "3b6df4e9",
   "metadata": {},
   "outputs": [],
   "source": [
    "Process of OOPS\n",
    "Creating a class:\n",
    "\n",
    "Syntax:\n",
    "    .\n",
    "    .\n",
    "    .\n",
    "The process occuring in the memory once the object is created:"
   ]
  },
  {
   "cell_type": "code",
   "execution_count": null,
   "id": "99ccf68b",
   "metadata": {},
   "outputs": [],
   "source": []
  },
  {
   "cell_type": "markdown",
   "id": "08625464",
   "metadata": {},
   "source": [
    "#### Access Specifiers \n",
    "* Public\n",
    "* Protected\n",
    "* Private"
   ]
  },
  {
   "cell_type": "code",
   "execution_count": 2,
   "id": "324aeb99",
   "metadata": {},
   "outputs": [
    {
     "name": "stdout",
     "output_type": "stream",
     "text": [
      "I am public\n",
      "This is a public method\n",
      "I am protected\n",
      "I am private\n"
     ]
    }
   ],
   "source": [
    "# In Python, access specifiers (also known as access modifiers) control the visibility and accessibility of class members (attributes and methods) from outside the class. Unlike some other languages like Java or C++, Python does not have explicit keywords for public, protected, and private access levels. Instead, Python uses naming conventions to indicate the intended level of access control.\n",
    "\n",
    "# 1. Public Members\n",
    "# By default, all members of a class in Python are public. This means they can be accessed from outside the class.\n",
    "\n",
    "class MyClass:\n",
    "    def __init__(self):\n",
    "        self.public_var = \"I am public\"\n",
    "\n",
    "    def public_method(self):\n",
    "        return \"This is a public method\"\n",
    "\n",
    "obj = MyClass()\n",
    "print(obj.public_var)  # Accessing public variable\n",
    "print(obj.public_method())  # Accessing public method\n",
    "\n",
    "# 2. Protected Members\n",
    "# Protected members are intended to be accessed only within the class and its subclasses. In Python, protected members are indicated by a single underscore prefix (_).\n",
    "\n",
    "class MyClass:\n",
    "    def __init__(self):\n",
    "        self._protected_var = \"I am protected\"\n",
    "\n",
    "    def _protected_method(self):\n",
    "        return \"This is a protected method\"\n",
    "\n",
    "class SubClass(MyClass):\n",
    "    def access_protected(self):\n",
    "        return self._protected_var\n",
    "\n",
    "obj = SubClass()\n",
    "print(obj.access_protected())  # Accessing protected variable from subclass\n",
    "\n",
    "# 3. Private Members\n",
    "# Private members are intended to be accessible only within the class itself. In Python, private members are indicated by a double underscore prefix (__). This name mangling makes it harder to accidentally access private members from outside the class.\n",
    "\n",
    "class MyClass:\n",
    "    def __init__(self):\n",
    "        self.__private_var = \"I am private\"\n",
    "\n",
    "    def __private_method(self):\n",
    "        return \"This is a private method\"\n",
    "\n",
    "    def access_private(self):\n",
    "        return self.__private_var\n",
    "\n",
    "obj = MyClass()\n",
    "print(obj.access_private())  # Accessing private variable through a public method\n"
   ]
  },
  {
   "cell_type": "markdown",
   "id": "4e431f43",
   "metadata": {},
   "source": [
    "#### Summary\n",
    "Public: No underscore prefix, accessible from anywhere.\n",
    "\n",
    "Protected: Single underscore prefix _, intended for internal use within the class and its subclasses.\n",
    "\n",
    "Private: Double underscore prefix _ _, name mangled to prevent access from outside the class.\n",
    "\n",
    "Python's approach to access control is more about convention and responsible usage rather than strict enforcement."
   ]
  },
  {
   "cell_type": "code",
   "execution_count": 7,
   "id": "1d0b2986",
   "metadata": {},
   "outputs": [],
   "source": [
    "class MyClass:\n",
    "    def __init__(self):\n",
    "        self.__private_var = \"I am private\"\n",
    "\n",
    "    def __private_method(self):\n",
    "        return \"This is a private method\"\n",
    "\n",
    "    def access_private(self):\n",
    "        return self.__private_var\n",
    "#     _MyClass_._access_private_method check"
   ]
  },
  {
   "cell_type": "code",
   "execution_count": null,
   "id": "4d925068",
   "metadata": {},
   "outputs": [],
   "source": []
  },
  {
   "cell_type": "code",
   "execution_count": null,
   "id": "107260c5",
   "metadata": {},
   "outputs": [],
   "source": []
  },
  {
   "cell_type": "code",
   "execution_count": null,
   "id": "a75f6573",
   "metadata": {},
   "outputs": [],
   "source": []
  },
  {
   "cell_type": "code",
   "execution_count": null,
   "id": "1f3b582b",
   "metadata": {},
   "outputs": [],
   "source": []
  },
  {
   "cell_type": "code",
   "execution_count": null,
   "id": "72b9e61f",
   "metadata": {},
   "outputs": [],
   "source": []
  },
  {
   "cell_type": "code",
   "execution_count": null,
   "id": "c78ecc0a",
   "metadata": {},
   "outputs": [],
   "source": []
  },
  {
   "cell_type": "markdown",
   "id": "ba9be484",
   "metadata": {},
   "source": [
    "Magic Methods or Dunder methods or Special Methods in python:\n",
    "\n",
    "1. Python implicitly will give a call to the magic method based on their functionalities\n",
    "2. Syntax of defining magic methods\n",
    "\n",
    "def __magic_methodName__(self):\n",
    "\t\n",
    "\n",
    "#### _ _init_ _\n",
    "1. It is constructor which is used for constructing an object\n",
    "2. _ _init_ _ is called implicitly whenever an object is created\n",
    "\n",
    "#### _ _str_ _\n",
    " _ _str_ _ is called implicitly whenever an object is printed\n",
    "\n",
    "#### _ _del_ _\n",
    "1. It is a destructor which is used for deleting the objects\n",
    "2. _ _del_ _ is called implicitly whenever an object is deleted\n",
    "\n",
    "Example:"
   ]
  },
  {
   "cell_type": "code",
   "execution_count": 1,
   "id": "8de5da59",
   "metadata": {},
   "outputs": [
    {
     "name": "stdout",
     "output_type": "stream",
     "text": [
      "Python - Guido Van Rossum\n"
     ]
    }
   ],
   "source": [
    "class Book:\n",
    "    def __init__(self,n,au,p):\n",
    "        self.name=n\n",
    "        self.author = au\n",
    "        self.price = p\n",
    "        \n",
    "    def __str__(self):\n",
    "        return self.name+' - '+self.author\n",
    "    \n",
    "    def __del__(self):\n",
    "        print(self, 'is deleted')\n",
    "        \n",
    "python = Book('Python', 'Guido Van Rossum', 6665)\n",
    "django = Book('DJango', 'Author ABC', 89657)\n",
    "\n",
    "print(python)\n",
    "# del python"
   ]
  },
  {
   "cell_type": "code",
   "execution_count": 2,
   "id": "63d9f4fa",
   "metadata": {},
   "outputs": [
    {
     "name": "stdout",
     "output_type": "stream",
     "text": [
      "DJango - Author ABC\n"
     ]
    }
   ],
   "source": [
    "# print(python)\n",
    "print(django)"
   ]
  },
  {
   "cell_type": "code",
   "execution_count": 2,
   "id": "65782170",
   "metadata": {},
   "outputs": [
    {
     "name": "stdout",
     "output_type": "stream",
     "text": [
      "Python - Guido Van Rossum is deleted\n"
     ]
    }
   ],
   "source": [
    "del python"
   ]
  },
  {
   "cell_type": "code",
   "execution_count": null,
   "id": "0574e54c",
   "metadata": {},
   "outputs": [],
   "source": []
  },
  {
   "cell_type": "code",
   "execution_count": 3,
   "id": "a1bd25a6",
   "metadata": {},
   "outputs": [
    {
     "name": "stdout",
     "output_type": "stream",
     "text": [
      "2\n"
     ]
    }
   ],
   "source": [
    "class Employee:\n",
    "    cname = 'XYZ Comp'\n",
    "    caddress = 'Marathahalli'\n",
    "    cmanager = 'Girish'\n",
    "    noe = 0\n",
    "    def __init__(self, n, s, d):\n",
    "        self.ename = n\n",
    "        self.esal = s\n",
    "        self.edesignation = d\n",
    "        Employee.noe +=1\n",
    "    def __del__(self):\n",
    "        print(self,'self is deleted')\n",
    "        Employee.noe -=1\n",
    "    \n",
    "a = Employee('a', 15642, 'Developer')\n",
    "b = Employee('b', 20356, 'Developer')    \n",
    "print(a.noe)"
   ]
  },
  {
   "cell_type": "code",
   "execution_count": 4,
   "id": "7bf9d261",
   "metadata": {},
   "outputs": [
    {
     "name": "stdout",
     "output_type": "stream",
     "text": [
      "<__main__.Employee object at 0x00000158B545FDF0> self is deleted\n"
     ]
    }
   ],
   "source": [
    "del b"
   ]
  },
  {
   "cell_type": "code",
   "execution_count": 5,
   "id": "f98e6ee6",
   "metadata": {},
   "outputs": [
    {
     "name": "stdout",
     "output_type": "stream",
     "text": [
      "1\n"
     ]
    }
   ],
   "source": [
    "print(a.noe)"
   ]
  },
  {
   "cell_type": "code",
   "execution_count": null,
   "id": "61667e73",
   "metadata": {},
   "outputs": [],
   "source": []
  }
 ],
 "metadata": {
  "kernelspec": {
   "display_name": "Python 3 (ipykernel)",
   "language": "python",
   "name": "python3"
  },
  "language_info": {
   "codemirror_mode": {
    "name": "ipython",
    "version": 3
   },
   "file_extension": ".py",
   "mimetype": "text/x-python",
   "name": "python",
   "nbconvert_exporter": "python",
   "pygments_lexer": "ipython3",
   "version": "3.8.3"
  }
 },
 "nbformat": 4,
 "nbformat_minor": 5
}
