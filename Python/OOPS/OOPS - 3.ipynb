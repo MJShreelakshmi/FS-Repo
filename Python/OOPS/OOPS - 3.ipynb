{
 "cells": [
  {
   "cell_type": "markdown",
   "id": "96c9f8e9",
   "metadata": {},
   "source": [
    "#### Encapsulation\n",
    "* It is the process of Binding the States and Behaviours of an Object under one roof.\n",
    "* By creating class, we can achieve Encapsulation\n",
    "* By using Encapsulation, we can protect the data\n",
    "* Protection of data can be done by using Access Specifiers\n",
    "\n",
    "#### Access Specifiers \n",
    "Access Specifiers are used for creating the scope of accessibilty of variables\n",
    "\n",
    "There are 3 types of Access Specifiers\n",
    "1. Public\n",
    "2. Protected\n",
    "3. Private\n",
    "\n",
    "#### 1. Public Access Specifiers\n",
    "1. Syntax for representing public variables or methods:\n",
    "    \n",
    "        variableName\n",
    "        methodName\n",
    "2. Public variables or methods can be accessed through different packages\n",
    "3. Syntax for accessing public, access specifers\n",
    "        \n",
    "        objectName.variable OR object.methodName"
   ]
  },
  {
   "cell_type": "markdown",
   "id": "08625464",
   "metadata": {},
   "source": [
    "#### Protected Access Specifiers\n",
    "1. Protected Access Specifiers are declared with underscore before their names (_protect)\n",
    "2. Syntax for representing protected variables or methods\n",
    "\n",
    "        _variableName\n",
    "        _methodName\n",
    "3. Protected Access Specifiers can be accessed only within that package\n",
    "4. Syntax for accessing Protected Access Specifiers:\n",
    "\n",
    "        objectName._variableName       OR    objectName._methodName\n",
    "        \n",
    "#### Private Access Specifiers     \n",
    "1. Private Access Specifiers are delcared with double underscore before their names\n",
    "2. Syntax for representing Private variables or methods\n",
    "        \n",
    "        __variableName    OR     __methodName\n",
    "3. Private Access Specifiers can be accessd only within that class\n",
    "4. Syntax for accessing private variables:\n",
    "\n",
    "        objectName._className__variableName   OR    objectName._className__methodName\n",
    "        \n",
    "Example of demonstrating all Access Specifiers"
   ]
  },
  {
   "cell_type": "code",
   "execution_count": 27,
   "id": "99ccf68b",
   "metadata": {},
   "outputs": [
    {
     "name": "stdout",
     "output_type": "stream",
     "text": [
      "100\n",
      "10\n",
      "10\n",
      "None\n"
     ]
    }
   ],
   "source": [
    "class A:\n",
    "    x = 100\n",
    "    _y = 999\n",
    "    __z = 10\n",
    "    \n",
    "    @classmethod\n",
    "    def get_pd(cls):\n",
    "        print(cls.__z)\n",
    "    \n",
    "    def display(self):\n",
    "        print('display is a public method')\n",
    "        \n",
    "    def _show(self):\n",
    "        print('show is a protected method')\n",
    "        \n",
    "    def __secured(self):\n",
    "        print('secured is a private method')\n",
    "        \n",
    "print(A.x)\n",
    "print(A._A__z)\n",
    "print(A.get_pd())"
   ]
  },
  {
   "cell_type": "code",
   "execution_count": 30,
   "id": "1aab91d6",
   "metadata": {},
   "outputs": [
    {
     "name": "stdout",
     "output_type": "stream",
     "text": [
      "display is a public method\n",
      "show is a protected method\n",
      "secured is a private method\n"
     ]
    }
   ],
   "source": [
    "oa = A()\n",
    "oa.display()\n",
    "oa._show()\n",
    "oa._A__secured()"
   ]
  },
  {
   "cell_type": "raw",
   "id": "6f495500",
   "metadata": {},
   "source": [
    "keys       values\n",
    " x          100\n",
    " _y         999\n",
    "_A__z        10\n",
    "get_pd      ---\n",
    "display     ---\n",
    "_show       ---\n",
    "_A__z       ---"
   ]
  },
  {
   "cell_type": "code",
   "execution_count": 31,
   "id": "324aeb99",
   "metadata": {},
   "outputs": [
    {
     "name": "stdout",
     "output_type": "stream",
     "text": [
      "I am public\n",
      "This is a public method\n",
      "I am protected\n",
      "I am private\n"
     ]
    }
   ],
   "source": [
    "# CHATGPT ---\n",
    "# In Python, access specifiers (also known as access modifiers) control the visibility and accessibility of class members (attributes and methods) from outside the class. Unlike some other languages like Java or C++, Python does not have explicit keywords for public, protected, and private access levels. Instead, Python uses naming conventions to indicate the intended level of access control.\n",
    "\n",
    "# 1. Public Members\n",
    "# By default, all members of a class in Python are public. This means they can be accessed from outside the class.\n",
    "\n",
    "class MyClass:\n",
    "    def __init__(self):\n",
    "        self.public_var = \"I am public\"\n",
    "\n",
    "    def public_method(self):\n",
    "        return \"This is a public method\"\n",
    "\n",
    "obj = MyClass()\n",
    "print(obj.public_var)  # Accessing public variable\n",
    "print(obj.public_method())  # Accessing public method\n",
    "\n",
    "# 2. Protected Members\n",
    "# Protected members are intended to be accessed only within the class and its subclasses. In Python, protected members are indicated by a single underscore prefix (_).\n",
    "\n",
    "class MyClass:\n",
    "    def __init__(self):\n",
    "        self._protected_var = \"I am protected\"\n",
    "\n",
    "    def _protected_method(self):\n",
    "        return \"This is a protected method\"\n",
    "\n",
    "class SubClass(MyClass):\n",
    "    def access_protected(self):\n",
    "        return self._protected_var\n",
    "\n",
    "obj = SubClass()\n",
    "print(obj.access_protected())  # Accessing protected variable from subclass\n",
    "\n",
    "# 3. Private Members\n",
    "# Private members are intended to be accessible only within the class itself. In Python, private members are indicated by a double underscore prefix (__). This name mangling makes it harder to accidentally access private members from outside the class.\n",
    "\n",
    "class MyClass:\n",
    "    def __init__(self):\n",
    "        self.__private_var = \"I am private\"\n",
    "\n",
    "    def __private_method(self):\n",
    "        return \"This is a private method\"\n",
    "\n",
    "    def access_private(self):\n",
    "        return self.__private_var\n",
    "\n",
    "obj = MyClass()\n",
    "print(obj.access_private())  # Accessing private variable through a public method\n"
   ]
  },
  {
   "cell_type": "markdown",
   "id": "4e431f43",
   "metadata": {},
   "source": [
    "#### Summary\n",
    "Public: No underscore prefix, accessible from anywhere.\n",
    "\n",
    "Protected: Single underscore prefix _, intended for internal use within the class and its subclasses.\n",
    "\n",
    "Private: Double underscore prefix _ _, name mangled to prevent access from outside the class.\n",
    "\n",
    "Python's approach to access control is more about convention and responsible usage rather than strict enforcement."
   ]
  },
  {
   "cell_type": "markdown",
   "id": "ba9be484",
   "metadata": {},
   "source": [
    "#### Magic Methods or Dunder methods or Special Methods in python:\n",
    "\n",
    "1. Python implicitly will give a call to the magic method based on their functionalities\n",
    "2. Syntax of defining magic methods\n",
    "\n",
    "def __magic_methodName__(self):\n",
    "\t\n",
    "\n",
    "#### _ _init_ _\n",
    "1. It is constructor which is used for constructing an object\n",
    "2. _ _init_ _ is called implicitly whenever an object is created\n",
    "\n",
    "#### _ _str_ _\n",
    " _ _str_ _ is called implicitly whenever an object is printed\n",
    "\n",
    "#### _ _del_ _\n",
    "1. It is a destructor which is used for deleting the objects\n",
    "2. _ _del_ _ is called implicitly whenever an object is deleted\n",
    "\n",
    "Example:"
   ]
  },
  {
   "cell_type": "code",
   "execution_count": 1,
   "id": "8de5da59",
   "metadata": {},
   "outputs": [
    {
     "name": "stdout",
     "output_type": "stream",
     "text": [
      "Python - Guido Van Rossum\n"
     ]
    }
   ],
   "source": [
    "class Book:\n",
    "    def __init__(self,n,au,p):\n",
    "        self.name=n\n",
    "        self.author = au\n",
    "        self.price = p\n",
    "        \n",
    "    def __str__(self):\n",
    "        return self.name+' - '+self.author\n",
    "    \n",
    "    def __del__(self):\n",
    "        print(self, 'is deleted')\n",
    "        \n",
    "python = Book('Python', 'Guido Van Rossum', 6665)\n",
    "django = Book('DJango', 'Author ABC', 89657)\n",
    "\n",
    "print(python)\n",
    "# del python"
   ]
  },
  {
   "cell_type": "code",
   "execution_count": 2,
   "id": "63d9f4fa",
   "metadata": {},
   "outputs": [
    {
     "name": "stdout",
     "output_type": "stream",
     "text": [
      "DJango - Author ABC\n"
     ]
    }
   ],
   "source": [
    "# print(python)\n",
    "print(django)"
   ]
  },
  {
   "cell_type": "code",
   "execution_count": 2,
   "id": "65782170",
   "metadata": {},
   "outputs": [
    {
     "name": "stdout",
     "output_type": "stream",
     "text": [
      "Python - Guido Van Rossum is deleted\n"
     ]
    }
   ],
   "source": [
    "del python"
   ]
  },
  {
   "cell_type": "code",
   "execution_count": 1,
   "id": "a1bd25a6",
   "metadata": {},
   "outputs": [],
   "source": [
    "class Employee:\n",
    "    cname = 'XYZ Comp'\n",
    "    caddress = 'Marathahalli'\n",
    "    cmanager = 'Girish'\n",
    "    noe = 0\n",
    "    def __init__(self, n, s, d):\n",
    "        self.ename = n\n",
    "        self.esal = s\n",
    "        self.edesignation = d\n",
    "        Employee.noe +=1\n",
    "    def __del__(self):\n",
    "        print(self,'self is deleted')\n",
    "        Employee.noe -=1\n",
    "    \n",
    "a = Employee('a', 15642, 'Developer')\n",
    "b = Employee('b', 20356, 'Developer')    "
   ]
  },
  {
   "cell_type": "code",
   "execution_count": 2,
   "id": "993ce9f3",
   "metadata": {},
   "outputs": [
    {
     "name": "stdout",
     "output_type": "stream",
     "text": [
      "2\n"
     ]
    }
   ],
   "source": [
    "print(a.noe)"
   ]
  },
  {
   "cell_type": "code",
   "execution_count": 3,
   "id": "7bf9d261",
   "metadata": {},
   "outputs": [
    {
     "name": "stdout",
     "output_type": "stream",
     "text": [
      "<__main__.Employee object at 0x00000232246A3340> self is deleted\n"
     ]
    }
   ],
   "source": [
    "del b"
   ]
  },
  {
   "cell_type": "code",
   "execution_count": 4,
   "id": "f98e6ee6",
   "metadata": {},
   "outputs": [
    {
     "name": "stdout",
     "output_type": "stream",
     "text": [
      "1\n"
     ]
    }
   ],
   "source": [
    "print(a.noe)"
   ]
  },
  {
   "cell_type": "markdown",
   "id": "77bea1e5",
   "metadata": {},
   "source": [
    "#### Operator Overloading\n",
    "#### Note:\n",
    "We cannot use operators directly between User-defined Objects. Hence we use the concept of Operator Overloading\n",
    "\n",
    "1. It is the process of changing the implementation of operators when we use with user-defined objects\n",
    "\n",
    "    OR\n",
    "    \n",
    "    It is the process of creating the implementation of Operators based on User Requirements by using Special Methods\n",
    "2. For every operator, we have specific special method"
   ]
  },
  {
   "cell_type": "raw",
   "id": "b9c6d3f8",
   "metadata": {},
   "source": [
    "Table with Operators and their respective Magic Methods\n",
    "    Operator       Magic Methods\n",
    "    \n",
    "       +        __add__(self, second)\n",
    "       -        __sub__(self, second)\n",
    "       *        __mul__(self, second)\n",
    "       /        __truediv__(self, second)\n",
    "       //       __floordiv__(self, second)\n",
    "       **       __pow__(self, second)\n",
    "       >        __gt__(self, second)\n",
    "       <        __lt__(self, second)\n",
    "       >=       __ge__(self, second)\n",
    "       <=       __le__(self, second)\n",
    "       =        __eq__(self, second)\n",
    "       +=       __iadd__(self, second)\n",
    "       -=       __isub__(self, second)"
   ]
  },
  {
   "cell_type": "code",
   "execution_count": 8,
   "id": "c2f6409f",
   "metadata": {},
   "outputs": [
    {
     "name": "stdout",
     "output_type": "stream",
     "text": [
      "3000\n",
      "-1000\n",
      "3000\n",
      "500.0\n"
     ]
    }
   ],
   "source": [
    "class Book:\n",
    "    def __init__(self, n, au, p):\n",
    "        self.bname = n\n",
    "        self.bauthor = au\n",
    "        self.bprice = p\n",
    "        \n",
    "    def __str__(self):\n",
    "        return self.bname\n",
    "        \n",
    "    def __add__(self, second):\n",
    "#         self = pythonObject\n",
    "#         second = djangoObject\n",
    "        return self.bprice + second.bprice\n",
    "\n",
    "    def __sub__(self, second):\n",
    "        return self.bprice - second.bprice\n",
    "    \n",
    "    def __mul__(self, value):\n",
    "        return self.bprice * value\n",
    "    \n",
    "    def __truediv__(self, value):\n",
    "        return self.bprice /value\n",
    "    \n",
    "python = Book('Python', 'GVR', 1000)\n",
    "django = Book('Django', 'SHV', 2000)\n",
    "\n",
    "print(python + django)   # python.__add__(django)\n",
    "print(python - django)   # return python and buy django --> pay only the difference amount\n",
    "print(python * 3)   # buy 3 python books\n",
    "print(python / 2)   # get 50% discount on python book"
   ]
  },
  {
   "cell_type": "code",
   "execution_count": 15,
   "id": "214dcbc2",
   "metadata": {},
   "outputs": [
    {
     "name": "stdout",
     "output_type": "stream",
     "text": [
      "True\n"
     ]
    }
   ],
   "source": [
    "class Rectangle:\n",
    "    def __init__(self, l, b):\n",
    "        self.length = l\n",
    "        self.breadth = b\n",
    "        self.area  = l*b\n",
    "        \n",
    "    def __gt__(self, second):\n",
    "        return self.area > second.area\n",
    "        \n",
    "r1 = Rectangle(10, 5)\n",
    "r2 = Rectangle(2, 6)\n",
    "print(r1>r2)"
   ]
  },
  {
   "cell_type": "code",
   "execution_count": null,
   "id": "5ae20c28",
   "metadata": {},
   "outputs": [],
   "source": []
  },
  {
   "cell_type": "code",
   "execution_count": null,
   "id": "dde1178d",
   "metadata": {},
   "outputs": [],
   "source": []
  },
  {
   "cell_type": "code",
   "execution_count": null,
   "id": "5058b597",
   "metadata": {},
   "outputs": [],
   "source": []
  }
 ],
 "metadata": {
  "kernelspec": {
   "display_name": "Python 3 (ipykernel)",
   "language": "python",
   "name": "python3"
  },
  "language_info": {
   "codemirror_mode": {
    "name": "ipython",
    "version": 3
   },
   "file_extension": ".py",
   "mimetype": "text/x-python",
   "name": "python",
   "nbconvert_exporter": "python",
   "pygments_lexer": "ipython3",
   "version": "3.8.3"
  }
 },
 "nbformat": 4,
 "nbformat_minor": 5
}
