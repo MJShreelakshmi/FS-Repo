{
 "cells": [
  {
   "cell_type": "code",
   "execution_count": 25,
   "id": "8c310c82",
   "metadata": {},
   "outputs": [],
   "source": [
    "from PIL import Image"
   ]
  },
  {
   "cell_type": "markdown",
   "id": "96c9f8e9",
   "metadata": {},
   "source": [
    "#### Encapsulation\n",
    "* It is the process of Binding the States and Behaviours of an Object under one roof.\n",
    "* By creating class, we can achieve Encapsulation\n",
    "* By using Encapsulation, we can protect the data\n",
    "* Protection of data can be done by using Access Specifiers\n",
    "\n",
    "#### Access Specifiers \n",
    "Access Specifiers are used for creating the scope of accessibilty of variables\n",
    "\n",
    "There are 3 types of Access Specifiers\n",
    "1. Public\n",
    "2. Protected\n",
    "3. Private\n",
    "\n",
    "#### 1. Public Access Specifiers\n",
    "1. Syntax for representing public variables or methods:\n",
    "    \n",
    "        variableName\n",
    "        methodName\n",
    "2. Public variables or methods can be accessed through different packages\n",
    "3. Syntax for accessing public, access specifers\n",
    "        \n",
    "        objectName.variable OR object.methodName"
   ]
  },
  {
   "cell_type": "markdown",
   "id": "08625464",
   "metadata": {},
   "source": [
    "#### Protected Access Specifiers\n",
    "1. Protected Access Specifiers are declared with underscore before their names (_protect)\n",
    "2. Syntax for representing protected variables or methods\n",
    "\n",
    "        _variableName\n",
    "        _methodName\n",
    "3. Protected Access Specifiers can be accessed only within that package\n",
    "4. Syntax for accessing Protected Access Specifiers:\n",
    "\n",
    "        objectName._variableName       OR    objectName._methodName\n",
    "        \n",
    "#### Private Access Specifiers     \n",
    "1. Private Access Specifiers are delcared with double underscore before their names\n",
    "2. Syntax for representing Private variables or methods\n",
    "        \n",
    "        __variableName    OR     __methodName\n",
    "3. Private Access Specifiers can be accessd only within that class\n",
    "4. Syntax for accessing private variables:\n",
    "\n",
    "        objectName._className__variableName   OR    objectName._className__methodName\n",
    "        \n",
    "Example of demonstrating all Access Specifiers"
   ]
  },
  {
   "cell_type": "code",
   "execution_count": 1,
   "id": "99ccf68b",
   "metadata": {
    "scrolled": false
   },
   "outputs": [
    {
     "name": "stdout",
     "output_type": "stream",
     "text": [
      "100\n",
      "10\n",
      "10\n",
      "None\n"
     ]
    }
   ],
   "source": [
    "class A:\n",
    "    x = 100\n",
    "    _y = 999\n",
    "    __z = 10\n",
    "    \n",
    "    @classmethod\n",
    "    def get_pd(cls):\n",
    "        print(cls.__z)\n",
    "    \n",
    "    def display(self):\n",
    "        print('display is a public method')\n",
    "        \n",
    "    def _show(self):\n",
    "        print('show is a protected method')\n",
    "        \n",
    "    def __secured(self):\n",
    "        print('secured is a private method')\n",
    "        \n",
    "print(A.x)\n",
    "print(A._A__z)\n",
    "print(A.get_pd())"
   ]
  },
  {
   "cell_type": "code",
   "execution_count": 8,
   "id": "1aab91d6",
   "metadata": {
    "scrolled": true
   },
   "outputs": [
    {
     "name": "stdout",
     "output_type": "stream",
     "text": [
      "display is a public method\n",
      "show is a protected method\n",
      "secured is a private method\n"
     ]
    }
   ],
   "source": [
    "oa = A()\n",
    "oa.display()\n",
    "oa._show()\n",
    "oa._A__secured()"
   ]
  },
  {
   "cell_type": "raw",
   "id": "6f495500",
   "metadata": {},
   "source": [
    "keys       values\n",
    " x          100\n",
    " _y         999\n",
    "_A__z        10\n",
    "get_pd      ---\n",
    "display     ---\n",
    "_show       ---\n",
    "_A__z       ---"
   ]
  },
  {
   "cell_type": "code",
   "execution_count": 31,
   "id": "324aeb99",
   "metadata": {},
   "outputs": [
    {
     "name": "stdout",
     "output_type": "stream",
     "text": [
      "I am public\n",
      "This is a public method\n",
      "I am protected\n",
      "I am private\n"
     ]
    }
   ],
   "source": [
    "# CHATGPT ---\n",
    "# In Python, access specifiers (also known as access modifiers) control the visibility and accessibility of class members (attributes and methods) from outside the class. \n",
    "# Unlike some other languages like Java or C++, Python does not have explicit keywords for public, protected, and private access levels. \n",
    "# Instead, Python uses naming conventions to indicate the intended level of access control.\n",
    "\n",
    "# 1. Public Members\n",
    "# By default, all members of a class in Python are public. This means they can be accessed from outside the class.\n",
    "\n",
    "class MyClass:\n",
    "    def __init__(self):\n",
    "        self.public_var = \"I am public\"\n",
    "\n",
    "    def public_method(self):\n",
    "        return \"This is a public method\"\n",
    "\n",
    "obj = MyClass()\n",
    "print(obj.public_var)  # Accessing public variable\n",
    "print(obj.public_method())  # Accessing public method\n",
    "\n",
    "# 2. Protected Members\n",
    "# Protected members are intended to be accessed only within the class and its subclasses. In Python, protected members are indicated by a single underscore prefix (_).\n",
    "\n",
    "class MyClass:\n",
    "    def __init__(self):\n",
    "        self._protected_var = \"I am protected\"\n",
    "\n",
    "    def _protected_method(self):\n",
    "        return \"This is a protected method\"\n",
    "\n",
    "class SubClass(MyClass):\n",
    "    def access_protected(self):\n",
    "        return self._protected_var\n",
    "\n",
    "obj = SubClass()\n",
    "print(obj.access_protected())  # Accessing protected variable from subclass\n",
    "\n",
    "# 3. Private Members\n",
    "# Private members are intended to be accessible only within the class itself. \n",
    "# In Python, private members are indicated by a double underscore prefix (__). \n",
    "# This name mangling makes it harder to accidentally access private members from outside the class.\n",
    "\n",
    "class MyClass:\n",
    "    def __init__(self):\n",
    "        self.__private_var = \"I am private\"\n",
    "\n",
    "    def __private_method(self):\n",
    "        return \"This is a private method\"\n",
    "\n",
    "    def access_private(self):\n",
    "        return self.__private_var\n",
    "\n",
    "obj = MyClass()\n",
    "print(obj.access_private())  # Accessing private variable through a public method\n"
   ]
  },
  {
   "cell_type": "markdown",
   "id": "4e431f43",
   "metadata": {},
   "source": [
    "#### Summary\n",
    "Public: No underscore prefix, accessible from anywhere.\n",
    "\n",
    "Protected: Single underscore prefix _, intended for internal use within the class and its subclasses.\n",
    "\n",
    "Private: Double underscore prefix _ _, name mangled to prevent access from outside the class.\n",
    "\n",
    "Python's approach to access control is more about convention and responsible usage rather than strict enforcement."
   ]
  },
  {
   "cell_type": "markdown",
   "id": "ba9be484",
   "metadata": {},
   "source": [
    "#### Magic Methods or Dunder methods or Special Methods in python:\n",
    "\n",
    "1. Python implicitly will give a call to the magic method based on their functionalities\n",
    "2. Syntax of defining magic methods\n",
    "\n",
    "        def __magicMethodName__(self):\n",
    "            statements\n",
    "\n",
    "#### _ _init_ _\n",
    "1. It is constructor which is used for constructing an object\n",
    "2. _ _init_ _ is called implicitly whenever an object is created\n",
    "\n",
    "#### _ _str_ _\n",
    " _ _str_ _ is called implicitly whenever an object is printed\n",
    "\n",
    "#### _ _del_ _\n",
    "1. It is a destructor which is used for deleting the objects\n",
    "2. _ _del_ _ is called implicitly whenever an object is deleted\n",
    "\n",
    "Example:"
   ]
  },
  {
   "cell_type": "code",
   "execution_count": 1,
   "id": "8de5da59",
   "metadata": {},
   "outputs": [
    {
     "name": "stdout",
     "output_type": "stream",
     "text": [
      "Python - Guido Van Rossum\n"
     ]
    }
   ],
   "source": [
    "class Book:\n",
    "    def __init__(self,n,au,p):\n",
    "        self.name=n\n",
    "        self.author = au\n",
    "        self.price = p\n",
    "        \n",
    "    def __str__(self):\n",
    "        return self.name+' - '+self.author\n",
    "    \n",
    "    def __del__(self):\n",
    "        print(self, 'is deleted')\n",
    "        \n",
    "python = Book('Python', 'Guido Van Rossum', 6665)\n",
    "django = Book('DJango', 'Author ABC', 89657)\n",
    "\n",
    "print(python)\n",
    "# del python"
   ]
  },
  {
   "cell_type": "code",
   "execution_count": 2,
   "id": "63d9f4fa",
   "metadata": {},
   "outputs": [
    {
     "name": "stdout",
     "output_type": "stream",
     "text": [
      "DJango - Author ABC\n"
     ]
    }
   ],
   "source": [
    "# print(python)\n",
    "print(django)"
   ]
  },
  {
   "cell_type": "code",
   "execution_count": 2,
   "id": "65782170",
   "metadata": {},
   "outputs": [
    {
     "name": "stdout",
     "output_type": "stream",
     "text": [
      "Python - Guido Van Rossum is deleted\n"
     ]
    }
   ],
   "source": [
    "del python"
   ]
  },
  {
   "cell_type": "code",
   "execution_count": 1,
   "id": "a1bd25a6",
   "metadata": {},
   "outputs": [],
   "source": [
    "class Employee:\n",
    "    cname = 'XYZ Comp'\n",
    "    caddress = 'Marathahalli'\n",
    "    cmanager = 'Girish'\n",
    "    noe = 0\n",
    "    def __init__(self, n, s, d):\n",
    "        self.ename = n\n",
    "        self.esal = s\n",
    "        self.edesignation = d\n",
    "        Employee.noe +=1\n",
    "    def __del__(self):\n",
    "        print(self,'self is deleted')\n",
    "        Employee.noe -=1\n",
    "    \n",
    "a = Employee('a', 15642, 'Developer')\n",
    "b = Employee('b', 20356, 'Developer')    "
   ]
  },
  {
   "cell_type": "code",
   "execution_count": 2,
   "id": "993ce9f3",
   "metadata": {},
   "outputs": [
    {
     "name": "stdout",
     "output_type": "stream",
     "text": [
      "2\n"
     ]
    }
   ],
   "source": [
    "print(a.noe)"
   ]
  },
  {
   "cell_type": "code",
   "execution_count": 3,
   "id": "7bf9d261",
   "metadata": {},
   "outputs": [
    {
     "name": "stdout",
     "output_type": "stream",
     "text": [
      "<__main__.Employee object at 0x00000232246A3340> self is deleted\n"
     ]
    }
   ],
   "source": [
    "del b"
   ]
  },
  {
   "cell_type": "code",
   "execution_count": 4,
   "id": "f98e6ee6",
   "metadata": {},
   "outputs": [
    {
     "name": "stdout",
     "output_type": "stream",
     "text": [
      "1\n"
     ]
    }
   ],
   "source": [
    "print(a.noe)"
   ]
  },
  {
   "cell_type": "markdown",
   "id": "77bea1e5",
   "metadata": {},
   "source": [
    "#### Operator Overloading\n",
    "#### Note:\n",
    "We cannot use operators directly between User-defined Objects. Hence we use the concept of Operator Overloading\n",
    "\n",
    "1. It is the process of changing the implementation of operators when we use with user-defined objects\n",
    "\n",
    "    OR\n",
    "    \n",
    "    It is the process of creating the implementation of Operators based on User Requirements by using Special Methods\n",
    "2. For every operator, we have specific special method"
   ]
  },
  {
   "cell_type": "raw",
   "id": "b9c6d3f8",
   "metadata": {},
   "source": [
    "Table with Operators and their respective Magic Methods\n",
    "    Operator       Magic Methods\n",
    "    \n",
    "       +        __add__(self, second)\n",
    "       -        __sub__(self, second)\n",
    "       *        __mul__(self, second)\n",
    "       /        __truediv__(self, second)\n",
    "       //       __floordiv__(self, second)\n",
    "       **       __pow__(self, second)\n",
    "       >        __gt__(self, second)\n",
    "       <        __lt__(self, second)\n",
    "       >=       __ge__(self, second)\n",
    "       <=       __le__(self, second)\n",
    "       =        __eq__(self, second)\n",
    "       +=       __iadd__(self, second)\n",
    "       -=       __isub__(self, second)"
   ]
  },
  {
   "cell_type": "code",
   "execution_count": 8,
   "id": "c2f6409f",
   "metadata": {},
   "outputs": [
    {
     "name": "stdout",
     "output_type": "stream",
     "text": [
      "3000\n",
      "-1000\n",
      "3000\n",
      "500.0\n"
     ]
    }
   ],
   "source": [
    "class Book:\n",
    "    def __init__(self, n, au, p):\n",
    "        self.bname = n\n",
    "        self.bauthor = au\n",
    "        self.bprice = p\n",
    "        \n",
    "    def __str__(self):\n",
    "        return self.bname\n",
    "        \n",
    "    def __add__(self, second):\n",
    "#         self = pythonObject\n",
    "#         second = djangoObject\n",
    "        return self.bprice + second.bprice\n",
    "\n",
    "    def __sub__(self, second):\n",
    "        return self.bprice - second.bprice\n",
    "    \n",
    "    def __mul__(self, value):\n",
    "        return self.bprice * value\n",
    "    \n",
    "    def __truediv__(self, value):\n",
    "        return self.bprice /value\n",
    "    \n",
    "python = Book('Python', 'GVR', 1000)\n",
    "django = Book('Django', 'SHV', 2000)\n",
    "\n",
    "print(python + django)   # python.__add__(django)\n",
    "print(python - django)   # return python and buy django --> pay only the difference amount\n",
    "print(python * 3)   # buy 3 python books\n",
    "print(python / 2)   # get 50% discount on python book"
   ]
  },
  {
   "cell_type": "code",
   "execution_count": 15,
   "id": "214dcbc2",
   "metadata": {},
   "outputs": [
    {
     "name": "stdout",
     "output_type": "stream",
     "text": [
      "True\n"
     ]
    }
   ],
   "source": [
    "class Rectangle:\n",
    "    def __init__(self, l, b):\n",
    "        self.length = l\n",
    "        self.breadth = b\n",
    "        self.area  = l*b\n",
    "        \n",
    "    def __gt__(self, second):\n",
    "        return self.area > second.area\n",
    "        \n",
    "r1 = Rectangle(10, 5)\n",
    "r2 = Rectangle(2, 6)\n",
    "print(r1>r2)"
   ]
  },
  {
   "cell_type": "markdown",
   "id": "55566810",
   "metadata": {},
   "source": [
    "#### Multiple Inheritence\n",
    "It is the process of acquiring the properties of multiple parent classes into one child class\n",
    "\n",
    "Syntax:\n",
    "\n",
    "        class Parent1:\n",
    "            pass\n",
    "        class Parent2:\n",
    "            pass\n",
    "        class Child(Parent1, Parent2):\n",
    "            pass"
   ]
  },
  {
   "cell_type": "code",
   "execution_count": 5,
   "id": "3e1e9411",
   "metadata": {},
   "outputs": [
    {
     "name": "stdout",
     "output_type": "stream",
     "text": [
      "__init__ of A class\n"
     ]
    },
    {
     "data": {
      "text/plain": [
       "[__main__.C, __main__.A, __main__.B, object]"
      ]
     },
     "execution_count": 5,
     "metadata": {},
     "output_type": "execute_result"
    }
   ],
   "source": [
    "class A:\n",
    "    a = 10\n",
    "    def __init__(self):\n",
    "        print('__init__ of A class')\n",
    "        \n",
    "class B:\n",
    "    b = 20\n",
    "    def __init__(self):\n",
    "        print('__init__ of B class')\n",
    "        \n",
    "class C(A,B):\n",
    "    pass\n",
    "\n",
    "OC = C()\n",
    "C.mro()"
   ]
  },
  {
   "cell_type": "markdown",
   "id": "4f4e88bd",
   "metadata": {},
   "source": [
    "#### Hierarchical Inheritance\t\n",
    "It is the process of acquiring the properties of single parent class to multiple child classes.\n",
    "\n",
    "Syntax:\n",
    "\n",
    "        class Parent:\n",
    "            -------\n",
    "            -------\n",
    "        class Child1(Parent):\n",
    "            -------\n",
    "            -------\n",
    "        class Child2(Parent):\n",
    "            -------\n",
    "            -------"
   ]
  },
  {
   "cell_type": "code",
   "execution_count": 16,
   "id": "5058b597",
   "metadata": {},
   "outputs": [
    {
     "name": "stdout",
     "output_type": "stream",
     "text": [
      "__init__ of B class\n",
      "__init__ of A class\n"
     ]
    }
   ],
   "source": [
    "class A:\n",
    "    a = 10\n",
    "    def __init__(self):\n",
    "        print('__init__ of A class')\n",
    "        \n",
    "class B(A):\n",
    "    b = 20\n",
    "    def __init__(self):\n",
    "        print('__init__ of B class')\n",
    "        \n",
    "class C(A):\n",
    "    pass\n",
    "OB = B()  # B class constructor will be called\n",
    "OC = C()  # A class constructor will be called"
   ]
  },
  {
   "cell_type": "markdown",
   "id": "d0f4143a",
   "metadata": {},
   "source": [
    "#### Multi-Level Inheritence\n",
    "It is the process of inheriting the properties of One Parent into One Child and again inheriting those Inherited Properties into Another Child class\n",
    " \n",
    " OR\n",
    " \n",
    "It is the process of Inheriting the properties of Onec Child Class into Another Child Class\n",
    "\n",
    "Syntax:\n",
    "\n",
    "        class Parent:\n",
    "            ------\n",
    "            ------\n",
    "        class Child1(Parent):\n",
    "            ------\n",
    "            ------\n",
    "        class Child2(Child1):\n",
    "            ------\n",
    "            ------"
   ]
  },
  {
   "cell_type": "code",
   "execution_count": 9,
   "id": "07c96965",
   "metadata": {},
   "outputs": [
    {
     "name": "stdout",
     "output_type": "stream",
     "text": [
      "__init__ of B class\n",
      "__init__ of B class\n"
     ]
    },
    {
     "data": {
      "text/plain": [
       "[__main__.C, __main__.B, __main__.A, object]"
      ]
     },
     "execution_count": 9,
     "metadata": {},
     "output_type": "execute_result"
    }
   ],
   "source": [
    "class A:\n",
    "    a = 10\n",
    "    def __init__(self):\n",
    "        print('__init__ of A class')\n",
    "        \n",
    "class B(A):\n",
    "    b = 20\n",
    "    def __init__(self):\n",
    "        print('__init__ of B class')\n",
    "        \n",
    "class C(B):\n",
    "    pass\n",
    "\n",
    "OB = B()  # B class constructor is called\n",
    "OC = C()  # B class constructor is called\n",
    "C.mro()   # MRO:   C ---> B ----> A ----> object class"
   ]
  },
  {
   "cell_type": "markdown",
   "id": "14c2551a",
   "metadata": {},
   "source": [
    "#### Hybrid Inheritence\n",
    "It is a combination of more than one type of Inheritence\n",
    "\n",
    "#### Parents having different Parents"
   ]
  },
  {
   "cell_type": "code",
   "execution_count": 31,
   "id": "597d2c1c",
   "metadata": {},
   "outputs": [
    {
     "data": {
      "image/png": "[encoded data removed]",
      "text/plain": [
       "<PIL.PngImagePlugin.PngImageFile image mode=RGBA size=217x342>"
      ]
     },
     "execution_count": 31,
     "metadata": {},
     "output_type": "execute_result"
    }
   ],
   "source": [
    "img1 = Image.open('Parents with different Parent.png')\n",
    "img1"
   ]
  },
  {
   "cell_type": "code",
   "execution_count": 2,
   "id": "88ffa58c",
   "metadata": {},
   "outputs": [
    {
     "data": {
      "text/plain": [
       "[__main__.E, __main__.C, __main__.D, __main__.B, __main__.A, object]"
      ]
     },
     "execution_count": 2,
     "metadata": {},
     "output_type": "execute_result"
    }
   ],
   "source": [
    "class A:\n",
    "    a = 10\n",
    "    def __init__(self):\n",
    "        print('__init__ of A class')\n",
    "        \n",
    "class B(A):\n",
    "    b = 20\n",
    "    def __init__(self):\n",
    "        print('__init__ of B class')\n",
    "        \n",
    "class C(A):\n",
    "    pass\n",
    "\n",
    "class D(B):\n",
    "    pass\n",
    "\n",
    "class E(C,D):\n",
    "    pass\n",
    "\n",
    "E.mro()  # E --> C --> D --> B --> A --> object"
   ]
  },
  {
   "cell_type": "markdown",
   "id": "5ff06500",
   "metadata": {},
   "source": [
    "#### Parent classes with same / common Parents"
   ]
  },
  {
   "cell_type": "code",
   "execution_count": 30,
   "id": "892b47a2",
   "metadata": {},
   "outputs": [
    {
     "data": {
      "image/png": "[encoded data removed]",
      "text/plain": [
       "<PIL.PngImagePlugin.PngImageFile image mode=RGBA size=167x270>"
      ]
     },
     "execution_count": 30,
     "metadata": {},
     "output_type": "execute_result"
    }
   ],
   "source": [
    "img2 = Image.open('Parents with common Parent.png')\n",
    "img2"
   ]
  },
  {
   "cell_type": "code",
   "execution_count": 15,
   "id": "047c2b17",
   "metadata": {},
   "outputs": [
    {
     "data": {
      "text/plain": [
       "[__main__.D, __main__.B, __main__.C, __main__.A, object]"
      ]
     },
     "execution_count": 15,
     "metadata": {},
     "output_type": "execute_result"
    }
   ],
   "source": [
    "class A:\n",
    "    a = 10\n",
    "    def __init__(self):\n",
    "        print('__init__ of A class')\n",
    "        \n",
    "class B(A):\n",
    "    b = 20\n",
    "    def __init__(self):\n",
    "        print('__init__ of B class')\n",
    "        \n",
    "class C(A):\n",
    "    pass\n",
    "\n",
    "class D(B,C):\n",
    "    pass\n",
    "\n",
    "D.mro()  # D --> B --> C --> A -->  object"
   ]
  },
  {
   "cell_type": "markdown",
   "id": "56511f33",
   "metadata": {},
   "source": [
    "#### Singleton Class"
   ]
  },
  {
   "cell_type": "markdown",
   "id": "45a9d0bd",
   "metadata": {},
   "source": [
    "Note:  M - Multiplex Class; MCA - Multiplex Class Address; MCO -  Multiplex Class Object Dictionary Address\n",
    "\n",
    "1. Singleton function is defined (decorator)\n",
    "2. Multiplex class is defined (decorated)\n",
    "3. Decoration starts, Singleton (decorator) is called with Multiple Class(decorated) address as argument (arg)\n",
    "    \n",
    "       shree = Multiplex()\n",
    "4. M = singleton(MCA); singleton (decorator) returns inner function address which is now stored in M. i.e., M = inner function address\n",
    "\n",
    "5. when M is called, Multiplex(); inner function is executed; Within the inner function:\n",
    "        \n",
    "        1. If a MCO is not present, within the if block \n",
    "                  A) arg is called [ MCO =  Multiplex() ]\n",
    "                  B) MCO is appended to an empty list\n",
    "                  C) L[0] is returned i.e., MCO address is returned\n",
    "        2. If a MCO is present, that object is returned\n",
    "6. shree = Multiplex(); checks for any element in the list. Since the list is empty, a new object (MCO) is created and stored in say X(111)\n",
    "\n",
    "7. anu = Multiplex(); checks for any element in the list. Since an object has already been created for Shree, same object address- X(111) is returned without creating a new object "
   ]
  },
  {
   "cell_type": "markdown",
   "id": "f702bc2c",
   "metadata": {},
   "source": [
    "#### Singleton Class\n",
    "* Singleton class is a class which can have only one object throughout its life time.\n",
    "* Majorly Singleton class approach is used in case of booking applications\n",
    "* We can achieve Singleton functionality by using decorators"
   ]
  },
  {
   "cell_type": "code",
   "execution_count": 8,
   "id": "420b7dd9",
   "metadata": {},
   "outputs": [
    {
     "name": "stdout",
     "output_type": "stream",
     "text": [
      "Booking is successfull\n",
      "Remaining tickets are 100\n",
      "<__main__.Multiplex object at 0x0000016758B63460>\n",
      "\n",
      "Tickets are not available\n",
      "Remaining tickets  are 100\n",
      "<__main__.Multiplex object at 0x0000016758B63460>\n",
      "\n",
      "Booking is successfull\n",
      "Remaining tickets are 99\n",
      "<__main__.Multiplex object at 0x0000016758B63460>\n"
     ]
    }
   ],
   "source": [
    "def singleton(arg):     # arg = Multiplex Class Object\n",
    "    L = []\n",
    "    def inner():\n",
    "        if not L:\n",
    "            MCO = arg()\n",
    "            L.append(MCO)\n",
    "            \n",
    "        return L[0]\n",
    "    return inner\n",
    "\n",
    "@singleton\n",
    "class Multiplex:\n",
    "    def __init__(self):\n",
    "        self.tickets = 300\n",
    "    def booking(self, nt):\n",
    "        if nt<= self.tickets:\n",
    "            self.tickets -=nt\n",
    "            print('Booking is successfull')\n",
    "            print('Remaining tickets are', self.tickets)\n",
    "        else:\n",
    "            print('Tickets are not available')\n",
    "            print('Remaining tickets  are', self.tickets)\n",
    "                \n",
    "shree = Multiplex()\n",
    "shree.booking(200)\n",
    "print(shree)\n",
    "print()\n",
    "hari = Multiplex()\n",
    "hari.booking(150)\n",
    "print(hari)\n",
    "print()\n",
    "pruthvi = Multiplex()\n",
    "pruthvi.booking(1)\n",
    "print(pruthvi)"
   ]
  },
  {
   "cell_type": "markdown",
   "id": "751d5e29",
   "metadata": {},
   "source": [
    "#### Abstraction\n",
    "Abstraction is a process used to hide the internal functionalities of methods from users.\n",
    "\n",
    "The users can only interact with basic implementation of methods but internal working is hidden.\n",
    "\n",
    "User is falimilar with 'What the function does' but not 'How the function does it'\n",
    "\n",
    "Python doesn't provide abstract class by default itself.We need to import the abc module, which provides the base for defining the Abstract Base Classes (ABC)\n",
    "\n",
    "Abstract class is a class with one or more abstract methods (Abstract class is a prototype class)\n",
    " \n",
    "Abstract method is a method with no implementation\n",
    "\n",
    "We cannot create object for abstract class\n",
    "\n",
    "Main purpose of it is to define how other classes should look like i.e., what methods and properties they are expected to have. \n",
    "\n",
    "#### Syntax for defining Abstract Class:"
   ]
  },
  {
   "cell_type": "code",
   "execution_count": 5,
   "id": "538c4507",
   "metadata": {},
   "outputs": [],
   "source": [
    "from abc import ABC, abstractmethod\n",
    "\n",
    "class AbstractClassName(ABC):    \n",
    "    def abstractmethodname(self):    # mandatory abstract method\n",
    "        pass\n",
    "    \n",
    "    @abstractmethod \n",
    "    def abstractmethod(self):       # non mandatory abstract method\n",
    "        pass"
   ]
  },
  {
   "cell_type": "code",
   "execution_count": 3,
   "id": "f6bc7c88",
   "metadata": {},
   "outputs": [
    {
     "name": "stdout",
     "output_type": "stream",
     "text": [
      "Idly with sambar\n"
     ]
    }
   ],
   "source": [
    "# Example\n",
    "from abc import ABC, abstractmethod\n",
    "\n",
    "class Kalyani(ABC):\n",
    "    @abstractmethod\n",
    "    def breakfast(self):\n",
    "        pass\n",
    "    \n",
    "    @abstractmethod\n",
    "    def lunch(self):\n",
    "        pass\n",
    "    \n",
    "    def dinner(self):\n",
    "        pass\n",
    "    \n",
    "class Guna(Kalyani):\n",
    "    def breakfast(self):\n",
    "        print('Idly with sambar')\n",
    "    \n",
    "    def lunch(self):\n",
    "        print('Rice with dal')\n",
    "    \n",
    "    def dinner(self):\n",
    "        print('Chapati with sabzi')\n",
    "\n",
    "G = Guna()\n",
    "G.breakfast()\n",
    "        \n",
    "class Krithika(Kalyani):\n",
    "    def breakfast(self):\n",
    "        print('Dosa with chutney')\n",
    "    \n",
    "    def lunch(self):\n",
    "        print('Roti with sabzi')\n",
    "    \n",
    "    def dinner(self):\n",
    "        print('Rice with dal')\n",
    "        \n",
    "K = Krithika()"
   ]
  },
  {
   "cell_type": "markdown",
   "id": "c08a36e2",
   "metadata": {},
   "source": [
    "#### Interface class"
   ]
  },
  {
   "cell_type": "raw",
   "id": "d845c0ce",
   "metadata": {},
   "source": [
    "    Interface Class                                            Abstract Class\n",
    "It is a class with only abstract methods                It is a class with both concrete methods and abstract methods\n",
    "\n",
    "Interface class will not have any instance variables    Abstract class will have instance variables"
   ]
  },
  {
   "cell_type": "markdown",
   "id": "93d04275",
   "metadata": {},
   "source": [
    "1. All Interface classes are abstract classes but all abstract classes are not interface classes\n",
    "2. Concrete method is a method with implementation\n",
    "3. Abstract method is a method without any implementation"
   ]
  },
  {
   "cell_type": "code",
   "execution_count": 1,
   "id": "132520a6",
   "metadata": {},
   "outputs": [],
   "source": [
    "from abc import ABC, abstractmethod"
   ]
  },
  {
   "cell_type": "code",
   "execution_count": 2,
   "id": "1b6a5d2a",
   "metadata": {},
   "outputs": [],
   "source": [
    "#Example of abstract class\n",
    "class MotherAC:\n",
    "    def __init__(self,n,a):\n",
    "        self.name=n\n",
    "        self.age=a\n",
    "    \n",
    "    def breakfast(self):\n",
    "        pass\n",
    "    \n",
    "    def lunch(self):\n",
    "        pass\n",
    "    \n",
    "    def dinner(self):\n",
    "        pass"
   ]
  },
  {
   "cell_type": "code",
   "execution_count": 4,
   "id": "4b5f8bff",
   "metadata": {},
   "outputs": [],
   "source": [
    "#Example of Interface Class\n",
    "class FatherAC(ABC):\n",
    "    def breakfast(self):\n",
    "        pass\n",
    "    \n",
    "    def lunch(self):\n",
    "        pass\n",
    "    \n",
    "    def dinner(self):\n",
    "        pass"
   ]
  },
  {
   "cell_type": "code",
   "execution_count": null,
   "id": "cae81c1f",
   "metadata": {},
   "outputs": [],
   "source": []
  }
 ],
 "metadata": {
  "kernelspec": {
   "display_name": "Python 3 (ipykernel)",
   "language": "python",
   "name": "python3"
  },
  "language_info": {
   "codemirror_mode": {
    "name": "ipython",
    "version": 3
   },
   "file_extension": ".py",
   "mimetype": "text/x-python",
   "name": "python",
   "nbconvert_exporter": "python",
   "pygments_lexer": "ipython3",
   "version": "3.8.3"
  }
 },
 "nbformat": 4,
 "nbformat_minor": 5
}
