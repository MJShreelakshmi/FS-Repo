{
 "cells": [
  {
   "cell_type": "markdown",
   "id": "6e5bef61",
   "metadata": {},
   "source": [
    "## OOPS - Object Oriented Programming Structure/System\n",
    "1. Python is a multi-paradigm programming language. It supports different programming approaches.\n",
    "    A paradigm is a standard, perspective or set of ideas.\n",
    "2. It supports both functional and OOPS for solving programming problems\n",
    "3. One of the most popular approach for solving programming problems is by creating objects. This  is known as Object Orienetd Programming\n",
    "4. In OOPS, every real time entity is treated as on object. An object has 2 characteristics: 1. States(Properties)  2. Behaviour (Functionalities)\n",
    "5. Logically, an object is a combination of states and behaviours\n",
    "6. To create an object, we need design\n",
    "7. Class is a design/prototype or template of an object\n",
    "8. From one class, we can create multiple objects\n",
    "\n",
    "    Example of creating an object:\n",
    "    A parrot is an object, it has following properties:\n",
    "    1. Name, Age, Color - Properties\n",
    "    2. Singing and Dancing - Behaviour\n",
    "    \n",
    "##### The concept of OOPS in python focuses on reusability of code. This concept is also known as DRY (Donot Repeat Yourself)\n",
    "\n",
    "#### Process of OOPS\n",
    "1. Creation of a class (blueprint) --> design/ templete/ prototype of an object\n",
    "2. Create the objects from the class (blueprint)\n",
    "3. Use that created object\n",
    "\n",
    "#### Important terms in OOPS\n",
    "1. Class    --> Blue print of an object\n",
    "2. Object   --> Entity which has states(properties) and behaviours (Object --> A Real world entity)\n",
    "3. Instance --> Defining the states of an Object(Current Object; Objects can be multiple at a time but we can have only one instance at a time)\n",
    "4. Methods  --> Defining the behaviours of an Object\n",
    "\n",
    "#### Important concepts in OOPS\n",
    "1. Encapsulation: Binding the properties and Functionalities of an Object under one roof\n",
    "2. Aggregation: It is the process of creating/using of any object of one class in another class\n",
    "3. Inheritence: Acquiring the properties of one class into another class\n",
    "4. Polymorphism: One method behaving in different ways\n",
    "5. Abstraction: Hiding the internal functionalities of an object\n",
    "\n",
    "#### Process of OOPS\n",
    "I) Creating a class:\n",
    "\n",
    "    Syntax:\n",
    "        \n",
    "            class ClassName:   or className():\n",
    "                \n",
    "                states\n",
    "                .\n",
    "                .\n",
    "                \n",
    "                behaviours\n",
    "                .\n",
    "                .\n",
    "                . . . . . .\n",
    "The process occuring in the memory once a class is created:\n",
    "\n",
    "1. A dictionary will get created under the className\n",
    "2. States and behaviours names are considered as keys and their values as values in the dictionary\n",
    "\n",
    "II) Creating an Object:\n",
    "\n",
    "    Syntax:\n",
    "    \n",
    "        ObjectName = ClassName()\n",
    "The process occuring in the memory once we create an object:\n",
    "\n",
    "1. A dictionary will get created under the ObjectName\n",
    "2. Derives all the Class Dictionary properties into Object Dictionary\n",
    "3. Checks for the constructor, if it is available, it will be called\n",
    "    \n",
    "#### States\n",
    "1. States are the properties (information) of the objects\n",
    "2. By using variables, we can define the states of objects\n",
    "\n",
    "#### Classification of states of an Object\n",
    "States of an object are classified into 2 types:\n",
    "1. Generic properties(information) of an Object\n",
    "2. Specific properties (information) of an object\n",
    "\n",
    "#### Generic properties(information)\n",
    "1. These are the common properties of all the objects\n",
    "2. Values for this generic properties will not change from object to object\n",
    "3. Generic Properties are defined by using class variables\n",
    "\n",
    "#### Class Variable\n",
    "Class variables are those variables which are defined inside the class and outside the method\n",
    "\n",
    "    Note: Every class is a data type for its object"
   ]
  },
  {
   "cell_type": "code",
   "execution_count": 1,
   "id": "e627d385",
   "metadata": {},
   "outputs": [
    {
     "name": "stdout",
     "output_type": "stream",
     "text": [
      "<__main__.A object at 0x000001CDAA1F1EB0>\n",
      "<class 'int'>\n"
     ]
    }
   ],
   "source": [
    "class A:\n",
    "    pass\n",
    "oa = A()\n",
    "print(oa)  # class A is a data type for oa object\n",
    "\n",
    "x=10\n",
    "print(type(x))"
   ]
  },
  {
   "cell_type": "code",
   "execution_count": 3,
   "id": "e8c97681",
   "metadata": {},
   "outputs": [],
   "source": [
    "class Bank:\n",
    "    bank_name = 'sbi'\n",
    "    bank_ifsc = 1234\n",
    "    bank_address = 'Marathahalli'\n",
    "girish = Bank()\n",
    "vishnu = Bank()"
   ]
  },
  {
   "cell_type": "markdown",
   "id": "70c6e845",
   "metadata": {},
   "source": [
    "\n",
    "#### Accessing of generic properties using class\n",
    "Syntax:\n",
    "\n",
    "    className.classVariable"
   ]
  },
  {
   "cell_type": "code",
   "execution_count": 4,
   "id": "dc24a8f9",
   "metadata": {},
   "outputs": [
    {
     "name": "stdout",
     "output_type": "stream",
     "text": [
      "sbi\n",
      "1234\n",
      "Marathahalli\n"
     ]
    }
   ],
   "source": [
    "print(Bank.bank_name)\n",
    "print(Bank.bank_ifsc)\n",
    "print(Bank.bank_address)"
   ]
  },
  {
   "cell_type": "markdown",
   "id": "a74b67df",
   "metadata": {},
   "source": [
    "#### Accessing of generic properties using object\n",
    "syntax:\n",
    "    \n",
    "        objectName.classVariable"
   ]
  },
  {
   "cell_type": "code",
   "execution_count": 5,
   "id": "abb231b3",
   "metadata": {},
   "outputs": [
    {
     "name": "stdout",
     "output_type": "stream",
     "text": [
      "sbi\n",
      "1234\n",
      "Marathahalli\n"
     ]
    }
   ],
   "source": [
    "print(girish.bank_name)\n",
    "print(girish.bank_ifsc)\n",
    "print(vishnu.bank_address)"
   ]
  },
  {
   "cell_type": "markdown",
   "id": "e3ea7a25",
   "metadata": {},
   "source": [
    "#### Modifying generic properties using class\n",
    "syntax:\n",
    "\n",
    "    className.classVariable = NewVariable\n",
    "If we modify the generic properties using class, then both the class and object properties will get modified"
   ]
  },
  {
   "cell_type": "code",
   "execution_count": 6,
   "id": "bf48f125",
   "metadata": {},
   "outputs": [
    {
     "name": "stdout",
     "output_type": "stream",
     "text": [
      "4567\n",
      "4567\n",
      "4567\n"
     ]
    }
   ],
   "source": [
    "Bank.bank_ifsc = 4567\n",
    "print(Bank.bank_ifsc)\n",
    "print(girish.bank_ifsc)\n",
    "print(vishnu.bank_ifsc)"
   ]
  },
  {
   "cell_type": "markdown",
   "id": "2c3924c7",
   "metadata": {},
   "source": [
    "#### Modifying generic properties using Object\n",
    "Syntax:\n",
    "\n",
    "    Objectname.classVariable = NewValue\n",
    "If we modify the generic properties using object, then only the particular object properties will get modified "
   ]
  },
  {
   "cell_type": "code",
   "execution_count": 8,
   "id": "a36ea529",
   "metadata": {},
   "outputs": [
    {
     "name": "stdout",
     "output_type": "stream",
     "text": [
      "Marathahalli\n",
      "Rajajinagar\n",
      "Marathahalli\n"
     ]
    }
   ],
   "source": [
    "girish.bank_address = 'Rajajinagar'\n",
    "print(Bank.bank_address)\n",
    "print(girish.bank_address)\n",
    "print(vishnu.bank_address)"
   ]
  },
  {
   "cell_type": "markdown",
   "id": "76837e13",
   "metadata": {},
   "source": [
    "#### Deleting generic properties using class\n",
    "Syntax:\n",
    "\n",
    "    del classname.classvariable\n",
    "Note: If we delete the generic property by using class, then the property will be deleted for the class and all other objects as well\n",
    "\n",
    "#### Deleting generic properties using Object\n",
    "We cannot delete generic properties using Object"
   ]
  },
  {
   "cell_type": "code",
   "execution_count": 9,
   "id": "6a522355",
   "metadata": {},
   "outputs": [
    {
     "ename": "AttributeError",
     "evalue": "type object 'Bank' has no attribute 'bank_ifsc'",
     "output_type": "error",
     "traceback": [
      "\u001b[1;31m---------------------------------------------------------------------------\u001b[0m",
      "\u001b[1;31mAttributeError\u001b[0m                            Traceback (most recent call last)",
      "Cell \u001b[1;32mIn[9], line 2\u001b[0m\n\u001b[0;32m      1\u001b[0m \u001b[38;5;28;01mdel\u001b[39;00m Bank\u001b[38;5;241m.\u001b[39mbank_ifsc\n\u001b[1;32m----> 2\u001b[0m \u001b[38;5;28mprint\u001b[39m(\u001b[43mBank\u001b[49m\u001b[38;5;241;43m.\u001b[39;49m\u001b[43mbank_ifsc\u001b[49m)\n\u001b[0;32m      3\u001b[0m \u001b[38;5;28mprint\u001b[39m(girish\u001b[38;5;241m.\u001b[39mbank_ifsc)\n\u001b[0;32m      4\u001b[0m \u001b[38;5;28mprint\u001b[39m(vishnu\u001b[38;5;241m.\u001b[39mbank_ifsc)\n",
      "\u001b[1;31mAttributeError\u001b[0m: type object 'Bank' has no attribute 'bank_ifsc'"
     ]
    }
   ],
   "source": [
    "del Bank.bank_ifsc\n",
    "print(Bank.bank_ifsc)\n",
    "print(girish.bank_ifsc)\n",
    "print(vishnu.bank_ifsc)"
   ]
  },
  {
   "cell_type": "markdown",
   "id": "36894ac0",
   "metadata": {},
   "source": [
    "#### Creating generic proeprties by using class\n",
    "Syntax:\n",
    "    \n",
    "        classname.newclassvariable = value\n",
    "If we create generic property by using class, then the property will be created for both class and all the objects\n",
    "\n",
    "#### Creating generic properties by using object\n",
    "We cannot create generic property by using object"
   ]
  },
  {
   "cell_type": "code",
   "execution_count": 10,
   "id": "36c4cab0",
   "metadata": {},
   "outputs": [
    {
     "name": "stdout",
     "output_type": "stream",
     "text": [
      "9876543210\n",
      "9876543210\n",
      "9876543210\n"
     ]
    }
   ],
   "source": [
    "Bank.bank_mobile = 9876543210\n",
    "print(Bank.bank_mobile)\n",
    "print(girish.bank_mobile)\n",
    "print(vishnu.bank_mobile)"
   ]
  },
  {
   "cell_type": "raw",
   "id": "49dbe699",
   "metadata": {},
   "source": [
    "m-loc ---> memory location\n",
    "         Bank                                girish                                  vishnu\n",
    "m-loc      keys           values          m-loc    keys    values                  m-loc  keys       values\n",
    "B-1    bank_name     'sbi'                g-1   bank_name    B-1                    v-1  bank_name     B-1\n",
    "B-2    bank_ifsc      1234 XX -- 4567     g-2   bank_ifsc    B-2                    v-2  bank_ifsc     B-2\n",
    "B-3    bank_address  'Marathahalli'       g-3   bank_address B-3 XX -- Rajajinagar  v-3  bank_address  B-3\n",
    "B-4    bank_mobile    9876543210          g-4   bank_mobile  B-4                    v-4  bank_mobile   B-4\n",
    "      |----------X(111)--------------|          |----------Y(111)--------------|         |----------Y(222)--------------|"
   ]
  },
  {
   "cell_type": "markdown",
   "id": "5505bd4b",
   "metadata": {},
   "source": [
    "### Specific Properties\n",
    "1. Specific Properties is used for defining the uncommon data of the objects\n",
    "2. Specific Properties will vary from one object to another\n",
    "3. Specific Properties can be defined using the Object or Instance variable (Inside the Constructor)\n",
    "4. Specific Properties cannot be accessed using the class\n",
    "\n",
    "#### Syntax for creating Specific Properties\n",
    "        object_name.object_variable = value\n",
    "#### Syntax for accessing Specific Properties\n",
    "        object_name.object_variable\n",
    "### Constructor\n",
    "1. Constructor is a special (object) method which is implicitly called whenever an object is created\n",
    "2. We call _ _init_ _ as constructor because it is used for initializing the object members ( constructing of an object with specific properties)\n",
    "3. Self is a mandatory argument that has to be passed for the _ _init_ _ method\n",
    "4. Self is used for considering the instance address"
   ]
  },
  {
   "cell_type": "code",
   "execution_count": 7,
   "id": "95e72b7e",
   "metadata": {},
   "outputs": [
    {
     "name": "stdout",
     "output_type": "stream",
     "text": [
      "executing __init__\n",
      "self is  <__main__.Student object at 0x000001CDAA1F1EE0>\n"
     ]
    }
   ],
   "source": [
    "# Example\n",
    "class Student:\n",
    "    def __init__(self):\n",
    "        print('executing __init__')\n",
    "        print('self is ', self)  \n",
    "        # self is the object address whose value gets assigned at the time of object creation\n",
    "a=Student() # calls the constructor"
   ]
  },
  {
   "cell_type": "markdown",
   "id": "a79057a9",
   "metadata": {},
   "source": [
    "#### Types of constructors\n",
    "1. Constructor with no arguments\n",
    "2. Parameterised constructor (constructor with arguments)\n",
    "3. Constructor with default arguments\n",
    "\n",
    "#### Behaviours or Methods\n",
    "1. These are the operations performed by the object\n",
    "2. Methods are used for defining the the behaviours of an object\n",
    "3. Method is a function defined inside a class\n",
    "\n",
    "### Classification of methods\n",
    "Classification of methods are done based on the values they are going access and modify the properties of an object\n",
    "\n",
    "There are 3 types of methods\n",
    "1. Object Methods\n",
    "2. Class methods\n",
    "3. Static methods\n",
    "\n",
    "#### 1. Object Methods\n",
    "1. These are used for defining, accessing, modifying the specific properties of an object\n",
    "2. While defining object methods, we have to provide a mandatory argument which is responsibe for considering the current object dictionary address\n",
    "3. As per the industrial standards, we have to use self as the name of the mandatory argument\n",
    "4. Object methods are accessed only by using the object reference\n",
    "5. Object methods belong to object\n",
    "\n",
    "#### Syntax for accessing the object methods by object\n",
    "        objectname.methodname(arguments)\n",
    "#### Syntax for accessing object method by using class name\n",
    "        class_name.object_name(object_reference, arguments)\n",
    "Note: Arguments are optional\n"
   ]
  },
  {
   "cell_type": "code",
   "execution_count": 29,
   "id": "47cb6641",
   "metadata": {},
   "outputs": [],
   "source": [
    "class Bank:\n",
    "    bank_name = 'sbi'\n",
    "    bank_ifsc = 1234\n",
    "    bank_address = 'Marathahalli'\n",
    "    def __init__(self, name, acc, bl):\n",
    "        self.cname = name\n",
    "        self.account = acc\n",
    "        self.bal = bl\n",
    "    def customer_details(self):\n",
    "        print(f'Name of the customer is {self.cname}')\n",
    "        print(f'Account number of the customer is {self.account}')\n",
    "        print(f'Balance of the customer is {self.bal}')\n",
    "    def withdraw(self):\n",
    "        amount = int(input('Enter the amount to be withdrawn '))\n",
    "        self.bal-=amount\n",
    "        if self.bal>=amount:\n",
    "            print(f'Amount withdrawal is successfull')\n",
    "            print(f'The balance is {self.bal}')\n",
    "        else:\n",
    "            print('Insufficeint Balance')\n",
    "    def deposit(self):\n",
    "        amount = int(input('Enter the amount to be deposited '))\n",
    "        if amount>0:\n",
    "            self.bal+=amount\n",
    "            print('Amount depoisted successfully')\n",
    "        else:\n",
    "            print('Please enter amount greater than 0')\n",
    "          "
   ]
  },
  {
   "cell_type": "code",
   "execution_count": 30,
   "id": "53111125",
   "metadata": {},
   "outputs": [
    {
     "name": "stdout",
     "output_type": "stream",
     "text": [
      "Enter the amount to be withdrawn 500\n",
      "Amount withdrawal is successfull\n",
      "The balance is 9500\n",
      "Enter the amount to be deposited 5201\n",
      "Amount depoisted successfully\n"
     ]
    }
   ],
   "source": [
    "girish= Bank('Girish', 876543, 10000)\n",
    "vishnu = Bank('Vishnu', 654321,20000)\n",
    "\n",
    "# print(girish.bal)\n",
    "# girish.customer_details()\n",
    "# Bank.customer_details(vishnu)\n",
    "girish.withdraw()                   \n",
    "girish.deposit()      "
   ]
  },
  {
   "cell_type": "raw",
   "id": "008d574e",
   "metadata": {},
   "source": [
    "Constructor - belongs to the class but will be used by objects to define their specififc properties\n",
    "\n",
    "Once an object is created, all the class properties are inherited to the object\n",
    "If the constructor is present, it will be called\n",
    "Object calls the Class -> Class calls the constructor --> Constructor asks the class - what is the self value\n",
    "Object gives the self value to the class , class to constructor, constructor gives the address of the object to the self\n",
    "Now, when girish = Bank() is called... object called girish is created\n",
    "self.specific_var = value1 i.e., y(111).customer_name = 'girish'"
   ]
  },
  {
   "cell_type": "code",
   "execution_count": 1,
   "id": "acec015f",
   "metadata": {},
   "outputs": [],
   "source": [
    "# draw the dict for this"
   ]
  },
  {
   "cell_type": "code",
   "execution_count": null,
   "id": "5051bcb7",
   "metadata": {},
   "outputs": [],
   "source": []
  },
  {
   "cell_type": "markdown",
   "id": "e81b8216",
   "metadata": {},
   "source": [
    "### Decorators"
   ]
  },
  {
   "cell_type": "code",
   "execution_count": 4,
   "id": "8228d82b",
   "metadata": {},
   "outputs": [
    {
     "name": "stdout",
     "output_type": "stream",
     "text": [
      "outer is started\n",
      "<function hai at 0x0000025C552B31F0>\n",
      "outer is ended\n",
      "\n",
      "<function outer.<locals>.inner at 0x0000025C552B30D0>\n",
      "\n",
      "start of inner\n",
      "hai started\n",
      "hai ended\n",
      "end of inner\n"
     ]
    }
   ],
   "source": [
    "#  function called with function address as arg and not returning inner function address\n",
    "def outer(arg): #arg = hai function address\n",
    "    print('outer is started')\n",
    "    print(arg)\n",
    "    def inner():\n",
    "        print('start of inner')\n",
    "        arg()\n",
    "        print('end of inner')\n",
    "    print('outer is ended')\n",
    "    return inner\n",
    "def hai():\n",
    "    print('hai started')\n",
    "    print('hai ended')\n",
    "    \n",
    "result = outer(hai) # returns inner function address\n",
    "print()\n",
    "print(result)\n",
    "print()\n",
    "result()"
   ]
  },
  {
   "cell_type": "markdown",
   "id": "2897618d",
   "metadata": {},
   "source": [
    "Note: outer function arg can be accessed in inner function but a variable of outer function variable cannot be accessed inside inner function"
   ]
  },
  {
   "cell_type": "markdown",
   "id": "a1eda0c9",
   "metadata": {},
   "source": [
    "#### Decorators:\n",
    "Normall functions can be created inside another function and we can pass the function as argument as well\n",
    "\n",
    "Decorators are very powerful and useful features in python\n",
    "\n",
    "Decorators are used for adding features or modifying the behaviour of the function\n",
    "\n",
    "Decorators allow us to wrap aother function (over a given function )inorder to extend the behaviour of wrapped function without permanenetly modifying it\n",
    "\n",
    "    OR\n",
    "Decorators are used for adding additional features to decorated function by using decorator function without modifying the implementation of decorated function\n",
    "\n",
    "Inorder to perform decoration, we need \n",
    "1. Decorator function\n",
    "2. Decorated function\n",
    "\n",
    "#### Decorator function\n",
    "It is the function by using which we perform decoration operation\n",
    "\n",
    "#### Properties of a decorator function:\n",
    "1. It should be a function with one single argument\n",
    "2. It should be Nested function\n",
    "3. It should be a function with return type (that returns inner function address)\n",
    "\n",
    "#### Decorated function\n",
    "It is a function on which we perform decoration operation\n",
    "\n",
    "#### Properties of decorated function\n",
    "It can be of any type (no specific properties for decorated function)\n",
    "\n",
    "Syntax for decoration:\n",
    "        \n",
    "        def decorator():\n",
    "            def inner():\n",
    "                -------\n",
    "                -------\n",
    "                -------\n",
    "            return inner   # return inner function address\n",
    "        @decorator\n",
    "        def decorated():\n",
    "            -----------\n",
    "            -----------\n",
    "        decorated()"
   ]
  },
  {
   "cell_type": "code",
   "execution_count": 21,
   "id": "043e4660",
   "metadata": {},
   "outputs": [
    {
     "name": "stdout",
     "output_type": "stream",
     "text": [
      "outer function begins\n",
      "outer function ends\n",
      "<function outer.<locals>.inner at 0x000001EEF71893A0>\n",
      "inner function begins\n",
      "hai started\n",
      "hai ended\n",
      "inner function ends\n"
     ]
    }
   ],
   "source": [
    "# example:1\n",
    "def outer(arg):\n",
    "    print('outer function begins')\n",
    "    def inner():\n",
    "        print('inner function begins')\n",
    "        arg()\n",
    "        print('inner function ends')\n",
    "    print('outer function ends')\n",
    "    return inner  # inner function address is returned\n",
    "@outer    # not executed initially at the time of defining functions, instead gets executed after the functions are defined \n",
    "def hai():    \n",
    "    print('hai started')\n",
    "    print('hai ended')\n",
    "\n",
    "print(hai) # inner function address is printed\n",
    "hai()      # decorator is called by passing decorated function address; internally---> hai = outer(hai) ---> inner function is called  \n",
    "           # then hai = inner function address(that contains the hai function call) "
   ]
  },
  {
   "cell_type": "markdown",
   "id": "06413606",
   "metadata": {},
   "source": [
    "#### Steps involved in decoration:\n",
    "\n",
    "#### Note:\n",
    "*  hai --> decorated;  outer --> decorator\n",
    "*  always write the necessary extra implementation(like adding extra functionality, changing or restricting the functionality) within the inner function of the decorator\n",
    "*  decorated function contains the actual impementation\n",
    "*  inner function contains the decorated function call ( or directly write the actual implementation within inner function itself)\n",
    "\n",
    "*  Steps are:\n",
    "        \n",
    "        1.  decorator is called by passing decorated function address \n",
    "\n",
    "        2.  then internally, decorated = decorator(decorated) ---> hai = outer(hai)\n",
    "        3.  decorator is called with decorated function address\n",
    "\n",
    "        4.  decorator function call returns inner function address \n",
    "        5.  decorated = inner function address ; hai = inner function address \n",
    "\n",
    "        6.  when decorated function(hai) is called, inner function is called;\n",
    "            (Note: inner function contains the decorated (hai) function's call)   \n",
    "        \n",
    "        7.  now when decorated(hai) function is called:\n",
    "\n",
    "        1.  inner function is called and executed\n",
    "        2.  during the execution of inner function, within itself, decorated function(hai) is called and executed\n",
    "        3.  thus inner function execution returns decorated function(hai) output along with extra functionalities of inner function"
   ]
  },
  {
   "cell_type": "code",
   "execution_count": 22,
   "id": "bbd7f57f",
   "metadata": {},
   "outputs": [
    {
     "name": "stdout",
     "output_type": "stream",
     "text": [
      "brother started monitoring\n",
      "sister-1 started speaking\n",
      "sister-1 ended speaking\n",
      "brother ended monitoring\n",
      "\n",
      "brother started monitoring\n",
      "sister-2 started speaking\n",
      "sister-2 ended speaking\n",
      "brother ended monitoring\n"
     ]
    }
   ],
   "source": [
    "# example:2\n",
    "def brother(arg):\n",
    "    def inner():\n",
    "        print('brother started monitoring')\n",
    "        arg()\n",
    "        print('brother ended monitoring')\n",
    "    return inner\n",
    "@brother # after defining sister_1.. sister_1 = brother(sister_1 address) --> sister_1 = inner_functn_address \n",
    "def sister_1():\n",
    "    print('sister-1 started speaking')\n",
    "    print('sister-1 ended speaking')\n",
    "sister_1()   # sister_! = brother(sister_1 address) --> sister_1 = inner_functn_address \n",
    "print()\n",
    "\n",
    "# Decorating the same (brother)decorator function to another (sister) decorated function \n",
    "@brother\n",
    "def sister_2():\n",
    "    print('sister-2 started speaking')\n",
    "    print('sister-2 ended speaking')\n",
    "sister_2()"
   ]
  },
  {
   "cell_type": "markdown",
   "id": "4f1cfea8",
   "metadata": {},
   "source": [
    "### Calculating the time taken for doing a specific task\n"
   ]
  },
  {
   "cell_type": "code",
   "execution_count": 15,
   "id": "e153213e",
   "metadata": {},
   "outputs": [],
   "source": [
    "def timeDecor(arg):\n",
    "    def inner():\n",
    "        import time\n",
    "        it = time.time()\n",
    "        arg()\n",
    "        ft = time.time()\n",
    "        print('Time taken is: ',ft-it)\n",
    "    return inner"
   ]
  },
  {
   "cell_type": "code",
   "execution_count": 16,
   "id": "b0f715df",
   "metadata": {},
   "outputs": [
    {
     "name": "stdout",
     "output_type": "stream",
     "text": [
      "2\n",
      "5\n",
      "6\n",
      "\n",
      "2 5 7 12 19 31 \n",
      "Time taken is:  2.530649423599243\n"
     ]
    }
   ],
   "source": [
    "@timeDecor\n",
    "def fibo():\n",
    "    fn = int(input())\n",
    "    sn = int(input())\n",
    "    n = int(input())\n",
    "    print()\n",
    "    if n==1:\n",
    "        print(fn)\n",
    "    elif n==2:\n",
    "        print(fn, sn)\n",
    "    else:\n",
    "        print(fn, sn, end=' ')\n",
    "        for i in range(n-2):\n",
    "            tn=fn+sn\n",
    "            print(tn, end=' ')\n",
    "            fn,sn=sn,tn\n",
    "    print()\n",
    "fibo()"
   ]
  },
  {
   "cell_type": "code",
   "execution_count": 18,
   "id": "65687699",
   "metadata": {},
   "outputs": [
    {
     "name": "stdout",
     "output_type": "stream",
     "text": [
      "2\n",
      "25\n",
      "2 3 5 7 11 13 17 19 23 \n",
      "Time taken is:  2.2200255393981934\n"
     ]
    }
   ],
   "source": [
    "@timeDecor\n",
    "def prime():\n",
    "    ll=int(input())\n",
    "    ul=int(input())\n",
    "    for n in range(ll, ul+1):\n",
    "        if n>1:\n",
    "            for i in range(2,n//2+1):\n",
    "                if n%i==0:\n",
    "                    break\n",
    "            else:\n",
    "                print(n, end=' ')\n",
    "    print()\n",
    "prime()"
   ]
  },
  {
   "cell_type": "code",
   "execution_count": 22,
   "id": "7cf12e45",
   "metadata": {},
   "outputs": [
    {
     "name": "stdout",
     "output_type": "stream",
     "text": [
      "5.0\n",
      "0.0\n"
     ]
    }
   ],
   "source": [
    "# Division without Error\n",
    "def dWError(arg):\n",
    "    def inner(a,b):\n",
    "        if b==0:\n",
    "            arg(b,a)\n",
    "        else:\n",
    "            arg(a,b)\n",
    "    return inner\n",
    "@dWError\n",
    "def division(a,b):\n",
    "    print(a/b)\n",
    "\n",
    "division(10,2)\n",
    "division(10,0)"
   ]
  },
  {
   "cell_type": "code",
   "execution_count": null,
   "id": "2e0c6158",
   "metadata": {},
   "outputs": [],
   "source": []
  }
 ],
 "metadata": {
  "kernelspec": {
   "display_name": "Python 3 (ipykernel)",
   "language": "python",
   "name": "python3"
  },
  "language_info": {
   "codemirror_mode": {
    "name": "ipython",
    "version": 3
   },
   "file_extension": ".py",
   "mimetype": "text/x-python",
   "name": "python",
   "nbconvert_exporter": "python",
   "pygments_lexer": "ipython3",
   "version": "3.8.3"
  }
 },
 "nbformat": 4,
 "nbformat_minor": 5
}
