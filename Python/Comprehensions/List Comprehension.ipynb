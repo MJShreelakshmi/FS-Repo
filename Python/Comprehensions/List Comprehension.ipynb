{
 "cells": [
  {
   "cell_type": "markdown",
   "id": "59501645",
   "metadata": {},
   "source": [
    "### Comprehensions\n",
    "1. Comprehensions in python are used for creating sequences from iterables/another sequence\n",
    "2. Comprehensions are single line statements\n",
    "3. Based on expression, if we need to define a sequence, we go for comprehensions\n",
    "\n",
    "#### Classification of comprehensions\n",
    "In python, we have 3 types of comprehensions\n",
    "1. List comprehension\n",
    "2. Set comprehension\n",
    "3. Dictionary comprehension\n",
    "\n",
    "#### 1. List comprehension\n",
    "1. It is a single line statement which is used to create a new list by processing existing sequence\n",
    "\n",
    "#### Syntax for list comprehension with one value and one for loop\n",
    "\n",
    "        var_name = [ value for loop ]"
   ]
  },
  {
   "cell_type": "code",
   "execution_count": 1,
   "id": "7f4b5489",
   "metadata": {},
   "outputs": [
    {
     "name": "stdout",
     "output_type": "stream",
     "text": [
      "[1, 2, 3, 4, 5, 6, 7, 8, 9, 10]\n"
     ]
    },
    {
     "data": {
      "text/plain": [
       "[1, 2, 3, 4, 5, 6, 7, 8, 9, 10]"
      ]
     },
     "execution_count": 1,
     "metadata": {},
     "output_type": "execute_result"
    }
   ],
   "source": [
    "# example:  adding the numbers into list by using normal approach\n",
    "l=[]\n",
    "for i in range(1,11):\n",
    "    l.append(i)\n",
    "print(l)\n",
    "\n",
    "#  using list comprehension\n",
    "l = [i for i in range(1,11)]\n",
    "l"
   ]
  },
  {
   "cell_type": "code",
   "execution_count": 3,
   "id": "16c50e39",
   "metadata": {},
   "outputs": [
    {
     "data": {
      "text/plain": [
       "[1, 8, 27, 64, 125, 216, 343, 512, 729, 1000]"
      ]
     },
     "execution_count": 3,
     "metadata": {},
     "output_type": "execute_result"
    }
   ],
   "source": [
    "# wapt add cubes of the number from 1 to 10intothe list by using comprehension\n",
    "cubes = [j**3 for j in range(1,11)]\n",
    "cubes"
   ]
  },
  {
   "cell_type": "markdown",
   "id": "e2a2846c",
   "metadata": {},
   "source": [
    "#### Syntax for list comprehension with one value, one for loop and one if condition\n",
    "\n",
    "        var_name = [ val for loop if condition ]"
   ]
  },
  {
   "cell_type": "code",
   "execution_count": 5,
   "id": "71688639",
   "metadata": {},
   "outputs": [
    {
     "data": {
      "text/plain": [
       "[11, 99]"
      ]
     },
     "execution_count": 5,
     "metadata": {},
     "output_type": "execute_result"
    }
   ],
   "source": [
    "# eg: from the given tuple add odd numbers into list\n",
    "t = (11,78,34,99,100,150,64,120)\n",
    "l = [i for i in t if i%2==1]\n",
    "l"
   ]
  },
  {
   "cell_type": "code",
   "execution_count": 6,
   "id": "214bcf97",
   "metadata": {},
   "outputs": [
    {
     "data": {
      "text/plain": [
       "[78, 34, 100, 150, 64, 120]"
      ]
     },
     "execution_count": 6,
     "metadata": {},
     "output_type": "execute_result"
    }
   ],
   "source": [
    "# print even from the list\n",
    "l = [i for i in t if i%2==0]\n",
    "l"
   ]
  },
  {
   "cell_type": "markdown",
   "id": "0adbc314",
   "metadata": {},
   "source": [
    "#### Syntax for list comprehension with one value, one for loop and multiple if condition¶\n",
    "\n",
    "    var_name = [ value for loop if condition1 and / or condition2 ] "
   ]
  },
  {
   "cell_type": "code",
   "execution_count": 7,
   "id": "6c410abc",
   "metadata": {},
   "outputs": [
    {
     "data": {
      "text/plain": [
       "[99]"
      ]
     },
     "execution_count": 7,
     "metadata": {},
     "output_type": "execute_result"
    }
   ],
   "source": [
    "# from the given tuple add only odd numbers which are greater than 50 into the list by using list comprehension\n",
    "l = [i for i in t if i%2==1 and i>50]\n",
    "l"
   ]
  },
  {
   "cell_type": "code",
   "execution_count": 14,
   "id": "295c85fe",
   "metadata": {},
   "outputs": [
    {
     "data": {
      "text/plain": [
       "[121, 155, 190]"
      ]
     },
     "execution_count": 14,
     "metadata": {},
     "output_type": "execute_result"
    }
   ],
   "source": [
    "# wapt print all odd numbers and even numbers which are greater than 100 which is present in the given tuple into the list\n",
    "t = (10,100,121,155,190)\n",
    "l = [ i for i in t if (i%2==0 and i>100) or  ( i%2==1) ]\n",
    "l"
   ]
  },
  {
   "cell_type": "markdown",
   "id": "7f1fcc77",
   "metadata": {},
   "source": [
    "#### Syntax for list comprehension with if else and for loop\n",
    "\n",
    "    var_name = [ true_value if condition else false_value for loop ] "
   ]
  },
  {
   "cell_type": "code",
   "execution_count": 3,
   "id": "06f7b552",
   "metadata": {},
   "outputs": [
    {
     "name": "stdout",
     "output_type": "stream",
     "text": [
      "[1, 0, 0, 1]\n",
      "[1, 0, 0, 1]\n"
     ]
    }
   ],
   "source": [
    "# Based on the given number/elements present in the given tuple, add 1 into list if it is even otherise add 0\n",
    "t = (10,11,21,24)\n",
    "# normal appproach\n",
    "l = []\n",
    "for i in t:\n",
    "    if i%2 ==0:\n",
    "        l.append(1)\n",
    "    else:\n",
    "        l.append(0)\n",
    "print(l)\n",
    "\n",
    "# using list comprehension\n",
    "l = [1 if i%2==0 else 0 for i in t]\n",
    "print(l)"
   ]
  },
  {
   "cell_type": "markdown",
   "id": "252ec1bc",
   "metadata": {},
   "source": [
    "#### Syntax for list comprehension with one value, multiple for loops and if condition\n",
    "\n",
    "Syntax:\n",
    "\n",
    "        [ value for loop1 for loop2 ... for loop_n if condition ]"
   ]
  },
  {
   "cell_type": "code",
   "execution_count": 3,
   "id": "cd4b124c",
   "metadata": {},
   "outputs": [
    {
     "name": "stdout",
     "output_type": "stream",
     "text": [
      "[[1, 1, 1], [2, 2, 2], [3, 3, 3], [4, 4, 4], [5, 5, 5], [6, 6, 6], [7, 7, 7], [8, 8, 8], [9, 9, 9]]\n"
     ]
    }
   ],
   "source": [
    "data = [[i,j,k] for i in range(1,10) for j in range(1,10) for k in range(1,10) if i==j==k]\n",
    "print(data)"
   ]
  },
  {
   "cell_type": "code",
   "execution_count": 4,
   "id": "280b573d",
   "metadata": {},
   "outputs": [
    {
     "name": "stdout",
     "output_type": "stream",
     "text": [
      "[[1, 1, 1], [2, 2, 2], [3, 3, 3], [4, 4, 4], [5, 5, 5], [6, 6, 6]]\n"
     ]
    }
   ],
   "source": [
    "l = [[i]*3 for i in range(1,7)]\n",
    "print(l)"
   ]
  },
  {
   "cell_type": "code",
   "execution_count": null,
   "id": "ac398736",
   "metadata": {},
   "outputs": [],
   "source": []
  }
 ],
 "metadata": {
  "kernelspec": {
   "display_name": "Python 3 (ipykernel)",
   "language": "python",
   "name": "python3"
  },
  "language_info": {
   "codemirror_mode": {
    "name": "ipython",
    "version": 3
   },
   "file_extension": ".py",
   "mimetype": "text/x-python",
   "name": "python",
   "nbconvert_exporter": "python",
   "pygments_lexer": "ipython3",
   "version": "3.8.3"
  }
 },
 "nbformat": 4,
 "nbformat_minor": 5
}
