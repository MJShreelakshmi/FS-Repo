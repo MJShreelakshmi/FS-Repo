{
 "cells": [
  {
   "cell_type": "markdown",
   "id": "16c7ff3c",
   "metadata": {},
   "source": [
    "### Set Comprehensions\n",
    "* It is a single line statement which is used to create new set by processing existing sequence\n",
    "\n",
    "#### Set comprehension syntax with one value and one for loop\n",
    "\n",
    "        var_name = { value for loop }"
   ]
  },
  {
   "cell_type": "code",
   "execution_count": 1,
   "id": "205cc21a",
   "metadata": {},
   "outputs": [
    {
     "data": {
      "text/plain": [
       "{1, 2, 3, 4, 5, 6, 7, 8, 9, 10}"
      ]
     },
     "execution_count": 1,
     "metadata": {},
     "output_type": "execute_result"
    }
   ],
   "source": [
    "# adding the numbers into set by using set comprehension approach\n",
    "s = {i for i in range(1,11)}\n",
    "s"
   ]
  },
  {
   "cell_type": "code",
   "execution_count": 2,
   "id": "66a40083",
   "metadata": {},
   "outputs": [
    {
     "data": {
      "text/plain": [
       "{1, 8, 27, 64, 125, 216, 343, 512, 729, 1000}"
      ]
     },
     "execution_count": 2,
     "metadata": {},
     "output_type": "execute_result"
    }
   ],
   "source": [
    "# wapt add cubes of the numbers from 1 to 10 into set by using set comprehension\n",
    "s = { i**3 for i in range(1,11)}\n",
    "s"
   ]
  },
  {
   "cell_type": "markdown",
   "id": "538859d7",
   "metadata": {},
   "source": [
    "#### Set comprehension syntax with one value and one for loop and one if condition\n",
    "    var_name = { value for loop if condition }"
   ]
  },
  {
   "cell_type": "code",
   "execution_count": 3,
   "id": "ec82b8fe",
   "metadata": {},
   "outputs": [
    {
     "data": {
      "text/plain": [
       "{11, 23, 67, 99}"
      ]
     },
     "execution_count": 3,
     "metadata": {},
     "output_type": "execute_result"
    }
   ],
   "source": [
    "# from the given tuple add only odd numbers to the list\n",
    "t = (11,78,34,99,23,67,90,70)\n",
    "s = {i for i in t if i%2==1}\n",
    "s"
   ]
  },
  {
   "cell_type": "markdown",
   "id": "7b66d95c",
   "metadata": {},
   "source": [
    "#### Set comprehension syntax with one value and one for loop and multiple if condition\n",
    "    var_name = { value for loop if condition1 and/or condition2  }"
   ]
  },
  {
   "cell_type": "code",
   "execution_count": 4,
   "id": "c50f0d2e",
   "metadata": {},
   "outputs": [
    {
     "data": {
      "text/plain": [
       "{67, 99}"
      ]
     },
     "execution_count": 4,
     "metadata": {},
     "output_type": "execute_result"
    }
   ],
   "source": [
    "# from the given tuple add only odd numbers hich are greater than 50 into the set by using set comprehension\n",
    "t = (11,78,34,99,23,67,90,70)\n",
    "s = {i for i in t if i%2==1 and i>50}\n",
    "s "
   ]
  },
  {
   "cell_type": "code",
   "execution_count": 5,
   "id": "273aa253",
   "metadata": {},
   "outputs": [
    {
     "name": "stdout",
     "output_type": "stream",
     "text": [
      "{99, 67, 11, 23}\n"
     ]
    },
    {
     "data": {
      "text/plain": [
       "{11, 23, 67, 99}"
      ]
     },
     "execution_count": 5,
     "metadata": {},
     "output_type": "execute_result"
    }
   ],
   "source": [
    "# wapt add all the odd numbers as well as even numbers which are greater than 100 which is present in the tuple into set\n",
    "s = {i for i in t if i%2==1 or (i%2==0 and i> 100)}\n",
    "print(s)\n",
    "#  or\n",
    "s = {i for i in t if i%2==1 or i>100}\n",
    "s"
   ]
  },
  {
   "cell_type": "markdown",
   "id": "9eb42748",
   "metadata": {},
   "source": [
    "#### Set comprehension syntax with if else and for loop\n",
    "    var_name = { tv if condition else fv for loop  }"
   ]
  },
  {
   "cell_type": "code",
   "execution_count": 14,
   "id": "09de724c",
   "metadata": {
    "scrolled": true
   },
   "outputs": [
    {
     "data": {
      "text/plain": [
       "{0, 1}"
      ]
     },
     "execution_count": 14,
     "metadata": {},
     "output_type": "execute_result"
    }
   ],
   "source": [
    "# Based on the numbers present in the given tuple, add 1 into the list if it is even else add 0 into the list\n",
    "t = (11,78,34,99,23,67,90,70)\n",
    "s = {1 if i%2==0 else 0 for i in t }\n",
    "s "
   ]
  },
  {
   "cell_type": "markdown",
   "id": "793be727",
   "metadata": {},
   "source": [
    "#### syntax for set comprehension with one value, multiple for loops and if condition\n",
    "\n",
    "    { value for loop1 for loop2... for loop_n if condition }"
   ]
  },
  {
   "cell_type": "code",
   "execution_count": 16,
   "id": "214efaae",
   "metadata": {},
   "outputs": [
    {
     "name": "stdout",
     "output_type": "stream",
     "text": [
      "{(6, 6, 6), (5, 5, 5), (9, 9, 9), (2, 2, 2), (7, 7, 7), (3, 3, 3), (4, 4, 4), (8, 8, 8), (1, 1, 1)}\n"
     ]
    }
   ],
   "source": [
    "data = {(i,j,k) for i in range(1,10) for j in range(1,10) for k in range(1,10) if i==j==k}\n",
    "print(data)"
   ]
  },
  {
   "cell_type": "code",
   "execution_count": 17,
   "id": "bd4d8f16",
   "metadata": {},
   "outputs": [
    {
     "name": "stdout",
     "output_type": "stream",
     "text": [
      "{3, 6, 9, 12, 15, 18}\n"
     ]
    }
   ],
   "source": [
    "l = {(i)*3 for i in range(1,7)}\n",
    "print(l)"
   ]
  },
  {
   "cell_type": "code",
   "execution_count": null,
   "id": "4b312f18",
   "metadata": {},
   "outputs": [],
   "source": []
  }
 ],
 "metadata": {
  "kernelspec": {
   "display_name": "Python 3 (ipykernel)",
   "language": "python",
   "name": "python3"
  },
  "language_info": {
   "codemirror_mode": {
    "name": "ipython",
    "version": 3
   },
   "file_extension": ".py",
   "mimetype": "text/x-python",
   "name": "python",
   "nbconvert_exporter": "python",
   "pygments_lexer": "ipython3",
   "version": "3.8.3"
  }
 },
 "nbformat": 4,
 "nbformat_minor": 5
}
