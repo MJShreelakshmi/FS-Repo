{
 "cells": [
  {
   "cell_type": "markdown",
   "id": "c3e054ca",
   "metadata": {},
   "source": [
    "#### Dictionay Comprehension\n",
    "1. It is a single line statement which is used to create a new dictionary by processing existing sequence\n",
    "\n",
    "Syntax:\n",
    "\n",
    "        {key:value for loop}"
   ]
  },
  {
   "cell_type": "code",
   "execution_count": 4,
   "id": "866a8c62",
   "metadata": {},
   "outputs": [
    {
     "data": {
      "text/plain": [
       "{3: 9, 4: 16, 5: 25, 6: 36}"
      ]
     },
     "execution_count": 4,
     "metadata": {},
     "output_type": "execute_result"
    }
   ],
   "source": [
    "# WAPT add elements of given tuple and its squares into the dictionary\n",
    "t = (3,4,5,6)\n",
    "d = {k:k**2 for k in t}\n",
    "d"
   ]
  },
  {
   "cell_type": "code",
   "execution_count": 6,
   "id": "f7f54dd6",
   "metadata": {},
   "outputs": [
    {
     "data": {
      "text/plain": [
       "{'A': 'aaaa', 'B': 'bbbb', 'C': 'cccc'}"
      ]
     },
     "execution_count": 6,
     "metadata": {},
     "output_type": "execute_result"
    }
   ],
   "source": [
    "s='aBc'   \n",
    "# op: {'A': 'aaaa', 'B': 'bbbb', 'C': 'cccc'}\n",
    "\n",
    "d = {k.upper():k.lower()*4 for k in s}\n",
    "d"
   ]
  },
  {
   "cell_type": "code",
   "execution_count": 11,
   "id": "cb5df388",
   "metadata": {},
   "outputs": [
    {
     "data": {
      "text/plain": [
       "{'A': 'a', 'B': 'bb', 'C': 'ccc'}"
      ]
     },
     "execution_count": 11,
     "metadata": {},
     "output_type": "execute_result"
    }
   ],
   "source": [
    "s='aBc' \n",
    "# op: {'A': 'a', 'B': 'bb', 'C': 'ccc'}\n",
    "\n",
    "d={s[ip].upper():s[ip].lower()*(ip+1) for ip in range(len(s))}\n",
    "d"
   ]
  },
  {
   "cell_type": "code",
   "execution_count": 13,
   "id": "9c441cc7",
   "metadata": {},
   "outputs": [
    {
     "data": {
      "text/plain": [
       "{0: 'a', 1: 'B', 2: 'c'}"
      ]
     },
     "execution_count": 13,
     "metadata": {},
     "output_type": "execute_result"
    }
   ],
   "source": [
    "# WAPT represent index position of the element as the key and element as the value of the specified string\n",
    "d = {ip:s[ip] for ip in range(len(s))}\n",
    "d"
   ]
  },
  {
   "cell_type": "markdown",
   "id": "28a5f16a",
   "metadata": {},
   "source": [
    "#### enumerate function\n",
    "enumerate function is used for returning enumerate object which consists of index position and its element\n",
    "\n",
    "#### dictionary comprehension along with enumerate function"
   ]
  },
  {
   "cell_type": "code",
   "execution_count": 15,
   "id": "d3f92c44",
   "metadata": {},
   "outputs": [
    {
     "data": {
      "text/plain": [
       "{0: 'a', 1: 'B', 2: 'c'}"
      ]
     },
     "execution_count": 15,
     "metadata": {},
     "output_type": "execute_result"
    }
   ],
   "source": [
    "# eg:\n",
    "d = {key:val for key, val in enumerate(s)}\n",
    "d"
   ]
  },
  {
   "cell_type": "code",
   "execution_count": 30,
   "id": "e45a9f35",
   "metadata": {},
   "outputs": [
    {
     "data": {
      "text/plain": [
       "{'a': 10, 'b': 20, 'c': 30}"
      ]
     },
     "execution_count": 30,
     "metadata": {},
     "output_type": "execute_result"
    }
   ],
   "source": [
    "l=[10,20,30]\n",
    "s='abc'\n",
    "d = {val:s[key] for key,val in enumerate(l)}   # OR\n",
    "\n",
    "d = {item[1]:s[item[0]] for item in enumerate(l)}  # OR\n",
    "\n",
    "d = {s[ip]:l[ip] for ip in range(len(s))}\n",
    "\n",
    "d"
   ]
  },
  {
   "cell_type": "markdown",
   "id": "917b4d20",
   "metadata": {},
   "source": [
    "#### zip function\n",
    "1. zip function is used for merging the elements of given collection data types based on their positions\n",
    "2. zip function cosiders the collection data type whose length is smaller"
   ]
  },
  {
   "cell_type": "code",
   "execution_count": 22,
   "id": "d929705d",
   "metadata": {},
   "outputs": [
    {
     "data": {
      "text/plain": [
       "{'a': 10, 'b': 20, 'c': 30}"
      ]
     },
     "execution_count": 22,
     "metadata": {},
     "output_type": "execute_result"
    }
   ],
   "source": [
    "s='abcd'\n",
    "l=[10,20,30]\n",
    "d = {key:val for key, val in zip(s,l)}\n",
    "d"
   ]
  },
  {
   "cell_type": "markdown",
   "id": "4a63bf51",
   "metadata": {},
   "source": [
    "#### zip_longest\n",
    "1. zip function is used for merging the elements of given collection data types based on their positions\n",
    "2. zip function cosiders the collection data type whose length is larger"
   ]
  },
  {
   "cell_type": "code",
   "execution_count": 34,
   "id": "b9ccf715",
   "metadata": {},
   "outputs": [
    {
     "data": {
      "text/plain": [
       "{'a': 10, 'b': 20, 'c': 30, 'd': 'hello'}"
      ]
     },
     "execution_count": 34,
     "metadata": {},
     "output_type": "execute_result"
    }
   ],
   "source": [
    "from itertools import zip_longest\n",
    "s='abcd'\n",
    "l=[10,20,30]\n",
    "dict(zip_longest(s,l, fillvalue='hello'))"
   ]
  },
  {
   "cell_type": "code",
   "execution_count": null,
   "id": "5e375311",
   "metadata": {},
   "outputs": [],
   "source": []
  },
  {
   "cell_type": "code",
   "execution_count": null,
   "id": "b41cd1e7",
   "metadata": {},
   "outputs": [],
   "source": []
  }
 ],
 "metadata": {
  "kernelspec": {
   "display_name": "Python 3 (ipykernel)",
   "language": "python",
   "name": "python3"
  },
  "language_info": {
   "codemirror_mode": {
    "name": "ipython",
    "version": 3
   },
   "file_extension": ".py",
   "mimetype": "text/x-python",
   "name": "python",
   "nbconvert_exporter": "python",
   "pygments_lexer": "ipython3",
   "version": "3.8.3"
  }
 },
 "nbformat": 4,
 "nbformat_minor": 5
}
