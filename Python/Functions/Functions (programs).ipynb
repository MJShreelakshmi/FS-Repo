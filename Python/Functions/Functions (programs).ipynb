{
 "cells": [
  {
   "cell_type": "markdown",
   "id": "bc70fe56",
   "metadata": {},
   "source": [
    "#### 1. Print even numbers in a given range (Applying code modularity)\n",
    "1. check if a number is even or not\n",
    "2. print the even numbers"
   ]
  },
  {
   "cell_type": "code",
   "execution_count": 3,
   "id": "0f534091",
   "metadata": {},
   "outputs": [
    {
     "name": "stdout",
     "output_type": "stream",
     "text": [
      "2  4  6  8  10  "
     ]
    }
   ],
   "source": [
    "def isEven(n):\n",
    "    if n%2==0:\n",
    "        return True\n",
    "    else:\n",
    "        return False\n",
    "    \n",
    "def printEvenNumbers(ll,ul):\n",
    "    for i in range(ll, ul+1):\n",
    "        if isEven(i):\n",
    "            print(i, end='  ')\n",
    "            \n",
    "printEvenNumbers(1,10)"
   ]
  },
  {
   "cell_type": "markdown",
   "id": "d2ddf432",
   "metadata": {},
   "source": [
    "#### 2. WAPT a given number is prime number or not  "
   ]
  },
  {
   "cell_type": "code",
   "execution_count": 4,
   "id": "82d0757b",
   "metadata": {},
   "outputs": [
    {
     "data": {
      "text/plain": [
       "False"
      ]
     },
     "execution_count": 4,
     "metadata": {},
     "output_type": "execute_result"
    }
   ],
   "source": [
    "def isPrime(n):\n",
    "    if n<=1:\n",
    "        return False\n",
    "    else:\n",
    "        for i in range(2, n//2+1):\n",
    "            if n%i==0:\n",
    "                return False\n",
    "        else:\n",
    "            return True\n",
    "\n",
    "isPrime(100)"
   ]
  },
  {
   "cell_type": "code",
   "execution_count": 7,
   "id": "67369b43",
   "metadata": {},
   "outputs": [
    {
     "name": "stdout",
     "output_type": "stream",
     "text": [
      "2 3 5 7 11 13 17 19 23 29 31 37 41 43 47 53 59 61 67 71 73 79 83 89 97 "
     ]
    }
   ],
   "source": [
    "# prime numbers in a given range\n",
    "def primenumbers(ll,ul):\n",
    "    for n in range(ll, ul+1):\n",
    "        if isPrime(n):\n",
    "            print(n, end=' ')\n",
    "\n",
    "primenumbers(1,100)"
   ]
  },
  {
   "cell_type": "code",
   "execution_count": 11,
   "id": "38777547",
   "metadata": {},
   "outputs": [
    {
     "name": "stdout",
     "output_type": "stream",
     "text": [
      "2 3 5 7 11 13 17 19 23 29 "
     ]
    }
   ],
   "source": [
    "def firstnPrime(count):\n",
    "    c=0\n",
    "    n=2\n",
    "    while True:\n",
    "        if isPrime(n):\n",
    "            print(n, end=' ')\n",
    "            c+=1\n",
    "            if c==count:\n",
    "                break\n",
    "        n+=1\n",
    "        \n",
    "firstnPrime(10)"
   ]
  },
  {
   "cell_type": "markdown",
   "id": "4c5b87c8",
   "metadata": {},
   "source": [
    "#### 3. Print Paliprimes in a given range\n",
    "\n",
    "Steps:\n",
    "1. check given number is prime or not\n",
    "2. reverse a given number\n",
    "3. check given number is palindrome or not\n",
    "4. check given number is paliprime or not\n",
    "5. print paliprime numbers"
   ]
  },
  {
   "cell_type": "code",
   "execution_count": 7,
   "id": "f739c9e3",
   "metadata": {},
   "outputs": [],
   "source": [
    "def isPrime(n):\n",
    "    if n>1:\n",
    "        for i in range(2,n//2+1):\n",
    "            if n%i==0:\n",
    "                break\n",
    "        else:\n",
    "            return True\n",
    "    else:\n",
    "        return False\n",
    "\n",
    "def reverse(n):\n",
    "    rev=0\n",
    "    while n>0:\n",
    "        rem=n%10\n",
    "        n//=10\n",
    "        rev = rev*10+rem\n",
    "    return rev\n",
    "    \n",
    "def isPaliprime(n):\n",
    "    rev = reverse(n)\n",
    "    if n == rev and isPrime(n):\n",
    "        return True\n",
    "    else:\n",
    "        return False"
   ]
  },
  {
   "cell_type": "code",
   "execution_count": 8,
   "id": "e6cd5c2d",
   "metadata": {
    "scrolled": true
   },
   "outputs": [
    {
     "name": "stdout",
     "output_type": "stream",
     "text": [
      "2 is a Paliprime number\n",
      "3 is a Paliprime number\n",
      "5 is a Paliprime number\n",
      "7 is a Paliprime number\n",
      "11 is a Paliprime number\n",
      "None\n"
     ]
    }
   ],
   "source": [
    "def printPaliprime(ll, ul):\n",
    "    for n in range(ll, ul+1):\n",
    "        if isPaliprime(n):\n",
    "            print(f'{n} is a Paliprime number')\n",
    "print(printPaliprime(1,100))"
   ]
  },
  {
   "cell_type": "code",
   "execution_count": 9,
   "id": "a2164cec",
   "metadata": {},
   "outputs": [
    {
     "name": "stdout",
     "output_type": "stream",
     "text": [
      "2 is a Paliprime number\n",
      "3 is a Paliprime number\n",
      "5 is a Paliprime number\n",
      "7 is a Paliprime number\n",
      "11 is a Paliprime number\n"
     ]
    }
   ],
   "source": [
    "# first N paliprimes\n",
    "def firstNPaliprimes(count):\n",
    "    n=1\n",
    "    cnt = 0\n",
    "    while True:\n",
    "        if isPaliprime(n):\n",
    "            print(f'{n} is a Paliprime number')\n",
    "            cnt+=1\n",
    "            if cnt == count:\n",
    "                break\n",
    "        n+=1\n",
    "firstNPaliprimes(5)"
   ]
  },
  {
   "cell_type": "code",
   "execution_count": 10,
   "id": "6b8dee0b",
   "metadata": {},
   "outputs": [
    {
     "name": "stdout",
     "output_type": "stream",
     "text": [
      "5 is the 3th Paliprime number\n"
     ]
    }
   ],
   "source": [
    "# nth Paliprime\n",
    "def nthPaliprime(count):\n",
    "    n=1\n",
    "    cnt=0\n",
    "    while True:\n",
    "        if isPaliprime(n):\n",
    "            cnt+=1\n",
    "            if cnt==count:\n",
    "                print(f'{n} is the {count}th Paliprime number')\n",
    "                break\n",
    "        n+=1\n",
    "        \n",
    "nthPaliprime(3)"
   ]
  },
  {
   "cell_type": "markdown",
   "id": "aa373628",
   "metadata": {},
   "source": [
    "#### 4. WAPT EMIRP numbers in a given range\n",
    "EMIRP number is a number which satisfies beow mentioned conditions:\n",
    "1. Number should be prime\n",
    "2. Reverse of a number should also be prime\n",
    "3. But the number should not be a palindrome"
   ]
  },
  {
   "cell_type": "code",
   "execution_count": 1,
   "id": "00316856",
   "metadata": {},
   "outputs": [],
   "source": [
    "def isPrime(n):\n",
    "    if n>1:\n",
    "        for i in range(2,n//2+1):\n",
    "            if n%i==0:\n",
    "                break\n",
    "        else:\n",
    "            return True\n",
    "    else:\n",
    "        return False\n",
    "\n",
    "def reverse(n):\n",
    "    rev=0\n",
    "    while n>0:\n",
    "        rem=n%10\n",
    "        n//=10\n",
    "        rev = rev*10+rem\n",
    "    return rev\n",
    "    \n",
    "def isEmirp(n):\n",
    "    rev = reverse(n)\n",
    "    if isPrime(n) and isPrime(rev):\n",
    "        if n!=rev:\n",
    "            return True\n",
    "    else:\n",
    "         return False"
   ]
  },
  {
   "cell_type": "code",
   "execution_count": 2,
   "id": "d034b20f",
   "metadata": {},
   "outputs": [
    {
     "name": "stdout",
     "output_type": "stream",
     "text": [
      "13 is an EMIRP number\n",
      "17 is an EMIRP number\n",
      "31 is an EMIRP number\n",
      "37 is an EMIRP number\n"
     ]
    }
   ],
   "source": [
    "def printEmirp(ll, ul):\n",
    "    for n in range(ll, ul+1):\n",
    "        if isEmirp(n):\n",
    "            print(f'{n} is an EMIRP number')\n",
    "printEmirp(1,50)"
   ]
  },
  {
   "cell_type": "code",
   "execution_count": 37,
   "id": "515a17bd",
   "metadata": {},
   "outputs": [],
   "source": [
    "# prime, palindrome, armstrong, disarium, harshad, special, perfect, paliprime, emirp\n",
    "# given number\n",
    "# num in a given range\n",
    "# first n numbers\n",
    "# print nth number"
   ]
  },
  {
   "cell_type": "markdown",
   "id": "ea530654",
   "metadata": {},
   "source": [
    "#### Disarium Numbers"
   ]
  },
  {
   "cell_type": "code",
   "execution_count": 42,
   "id": "4afb0fef",
   "metadata": {},
   "outputs": [
    {
     "data": {
      "text/plain": [
       "True"
      ]
     },
     "execution_count": 42,
     "metadata": {},
     "output_type": "execute_result"
    }
   ],
   "source": [
    "# Given number is disarium number or not\n",
    "def isDisarium(n):\n",
    "    sum_ = 0\n",
    "    dummy = n\n",
    "    power = len(str(n))\n",
    "    while dummy>0:\n",
    "        rem = dummy%10\n",
    "        dummy //=10\n",
    "        sum_+=rem**power\n",
    "        power-=1\n",
    "    if sum_ == n:\n",
    "        return True\n",
    "    else:\n",
    "        return False\n",
    "    \n",
    "isDisarium(135)"
   ]
  },
  {
   "cell_type": "code",
   "execution_count": 44,
   "id": "481aa395",
   "metadata": {},
   "outputs": [
    {
     "name": "stdout",
     "output_type": "stream",
     "text": [
      "135 is a Disarium number\n",
      "None\n"
     ]
    }
   ],
   "source": [
    "# Disarium numbers in a given range\n",
    "def printDisarium(ll, ul):\n",
    "    for n in range(ll, ul+1):\n",
    "        if isDisarium(n):\n",
    "            print(f'{n} is a Disarium number')\n",
    "\n",
    "print(printDisarium(100,150))"
   ]
  },
  {
   "cell_type": "code",
   "execution_count": 47,
   "id": "19a98450",
   "metadata": {},
   "outputs": [
    {
     "name": "stdout",
     "output_type": "stream",
     "text": [
      "1 is a disarium number\n",
      "2 is a disarium number\n",
      "3 is a disarium number\n",
      "4 is a disarium number\n",
      "5 is a disarium number\n",
      "6 is a disarium number\n",
      "7 is a disarium number\n",
      "8 is a disarium number\n",
      "9 is a disarium number\n",
      "89 is a disarium number\n",
      "135 is a disarium number\n",
      "175 is a disarium number\n"
     ]
    }
   ],
   "source": [
    "#  first N Disarium numbers\n",
    "def firstNDisarium(count):\n",
    "    n=1\n",
    "    cnt = 0\n",
    "    while True:\n",
    "        if isDisarium(n):\n",
    "            print(f'{n} is a disarium number')\n",
    "            cnt+=1\n",
    "            if cnt == count:\n",
    "                break\n",
    "        n+=1  \n",
    "firstNDisarium(12)"
   ]
  },
  {
   "cell_type": "code",
   "execution_count": 48,
   "id": "e77b2cdc",
   "metadata": {},
   "outputs": [
    {
     "name": "stdout",
     "output_type": "stream",
     "text": [
      "89 is the 10th disarium number\n"
     ]
    }
   ],
   "source": [
    "# print nth disarium number\n",
    "def nthDisarium(count):\n",
    "    n=1\n",
    "    cnt=0\n",
    "    while True:\n",
    "        if isDisarium(n):\n",
    "            cnt+=1\n",
    "            if cnt==count:\n",
    "                print(f'{n} is the {count}th disarium number' )\n",
    "                break\n",
    "        n+=1\n",
    "nthDisarium(10)"
   ]
  },
  {
   "cell_type": "markdown",
   "id": "0df9407d",
   "metadata": {},
   "source": [
    "#### Armstrong Numbers"
   ]
  },
  {
   "cell_type": "code",
   "execution_count": 54,
   "id": "0cd5cf7b",
   "metadata": {},
   "outputs": [
    {
     "name": "stdout",
     "output_type": "stream",
     "text": [
      "False\n"
     ]
    }
   ],
   "source": [
    "#  given number is Armstrong or not\n",
    "def isArmstrong(n):\n",
    "    power=len(str(n))\n",
    "    dummy=n\n",
    "    sum_=0\n",
    "    while dummy>0:\n",
    "        rem = dummy%10\n",
    "        dummy//=10\n",
    "        sum_+=rem**power\n",
    "    if sum_ == n:\n",
    "        return True\n",
    "    else:\n",
    "        return False\n",
    "print(isArmstrong(10))"
   ]
  },
  {
   "cell_type": "code",
   "execution_count": 57,
   "id": "b423942a",
   "metadata": {},
   "outputs": [
    {
     "name": "stdout",
     "output_type": "stream",
     "text": [
      "153 is an Armstrong Number\n"
     ]
    }
   ],
   "source": [
    "# Armstrong numbers in a given range\n",
    "def printArmstrongNumbers(ll, ul):\n",
    "    for n in range(ll, ul+1):\n",
    "        if isArmstrong(n):\n",
    "            print(f'{n} is an Armstrong Number')\n",
    "            \n",
    "printArmstrongNumbers(100,200)"
   ]
  },
  {
   "cell_type": "code",
   "execution_count": 64,
   "id": "1b636764",
   "metadata": {},
   "outputs": [
    {
     "name": "stdout",
     "output_type": "stream",
     "text": [
      "1 is an Armstrong Number\n",
      "2 is an Armstrong Number\n",
      "3 is an Armstrong Number\n",
      "4 is an Armstrong Number\n",
      "5 is an Armstrong Number\n",
      "6 is an Armstrong Number\n",
      "7 is an Armstrong Number\n",
      "8 is an Armstrong Number\n",
      "9 is an Armstrong Number\n",
      "153 is an Armstrong Number\n"
     ]
    }
   ],
   "source": [
    "# first N Armstrong Numbers\n",
    "def firstNArmstrong(count):\n",
    "    cnt = 0\n",
    "    n=1\n",
    "    while True:\n",
    "        if isArmstrong(n):\n",
    "            cnt+=1\n",
    "            print(f'{n} is an Armstrong Number')\n",
    "            if cnt==count:\n",
    "                break\n",
    "        n+=1\n",
    "firstNArmstrong(10)"
   ]
  },
  {
   "cell_type": "code",
   "execution_count": 67,
   "id": "a21ad908",
   "metadata": {},
   "outputs": [
    {
     "name": "stdout",
     "output_type": "stream",
     "text": [
      "153 is the 10th Armstrong Number\n"
     ]
    }
   ],
   "source": [
    "# nth Amrstrong Number\n",
    "def nthArmstrong(n):\n",
    "    i=1\n",
    "    cnt = 0\n",
    "    while True:\n",
    "        if isArmstrong(i):\n",
    "            cnt+=1\n",
    "            if cnt == n:\n",
    "                print(f'{i} is the {n}th Armstrong Number')\n",
    "                break\n",
    "        i+=1\n",
    "nthArmstrong(10)"
   ]
  },
  {
   "cell_type": "markdown",
   "id": "7bdd6e42",
   "metadata": {},
   "source": [
    "#### Palindrome Numbers"
   ]
  },
  {
   "cell_type": "code",
   "execution_count": 69,
   "id": "d07ef890",
   "metadata": {},
   "outputs": [
    {
     "data": {
      "text/plain": [
       "True"
      ]
     },
     "execution_count": 69,
     "metadata": {},
     "output_type": "execute_result"
    }
   ],
   "source": [
    "# given number is Palindrome or not\n",
    "def isPalindrome(n):\n",
    "    if n == reverse(n):\n",
    "        return True\n",
    "    else:\n",
    "        return False\n",
    "isPalindrome(11)"
   ]
  },
  {
   "cell_type": "code",
   "execution_count": 73,
   "id": "6d462394",
   "metadata": {},
   "outputs": [
    {
     "name": "stdout",
     "output_type": "stream",
     "text": [
      "22 is a Palindrome\n"
     ]
    }
   ],
   "source": [
    "#  Palindrome in a given range\n",
    "def printPalindrome(ll, ul):\n",
    "    for i in range(ll, ul+1):\n",
    "        if isPalindrome(i):\n",
    "            print(f'{i} is a Palindrome')\n",
    "            \n",
    "printPalindrome(15,25)"
   ]
  },
  {
   "cell_type": "code",
   "execution_count": 75,
   "id": "807ab473",
   "metadata": {},
   "outputs": [
    {
     "name": "stdout",
     "output_type": "stream",
     "text": [
      "1 is a Palindrome\n",
      "2 is a Palindrome\n",
      "3 is a Palindrome\n",
      "4 is a Palindrome\n",
      "5 is a Palindrome\n",
      "6 is a Palindrome\n",
      "7 is a Palindrome\n",
      "8 is a Palindrome\n",
      "9 is a Palindrome\n",
      "11 is a Palindrome\n"
     ]
    }
   ],
   "source": [
    "# first n palindromes \n",
    "def firstNPalindromes(n):\n",
    "    i=1\n",
    "    cnt=0\n",
    "    while True:\n",
    "        if isPalindrome(i):\n",
    "            cnt+=1\n",
    "            print(f'{i} is a Palindrome')\n",
    "            if cnt == n:\n",
    "                break\n",
    "        i+=1\n",
    "firstNPalindromes(10)"
   ]
  },
  {
   "cell_type": "code",
   "execution_count": 76,
   "id": "7edfa724",
   "metadata": {},
   "outputs": [
    {
     "name": "stdout",
     "output_type": "stream",
     "text": [
      "11 is a 10th Palindrome\n"
     ]
    }
   ],
   "source": [
    "#  nth palindrome\n",
    "def nthPalindrome(n):\n",
    "    i=1\n",
    "    cnt = 0\n",
    "    while True:\n",
    "        if isPalindrome(i):\n",
    "            cnt+=1\n",
    "            if cnt == n:\n",
    "                print(f'{i} is a {n}th Palindrome')\n",
    "                break\n",
    "        i+=1\n",
    "nthPalindrome(10)"
   ]
  },
  {
   "cell_type": "markdown",
   "id": "62293915",
   "metadata": {},
   "source": [
    "#### Harshad Numbers"
   ]
  },
  {
   "cell_type": "code",
   "execution_count": 78,
   "id": "47bd7ec1",
   "metadata": {},
   "outputs": [
    {
     "data": {
      "text/plain": [
       "True"
      ]
     },
     "execution_count": 78,
     "metadata": {},
     "output_type": "execute_result"
    }
   ],
   "source": [
    "# given number is Harshad Number or not\n",
    "def isHarshad(n):\n",
    "    dummy = n\n",
    "    sum_ = 0\n",
    "    while dummy>0:\n",
    "        rem = dummy%10\n",
    "        sum_ += rem\n",
    "        dummy//=10\n",
    "    if n%sum_ ==0:\n",
    "        return True\n",
    "isHarshad(12)"
   ]
  },
  {
   "cell_type": "code",
   "execution_count": 81,
   "id": "378521a3",
   "metadata": {},
   "outputs": [
    {
     "name": "stdout",
     "output_type": "stream",
     "text": [
      "10 is a Hasrhad number\n",
      "12 is a Hasrhad number\n",
      "18 is a Hasrhad number\n",
      "20 is a Hasrhad number\n",
      "21 is a Hasrhad number\n",
      "24 is a Hasrhad number\n"
     ]
    }
   ],
   "source": [
    "# Harshad Numnbers in a given range\n",
    "def printHarshad(ll, ul):\n",
    "    for i in range(ll, ul+1):\n",
    "        if isHarshad(i):\n",
    "            print(f'{i} is a Hasrhad number')\n",
    "printHarshad(10,25)"
   ]
  },
  {
   "cell_type": "code",
   "execution_count": 87,
   "id": "6b787daa",
   "metadata": {},
   "outputs": [
    {
     "name": "stdout",
     "output_type": "stream",
     "text": [
      "1 is a Hasrhad number\n",
      "2 is a Hasrhad number\n",
      "3 is a Hasrhad number\n",
      "4 is a Hasrhad number\n",
      "5 is a Hasrhad number\n",
      "6 is a Hasrhad number\n",
      "7 is a Hasrhad number\n",
      "8 is a Hasrhad number\n",
      "9 is a Hasrhad number\n",
      "10 is a Hasrhad number\n",
      "12 is a Hasrhad number\n"
     ]
    }
   ],
   "source": [
    "# Print first N Harshad Numbers\n",
    "def firstNHarshad(count):\n",
    "    n=1\n",
    "    cnt=0\n",
    "    while True:\n",
    "        if isHarshad(n):\n",
    "            print(f'{n} is a Hasrhad number')\n",
    "            cnt+=1\n",
    "            if cnt == count:\n",
    "                break\n",
    "        n+=1\n",
    "firstNHarshad(11)"
   ]
  },
  {
   "cell_type": "code",
   "execution_count": 90,
   "id": "9c319e9b",
   "metadata": {},
   "outputs": [
    {
     "name": "stdout",
     "output_type": "stream",
     "text": [
      "12 is 11th Hasrhad number\n"
     ]
    }
   ],
   "source": [
    "# nth Harshad Number\n",
    "def nthHarshad(n):\n",
    "    i=1\n",
    "    cnt=0\n",
    "    while True:\n",
    "        if isHarshad(i):\n",
    "            cnt+=1\n",
    "            if cnt == n:\n",
    "                print(f'{i} is {n}th Hasrhad number')\n",
    "                break\n",
    "        i+=1\n",
    "nthHarshad(11)"
   ]
  },
  {
   "cell_type": "markdown",
   "id": "95fe3a61",
   "metadata": {},
   "source": [
    "#### Special Numbers / Strong Numbers"
   ]
  },
  {
   "cell_type": "code",
   "execution_count": 95,
   "id": "b8348e30",
   "metadata": {},
   "outputs": [
    {
     "data": {
      "text/plain": [
       "True"
      ]
     },
     "execution_count": 95,
     "metadata": {},
     "output_type": "execute_result"
    }
   ],
   "source": [
    "# given number is special number or not (sum of factorials of individual digits is equal to the number itself)\n",
    "def isSpecial(n):\n",
    "    dummy = n\n",
    "    sum_= 0 \n",
    "    while dummy>0:\n",
    "        rem = dummy%10\n",
    "        dummy//=10\n",
    "        fact=1\n",
    "        for i in range(1,rem+1):\n",
    "            fact*=i\n",
    "        sum_ += fact\n",
    "    if sum_ == n:\n",
    "        return True\n",
    "    else:\n",
    "        return False\n",
    "        \n",
    "isSpecial(145)"
   ]
  },
  {
   "cell_type": "code",
   "execution_count": 100,
   "id": "596ffe26",
   "metadata": {},
   "outputs": [
    {
     "name": "stdout",
     "output_type": "stream",
     "text": [
      "1 is 11th Special number\n",
      "2 is 11th Special number\n",
      "145 is 11th Special number\n"
     ]
    }
   ],
   "source": [
    "# special numbers in a given range\n",
    "def printSpecial(ll, ul):\n",
    "    for i in range(ll, ul+1):\n",
    "        sum_=0\n",
    "        fact = 1\n",
    "        if isSpecial(i):\n",
    "            print(f'{i} is {n}th Special number')\n",
    "printSpecial(1,200)"
   ]
  },
  {
   "cell_type": "code",
   "execution_count": 105,
   "id": "60f7c201",
   "metadata": {},
   "outputs": [
    {
     "name": "stdout",
     "output_type": "stream",
     "text": [
      "1 is 4th Special number\n",
      "2 is 4th Special number\n",
      "145 is 4th Special number\n",
      "40585 is 4th Special number\n"
     ]
    }
   ],
   "source": [
    "# first N special Numbers\n",
    "def firstNSpecial(n):\n",
    "    i=1\n",
    "    cnt = 0\n",
    "    while True:\n",
    "        if isSpecial(i):\n",
    "            cnt+=1\n",
    "            print(f'{i} is {n}th Special number')\n",
    "            if cnt == n:\n",
    "                break\n",
    "        i+=1  \n",
    "firstNSpecial(4)"
   ]
  },
  {
   "cell_type": "code",
   "execution_count": 125,
   "id": "1720ae8c",
   "metadata": {},
   "outputs": [
    {
     "name": "stdout",
     "output_type": "stream",
     "text": [
      "40586 is 4th Special number\n"
     ]
    }
   ],
   "source": [
    "def nthSpecial(n):\n",
    "    i = 1\n",
    "    cnt = 0\n",
    "    while cnt<=n:\n",
    "        if isSpecial(i):\n",
    "            cnt+=1\n",
    "        i+=1\n",
    "        if cnt == n:\n",
    "            print(f'{i} is {n}th Special number')\n",
    "            break\n",
    "nthSpecial(4)"
   ]
  },
  {
   "cell_type": "markdown",
   "id": "b450e7db",
   "metadata": {},
   "source": [
    "#### Perfect Numbers"
   ]
  },
  {
   "cell_type": "code",
   "execution_count": 1,
   "id": "5ac8b133",
   "metadata": {},
   "outputs": [
    {
     "data": {
      "text/plain": [
       "True"
      ]
     },
     "execution_count": 1,
     "metadata": {},
     "output_type": "execute_result"
    }
   ],
   "source": [
    "#  given number is perfect number or not (sum of its divisors equal to the given number)\n",
    "def isPerfect(n):\n",
    "    sum_  = 0 \n",
    "    for i in range(1,n//2+1):\n",
    "        if n%i == 0:\n",
    "            sum_+=i\n",
    "    if sum_ == n:\n",
    "        return True\n",
    "isPerfect(28)        "
   ]
  },
  {
   "cell_type": "code",
   "execution_count": 152,
   "id": "6db558c8",
   "metadata": {},
   "outputs": [
    {
     "name": "stdout",
     "output_type": "stream",
     "text": [
      "6 is a Perfect number\n",
      "28 is a Perfect number\n"
     ]
    }
   ],
   "source": [
    "# perfect numbers in a given range\n",
    "def printPerfect(ll, ul):\n",
    "    for i in range(ll, ul+1):\n",
    "        if isPerfect(i):\n",
    "            print(f'{i} is a Perfect number')\n",
    "printPerfect(1,50)"
   ]
  },
  {
   "cell_type": "code",
   "execution_count": 145,
   "id": "0393a47d",
   "metadata": {},
   "outputs": [
    {
     "name": "stdout",
     "output_type": "stream",
     "text": [
      "6 is 1th perfect\n",
      "28 is 2th perfect\n",
      "496 is 3th perfect\n"
     ]
    }
   ],
   "source": [
    "# first n perfect numbers\n",
    "def firstNPerfect(count):\n",
    "    n=1\n",
    "    cnt = 0\n",
    "    while True:\n",
    "        sum_ = 0\n",
    "        for i in range(1,n//2+1):\n",
    "            if n%i==0:\n",
    "                sum_ +=i\n",
    "\n",
    "        if sum_ == n:\n",
    "            cnt+=1\n",
    "            print(f'{n} is {cnt}th perfect')\n",
    "            if cnt == count:\n",
    "                break\n",
    "        n+=1\n",
    "        \n",
    "        \n",
    "firstNPerfect(3)"
   ]
  },
  {
   "cell_type": "code",
   "execution_count": 153,
   "id": "e2a100c9",
   "metadata": {},
   "outputs": [
    {
     "name": "stdout",
     "output_type": "stream",
     "text": [
      "6 is a Perfect number\n",
      "28 is a Perfect number\n",
      "496 is a Perfect number\n"
     ]
    }
   ],
   "source": [
    "def firstNPerfect(count):\n",
    "    n=1\n",
    "    cnt = 0\n",
    "    while True:\n",
    "        if isPerfect(n):\n",
    "            cnt+=1\n",
    "            print(f'{n} is a Perfect number')\n",
    "            if cnt == count:\n",
    "                break      \n",
    "        n+=1\n",
    "        \n",
    "firstNPerfect(3)"
   ]
  },
  {
   "cell_type": "code",
   "execution_count": 4,
   "id": "be0374de",
   "metadata": {},
   "outputs": [
    {
     "name": "stdout",
     "output_type": "stream",
     "text": [
      "496 is the 496th Perfect number\n"
     ]
    }
   ],
   "source": [
    "# nth perfect number\n",
    "def nthPerfect(count):\n",
    "    n=1\n",
    "    cnt = 0\n",
    "    while True:\n",
    "        if isPerfect(n):\n",
    "            cnt+=1\n",
    "            if cnt == count:\n",
    "                print(f'{n} is the {n}th Perfect number')\n",
    "                break      \n",
    "        n+=1\n",
    "        \n",
    "nthPerfect(3)"
   ]
  },
  {
   "cell_type": "code",
   "execution_count": 3,
   "id": "cbb969a2",
   "metadata": {},
   "outputs": [],
   "source": [
    "# EMIRP numbers"
   ]
  },
  {
   "cell_type": "code",
   "execution_count": null,
   "id": "67985363",
   "metadata": {},
   "outputs": [],
   "source": []
  }
 ],
 "metadata": {
  "kernelspec": {
   "display_name": "Python 3 (ipykernel)",
   "language": "python",
   "name": "python3"
  },
  "language_info": {
   "codemirror_mode": {
    "name": "ipython",
    "version": 3
   },
   "file_extension": ".py",
   "mimetype": "text/x-python",
   "name": "python",
   "nbconvert_exporter": "python",
   "pygments_lexer": "ipython3",
   "version": "3.12.4"
  }
 },
 "nbformat": 4,
 "nbformat_minor": 5
}
