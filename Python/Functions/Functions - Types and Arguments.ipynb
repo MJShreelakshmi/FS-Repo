{
 "cells": [
  {
   "cell_type": "code",
   "execution_count": 2,
   "id": "76409ee6",
   "metadata": {},
   "outputs": [],
   "source": [
    " from PIL import Image"
   ]
  },
  {
   "cell_type": "markdown",
   "id": "2df6f02d",
   "metadata": {},
   "source": [
    "#### 31-07-24"
   ]
  },
  {
   "cell_type": "markdown",
   "id": "399b02e2",
   "metadata": {},
   "source": [
    "### Functions\n",
    "Functions are independent block of instructions which are used to perform a specific task\n",
    "\n",
    "Advantages of functions:\n",
    "1. Functions are used for increasing the code-reusability\n",
    "2. Functions are used for increasing the code-redundancy\n",
    "3. By using functions we can achieve code modularity (Code modularity is a process of dividing a big task into sub-tasks)\n",
    "4. Code complexity will be less in functions\n",
    "5. Debugging process will be easy\n",
    "6. Faster devolopment can be achieved with functions\n",
    "\n",
    "Classification of functions:\n",
    "We have 2 types of functions:\n",
    "1. Built-in functions\n",
    "2. User-defined functions\n",
    "\n",
    "Built-in functions:\n",
    "These aer the functions created by the devolopers of python\n",
    "Eg: len(), print(), input()...etc.\n",
    "\n",
    "User-defined functions:\n",
    "These are the functions devoloped or defined by the user based on their requirements. def keyword is used for defining user defined functions"
   ]
  },
  {
   "cell_type": "raw",
   "id": "f7a57631",
   "metadata": {},
   "source": [
    "syntax:\n",
    "def functionName():\n",
    "    statements of function "
   ]
  },
  {
   "cell_type": "code",
   "execution_count": 15,
   "id": "ad1e7218",
   "metadata": {},
   "outputs": [
    {
     "data": {
      "image/png": "[encoded data removed]",
      "text/plain": [
       "<PIL.Image.Image image mode=RGBA size=372x193>"
      ]
     },
     "execution_count": 15,
     "metadata": {},
     "output_type": "execute_result"
    }
   ],
   "source": [
    "img  = Image.open('namespace.png') \n",
    "width, height = img.size\n",
    "img = img.resize((width//3, height//3))\n",
    "img"
   ]
  },
  {
   "cell_type": "code",
   "execution_count": 17,
   "id": "3c682d58",
   "metadata": {},
   "outputs": [
    {
     "name": "stdout",
     "output_type": "stream",
     "text": [
      "<function greet at 0x00000264E7B50670>\n",
      "Hi!\n",
      "How are you?\n"
     ]
    }
   ],
   "source": [
    "def greet():\n",
    "    print('Hi!')\n",
    "    print('How are you?')\n",
    "print(greet) # prints the address of the function\n",
    "greet() # calls and executes the greet function"
   ]
  },
  {
   "cell_type": "markdown",
   "id": "4bb7f0fd",
   "metadata": {},
   "source": [
    "Classification of user-defined functions:\n",
    "User-defined functions are classified into 4 types\n",
    "1. Functions without arguments and without return type\n",
    "2. Functions with arguments and without return type\n",
    "3. Functions without arguments and with return type\n",
    "4. Functions with arguments and with return type\n",
    "\n",
    "#### 1. Functions without arguments and without return type\n",
    "In this type of functions, we will not define parameters and will not return any output from the function"
   ]
  },
  {
   "cell_type": "raw",
   "id": "d23a89bb",
   "metadata": {},
   "source": [
    "syntax:\n",
    "    def functionName():\n",
    "        statements"
   ]
  },
  {
   "cell_type": "code",
   "execution_count": 18,
   "id": "aa09f1dc",
   "metadata": {},
   "outputs": [
    {
     "name": "stdout",
     "output_type": "stream",
     "text": [
      "23\n"
     ]
    }
   ],
   "source": [
    "def add():\n",
    "    print(13+10)\n",
    "add()"
   ]
  },
  {
   "cell_type": "markdown",
   "id": "c69262b0",
   "metadata": {},
   "source": [
    "### Arguments: \n",
    "Arguments are essential values provided to a function inorder to execute its task\n",
    "1. Mandatory or Positional\n",
    "2. Non-mandatory or default\n",
    "3. Keyword Arguments\n",
    "4. Variable length arguments (*args)\n",
    "5. Variable length keyword arguments (*kwargs)\n",
    "#### 01-08-24\n",
    "\n",
    "### 1. Mandatory or Positional Arguments:\n",
    "When a function is defined with mandatory or positional arguments, compuslorily we have to pass as many arguments while calling the function.\n",
    "\n",
    "Note: Incase of mandatory arguments, number of arguments defined in function should be equal to number of values provided during the function call."
   ]
  },
  {
   "cell_type": "code",
   "execution_count": 8,
   "id": "bfdd1bef",
   "metadata": {},
   "outputs": [
    {
     "name": "stdout",
     "output_type": "stream",
     "text": [
      "performing addition operation\n",
      "a value is  23\n",
      "b value is  45\n",
      "68\n"
     ]
    }
   ],
   "source": [
    "def add(a,b):\n",
    "    print('performing addition operation')\n",
    "    print('a value is ',a)\n",
    "    print('b value is ',b)\n",
    "    print(a+b)\n",
    "    \n",
    "add(23,45)"
   ]
  },
  {
   "cell_type": "raw",
   "id": "7182c607",
   "metadata": {},
   "source": [
    "add() --> error --> missing 2 required positional arguments: 'a' and 'b'\n",
    "add(89) --> error --> missing 1 required positional argument: 'b'\n",
    "add(23,45,14) --> error --> takes 2 positional arguments but 3 were given"
   ]
  },
  {
   "cell_type": "markdown",
   "id": "716caf43",
   "metadata": {},
   "source": [
    "### 2. Keyword Arguments\n",
    "Keyword arguments are defined directly by their names while creating a function and called along with argument names and their values"
   ]
  },
  {
   "cell_type": "code",
   "execution_count": 9,
   "id": "36f01752",
   "metadata": {},
   "outputs": [
    {
     "name": "stdout",
     "output_type": "stream",
     "text": [
      "10\n",
      "12\n",
      "22\n"
     ]
    }
   ],
   "source": [
    "def add(a,b):\n",
    "    print(a)\n",
    "    print(b)\n",
    "    print(a+b)\n",
    "    \n",
    "add(a=10,b=12)"
   ]
  },
  {
   "cell_type": "markdown",
   "id": "53ea2225",
   "metadata": {},
   "source": [
    "#### Defining a function with positional-only arguments:\n",
    "If we want to define positional-only arguments, we need to provide / at the end of the arguments."
   ]
  },
  {
   "cell_type": "code",
   "execution_count": 10,
   "id": "e9e8412b",
   "metadata": {},
   "outputs": [
    {
     "name": "stdout",
     "output_type": "stream",
     "text": [
      "10\n",
      "20\n",
      "30\n"
     ]
    }
   ],
   "source": [
    "def add(a,b,/):\n",
    "    print(a)\n",
    "    print(b)\n",
    "    print(a+b)\n",
    "    \n",
    "add(10,20)"
   ]
  },
  {
   "cell_type": "code",
   "execution_count": 12,
   "id": "2c3d6b30",
   "metadata": {},
   "outputs": [
    {
     "ename": "TypeError",
     "evalue": "add() got some positional-only arguments passed as keyword arguments: 'a, b'",
     "output_type": "error",
     "traceback": [
      "\u001b[1;31m---------------------------------------------------------------------------\u001b[0m",
      "\u001b[1;31mTypeError\u001b[0m                                 Traceback (most recent call last)",
      "Cell \u001b[1;32mIn[12], line 1\u001b[0m\n\u001b[1;32m----> 1\u001b[0m \u001b[43madd\u001b[49m\u001b[43m(\u001b[49m\u001b[43ma\u001b[49m\u001b[38;5;241;43m=\u001b[39;49m\u001b[38;5;241;43m10\u001b[39;49m\u001b[43m,\u001b[49m\u001b[43mb\u001b[49m\u001b[38;5;241;43m=\u001b[39;49m\u001b[38;5;241;43m20\u001b[39;49m\u001b[43m)\u001b[49m\n",
      "\u001b[1;31mTypeError\u001b[0m: add() got some positional-only arguments passed as keyword arguments: 'a, b'"
     ]
    }
   ],
   "source": [
    "add(a=10,b=20) # error bcz function takes only positional, but keyword arguments were given"
   ]
  },
  {
   "cell_type": "markdown",
   "id": "9c85bbc0",
   "metadata": {},
   "source": [
    "#### To define a function with only keyword arguments:\n",
    "If we want to define only keyword arguments, we need to provide * in front of the the arguments."
   ]
  },
  {
   "cell_type": "code",
   "execution_count": 13,
   "id": "d4c797bb",
   "metadata": {},
   "outputs": [
    {
     "name": "stdout",
     "output_type": "stream",
     "text": [
      "10\n",
      "20\n",
      "30\n"
     ]
    }
   ],
   "source": [
    "def add(*,a,b):\n",
    "    print(a)\n",
    "    print(b)\n",
    "    print(a+b)\n",
    "add(a=10,b=20)"
   ]
  },
  {
   "cell_type": "code",
   "execution_count": 14,
   "id": "ba6e53ea",
   "metadata": {},
   "outputs": [
    {
     "ename": "TypeError",
     "evalue": "add() takes 0 positional arguments but 2 were given",
     "output_type": "error",
     "traceback": [
      "\u001b[1;31m---------------------------------------------------------------------------\u001b[0m",
      "\u001b[1;31mTypeError\u001b[0m                                 Traceback (most recent call last)",
      "Cell \u001b[1;32mIn[14], line 1\u001b[0m\n\u001b[1;32m----> 1\u001b[0m \u001b[43madd\u001b[49m\u001b[43m(\u001b[49m\u001b[38;5;241;43m10\u001b[39;49m\u001b[43m,\u001b[49m\u001b[38;5;241;43m20\u001b[39;49m\u001b[43m)\u001b[49m\n",
      "\u001b[1;31mTypeError\u001b[0m: add() takes 0 positional arguments but 2 were given"
     ]
    }
   ],
   "source": [
    "add(10,20) # error bcz function takes only keyword arguments but positional arguments were given."
   ]
  },
  {
   "cell_type": "markdown",
   "id": "5d146f0c",
   "metadata": {},
   "source": [
    "### 3. Default Arguments:\n",
    "This type of arguments will have its own default values while defining the funciton itself.\n",
    "\n",
    "Note:\n",
    "1. If we provide values for arguments, those values are considered as argument values for the function\n",
    "2. If we donot provide the values for arguments, the default values will be considered as argument values for the function"
   ]
  },
  {
   "cell_type": "code",
   "execution_count": 17,
   "id": "59195dad",
   "metadata": {},
   "outputs": [
    {
     "name": "stdout",
     "output_type": "stream",
     "text": [
      "a value is  12\n",
      "b value is  15\n",
      "27\n"
     ]
    }
   ],
   "source": [
    "def add(a=12,b=15):\n",
    "    print('a value is ',a)\n",
    "    print('b value is ',b)\n",
    "    print(a+b)\n",
    "    \n",
    "add()"
   ]
  },
  {
   "cell_type": "code",
   "execution_count": 18,
   "id": "eb23d8ed",
   "metadata": {},
   "outputs": [
    {
     "name": "stdout",
     "output_type": "stream",
     "text": [
      "a value is  89\n",
      "b value is  15\n",
      "104\n"
     ]
    }
   ],
   "source": [
    "add(89) #a=89,b=12"
   ]
  },
  {
   "cell_type": "code",
   "execution_count": 19,
   "id": "3da46b15",
   "metadata": {},
   "outputs": [
    {
     "name": "stdout",
     "output_type": "stream",
     "text": [
      "a value is  123\n",
      "b value is  234\n",
      "357\n"
     ]
    }
   ],
   "source": [
    "add(123,234) #a=123,b=234"
   ]
  },
  {
   "cell_type": "code",
   "execution_count": 20,
   "id": "16cfb59f",
   "metadata": {},
   "outputs": [
    {
     "ename": "TypeError",
     "evalue": "add() takes from 0 to 2 positional arguments but 3 were given",
     "output_type": "error",
     "traceback": [
      "\u001b[1;31m---------------------------------------------------------------------------\u001b[0m",
      "\u001b[1;31mTypeError\u001b[0m                                 Traceback (most recent call last)",
      "Cell \u001b[1;32mIn[20], line 1\u001b[0m\n\u001b[1;32m----> 1\u001b[0m \u001b[43madd\u001b[49m\u001b[43m(\u001b[49m\u001b[38;5;241;43m123\u001b[39;49m\u001b[43m,\u001b[49m\u001b[38;5;241;43m254\u001b[39;49m\u001b[43m,\u001b[49m\u001b[38;5;241;43m48\u001b[39;49m\u001b[43m)\u001b[49m\n",
      "\u001b[1;31mTypeError\u001b[0m: add() takes from 0 to 2 positional arguments but 3 were given"
     ]
    }
   ],
   "source": [
    "add(123,254,48)"
   ]
  },
  {
   "cell_type": "markdown",
   "id": "09a03332",
   "metadata": {},
   "source": [
    "Note: \n",
    "1. While defining both mandatory and default arguments in a function, first we need to define mandatory arguments, afterwards we need to define non-mandatory arguments.\n",
    "\n",
    "2. If we define a function with defalut arguments, number of arguments should be greater than or equal to number of values we provide during function call."
   ]
  },
  {
   "cell_type": "code",
   "execution_count": 21,
   "id": "4f949070",
   "metadata": {},
   "outputs": [
    {
     "name": "stdout",
     "output_type": "stream",
     "text": [
      "21\n"
     ]
    }
   ],
   "source": [
    "def add(a,b=10):\n",
    "    print(a+b)\n",
    "add(11)"
   ]
  },
  {
   "cell_type": "code",
   "execution_count": 26,
   "id": "17654aaa",
   "metadata": {},
   "outputs": [
    {
     "ename": "SyntaxError",
     "evalue": "non-default argument follows default argument (4106178845.py, line 1)",
     "output_type": "error",
     "traceback": [
      "\u001b[1;36m  Cell \u001b[1;32mIn[26], line 1\u001b[1;36m\u001b[0m\n\u001b[1;33m    def add1(a=10,b):\u001b[0m\n\u001b[1;37m             ^\u001b[0m\n\u001b[1;31mSyntaxError\u001b[0m\u001b[1;31m:\u001b[0m non-default argument follows default argument\n"
     ]
    }
   ],
   "source": [
    "def add(a=10,b):\n",
    "    print(a+b)"
   ]
  },
  {
   "cell_type": "markdown",
   "id": "619830fa",
   "metadata": {},
   "source": [
    "### 4. Variable Length Arguments\n",
    "1. In python, * defines variable length arguments\n",
    "2. If we define a function with variable length arguments, then we can provide 0 to n values while calling it\n",
    "3. Output format of variable length arguments is a tuple"
   ]
  },
  {
   "cell_type": "markdown",
   "id": "f6f49d4e",
   "metadata": {},
   "source": [
    "##### How does the Compiler Know What to Do with these variable length of arguments\n",
    "    Packing into a Tuple: When the plot_columns function is called with plot_columns(df, 'A', 'B'), the arguments 'A' and 'B' are packed into the args tuple inside the function.\n",
    "\n",
    "    Unpacking the Tuple:  Inside the plot_columns(), when dataframe.plot(*args, kind=kind, title=title) is executed, *args  unpacks the tuple into individual arguments, effectively calling dataframe.plot('A','B', kind='line', title='Plot').\n",
    "    \n",
    "    Hence either the arguments in *args are used for same purpose(functionality) eg: addition of all the given numbers or plotting all the given columns etc.\n",
    "##### How df.plot Handles Multiple Columns\n",
    "    Column Selection: The *args passed to df.plot are interpreted as column labels. When more than two columns are specified, the behavior can vary depending on the type of plot.    \n"
   ]
  },
  {
   "cell_type": "code",
   "execution_count": 37,
   "id": "5422be27",
   "metadata": {},
   "outputs": [
    {
     "name": "stdout",
     "output_type": "stream",
     "text": [
      "()\n",
      "<class 'tuple'>\n",
      "The sum of args is : 0\n"
     ]
    }
   ],
   "source": [
    "def add(*args):\n",
    "    print(args)\n",
    "    print(type(args))\n",
    "    summ=0\n",
    "    for i in args:\n",
    "        summ+=i\n",
    "    print('The sum of args is :', summ)\n",
    "\n",
    "add()"
   ]
  },
  {
   "cell_type": "code",
   "execution_count": 38,
   "id": "7e927932",
   "metadata": {},
   "outputs": [
    {
     "name": "stdout",
     "output_type": "stream",
     "text": [
      "(100,)\n",
      "<class 'tuple'>\n",
      "The sum of args is : 100\n"
     ]
    }
   ],
   "source": [
    "add(100)"
   ]
  },
  {
   "cell_type": "code",
   "execution_count": 39,
   "id": "1e5d35a7",
   "metadata": {},
   "outputs": [
    {
     "name": "stdout",
     "output_type": "stream",
     "text": [
      "(132, 234)\n",
      "<class 'tuple'>\n",
      "The sum of args is : 366\n"
     ]
    }
   ],
   "source": [
    "add(132,234)"
   ]
  },
  {
   "cell_type": "code",
   "execution_count": 40,
   "id": "5bbec09b",
   "metadata": {},
   "outputs": [
    {
     "name": "stdout",
     "output_type": "stream",
     "text": [
      "(1, 5, 6, 8, 9, 25, 78, 36, 15)\n",
      "<class 'tuple'>\n",
      "The sum of args is : 183\n"
     ]
    }
   ],
   "source": [
    "add(1,5,6,8,9,25,78,36,15)"
   ]
  },
  {
   "cell_type": "markdown",
   "id": "de23c96e",
   "metadata": {},
   "source": [
    "### 5. Variable Length Keyword Arguments\n",
    "1. In python, ** defines variable length keyword arguments\n",
    "2. Output format of variable length keyword arguments is a dictionary\n",
    "3. Once we define a function with variable length keyword arguments, then we have to provide values in the form of pairs as shown below\n",
    "       \n",
    "       argument1=value1, argument2 = value2, argument3=value3, argument4 = value4\n",
    "4. Order of defining the arguments of a function:\n",
    "            Positional --> Default --> Varibale Length --> Variable Length keyword\n",
    "            \n",
    "5. ** or * both performs packing. Packing is collecting individual arguments into a collection data type."
   ]
  },
  {
   "cell_type": "markdown",
   "id": "dd87d499",
   "metadata": {},
   "source": [
    "##### Example for **kwargs in df.plot(): how to know the keywwords incase of **kwargs for Built-in or Predefined function (from chatgpt)\n",
    "\n",
    "    In the case of df.plot() in pandas, the **kwargs parameter indeed allows you to pass additional keyword arguments that are accepted by the underlying Matplotlib functions. This flexibility means you can use a wide range of Matplotlib parameters to customize your plot, even if they are not explicitly listed in the df.plot() function’s documentation.\n",
    "\n",
    "###### Documentation and **kwargs\n",
    "    \n",
    "    While the df.plot() function’s documentation might not list all the possible keyword arguments explicitly, it is designed to pass these arguments to the appropriate Matplotlib plotting functions. As a result, any keyword argument that is valid for the Matplotlib function being called (e.g., plt.plot, plt.scatter, etc.) can be used with df.plot().\n",
    "    \n",
    "###### Finding Available Parameters\n",
    "    \n",
    "    To find out which Matplotlib parameters you can use with df.plot(), you can refer to the documentation for the specific Matplotlib plotting function that corresponds to the type of plot you are creating. [ Or one can use standard Matplotlib parameters if it is known ]"
   ]
  },
  {
   "cell_type": "code",
   "execution_count": 43,
   "id": "76077fef",
   "metadata": {},
   "outputs": [
    {
     "name": "stdout",
     "output_type": "stream",
     "text": [
      "{}\n",
      "<class 'dict'>\n",
      "The sum of kwargs is :  0\n"
     ]
    }
   ],
   "source": [
    "def add(**kwargs):\n",
    "    print(kwargs)\n",
    "    print(type(kwargs))\n",
    "    summ=0\n",
    "    for i in kwargs:\n",
    "        summ+=kwargs[i]\n",
    "    print('The sum of kwargs is : ',summ)\n",
    "\n",
    "add()"
   ]
  },
  {
   "cell_type": "code",
   "execution_count": 44,
   "id": "2983a2ab",
   "metadata": {},
   "outputs": [
    {
     "name": "stdout",
     "output_type": "stream",
     "text": [
      "{'a': 10}\n",
      "<class 'dict'>\n",
      "The sum of kwargs is :  10\n"
     ]
    }
   ],
   "source": [
    "add(a=10)"
   ]
  },
  {
   "cell_type": "code",
   "execution_count": 45,
   "id": "46a7587e",
   "metadata": {},
   "outputs": [
    {
     "name": "stdout",
     "output_type": "stream",
     "text": [
      "{'a': 10, 'b': 90, 'c': 100}\n",
      "<class 'dict'>\n",
      "The sum of kwargs is :  200\n"
     ]
    }
   ],
   "source": [
    "add(a=10,b=90,c=100)"
   ]
  },
  {
   "cell_type": "code",
   "execution_count": 47,
   "id": "94122bc8",
   "metadata": {},
   "outputs": [
    {
     "name": "stdout",
     "output_type": "stream",
     "text": [
      "a:  78\n",
      "b:  56\n",
      "c:  999\n",
      "args:  (12, 22, 67, 9, 87)\n",
      "kwargs:  {'name': 'nikky', 'age': 2}\n"
     ]
    }
   ],
   "source": [
    "def func(a,b,c=90,*args, **kwargs):\n",
    "    print('a: ',a)\n",
    "    print('b: ',b)\n",
    "    print('c: ',c)\n",
    "    print('args: ',args)\n",
    "    print('kwargs: ',kwargs)\n",
    "    \n",
    "func(78,56,999,12,22,67,9,87,name='nikky',age=2)"
   ]
  },
  {
   "cell_type": "markdown",
   "id": "ae7e68fe",
   "metadata": {},
   "source": [
    "<!--  --> 02-08-24\n",
    "\n",
    "#### 3. Functions without Arguments and with return type\n",
    "In this type of functions, we define functions that donot accpet arguments but have a return type."
   ]
  },
  {
   "cell_type": "raw",
   "id": "16a05c9b",
   "metadata": {},
   "source": [
    "def function():\n",
    "    statements\n",
    "    return value"
   ]
  },
  {
   "cell_type": "markdown",
   "id": "0ba90d72",
   "metadata": {},
   "source": [
    "### Return statement\n",
    "Return statement is used to return the value or output from the function space to function call\n",
    "\n",
    "#### Properties of return:\n",
    "1. After using return, we cannot write a single statemt inside that block (Return is a final block of the statement)\n",
    "2. By using return, we can return any type of data\n",
    "3. By using return, we can return any number of data\n",
    "4. If we return multiple data, then output format of return is a tuple.\n",
    "5. Return will return the output to the place from where we call the function\n",
    "\n",
    "If a function has return statement, then it should be called in any of the below mentioned ways:\n",
    "1. call the function inside the print function\n",
    "2. call the function inside a variable\n",
    "3. call the function inside the conditional statement"
   ]
  },
  {
   "cell_type": "code",
   "execution_count": 7,
   "id": "aebef555",
   "metadata": {},
   "outputs": [
    {
     "name": "stdout",
     "output_type": "stream",
     "text": [
      "in if\n",
      "89\n"
     ]
    },
    {
     "data": {
      "text/plain": [
       "'Note: last statement of the function does not get executed bcz return keyword will take the control out of the function to the function call and the statements after the return statement will not get executed'"
      ]
     },
     "execution_count": 7,
     "metadata": {},
     "output_type": "execute_result"
    }
   ],
   "source": [
    "# eg:\n",
    "def function():\n",
    "    if 5>2:\n",
    "        print('in if')\n",
    "        return 89\n",
    "    elif 6>4:\n",
    "        print('in elif')\n",
    "        return 'hi'\n",
    "    else:\n",
    "        print('in else')\n",
    "        return [99,89], 'hello'\n",
    "    print('last statement of the function')\n",
    "result = function()\n",
    "print(result)\n",
    "\n",
    "'''Note: last statement of the function does not get executed bcz return keyword will take the control out of the function to the function call and the statements after the return statement will not get executed''' "
   ]
  },
  {
   "cell_type": "markdown",
   "id": "a9cd6975",
   "metadata": {},
   "source": [
    "#### 4. Function with arguments and with return type\n",
    "In this type of functions, we define arguments and function will have return statements in it.\n",
    "\n",
    "Note: By default every function returns None."
   ]
  },
  {
   "cell_type": "raw",
   "id": "c1740c4c",
   "metadata": {},
   "source": [
    "def function(arguments):\n",
    "    statements\n",
    "    return value"
   ]
  },
  {
   "cell_type": "code",
   "execution_count": 8,
   "id": "40cbc1b6",
   "metadata": {},
   "outputs": [
    {
     "name": "stdout",
     "output_type": "stream",
     "text": [
      "35\n"
     ]
    }
   ],
   "source": [
    "def add(a,b):\n",
    "    return a+b\n",
    "print(add(12,23))"
   ]
  },
  {
   "cell_type": "code",
   "execution_count": 2,
   "id": "4c047c71",
   "metadata": {},
   "outputs": [
    {
     "name": "stdout",
     "output_type": "stream",
     "text": [
      "hi\n",
      "None\n",
      "hi\n",
      "None\n",
      "hi\n",
      "None\n"
     ]
    }
   ],
   "source": [
    "# eg:1\n",
    "def add():              \n",
    "    print('hi')\n",
    "print(add())\n",
    "\n",
    "#eg:2\n",
    "def add():              \n",
    "    print('hi')\n",
    "    return \n",
    "print(add())\n",
    "\n",
    "#eg:3\n",
    "def add():              \n",
    "    print('hi')\n",
    "    return None\n",
    "print(add())"
   ]
  },
  {
   "cell_type": "code",
   "execution_count": null,
   "id": "b2e74b24",
   "metadata": {},
   "outputs": [],
   "source": []
  }
 ],
 "metadata": {
  "kernelspec": {
   "display_name": "Python 3 (ipykernel)",
   "language": "python",
   "name": "python3"
  },
  "language_info": {
   "codemirror_mode": {
    "name": "ipython",
    "version": 3
   },
   "file_extension": ".py",
   "mimetype": "text/x-python",
   "name": "python",
   "nbconvert_exporter": "python",
   "pygments_lexer": "ipython3",
   "version": "3.8.3"
  }
 },
 "nbformat": 4,
 "nbformat_minor": 5
}
