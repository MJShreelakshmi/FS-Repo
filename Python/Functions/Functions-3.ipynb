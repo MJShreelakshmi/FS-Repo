{
 "cells": [
  {
   "cell_type": "code",
   "execution_count": 2,
   "id": "cb12bae4",
   "metadata": {},
   "outputs": [],
   "source": [
    "from PIL import Image"
   ]
  },
  {
   "cell_type": "code",
   "execution_count": 1,
   "id": "bad99f74",
   "metadata": {},
   "outputs": [],
   "source": [
    "# lambda functn - stack overflow\n",
    "# patterns-notes"
   ]
  },
  {
   "cell_type": "markdown",
   "id": "9c45c0b4",
   "metadata": {},
   "source": [
    "### Importing:\n",
    "1. Importing is aprocess of extracting the properties/functionalities of one Module into another module.\n",
    "2. Importing can be achieved by using import keyword\n",
    "\n",
    "We can import properties in 2 following ways:\n",
    "1. Importing entire module (all content)\n",
    "2. Importing specific finctions/classes\n",
    "\n",
    "#### 1. Importing entire module ( all content )\n",
    "1. When we want to access all the content from module then we import entire module\n",
    "2. Syntax for importing entire module:\n",
    "    import module_name\n",
    "3. Syntax for accessing functions/classes if we import enitre module\n",
    "    \n",
    "    For funcitons:\n",
    "    \n",
    "        module_name.function_name(arguments)\n",
    "    For classes:\n",
    "    \n",
    "        module_name.classname(arguments)\n",
    "        \n",
    "        Note: argyuments are not mandatory."
   ]
  },
  {
   "cell_type": "code",
   "execution_count": 13,
   "id": "b8c681e6",
   "metadata": {},
   "outputs": [],
   "source": [
    "# module saved as fcs.py\n",
    "def add():\n",
    "    print(10+20)\n",
    "    \n",
    "def sub():\n",
    "    print(10-2)\n",
    "    \n",
    "def mul():\n",
    "    print(10*2)"
   ]
  },
  {
   "cell_type": "code",
   "execution_count": 14,
   "id": "31704034",
   "metadata": {},
   "outputs": [
    {
     "name": "stdout",
     "output_type": "stream",
     "text": [
      "30\n",
      "None\n",
      "8\n",
      "None\n",
      "20\n"
     ]
    }
   ],
   "source": [
    "# another module saved as numbers.py\n",
    "import fcs\n",
    "\n",
    "print(fcs.add())\n",
    "print(fcs.sub())\n",
    "fcs.mul()"
   ]
  },
  {
   "cell_type": "markdown",
   "id": "0859e3a7",
   "metadata": {},
   "source": [
    "#### Aliasing:\n",
    "1. Aliasing is a process of providing an alternate name for the imported module or the functions or classes\n",
    "2. We can achieve aliasing by using as keyword\n",
    "3. Aliasing changes well be applicable inside the module where wehave applied them\n",
    "\n",
    "Syntax for providing an alternate name for entire module:\n",
    "    \n",
    "    import module_name as aliasing_name\n",
    "    \n",
    "Syntax for accessing functions once after aliasing:\n",
    "\n",
    "    aliasing_name.function_name()\n",
    "    \n",
    "Note: After aliasing we cannot use the actual name of the module for accessing the functions."
   ]
  },
  {
   "cell_type": "code",
   "execution_count": 10,
   "id": "1c003eae",
   "metadata": {},
   "outputs": [],
   "source": [
    "def add():\n",
    "    print(10+20)\n",
    "    \n",
    "def sub():\n",
    "    print(10-2)\n",
    "    \n",
    "def mul():\n",
    "    print(10*2)"
   ]
  },
  {
   "cell_type": "code",
   "execution_count": 12,
   "id": "3db6b59a",
   "metadata": {},
   "outputs": [
    {
     "name": "stdout",
     "output_type": "stream",
     "text": [
      "30\n",
      "None\n",
      "8\n",
      "None\n",
      "20\n"
     ]
    }
   ],
   "source": [
    "import fcs as f\n",
    "\n",
    "print(f.add())\n",
    "print(f.sub())\n",
    "f.mul()"
   ]
  },
  {
   "cell_type": "markdown",
   "id": "b17a52d3",
   "metadata": {},
   "source": [
    "#### 2. Importing specific functions from a module:\n",
    "We will use this approach whenever we want to use only few functions from another module\n",
    "1. We can import specific functions from a module by using both import and from keyword\n",
    "2. Syntax for importing specific functions:\n",
    "\n",
    "       from module_name import function1, function2, function3,....... function_N\n",
    "3. Syntax for accessing the function\n",
    "\n",
    "        function1()"
   ]
  },
  {
   "cell_type": "code",
   "execution_count": 19,
   "id": "e148faaa",
   "metadata": {},
   "outputs": [
    {
     "name": "stdout",
     "output_type": "stream",
     "text": [
      "30\n",
      "None\n",
      "20\n",
      "None\n",
      "8\n",
      "None\n"
     ]
    },
    {
     "ename": "NameError",
     "evalue": "name 'div' is not defined",
     "output_type": "error",
     "traceback": [
      "\u001b[1;31m---------------------------------------------------------------------------\u001b[0m",
      "\u001b[1;31mNameError\u001b[0m                                 Traceback (most recent call last)",
      "Cell \u001b[1;32mIn[19], line 6\u001b[0m\n\u001b[0;32m      4\u001b[0m \u001b[38;5;28mprint\u001b[39m(mul())\n\u001b[0;32m      5\u001b[0m \u001b[38;5;28mprint\u001b[39m(sub())\n\u001b[1;32m----> 6\u001b[0m \u001b[43mdiv\u001b[49m()\n",
      "\u001b[1;31mNameError\u001b[0m: name 'div' is not defined"
     ]
    }
   ],
   "source": [
    "from fcs import add, mul, sub\n",
    "\n",
    "print(add())\n",
    "print(mul())\n",
    "print(sub())\n",
    "div()  # error bcz div function has not been imported in this module"
   ]
  },
  {
   "cell_type": "markdown",
   "id": "2303eec2",
   "metadata": {},
   "source": [
    "#### Providing an alternate name for the imported functions:\n",
    "Syntax:\n",
    "    \n",
    "        from module_name import function_name as aliasing_name1, function2 as aliasing_name2\n",
    "Syntax:\n",
    "\n",
    "        aliasing_name()"
   ]
  },
  {
   "cell_type": "code",
   "execution_count": 21,
   "id": "645ca5f5",
   "metadata": {},
   "outputs": [
    {
     "name": "stdout",
     "output_type": "stream",
     "text": [
      "30\n",
      "None\n",
      "20\n",
      "None\n"
     ]
    }
   ],
   "source": [
    "from fcs import add as a, mul as m\n",
    "print(a())\n",
    "print(m())"
   ]
  },
  {
   "cell_type": "markdown",
   "id": "c6cc6762",
   "metadata": {},
   "source": [
    "#### 3. Importing all the functions directly from a module\n",
    "Syntax:\n",
    "        \n",
    "        from module_name import *\n",
    "Syntax for accessing the function:\n",
    "\n",
    "        function_name()"
   ]
  },
  {
   "cell_type": "code",
   "execution_count": 12,
   "id": "6d6f3b6c",
   "metadata": {},
   "outputs": [],
   "source": [
    "# difference b/w package and library"
   ]
  },
  {
   "cell_type": "markdown",
   "id": "ff9c262e",
   "metadata": {},
   "source": [
    "#### Prioritisation of executing the imported functions  or Restricting the function calls immediately after importing\n",
    "1. We can set prioritisation using __name__ because:\n",
    "    \n",
    "Name of the module (given by __name__ function) is\n",
    "    \n",
    "    1. Actual name if it is executed from other module\n",
    "    2. __main__ if it is executed directly from the same module\n",
    "    \n",
    "##### from fcs import * \n",
    "1. fcs when executed from fcs, executes the enitre module and __name__ is __main__\n",
    "\n",
    "2. fcs when executed from numbers.py, the print(__name__) gives fcs"
   ]
  },
  {
   "cell_type": "code",
   "execution_count": 10,
   "id": "7009db89",
   "metadata": {},
   "outputs": [
    {
     "name": "stdout",
     "output_type": "stream",
     "text": [
      "30\n",
      "8\n",
      "20\n"
     ]
    }
   ],
   "source": [
    "# fcs.py\n",
    "def add():\n",
    "    print(10+20)\n",
    "    \n",
    "def sub():\n",
    "    print(10-2)\n",
    "    \n",
    "def mul():\n",
    "    print(10*2)\n",
    "    \n",
    "if __name__ == '__main__':\n",
    "    add()\n",
    "    sub()\n",
    "    mul()"
   ]
  },
  {
   "cell_type": "code",
   "execution_count": 3,
   "id": "4c24cb12",
   "metadata": {},
   "outputs": [
    {
     "name": "stdout",
     "output_type": "stream",
     "text": [
      "Name of the current module is __main__\n"
     ]
    }
   ],
   "source": [
    "# numbers.py\n",
    "from fcs import * \n",
    "add()\n",
    "sub()\n",
    "mul()\n",
    "print(f'Name of the current module is {__name__}')"
   ]
  },
  {
   "cell_type": "markdown",
   "id": "f6c4158e",
   "metadata": {},
   "source": [
    "### Package\n",
    "1. Package is a collection of python modules along with __init__.py\n",
    "2. __init__.py is a blank python module which makes a folder of python module as a python package\n",
    "\n",
    "#### Importing enitre module (all the content) of another package:\n",
    "1. When we want to access all the content from the enitre modulethen we import entire module\n",
    "2. Syntax for importing entire module:\n",
    "        \n",
    "        from package_name import module1, module2,... module_n\n",
    "3. Syntax for accessing function/classes if we import entire module\n",
    "\n",
    "        for functions:\n",
    "            module_name.function(arguments)\n",
    "        Note: Arguments are not mandatory\n",
    "        \n",
    "        for classes:\n",
    "            module_name.class_name(arguments)\n",
    "        Note: Arguments are not mandatory"
   ]
  },
  {
   "cell_type": "raw",
   "id": "540d6c7c",
   "metadata": {},
   "source": [
    "# app\n",
    "__init__.py\n",
    "apps.py\n",
    "models.py\n",
    "admin.py\n",
    "tests.py\n",
    "views.py\n",
    "\n",
    "def wish():\n",
    "    print('hi how are you python')"
   ]
  },
  {
   "cell_type": "raw",
   "id": "ad01ed52",
   "metadata": {},
   "source": [
    "# shree.py\n",
    "__init__.py\n",
    "asgi.py\n",
    "wsgi.py\n",
    "settings.py\n",
    "urls.py\n",
    "\n",
    "from app import views\n",
    "views.wish()"
   ]
  },
  {
   "cell_type": "markdown",
   "id": "36de497b",
   "metadata": {},
   "source": [
    "#### Aliasing a imported module of another package\n",
    "Syntax for providing an alternate for entire module:\n",
    "\n",
    "    from package_name import module_name as alias_name\n",
    "Syntax for accessing functions after aliasing:\n",
    "    \n",
    "    aliasingname.function()\n",
    "    \n",
    "Note: After aliasing we cannot use the actual name of the module for accessing the functions"
   ]
  },
  {
   "cell_type": "raw",
   "id": "7f8b515a",
   "metadata": {},
   "source": [
    "# shree.py\n",
    "__init__.py\n",
    "asgi.py\n",
    "wsgi.py\n",
    "settings.py\n",
    "urls.py\n",
    "\n",
    "from app import views as v\n",
    "v.wish()"
   ]
  },
  {
   "cell_type": "markdown",
   "id": "0604a108",
   "metadata": {},
   "source": [
    "#### Importing specific functions from a module of another package\n",
    "1. We can import specific functions from the module by using both import and from keywords\n",
    "2. Syntax for importing specific functions:\n",
    "        \n",
    "        from package_name.module_name import function1, function2, functions3,... function_n\n",
    "3. Syntax for accessing the function:\n",
    "\n",
    "        function()"
   ]
  },
  {
   "cell_type": "raw",
   "id": "cc8991d5",
   "metadata": {},
   "source": [
    "# shree.py\n",
    "__init__.py\n",
    "asgi.py\n",
    "wsgi.py\n",
    "settings.py\n",
    "urls.py\n",
    "\n",
    "from app.views import wish\n",
    "wish()"
   ]
  },
  {
   "cell_type": "markdown",
   "id": "199a5b33",
   "metadata": {},
   "source": [
    "#### Providing an alternate name for the imported functions from Module of another Package:\n",
    "Syntax:\n",
    "\n",
    "    from package_name.module_name import function1 as alias_function1,function2 as alias_function2\n",
    "Syntax for accessing the function:\n",
    "\n",
    "    alias_function1()"
   ]
  },
  {
   "cell_type": "raw",
   "id": "0241a615",
   "metadata": {},
   "source": [
    "# shree.py\n",
    "__init__.py\n",
    "asgi.py\n",
    "wsgi.py\n",
    "settings.py\n",
    "urls.py\n",
    "\n",
    "from app.views import wish as w\n",
    "w()"
   ]
  },
  {
   "cell_type": "markdown",
   "id": "75d7de9d",
   "metadata": {},
   "source": [
    "Recusrion -- 12-Aug"
   ]
  },
  {
   "cell_type": "markdown",
   "id": "85757a66",
   "metadata": {},
   "source": [
    "### Recursion\n",
    "It is the process of calling the function within itself untill the given terminating condition is satisfied\n",
    "\n",
    "#### Benefits of recursion:\n",
    "1. It reduces code redundancy, code complexity\n",
    "2. When we want to repeat the same process, recursion is the best\n",
    "#### Demerits of recursion\n",
    "1. Memory consumption is more\n",
    "2. Trcaing back of code will be difficult\n",
    "\n",
    "Syntax:\n",
    "    \n",
    "        def recursion_function(arguments):\n",
    "            if condition:\n",
    "                multiple statements\n",
    "            recursion_function(arguments)"
   ]
  },
  {
   "cell_type": "code",
   "execution_count": 220,
   "id": "552d83e6",
   "metadata": {},
   "outputs": [],
   "source": [
    "def display(n):\n",
    "    if n==7:\n",
    "        return \n",
    "    display(n-1)"
   ]
  },
  {
   "cell_type": "raw",
   "id": "3a4aacb8",
   "metadata": {},
   "source": [
    "n=10              n=9              n =8           n=7\n",
    "print(10)         print(9)         print(8)       print(7)\n",
    "if 10==7:         if 9==7:         if 8==7:       if 7==7:\n",
    "    return X         return X         return X       return\n",
    "display(9)        display(8)       display(8)       o/p: None\n",
    "                                         ^                |\n",
    "                                         |                |\n",
    "                                         |                |\n",
    "                        -----------------|----------------|"
   ]
  },
  {
   "cell_type": "code",
   "execution_count": null,
   "id": "2868a888",
   "metadata": {},
   "outputs": [],
   "source": []
  },
  {
   "cell_type": "code",
   "execution_count": null,
   "id": "c672a23e",
   "metadata": {},
   "outputs": [],
   "source": []
  },
  {
   "cell_type": "code",
   "execution_count": null,
   "id": "bf7fe81c",
   "metadata": {},
   "outputs": [],
   "source": []
  },
  {
   "cell_type": "code",
   "execution_count": null,
   "id": "226a4b45",
   "metadata": {},
   "outputs": [],
   "source": []
  },
  {
   "cell_type": "code",
   "execution_count": null,
   "id": "a4314f04",
   "metadata": {},
   "outputs": [],
   "source": []
  },
  {
   "cell_type": "code",
   "execution_count": null,
   "id": "663410ac",
   "metadata": {},
   "outputs": [],
   "source": []
  },
  {
   "cell_type": "markdown",
   "id": "14e3e091",
   "metadata": {},
   "source": [
    "13-Aug\n",
    "#### Difference between Normal functions and Lambda function"
   ]
  },
  {
   "cell_type": "raw",
   "id": "8f8e3aec",
   "metadata": {},
   "source": [
    "Normal Functions                                                            Lambda functions\n",
    "\n",
    "1.It is an independent block of code with a specific name        1. It is an anonymous single line function\n",
    "2.def keyword is used for defining normal functions              2.Lambda keyword is used for creating\n",
    "3.Syntax:                                                        3.Syntax:\n",
    "    def function_Name(argumets):                                     lambda arguments:Expression\n",
    "         multiple statements\n",
    "4.We can define multiple arguments in a normal function          4.We can define multiple arguments in a lambda function\n",
    "5.We can define multiple statements in a normal function         5.We can define only single statement in a lambda functn\n",
    "6.We need to use return keyword to return some data from         6.A lambda function returns the output of the specified  \n",
    "  a normal function                                                function by default\n",
    "7.We can use normal functions multiple times and in              7.We can use lambda functions multpile times but only in \n",
    "  multiple places                                                  single place."
   ]
  },
  {
   "cell_type": "markdown",
   "id": "7c4bda6b",
   "metadata": {},
   "source": [
    "Syntax:\n",
    "\n",
    "    lambda arguments:Expression\n",
    "Note:\n",
    "\n",
    "    1. Lambda function will take multiple arguments\n",
    "    2. Lambda function will take only one expression, this expression is evaluated and output will be returned"
   ]
  },
  {
   "cell_type": "markdown",
   "id": "6e4ab202",
   "metadata": {},
   "source": [
    "Lambda function with single argument"
   ]
  },
  {
   "cell_type": "code",
   "execution_count": 1,
   "id": "819d4d39",
   "metadata": {},
   "outputs": [
    {
     "name": "stdout",
     "output_type": "stream",
     "text": [
      "100\n"
     ]
    }
   ],
   "source": [
    "square = lambda n:n**2\n",
    "print(square(10))"
   ]
  },
  {
   "cell_type": "code",
   "execution_count": 3,
   "id": "d106a99f",
   "metadata": {},
   "outputs": [
    {
     "name": "stdout",
     "output_type": "stream",
     "text": [
      "True\n"
     ]
    }
   ],
   "source": [
    "isEven = lambda n:n%2 ==0\n",
    "print(isEven(90))"
   ]
  },
  {
   "cell_type": "markdown",
   "id": "dc029211",
   "metadata": {},
   "source": [
    "Lambda function with 2 arguments"
   ]
  },
  {
   "cell_type": "code",
   "execution_count": 4,
   "id": "6603e243",
   "metadata": {},
   "outputs": [
    {
     "name": "stdout",
     "output_type": "stream",
     "text": [
      "6\n"
     ]
    }
   ],
   "source": [
    "mul = lambda m,n:m*n\n",
    "print(mul(2,3))"
   ]
  },
  {
   "cell_type": "markdown",
   "id": "8037a7ff",
   "metadata": {},
   "source": [
    "Lambda function with 3 argumets"
   ]
  },
  {
   "cell_type": "code",
   "execution_count": 6,
   "id": "3bd53f96",
   "metadata": {},
   "outputs": [
    {
     "name": "stdout",
     "output_type": "stream",
     "text": [
      "30\n"
     ]
    }
   ],
   "source": [
    "mul_ = lambda x,y,z:x*y*z\n",
    "print(mul_(2,3,5))"
   ]
  },
  {
   "cell_type": "code",
   "execution_count": 30,
   "id": "956735ea",
   "metadata": {},
   "outputs": [
    {
     "ename": "TypeError",
     "evalue": "filter expected 2 arguments, got 3",
     "output_type": "error",
     "traceback": [
      "\u001b[1;31m---------------------------------------------------------------------------\u001b[0m",
      "\u001b[1;31mTypeError\u001b[0m                                 Traceback (most recent call last)",
      "Cell \u001b[1;32mIn[30], line 3\u001b[0m\n\u001b[0;32m      1\u001b[0m \u001b[38;5;66;03m# both map and filter can run for multiple iterations/take multiple inputs one by one\u001b[39;00m\n\u001b[0;32m      2\u001b[0m \u001b[38;5;28mlist\u001b[39m(  \u001b[38;5;28mmap\u001b[39m (\u001b[38;5;28;01mlambda\u001b[39;00m l,s:s\u001b[38;5;241m%\u001b[39ml,[\u001b[38;5;241m10\u001b[39m,\u001b[38;5;241m9\u001b[39m,\u001b[38;5;241m8\u001b[39m,\u001b[38;5;241m7\u001b[39m,\u001b[38;5;241m6\u001b[39m],[n]\u001b[38;5;241m*\u001b[39m\u001b[38;5;241m5\u001b[39m))\u001b[38;5;66;03m#function for map can take multiple args at a time and map it to the function\u001b[39;00m\n\u001b[1;32m----> 3\u001b[0m \u001b[38;5;28mlist\u001b[39m(\u001b[38;5;28;43mfilter\u001b[39;49m\u001b[43m(\u001b[49m\u001b[38;5;28;43;01mlambda\u001b[39;49;00m\u001b[43m \u001b[49m\u001b[43ml\u001b[49m\u001b[43m,\u001b[49m\u001b[43ms\u001b[49m\u001b[43m:\u001b[49m\u001b[43ms\u001b[49m\u001b[38;5;241;43m%\u001b[39;49m\u001b[43ml\u001b[49m\u001b[43m,\u001b[49m\u001b[43m[\u001b[49m\u001b[38;5;241;43m10\u001b[39;49m\u001b[43m,\u001b[49m\u001b[38;5;241;43m9\u001b[39;49m\u001b[43m,\u001b[49m\u001b[38;5;241;43m8\u001b[39;49m\u001b[43m,\u001b[49m\u001b[38;5;241;43m7\u001b[39;49m\u001b[43m,\u001b[49m\u001b[38;5;241;43m6\u001b[39;49m\u001b[43m]\u001b[49m\u001b[43m,\u001b[49m\u001b[43m[\u001b[49m\u001b[43mn\u001b[49m\u001b[43m]\u001b[49m\u001b[38;5;241;43m*\u001b[39;49m\u001b[38;5;241;43m5\u001b[39;49m\u001b[43m)\u001b[49m)\n",
      "\u001b[1;31mTypeError\u001b[0m: filter expected 2 arguments, got 3"
     ]
    }
   ],
   "source": [
    "# both map and filter can run for multiple iterations/take multiple inputs one by one\n",
    "\n",
    "list(  map (lambda l,s:s%l,[10,9,8,7,6],[n]*5))#fnctn for map can take multiple args at a time and map it to the fnctn\n",
    "list(filter(lambda l,s:s%l,[10,9,8,7,6],[n]*5))#fnctn for filter can take only arg at a time "
   ]
  },
  {
   "cell_type": "code",
   "execution_count": 27,
   "id": "23a8d63d",
   "metadata": {},
   "outputs": [
    {
     "name": "stdout",
     "output_type": "stream",
     "text": [
      "False\n"
     ]
    },
    {
     "data": {
      "text/plain": [
       "(True, False)"
      ]
     },
     "execution_count": 27,
     "metadata": {},
     "output_type": "execute_result"
    }
   ],
   "source": [
    "# any() and all()\n",
    "print(all(([], 10, 'abc'))) # False bcz of []-empty list\n",
    "any(i for i in range(0,5)),  all(i for i in range(0,5))  "
   ]
  },
  {
   "cell_type": "code",
   "execution_count": 79,
   "id": "61d88da7",
   "metadata": {},
   "outputs": [
    {
     "name": "stdout",
     "output_type": "stream",
     "text": [
      "6\n"
     ]
    },
    {
     "data": {
      "text/plain": [
       "False"
      ]
     },
     "execution_count": 79,
     "metadata": {},
     "output_type": "execute_result"
    }
   ],
   "source": [
    "# wapt filter prime numbers in a single line using lambda, map and all()\n",
    "n=int(input())  # trial -- does not work for n=1\n",
    "all(list(map(lambda i,n:  n>1 and n%i!=0 , list(range(2,n//2+1)),  [n]*(n//2-1) )))"
   ]
  },
  {
   "cell_type": "code",
   "execution_count": 80,
   "id": "f06f1d62",
   "metadata": {},
   "outputs": [
    {
     "data": {
      "text/plain": [
       "[2, 3, 5, 7]"
      ]
     },
     "execution_count": 80,
     "metadata": {},
     "output_type": "execute_result"
    }
   ],
   "source": [
    "#  solution\n",
    "list(filter(lambda n: n>1 and all(n%i for i in range(2,n//2+1)) ,[1,2,3,4,5,6,7,8,9] ))"
   ]
  },
  {
   "cell_type": "markdown",
   "id": "a263edea",
   "metadata": {},
   "source": [
    "#### Map Function\n",
    "The map() function in python takes a function and an iterable.\n",
    "map() function returns a map object(which is an iterator) after performing operations on each and every element of the iterable by using the given function.\n",
    "\n",
    "Syntax:\n",
    "\n",
    "    map(functionAddress, iterable)\n",
    "argumets:\n",
    "\n",
    "    functionAddress: It is a function to which map passes each element of the given iterable.\n",
    "    iterable: It is an iterable which is to be mapped.\n",
    "Note: No. of inputs = no. of outputs in map function"
   ]
  },
  {
   "cell_type": "code",
   "execution_count": 16,
   "id": "6bf69652",
   "metadata": {},
   "outputs": [
    {
     "name": "stdout",
     "output_type": "stream",
     "text": [
      "[21, 32, 43, 54]\n"
     ]
    }
   ],
   "source": [
    "#  map with normal function\n",
    "def add(n):\n",
    "    return n+10\n",
    "print(list(map(add, [11,22,33,44])))"
   ]
  },
  {
   "cell_type": "code",
   "execution_count": 15,
   "id": "e978be2b",
   "metadata": {},
   "outputs": [
    {
     "name": "stdout",
     "output_type": "stream",
     "text": [
      "[21, 32, 43, 54]\n"
     ]
    }
   ],
   "source": [
    "#  map with lambda function\n",
    "print(list(map(lambda n:n+10, [11,22,33,44])))"
   ]
  },
  {
   "cell_type": "markdown",
   "id": "b39f564a",
   "metadata": {},
   "source": [
    "#### Filter function \n",
    "The filter function filters the given sequence with the help of a function that tests each element in the given sequence to be true or not.\n",
    "\n",
    "Syntax:\n",
    "    \n",
    "       filter(functionAddress, sequence)\n",
    "Parameters:\n",
    "           \n",
    "       function: function that tests if each element of a given sequence is true or not.\n",
    "       sequence: sequence which need to be filtered, it can be sets, lists, tuples or containers of any iterators\n",
    "       \n",
    "Note: No. of outputs will be less than or equal to no of input elements of iterable"
   ]
  },
  {
   "cell_type": "code",
   "execution_count": 18,
   "id": "e405d987",
   "metadata": {},
   "outputs": [
    {
     "name": "stdout",
     "output_type": "stream",
     "text": [
      "[22, 44]\n"
     ]
    }
   ],
   "source": [
    "# filter with normal function\n",
    "def isEven(n):\n",
    "    if n%2==0:\n",
    "        return True\n",
    "    else:\n",
    "        return False\n",
    "print(list(filter(isEven, [11,22,33,44])))"
   ]
  },
  {
   "cell_type": "code",
   "execution_count": 19,
   "id": "0884f7f3",
   "metadata": {},
   "outputs": [
    {
     "name": "stdout",
     "output_type": "stream",
     "text": [
      "[66, 40, 22]\n"
     ]
    }
   ],
   "source": [
    "# filter with lambda function\n",
    "print(list(filter(lambda n:n%2==0,[66,40,33,22] )))"
   ]
  },
  {
   "cell_type": "markdown",
   "id": "b1a05616",
   "metadata": {},
   "source": [
    "#### Reduce Function\n",
    "\n",
    "   1. The reduce(fun, seq) function is used to apply a particular function passed in its argument to all the list of elements          menioned in the sequence passed along.\n",
    "   2. This function is defined in \"functools\" module.\n",
    "   3. It is used for operations like summ, max and min\n",
    "   \n",
    "Ternary Operator: Ternary operator is used for representing if else condition in a single line.\n",
    "\n",
    "Syntax:\n",
    "    \n",
    "    True value if condition else False Value"
   ]
  },
  {
   "cell_type": "code",
   "execution_count": 2,
   "id": "988b1b6b",
   "metadata": {},
   "outputs": [
    {
     "name": "stdout",
     "output_type": "stream",
     "text": [
      "400\n"
     ]
    }
   ],
   "source": [
    "from functools import reduce\n",
    "# Finding a maximum number from a given by list using reduce\n",
    "L = [100,22,400,45,60]\n",
    "print(reduce(lambda a,b: a if a>b else b, L))"
   ]
  },
  {
   "cell_type": "raw",
   "id": "165684c2",
   "metadata": {},
   "source": [
    "reduce --> 100,22        reduce --> 100,400         reduce --> 400,45         reduce -->400,60\n",
    "lambda a=100, b=22       lambda a=100, b=400        lambda a=400,b=45         lambda a=400, b=60\n",
    "100 if 100>22 else 22    100 if 100>400 else 400    400 if 400>45 else 45     400 if 100>60 else 60"
   ]
  },
  {
   "cell_type": "code",
   "execution_count": 3,
   "id": "f7bc69bc",
   "metadata": {},
   "outputs": [
    {
     "name": "stdout",
     "output_type": "stream",
     "text": [
      "22\n"
     ]
    }
   ],
   "source": [
    "# finding minimum number from given list using reduce\n",
    "L = [100,22,400,45,60]\n",
    "print(reduce(lambda a,b: a if a<b else b, L))"
   ]
  },
  {
   "cell_type": "code",
   "execution_count": 4,
   "id": "9c333c45",
   "metadata": {},
   "outputs": [
    {
     "name": "stdout",
     "output_type": "stream",
     "text": [
      "627\n"
     ]
    }
   ],
   "source": [
    "# finding sum of numbers of a given list using reduce\n",
    "L = [100,22,400,45,60]\n",
    "print(reduce(lambda a,b: a+b, L))"
   ]
  },
  {
   "cell_type": "code",
   "execution_count": 5,
   "id": "62db388b",
   "metadata": {},
   "outputs": [
    {
     "name": "stdout",
     "output_type": "stream",
     "text": [
      "[100, 22, 400, 45, 56, 34, 60]\n"
     ]
    }
   ],
   "source": [
    "# flattening the list of nested list using reduce\n",
    "L = [[100,22],[400],[45,56,34,60]]\n",
    "print(reduce(lambda a,b: a+b, L))"
   ]
  },
  {
   "cell_type": "code",
   "execution_count": 6,
   "id": "62357c82",
   "metadata": {},
   "outputs": [
    {
     "name": "stdout",
     "output_type": "stream",
     "text": [
      "python\n"
     ]
    }
   ],
   "source": [
    "# finding the lengthiest string from given list of strings using reduce\n",
    "L=['hai', 'hello','bye', 'python']\n",
    "print(reduce(lambda a,b: a if len(a)>len(b) else b, L))"
   ]
  },
  {
   "cell_type": "markdown",
   "id": "4fca47a2",
   "metadata": {},
   "source": [
    "#### Taking exactly n values as inputs"
   ]
  },
  {
   "cell_type": "code",
   "execution_count": 3,
   "id": "4552ef63",
   "metadata": {},
   "outputs": [
    {
     "name": "stdout",
     "output_type": "stream",
     "text": [
      "3\n",
      "15\n",
      "25\n",
      "35\n",
      "[15, 25, 35]\n"
     ]
    }
   ],
   "source": [
    "n=int(input())\n",
    "L=[]\n",
    "for i in range(n):\n",
    "    value = int(input())\n",
    "    L.append(value)\n",
    "print(L)"
   ]
  },
  {
   "cell_type": "markdown",
   "id": "42dcff76",
   "metadata": {},
   "source": [
    "#### Taking inputs till the given value is less than 0"
   ]
  },
  {
   "cell_type": "code",
   "execution_count": 4,
   "id": "5a0630c1",
   "metadata": {},
   "outputs": [
    {
     "name": "stdout",
     "output_type": "stream",
     "text": [
      "5\n",
      "4\n",
      "-3\n",
      "[5, 4]\n"
     ]
    }
   ],
   "source": [
    "L=[]\n",
    "while True:\n",
    "    value = int(input())\n",
    "    if value<0:\n",
    "        break\n",
    "    L.append(value)\n",
    "print(L)"
   ]
  },
  {
   "cell_type": "markdown",
   "id": "2cc9f0f2",
   "metadata": {},
   "source": [
    "#### Taking space separated value as input from the user."
   ]
  },
  {
   "cell_type": "code",
   "execution_count": 2,
   "id": "186e3450",
   "metadata": {},
   "outputs": [
    {
     "name": "stdout",
     "output_type": "stream",
     "text": [
      "12 3 4 56\n",
      "[12, 3, 4, 56]\n"
     ]
    }
   ],
   "source": [
    "# s=input()\n",
    "# L=s.split()\n",
    "# NL=[]\n",
    "# for i in L:\n",
    "#     NL.append(int(i))\n",
    "\n",
    "# ----------using map--------------------\n",
    "print(list(map(int, input().split())))"
   ]
  },
  {
   "cell_type": "markdown",
   "id": "2a82d66c",
   "metadata": {},
   "source": [
    "#### Taking comma separated value as input from the user."
   ]
  },
  {
   "cell_type": "code",
   "execution_count": 3,
   "id": "c67af47d",
   "metadata": {},
   "outputs": [
    {
     "name": "stdout",
     "output_type": "stream",
     "text": [
      "4,5,68,9\n",
      "[4, 5, 68, 9]\n"
     ]
    }
   ],
   "source": [
    "print(list(map(int, input().split(','))))"
   ]
  },
  {
   "cell_type": "markdown",
   "id": "2a279ac4",
   "metadata": {},
   "source": [
    "### Types of variables\n",
    "These are used for defining the scope of accessibility of variables. In functions we have 3 types of variables\n",
    "1. Local Variable\n",
    "2. Global variable\n",
    "3. Non local variable\n",
    "\n",
    "#### 1. Local Variables\n",
    "1. These are the variables which are created inside the function space\n",
    "2. Local variables can be accessed and modified within that function Space\n",
    "3. We cannot access local variables in main space"
   ]
  },
  {
   "cell_type": "code",
   "execution_count": 9,
   "id": "edc90529",
   "metadata": {},
   "outputs": [
    {
     "data": {
      "image/png": "[encoded data removed]",
      "text/plain": [
       "<PIL.PngImagePlugin.PngImageFile image mode=RGBA size=1058x503>"
      ]
     },
     "execution_count": 9,
     "metadata": {},
     "output_type": "execute_result"
    }
   ],
   "source": [
    "img1 = Image.open('local variable.png')\n",
    "img1"
   ]
  },
  {
   "cell_type": "code",
   "execution_count": 8,
   "id": "84907504",
   "metadata": {},
   "outputs": [
    {
     "name": "stdout",
     "output_type": "stream",
     "text": [
      "10\n",
      "5\n"
     ]
    },
    {
     "ename": "NameError",
     "evalue": "name 'a' is not defined",
     "output_type": "error",
     "traceback": [
      "\u001b[1;31m---------------------------------------------------------------------------\u001b[0m",
      "\u001b[1;31mNameError\u001b[0m                                 Traceback (most recent call last)",
      "Cell \u001b[1;32mIn[8], line 8\u001b[0m\n\u001b[0;32m      5\u001b[0m     \u001b[38;5;28mprint\u001b[39m(a)\n\u001b[0;32m      7\u001b[0m display()  \u001b[38;5;66;03m# a=10 & 5 accessed and modified within the function spce\u001b[39;00m\n\u001b[1;32m----> 8\u001b[0m \u001b[38;5;28mprint\u001b[39m(\u001b[43ma\u001b[49m)\n",
      "\u001b[1;31mNameError\u001b[0m: name 'a' is not defined"
     ]
    }
   ],
   "source": [
    "def display():\n",
    "    a=10\n",
    "    print(a)\n",
    "    a-=5\n",
    "    print(a)\n",
    "    \n",
    "display()  # a=10 & 5, a is accessed and modified within the function spce\n",
    "print(a)   # a is not defined in the main space"
   ]
  },
  {
   "cell_type": "markdown",
   "id": "5db2da22",
   "metadata": {},
   "source": [
    "#### Global Variable\n",
    "1. These are the variables hich are created outside the function and accessed and modified inside the function\n",
    "2. Inorder to make a normal variable to a global variable, we have to use global keyword\n",
    "Syntax:\n",
    "\n",
    "    global var1, var2, ....var-n"
   ]
  },
  {
   "cell_type": "code",
   "execution_count": 11,
   "id": "c12eccbf",
   "metadata": {},
   "outputs": [
    {
     "data": {
      "image/png": "[encoded data removed]",
      "text/plain": [
       "<PIL.PngImagePlugin.PngImageFile image mode=RGBA size=723x453>"
      ]
     },
     "execution_count": 11,
     "metadata": {},
     "output_type": "execute_result"
    }
   ],
   "source": [
    "img2=Image.open('global variable.png')\n",
    "img2"
   ]
  },
  {
   "cell_type": "code",
   "execution_count": 14,
   "id": "48def380",
   "metadata": {},
   "outputs": [
    {
     "name": "stdout",
     "output_type": "stream",
     "text": [
      "10\n",
      "5\n",
      "5\n"
     ]
    }
   ],
   "source": [
    "a=10\n",
    "def display():\n",
    "    global a\n",
    "    print(a)\n",
    "    a-=5\n",
    "    print(a)\n",
    "display()\n",
    "print(a)"
   ]
  },
  {
   "cell_type": "code",
   "execution_count": 4,
   "id": "a17211c7",
   "metadata": {},
   "outputs": [
    {
     "ename": "SyntaxError",
     "evalue": "name 'a' is assigned to before global declaration (2353994660.py, line 3)",
     "output_type": "error",
     "traceback": [
      "\u001b[1;36m  Cell \u001b[1;32mIn[4], line 3\u001b[1;36m\u001b[0m\n\u001b[1;33m    global a\u001b[0m\n\u001b[1;37m    ^\u001b[0m\n\u001b[1;31mSyntaxError\u001b[0m\u001b[1;31m:\u001b[0m name 'a' is assigned to before global declaration\n"
     ]
    }
   ],
   "source": [
    "def diplay():   # a has to be globally assigned before declaration\n",
    "    a=10\n",
    "    global a\n",
    "    print(a)\n",
    "    a-=5\n",
    "    print(a)\n",
    "display()\n",
    "print(a)"
   ]
  },
  {
   "cell_type": "markdown",
   "id": "72156c19",
   "metadata": {},
   "source": [
    "#### Nested Functions\n",
    "It is a process of defining a funciton inside another function.\n",
    "\n",
    "Syntax for defining nested function:   -->img\n",
    "\n",
    "    def outer():\n",
    "        def inner():\n",
    "            pass"
   ]
  },
  {
   "cell_type": "code",
   "execution_count": 10,
   "id": "59271347",
   "metadata": {},
   "outputs": [
    {
     "name": "stdout",
     "output_type": "stream",
     "text": [
      "start of outer\n",
      "start of inner\n",
      "end of inner\n",
      "end of outer\n"
     ]
    }
   ],
   "source": [
    "def outer():\n",
    "    print('start of outer')\n",
    "    def inner():\n",
    "        print('start of inner')\n",
    "        print('end of inner')\n",
    "    inner()\n",
    "    print('end of outer')\n",
    "outer()"
   ]
  },
  {
   "cell_type": "markdown",
   "id": "f39f94c3",
   "metadata": {},
   "source": [
    "#### Nonlocal Variables\n",
    "1. Nonlocal variables are used in nested functions\n",
    "2. Nonlocal variable is defined in outer function space and can be accessed in and modified in inner function space\n",
    "3. To make normal variables into nonlocal, we have to use the keyword nonlocal\n",
    "\n",
    "Syntax:\n",
    "    \n",
    "    nonlocal var1, var2,....var-n"
   ]
  },
  {
   "cell_type": "code",
   "execution_count": 12,
   "id": "fc37809c",
   "metadata": {},
   "outputs": [
    {
     "data": {
      "image/png": "[encoded data removed]",
      "text/plain": [
       "<PIL.PngImagePlugin.PngImageFile image mode=RGBA size=773x391>"
      ]
     },
     "execution_count": 12,
     "metadata": {},
     "output_type": "execute_result"
    }
   ],
   "source": [
    "img3 = Image.open('nonlocal.png')\n",
    "img3"
   ]
  },
  {
   "cell_type": "code",
   "execution_count": 12,
   "id": "4d837da6",
   "metadata": {},
   "outputs": [
    {
     "name": "stdout",
     "output_type": "stream",
     "text": [
      "10\n",
      "9\n",
      "9\n"
     ]
    }
   ],
   "source": [
    "def outer():\n",
    "    a=10\n",
    "    def inner():\n",
    "        nonlocal a\n",
    "        print(a)\n",
    "        a-=1\n",
    "        print(a)\n",
    "    inner()\n",
    "    print(a)\n",
    "outer()"
   ]
  },
  {
   "cell_type": "code",
   "execution_count": 4,
   "id": "7dddaf70",
   "metadata": {},
   "outputs": [
    {
     "data": {
      "image/png": "[encoded data removed]",
      "text/plain": [
       "<PIL.PngImagePlugin.PngImageFile image mode=RGBA size=626x673>"
      ]
     },
     "execution_count": 4,
     "metadata": {},
     "output_type": "execute_result"
    }
   ],
   "source": [
    "img4 = Image.open('nonlocal var-eg.png')  #verify\n",
    "img4"
   ]
  },
  {
   "cell_type": "raw",
   "id": "a27fdd63",
   "metadata": {},
   "source": [
    "Outer function arg can be accessed in inner function but a variable of outer function variable cannot be accessed inside inner function"
   ]
  },
  {
   "cell_type": "code",
   "execution_count": 4,
   "id": "96c688ea",
   "metadata": {},
   "outputs": [
    {
     "name": "stdout",
     "output_type": "stream",
     "text": [
      "6\n",
      "6\n"
     ]
    }
   ],
   "source": [
    "# example\n",
    "def outer(arg):\n",
    "    a=10\n",
    "    print(arg)\n",
    "    def inner():\n",
    "        print(arg)\n",
    "    inner()\n",
    "outer(6)"
   ]
  },
  {
   "cell_type": "code",
   "execution_count": null,
   "id": "35dbda0a",
   "metadata": {},
   "outputs": [],
   "source": []
  },
  {
   "cell_type": "code",
   "execution_count": null,
   "id": "d655dd78",
   "metadata": {},
   "outputs": [],
   "source": []
  },
  {
   "cell_type": "code",
   "execution_count": null,
   "id": "103d4f0c",
   "metadata": {},
   "outputs": [],
   "source": []
  },
  {
   "cell_type": "code",
   "execution_count": null,
   "id": "efdfcbe9",
   "metadata": {},
   "outputs": [],
   "source": []
  },
  {
   "cell_type": "code",
   "execution_count": null,
   "id": "d6dcb5d3",
   "metadata": {},
   "outputs": [],
   "source": []
  },
  {
   "cell_type": "code",
   "execution_count": null,
   "id": "d26b0dc8",
   "metadata": {},
   "outputs": [],
   "source": []
  }
 ],
 "metadata": {
  "kernelspec": {
   "display_name": "Python 3 (ipykernel)",
   "language": "python",
   "name": "python3"
  },
  "language_info": {
   "codemirror_mode": {
    "name": "ipython",
    "version": 3
   },
   "file_extension": ".py",
   "mimetype": "text/x-python",
   "name": "python",
   "nbconvert_exporter": "python",
   "pygments_lexer": "ipython3",
   "version": "3.8.3"
  }
 },
 "nbformat": 4,
 "nbformat_minor": 5
}
