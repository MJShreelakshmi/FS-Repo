{
 "cells": [
  {
   "cell_type": "code",
   "execution_count": 4,
   "id": "7c28d722",
   "metadata": {},
   "outputs": [],
   "source": [
    "# differences b/w these functions\n",
    "import re"
   ]
  },
  {
   "cell_type": "markdown",
   "id": "9054864e",
   "metadata": {},
   "source": [
    "### Reg Ex\n",
    "* Regular expression is a sequence of characters that forms a search pattern\n",
    "* Regex can be used to check if a string contains the specified search pattern\n",
    "* Inorder to achieve regex, we have to import re module by using below syntax\n",
    "\n",
    "        import re"
   ]
  },
  {
   "cell_type": "markdown",
   "id": "e57766b6",
   "metadata": {},
   "source": [
    "    Function     Description\n",
    "    1)match        Returns a match object if there is a match at the starting of the string, \n",
    "                   returns None if no matches are found\n",
    "    syntax:\n",
    "\n",
    "            re.match(search_char,  parent_string)\n",
    "            \n",
    "    2)search       Returns a Match object if there is a match anywhere\n",
    "                   in the string Returns None If no matches are found\n",
    "                 \n",
    "    syntax: \n",
    "        \n",
    "            re.search(search_char, main_str)\n",
    "            \n",
    "    3)findall      Returns a list containing all matches and Returns an empty\n",
    "                   list if no match was found\n",
    "                 \n",
    "    syntax: \n",
    "            \n",
    "            re.findall(search_char, main_str)\n",
    "            \n",
    "    4)split        Returns a list where the string has been split at each match\n",
    "    \n",
    "    syntax: \n",
    "    \n",
    "            re.split(split_Pattern, main_str ,maxsplit)\n",
    "            \n",
    "    note: by specifying the maxsplit we can control splitting of parent string\n",
    "    \n",
    "    5)sub          Replaces one or many matches with a string\n",
    "    \n",
    "    syntax: \n",
    "    \n",
    "            re.sub(search_char, replace_char, main_str, count)\n",
    "        \n",
    "    note: by specifying count we can restrict the replacing character for not more than n times \n",
    "          even though string is present\n",
    "    \n",
    "    6)subn         Replaces one or many matches with a string and returns output \n",
    "                   in tuple (replaced content,how many times it is replaced)\n",
    "    \n",
    "    Syntax is same as sub function\n",
    "    \n",
    "    7)finditer      Returns a Iterable Object which consists of Match objects of \n",
    "                    matched content in the string, Returns None If no matches are found\n",
    "    \n",
    "    syntax: \n",
    "    \n",
    "            re.finditer(search_char, main_str)\n",
    "            \n",
    "    8)compile      It is used for converting regular expression pattern into pattern objects\n",
    "    \n",
    "    syntax for creating pattern object:\n",
    "    \n",
    "            patternobj=re.compile(pattern)\n",
    "            \n",
    "    now we can use above patternobj for searching\n",
    "    \n",
    "    text=patternobj.findall(main_str)\n"
   ]
  },
  {
   "cell_type": "markdown",
   "id": "d6e65208",
   "metadata": {},
   "source": [
    "Note that all these special characters are used for matching the no. of occurences of previous characters as mentioned below\n",
    "\n",
    "    *   ---> 0 to n occurences\n",
    "    +   ---> 1 to n occurences\n",
    "    ?   ---> 0 to 1 occurences\n",
    "    {}  ---> specified no. of times say {2} or user defined range of occurences {2,4}"
   ]
  },
  {
   "cell_type": "markdown",
   "id": "37b42573",
   "metadata": {},
   "source": [
    "[abc] extracted element in 'abc'\n",
    "\n",
    "[^abc] extracted element not in 'abc'\n",
    "\n",
    "\n",
    "#### Behaviour of \\\n",
    "All the below patterns mathce one character at a time\n",
    "\n",
    "\\w ----> matches either alphabets, numbers or underscore\n",
    "\n",
    "\\W ----> matches everything other than alphabets, numbers or underscore\n",
    "\n",
    "\\d ----> matches digits i.e., any of the numbers\n",
    "\n",
    "\\D ----> matches everything other than numbers\n",
    "\n",
    "\\s ----> matches space\n",
    "\n",
    "\\S ----> everything other than space\n",
    "\n",
    " A ----> startswith\n",
    " \n",
    " Z ----> endswith"
   ]
  },
  {
   "cell_type": "raw",
   "id": "263806ae",
   "metadata": {},
   "source": [
    "To find any special char in the str that has some functionalities, use those special chars within [] to overcome their functionalities. Rest of the special chars can be used as it is. "
   ]
  },
  {
   "cell_type": "markdown",
   "id": "6813a623",
   "metadata": {},
   "source": [
    "#### match()"
   ]
  },
  {
   "cell_type": "code",
   "execution_count": 22,
   "id": "d68187bf",
   "metadata": {},
   "outputs": [],
   "source": [
    "S='hai python'"
   ]
  },
  {
   "cell_type": "code",
   "execution_count": 2,
   "id": "09c9db74",
   "metadata": {},
   "outputs": [
    {
     "data": {
      "text/plain": [
       "<re.Match object; span=(0, 1), match='h'>"
      ]
     },
     "execution_count": 2,
     "metadata": {},
     "output_type": "execute_result"
    }
   ],
   "source": [
    "re.match('h',S)"
   ]
  },
  {
   "cell_type": "code",
   "execution_count": 3,
   "id": "f59da0db",
   "metadata": {},
   "outputs": [
    {
     "data": {
      "text/plain": [
       "<re.Match object; span=(0, 3), match='hai'>"
      ]
     },
     "execution_count": 3,
     "metadata": {},
     "output_type": "execute_result"
    }
   ],
   "source": [
    "re.match('\\w{3}',S)"
   ]
  },
  {
   "cell_type": "markdown",
   "id": "df342c73",
   "metadata": {},
   "source": [
    "#### search()"
   ]
  },
  {
   "cell_type": "code",
   "execution_count": 8,
   "id": "3ef3a1d8",
   "metadata": {},
   "outputs": [],
   "source": [
    "re.search('w',S)"
   ]
  },
  {
   "cell_type": "code",
   "execution_count": 7,
   "id": "9c919e59",
   "metadata": {},
   "outputs": [
    {
     "data": {
      "text/plain": [
       "<re.Match object; span=(0, 1), match='h'>"
      ]
     },
     "execution_count": 7,
     "metadata": {},
     "output_type": "execute_result"
    }
   ],
   "source": [
    "re.search('h',S)"
   ]
  },
  {
   "cell_type": "code",
   "execution_count": 5,
   "id": "9cc85025",
   "metadata": {},
   "outputs": [
    {
     "data": {
      "text/plain": [
       "<re.Match object; span=(4, 5), match='p'>"
      ]
     },
     "execution_count": 5,
     "metadata": {},
     "output_type": "execute_result"
    }
   ],
   "source": [
    "re.search('p',S)"
   ]
  },
  {
   "cell_type": "code",
   "execution_count": 17,
   "id": "aab14569",
   "metadata": {},
   "outputs": [
    {
     "data": {
      "text/plain": [
       "<re.Match object; span=(0, 1), match='h'>"
      ]
     },
     "execution_count": 17,
     "metadata": {},
     "output_type": "execute_result"
    }
   ],
   "source": [
    "re.search('h',S)"
   ]
  },
  {
   "cell_type": "code",
   "execution_count": 20,
   "id": "15279d91",
   "metadata": {},
   "outputs": [
    {
     "data": {
      "text/plain": [
       "<re.Match object; span=(0, 1), match='h'>"
      ]
     },
     "execution_count": 20,
     "metadata": {},
     "output_type": "execute_result"
    }
   ],
   "source": [
    "re.search('^h',S)"
   ]
  },
  {
   "cell_type": "code",
   "execution_count": 21,
   "id": "28bb5cea",
   "metadata": {},
   "outputs": [],
   "source": [
    "re.search('h$',S)"
   ]
  },
  {
   "cell_type": "markdown",
   "id": "3086b617",
   "metadata": {},
   "source": [
    "#### findall()"
   ]
  },
  {
   "cell_type": "code",
   "execution_count": 9,
   "id": "79b44247",
   "metadata": {},
   "outputs": [
    {
     "data": {
      "text/plain": [
       "['h', 'h']"
      ]
     },
     "execution_count": 9,
     "metadata": {},
     "output_type": "execute_result"
    }
   ],
   "source": [
    "re.findall('h',S)"
   ]
  },
  {
   "cell_type": "code",
   "execution_count": 10,
   "id": "44ef103c",
   "metadata": {},
   "outputs": [
    {
     "data": {
      "text/plain": [
       "['p']"
      ]
     },
     "execution_count": 10,
     "metadata": {},
     "output_type": "execute_result"
    }
   ],
   "source": [
    "re.findall('p',S)"
   ]
  },
  {
   "cell_type": "code",
   "execution_count": 13,
   "id": "50e0560f",
   "metadata": {},
   "outputs": [
    {
     "data": {
      "text/plain": [
       "['h', 'h']"
      ]
     },
     "execution_count": 13,
     "metadata": {},
     "output_type": "execute_result"
    }
   ],
   "source": [
    "re.findall('h',S)"
   ]
  },
  {
   "cell_type": "code",
   "execution_count": 15,
   "id": "a9bbaf73",
   "metadata": {
    "scrolled": true
   },
   "outputs": [
    {
     "data": {
      "text/plain": [
       "['h', 'a', 'i', ' ', 'p', 'y', 't', 'h', 'o', 'n']"
      ]
     },
     "execution_count": 15,
     "metadata": {},
     "output_type": "execute_result"
    }
   ],
   "source": [
    "re.findall('.',S)"
   ]
  },
  {
   "cell_type": "code",
   "execution_count": 23,
   "id": "b1665561",
   "metadata": {},
   "outputs": [],
   "source": [
    "S='hai heeep hep hp heep hello'"
   ]
  },
  {
   "cell_type": "code",
   "execution_count": 24,
   "id": "a6677058",
   "metadata": {},
   "outputs": [
    {
     "data": {
      "text/plain": [
       "['hep']"
      ]
     },
     "execution_count": 24,
     "metadata": {},
     "output_type": "execute_result"
    }
   ],
   "source": [
    "re.findall('hep',S)"
   ]
  },
  {
   "cell_type": "code",
   "execution_count": 25,
   "id": "da499917",
   "metadata": {},
   "outputs": [
    {
     "data": {
      "text/plain": [
       "['heeep', 'hep', 'hp', 'heep']"
      ]
     },
     "execution_count": 25,
     "metadata": {},
     "output_type": "execute_result"
    }
   ],
   "source": [
    "re.findall('he*p',S)"
   ]
  },
  {
   "cell_type": "code",
   "execution_count": 26,
   "id": "102df66c",
   "metadata": {},
   "outputs": [],
   "source": [
    "S='hai heeep hep hp heep hello heap'"
   ]
  },
  {
   "cell_type": "code",
   "execution_count": 27,
   "id": "e9706806",
   "metadata": {},
   "outputs": [
    {
     "data": {
      "text/plain": [
       "['heeep', 'hep', 'hp', 'heep']"
      ]
     },
     "execution_count": 27,
     "metadata": {},
     "output_type": "execute_result"
    }
   ],
   "source": [
    "re.findall('he*p',S)"
   ]
  },
  {
   "cell_type": "code",
   "execution_count": 28,
   "id": "92c9249f",
   "metadata": {},
   "outputs": [
    {
     "data": {
      "text/plain": [
       "['heeep', 'hep', 'heep']"
      ]
     },
     "execution_count": 28,
     "metadata": {},
     "output_type": "execute_result"
    }
   ],
   "source": [
    "re.findall('he+p',S)"
   ]
  },
  {
   "cell_type": "code",
   "execution_count": 29,
   "id": "e02ebb4b",
   "metadata": {},
   "outputs": [
    {
     "data": {
      "text/plain": [
       "['hep', 'hp']"
      ]
     },
     "execution_count": 29,
     "metadata": {},
     "output_type": "execute_result"
    }
   ],
   "source": [
    "re.findall('he?p',S)"
   ]
  },
  {
   "cell_type": "code",
   "execution_count": 30,
   "id": "ee3787ce",
   "metadata": {},
   "outputs": [
    {
     "data": {
      "text/plain": [
       "['heep']"
      ]
     },
     "execution_count": 30,
     "metadata": {},
     "output_type": "execute_result"
    }
   ],
   "source": [
    "re.findall('he{2}p',S)"
   ]
  },
  {
   "cell_type": "code",
   "execution_count": 31,
   "id": "db4705d7",
   "metadata": {},
   "outputs": [
    {
     "data": {
      "text/plain": [
       "['heeep', 'hep', 'heep']"
      ]
     },
     "execution_count": 31,
     "metadata": {},
     "output_type": "execute_result"
    }
   ],
   "source": [
    "re.findall('he{1,3}p',S)"
   ]
  },
  {
   "cell_type": "code",
   "execution_count": 32,
   "id": "9da6b8a8",
   "metadata": {},
   "outputs": [
    {
     "data": {
      "text/plain": [
       "['hai', 'heeep', 'hep', 'heep']"
      ]
     },
     "execution_count": 32,
     "metadata": {},
     "output_type": "execute_result"
    }
   ],
   "source": [
    "re.findall('he{1,3}p|hai',S)"
   ]
  },
  {
   "cell_type": "code",
   "execution_count": 33,
   "id": "d8d687ca",
   "metadata": {},
   "outputs": [],
   "source": [
    "S='abc hai bye'"
   ]
  },
  {
   "cell_type": "code",
   "execution_count": 35,
   "id": "5a749872",
   "metadata": {},
   "outputs": [
    {
     "data": {
      "text/plain": [
       "['abc']"
      ]
     },
     "execution_count": 35,
     "metadata": {},
     "output_type": "execute_result"
    }
   ],
   "source": [
    "re.findall('abc',S)"
   ]
  },
  {
   "cell_type": "code",
   "execution_count": 36,
   "id": "51471b80",
   "metadata": {},
   "outputs": [
    {
     "data": {
      "text/plain": [
       "['a', 'b', 'c', 'a', 'b']"
      ]
     },
     "execution_count": 36,
     "metadata": {},
     "output_type": "execute_result"
    }
   ],
   "source": [
    "re.findall('[abc]',S)"
   ]
  },
  {
   "cell_type": "code",
   "execution_count": 37,
   "id": "5f2e9a5c",
   "metadata": {},
   "outputs": [
    {
     "data": {
      "text/plain": [
       "['a', 'b', 'c', 'h', 'a', 'i', 'b', 'e']"
      ]
     },
     "execution_count": 37,
     "metadata": {},
     "output_type": "execute_result"
    }
   ],
   "source": [
    "re.findall('[abcdefghijkl]',S)"
   ]
  },
  {
   "cell_type": "code",
   "execution_count": 38,
   "id": "fe4bfe46",
   "metadata": {},
   "outputs": [
    {
     "data": {
      "text/plain": [
       "['a', 'b', 'c', 'h', 'a', 'i', 'b', 'e']"
      ]
     },
     "execution_count": 38,
     "metadata": {},
     "output_type": "execute_result"
    }
   ],
   "source": [
    "re.findall('[a-l]',S)"
   ]
  },
  {
   "cell_type": "code",
   "execution_count": 39,
   "id": "58d86d90",
   "metadata": {},
   "outputs": [],
   "source": [
    "S='Hai 123 HELLO'"
   ]
  },
  {
   "cell_type": "code",
   "execution_count": 40,
   "id": "e5f04eb1",
   "metadata": {},
   "outputs": [
    {
     "data": {
      "text/plain": [
       "['a', 'i']"
      ]
     },
     "execution_count": 40,
     "metadata": {},
     "output_type": "execute_result"
    }
   ],
   "source": [
    "re.findall('[a-z]',S)"
   ]
  },
  {
   "cell_type": "code",
   "execution_count": 41,
   "id": "398e7c7d",
   "metadata": {},
   "outputs": [
    {
     "data": {
      "text/plain": [
       "['H', 'a', 'i', 'H', 'E', 'L', 'L', 'O']"
      ]
     },
     "execution_count": 41,
     "metadata": {},
     "output_type": "execute_result"
    }
   ],
   "source": [
    "re.findall('[a-zA-Z]',S)"
   ]
  },
  {
   "cell_type": "code",
   "execution_count": 42,
   "id": "1ef04991",
   "metadata": {},
   "outputs": [
    {
     "data": {
      "text/plain": [
       "['H', 'a', 'i', '1', '2', '3', 'H', 'E', 'L', 'L', 'O']"
      ]
     },
     "execution_count": 42,
     "metadata": {},
     "output_type": "execute_result"
    }
   ],
   "source": [
    "re.findall('[a-zA-Z1-9]',S)"
   ]
  },
  {
   "cell_type": "markdown",
   "id": "228fb1b9",
   "metadata": {},
   "source": [
    "#### finditer()"
   ]
  },
  {
   "cell_type": "code",
   "execution_count": 11,
   "id": "188d10a0",
   "metadata": {},
   "outputs": [
    {
     "data": {
      "text/plain": [
       "<callable_iterator at 0x266ef5a1fd0>"
      ]
     },
     "execution_count": 11,
     "metadata": {},
     "output_type": "execute_result"
    }
   ],
   "source": [
    "re.finditer('h',S)"
   ]
  },
  {
   "cell_type": "code",
   "execution_count": 12,
   "id": "f5c3a108",
   "metadata": {},
   "outputs": [
    {
     "name": "stdout",
     "output_type": "stream",
     "text": [
      "<re.Match object; span=(0, 1), match='h'>\n",
      "<re.Match object; span=(7, 8), match='h'>\n"
     ]
    }
   ],
   "source": [
    "IO=re.finditer('h',S)\n",
    "for i in IO:\n",
    "    print(i)"
   ]
  },
  {
   "cell_type": "markdown",
   "id": "e74985f6",
   "metadata": {},
   "source": [
    "#### Extraction of all the Indian mobile numbers from the given string by using Regex"
   ]
  },
  {
   "cell_type": "code",
   "execution_count": 3,
   "id": "d14efd93",
   "metadata": {},
   "outputs": [
    {
     "data": {
      "text/plain": [
       "['+91-8762280884', '+91-9989373825']"
      ]
     },
     "execution_count": 3,
     "metadata": {},
     "output_type": "execute_result"
    }
   ],
   "source": [
    "s = '+91-8762280884 +12-874622 +91-9989373825'\n",
    "pattern = '[+]91-[6-9]\\d{9}'\n",
    "re.findall(pattern, s)"
   ]
  },
  {
   "cell_type": "markdown",
   "id": "14f64699",
   "metadata": {},
   "source": [
    "#### Parts of an email to be checked for validation / Rules for an email-id\n",
    "1. aplhabets or numbers\n",
    "2. alpahabets, numbers or underscore\n",
    "3. '.' is present for 0-1 times\n",
    "4. alphabets, numbers or '_' 1 to n times\n",
    "5. @\n",
    "6. gmail\n",
    "7. '.'\n",
    "8. com"
   ]
  },
  {
   "cell_type": "code",
   "execution_count": 33,
   "id": "0b35ac5f",
   "metadata": {
    "scrolled": true
   },
   "outputs": [
    {
     "data": {
      "text/plain": [
       "['hello123@gmail.com',\n",
       " 'iamshree45@gmail.com',\n",
       " 'shree456@gmail.com',\n",
       " '56shreemj@gmail.com',\n",
       " 'hello@gmail.com']"
      ]
     },
     "execution_count": 33,
     "metadata": {},
     "output_type": "execute_result"
    }
   ],
   "source": [
    "s = 'hello123@gmail.com iamshree45@gmail.com  $shree456@gmail.com  56shreemj@gmail.com  %hello@gmail.com'\n",
    "pattern = '[a-zA-Z1-9]\\w*[.]?\\w+@gmail[.]com'\n",
    "re.findall(pattern, s)"
   ]
  },
  {
   "cell_type": "markdown",
   "id": "d4eed092",
   "metadata": {},
   "source": [
    "#### Rules for IP address"
   ]
  },
  {
   "cell_type": "code",
   "execution_count": null,
   "id": "211af178",
   "metadata": {},
   "outputs": [],
   "source": []
  },
  {
   "cell_type": "code",
   "execution_count": null,
   "id": "5c159252",
   "metadata": {},
   "outputs": [],
   "source": []
  },
  {
   "cell_type": "code",
   "execution_count": null,
   "id": "00393a61",
   "metadata": {},
   "outputs": [],
   "source": []
  },
  {
   "cell_type": "code",
   "execution_count": null,
   "id": "f781a030",
   "metadata": {},
   "outputs": [],
   "source": []
  },
  {
   "cell_type": "code",
   "execution_count": null,
   "id": "385259df",
   "metadata": {},
   "outputs": [],
   "source": []
  },
  {
   "cell_type": "code",
   "execution_count": null,
   "id": "cc1c8d26",
   "metadata": {},
   "outputs": [],
   "source": []
  }
 ],
 "metadata": {
  "kernelspec": {
   "display_name": "Python 3 (ipykernel)",
   "language": "python",
   "name": "python3"
  },
  "language_info": {
   "codemirror_mode": {
    "name": "ipython",
    "version": 3
   },
   "file_extension": ".py",
   "mimetype": "text/x-python",
   "name": "python",
   "nbconvert_exporter": "python",
   "pygments_lexer": "ipython3",
   "version": "3.8.3"
  }
 },
 "nbformat": 4,
 "nbformat_minor": 5
}
