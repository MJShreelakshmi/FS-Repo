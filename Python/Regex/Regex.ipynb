{
 "cells": [
  {
   "cell_type": "code",
   "execution_count": 4,
   "id": "7c28d722",
   "metadata": {},
   "outputs": [],
   "source": [
    "# differences b/w these functions\n",
    "import re"
   ]
  },
  {
   "cell_type": "markdown",
   "id": "9054864e",
   "metadata": {},
   "source": [
    "### Reg Ex\n",
    "* Regular expression is a sequence of characters that forms a search pattern\n",
    "* Regex can be used to check if a string contains the specified search pattern\n",
    "* Inorder to achieve regex, we have to import re module by using below syntax\n",
    "\n",
    "        import re"
   ]
  },
  {
   "cell_type": "markdown",
   "id": "e57766b6",
   "metadata": {},
   "source": [
    "    Function     Description\n",
    "    1)match        Returns a match object if there is a match at the starting of the string, \n",
    "                   returns None if no matches are found\n",
    "    syntax:\n",
    "\n",
    "            re.match(search_char,  parent_string)\n",
    "            \n",
    "    2)search       Returns a Match object if there is a match anywhere\n",
    "                   in the string Returns None If no matches are found\n",
    "                 \n",
    "    syntax: \n",
    "        \n",
    "            re.search(search_char, main_str)\n",
    "            \n",
    "    3)findall      Returns a list containing all matches and Returns an empty\n",
    "                   list if no match was found\n",
    "                 \n",
    "    syntax: \n",
    "            \n",
    "            re.findall(search_char, main_str)\n",
    "            \n",
    "    4)split        Returns a list where the string has been split at each match\n",
    "    \n",
    "    syntax: \n",
    "    \n",
    "            re.split(split_Pattern, main_str ,maxsplit)\n",
    "            \n",
    "    note: by specifying the maxsplit we can control splitting of parent string\n",
    "    \n",
    "    5)sub          Replaces one or many matches with a string\n",
    "    \n",
    "    syntax: \n",
    "    \n",
    "            re.sub(search_char, replace_char, main_str, count)\n",
    "        \n",
    "    note: by specifying count we can restrict the replacing character for not more than n times \n",
    "          even though string is present\n",
    "    \n",
    "    6)subn         Replaces one or many matches with a string and returns output \n",
    "                   in tuple (replaced content,how many times it is replaced)\n",
    "    \n",
    "    Syntax is same as sub function\n",
    "    \n",
    "    7)finditer      Returns a Iterable Object which consists of Match objects of \n",
    "                    matched content in the string, Returns None If no matches are found\n",
    "    \n",
    "    syntax: \n",
    "    \n",
    "            re.finditer(search_char, main_str)\n",
    "            \n",
    "    8)compile      It is used for converting regular expression pattern into pattern objects\n",
    "    \n",
    "    syntax for creating pattern object:\n",
    "    \n",
    "            patternobj=re.compile(pattern)\n",
    "            \n",
    "    now we can use above patternobj for searching\n",
    "    \n",
    "    text=patternobj.findall(main_str)\n"
   ]
  },
  {
   "cell_type": "markdown",
   "id": "d6e65208",
   "metadata": {},
   "source": [
    "Note that all these special characters are used for matching the no. of occurences of previous characters as mentioned below\n",
    "\n",
    "    *   ---> 0 to n occurences\n",
    "    +   ---> 1 to n occurences\n",
    "    ?   ---> 0 to 1 occurences\n",
    "    {}  ---> specified no. of times say {2} or user defined range of occurences {2,4}"
   ]
  },
  {
   "cell_type": "markdown",
   "id": "37b42573",
   "metadata": {},
   "source": [
    "[abc] extracted element in 'abc'\n",
    "\n",
    "[^abc] extracted element not in 'abc'\n",
    "\n",
    "\n",
    "#### Behaviour of \\\n",
    "All the below patterns mathce one character at a time\n",
    "\n",
    "\\w ----> matches either alphabets, numbers or underscore\n",
    "\n",
    "\\W ----> matches everything other than alphabets, numbers or underscore\n",
    "\n",
    "\\d ----> matches digits i.e., any of the numbers\n",
    "\n",
    "\\D ----> matches everything other than numbers\n",
    "\n",
    "\\s ----> matches space\n",
    "\n",
    "\\S ----> everything other than space\n",
    "\n",
    " A ----> startswith\n",
    " \n",
    " Z ----> endswith"
   ]
  },
  {
   "cell_type": "raw",
   "id": "263806ae",
   "metadata": {},
   "source": [
    "to find any special char in the str that has some functionalities, use those special chars within [] to overcome their functionalities. Rest of the special chars can be used as it is. \n",
    "\n",
    "S='hai python'\n",
    "re.match('h',S)\n",
    "<re.Match object; span=(0, 1), match='h'>\n",
    "re.match('\\w{3}',S)\n",
    "<re.Match object; span=(0, 3), match='hai'>\n",
    "re.match('p',S)\n",
    "re.match('w',S)\n",
    "re.search('p',S)\n",
    "<re.Match object; span=(4, 5), match='p'>\n",
    "re.search('w',S)\n",
    "re.search('h',S)\n",
    "<re.Match object; span=(0, 1), match='h'>\n",
    "re.findall('h',S)\n",
    "['h', 'h']\n",
    "re.findall('p',S)\n",
    "['p']\n",
    "re.findall('pi',S)\n",
    "[]\n",
    "re.finditer('h',S)\n",
    "<callable_iterator object at 0x00000184A9E78BE0>\n",
    "IO=re.finditer('h',S)\n",
    "for i in IO:\n",
    "    print(i)\n",
    "\n",
    "    \n",
    "<re.Match object; span=(0, 1), match='h'>\n",
    "<re.Match object; span=(7, 8), match='h'>\n",
    "S='Hai he123 @&.23'\n",
    "re.findall('h',S)\n",
    "['h']\n",
    "re.findall('.',S)\n",
    "['H', 'a', 'i', ' ', 'h', 'e', '1', '2', '3', ' ', '@', '&', '.', '2', '3']\n",
    "re.search('h',S)\n",
    "<re.Match object; span=(4, 5), match='h'>\n",
    "re.search('^h',S)\n",
    "re.search('h$',S)\n",
    "S='hai heeep hep hp heep hello'\n",
    "re.findall('hep',S)\n",
    "['hep']\n",
    "re.findall('he*p',S)\n",
    "['heeep', 'hep', 'hp', 'heep']\n",
    "S='hai heeep hep hp heep hello heap'\n",
    "re.findall('he*p',S)\n",
    "['heeep', 'hep', 'hp', 'heep']\n",
    "re.findall('he+p',S)\n",
    "['heeep', 'hep', 'heep']\n",
    "re.findall('he?p',S)\n",
    "['hep', 'hp']\n",
    "re.findall('he{2}p',S)\n",
    "['heep']\n",
    "re.findall('he{1,3}p',S)\n",
    "['heeep', 'hep', 'heep']\n",
    "re.findall('he{1,3}p|hai',S)\n",
    "['hai', 'heeep', 'hep', 'heep']\n",
    "S='abc hai bye'\n",
    "re.findall('abc',S)\n",
    "['abc']\n",
    "re.findall('[abc]',S)\n",
    "['a', 'b', 'c', 'a', 'b']\n",
    "re.findall('[abcdefghijkl]',S)\n",
    "['a', 'b', 'c', 'h', 'a', 'i', 'b', 'e']\n",
    "re.findall('[a-l]',S)\n",
    "['a', 'b', 'c', 'h', 'a', 'i', 'b', 'e']\n",
    "S='Hai 123 HELLO'\n",
    "re.findall('[a-z]',S)\n",
    "['a', 'i']\n",
    "re.findall('[a-zA-Z]',S)\n",
    "['H', 'a', 'i', 'H', 'E', 'L', 'L', 'O']\n",
    "re.findall('[a-zA-Z1-9]',S)\n",
    "['H', 'a', 'i', '1', '2', '3', 'H', 'E', 'L', 'L', 'O']\n"
   ]
  },
  {
   "cell_type": "markdown",
   "id": "e74985f6",
   "metadata": {},
   "source": [
    "#### Extraction of all the Indian mobile numbers from the given string by using Regex"
   ]
  },
  {
   "cell_type": "code",
   "execution_count": 3,
   "id": "d14efd93",
   "metadata": {},
   "outputs": [
    {
     "data": {
      "text/plain": [
       "['+91-8762280884', '+91-9989373825']"
      ]
     },
     "execution_count": 3,
     "metadata": {},
     "output_type": "execute_result"
    }
   ],
   "source": [
    "s = '+91-8762280884 +12-874622 +91-9989373825'\n",
    "pattern = '[+]91-[6-9]\\d{9}'\n",
    "re.findall(pattern, s)"
   ]
  },
  {
   "cell_type": "markdown",
   "id": "14f64699",
   "metadata": {},
   "source": [
    "#### Parts of an email to be checked for validation / Rules for an email-id\n",
    "1. aplhabets or numbers\n",
    "2. alpahabets, numbers or underscore\n",
    "3. '.' is present for 0-1 times\n",
    "4. alphabets, numbers or '_' 1 to n times\n",
    "5. @\n",
    "6. gmail\n",
    "7. '.'\n",
    "8. com"
   ]
  },
  {
   "cell_type": "code",
   "execution_count": 33,
   "id": "0b35ac5f",
   "metadata": {
    "scrolled": true
   },
   "outputs": [
    {
     "data": {
      "text/plain": [
       "['hello123@gmail.com',\n",
       " 'iamshree45@gmail.com',\n",
       " 'shree456@gmail.com',\n",
       " '56shreemj@gmail.com',\n",
       " 'hello@gmail.com']"
      ]
     },
     "execution_count": 33,
     "metadata": {},
     "output_type": "execute_result"
    }
   ],
   "source": [
    "s = 'hello123@gmail.com iamshree45@gmail.com  $shree456@gmail.com  56shreemj@gmail.com  %hello@gmail.com'\n",
    "pattern = '[a-zA-Z1-9]\\w*[.]?\\w+@gmail[.]com'\n",
    "re.findall(pattern, s)"
   ]
  },
  {
   "cell_type": "markdown",
   "id": "d4eed092",
   "metadata": {},
   "source": [
    "#### Rules for IP address"
   ]
  },
  {
   "cell_type": "code",
   "execution_count": null,
   "id": "211af178",
   "metadata": {},
   "outputs": [],
   "source": []
  },
  {
   "cell_type": "code",
   "execution_count": null,
   "id": "cc1c8d26",
   "metadata": {},
   "outputs": [],
   "source": []
  }
 ],
 "metadata": {
  "kernelspec": {
   "display_name": "Python 3 (ipykernel)",
   "language": "python",
   "name": "python3"
  },
  "language_info": {
   "codemirror_mode": {
    "name": "ipython",
    "version": 3
   },
   "file_extension": ".py",
   "mimetype": "text/x-python",
   "name": "python",
   "nbconvert_exporter": "python",
   "pygments_lexer": "ipython3",
   "version": "3.8.3"
  }
 },
 "nbformat": 4,
 "nbformat_minor": 5
}
