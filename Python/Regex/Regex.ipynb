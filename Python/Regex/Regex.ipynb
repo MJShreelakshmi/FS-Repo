{
 "cells": [
  {
   "cell_type": "code",
   "execution_count": 1,
   "id": "7c28d722",
   "metadata": {},
   "outputs": [],
   "source": [
    "# differences b/w these functions\n",
    "import re"
   ]
  },
  {
   "cell_type": "markdown",
   "id": "9054864e",
   "metadata": {},
   "source": [
    "### Reg Ex\n",
    "* Regular expression is a sequence of characters that forms a search pattern\n",
    "* Regex can be used to check if a string contains the specified search pattern\n",
    "* Inorder to achieve regex, we have to import re module by using below syntax\n",
    "\n",
    "        import re"
   ]
  },
  {
   "cell_type": "markdown",
   "id": "e57766b6",
   "metadata": {},
   "source": [
    "    Function     Description\n",
    "    1)match        Returns a match object if there is a match at the starting of the string, \n",
    "                   returns None if no matches are found\n",
    "    syntax:\n",
    "\n",
    "            re.match(search_char,  parent_string)\n",
    "            \n",
    "    2)search       Returns a Match object if there is a match anywhere\n",
    "                   in the string Returns None If no matches are found\n",
    "                 \n",
    "    syntax: \n",
    "        \n",
    "            re.search(search_char, main_str)\n",
    "            \n",
    "    3)findall      Returns a list containing all matches and Returns an empty\n",
    "                   list if no match was found\n",
    "                 \n",
    "    syntax: \n",
    "            \n",
    "            re.findall(search_char, main_str)\n",
    "            \n",
    "    4)split        Returns a list where the string has been split at each match\n",
    "    \n",
    "    syntax: \n",
    "    \n",
    "            re.split(split_Pattern, main_str ,maxsplit)\n",
    "            \n",
    "    note: by specifying the maxsplit we can control splitting of parent string\n",
    "    \n",
    "    5)sub          Replaces one or many matches with a string\n",
    "    \n",
    "    syntax: \n",
    "    \n",
    "            re.sub(search_char, replace_char, main_str, count)\n",
    "        \n",
    "    note: by specifying count we can restrict the replacing character for not more than n times \n",
    "          even though string is present\n",
    "    \n",
    "    6)subn         Replaces one or many matches with a string and returns output \n",
    "                   in tuple (replaced content,how many times it is replaced)\n",
    "    \n",
    "    Syntax is same as sub function\n",
    "    \n",
    "    7)finditer      Returns a Iterable Object which consists of Match objects of \n",
    "                    matched content in the string, Returns None If no matches are found\n",
    "    \n",
    "    syntax: \n",
    "    \n",
    "            re.finditer(search_char, main_str)\n",
    "            \n",
    "    8)compile      It is used for converting regular expression pattern into pattern objects\n",
    "    \n",
    "    syntax for creating pattern object:\n",
    "    \n",
    "            patternobj=re.compile(pattern)\n",
    "            \n",
    "    now we can use above patternobj for searching\n",
    "    \n",
    "    text=patternobj.findall(main_str)\n"
   ]
  },
  {
   "cell_type": "markdown",
   "id": "d6e65208",
   "metadata": {},
   "source": [
    "Note that all these special characters are used for matching the no. of occurences of previous characters as mentioned below\n",
    "\n",
    "#### Metacharacters\n",
    "Metacharacters are characters with a special meaning:\n",
    "\n",
    "    Character(symbol)\t            Description\n",
    "\n",
    "        []\t                A set of characters\n",
    "\n",
    "        \\\t                Signals a special sequence (can also be used to escape\n",
    "                            special characters)\n",
    "\n",
    "        .\t                Any character (except newline character)\n",
    "\n",
    "        ^\t                Starts with\n",
    "\n",
    "        $\t                Ends with\n",
    "\n",
    "        *\t                Zero or more occurrences (0 to n occurences)\n",
    "\n",
    "        +\t                One or more occurrences (1 to n occurences)\n",
    "\n",
    "        ?                   Zero or one occurences (0 to 1 occurences)\n",
    "\n",
    "        {}\t                Exactly the specified number of occurrences say {2} or user defined range of occurences {2,4}\n",
    "\n",
    "        |\t                Either or\n",
    "\n",
    "        ()\t                Capture and group"
   ]
  },
  {
   "cell_type": "markdown",
   "id": "37b42573",
   "metadata": {},
   "source": [
    "#### Special Sequences\n",
    "A special sequence is a \\ followed by one of the characters in the list below and has a special meaning\n",
    "\n",
    "    Character\t                            Description\n",
    "\n",
    "    \\A\t            Returns a match if the specified characters are at the beginning of the string\n",
    "\n",
    "    \\b\t            Returns a match where the specified characters are at the beginning or at the end of a word (the \"r\" in                     the beginning is making sure that the string is being treated as a \"raw string\")\n",
    "\n",
    "    \\B\t            Returns a match where the specified characters are present, but NOT at the beginning (or at the end) of                     a word (the \"r\" in the beginning is make sure that the string is being treated as a \"raw string\")\t\n",
    "\n",
    "    \\d\t            Returns a match where the string contains (numbers from 0-9)\n",
    "\n",
    "    \\D\t            Returns a match where the string DOES NOT contain digits\n",
    "\n",
    "    \\s\t            Returns a match where the string contains a white space character\n",
    "\n",
    "    \\S\t            Returns a match where the string DOES NOT contain a  white space character\n",
    "\n",
    "    \\w\t            Returns a match where the string contains any word characters(characters from a to Z, digits from 0-9,\n",
    "\t\t            and the underscore _ character)\n",
    "                    \n",
    "    \\W\t            Returns a match where the string DOES NOT contain any word characters\n",
    "\n",
    "    \\Z\t            Returns a match if the specified characters are at the end of the string\t\n",
    "\n",
    "\n",
    "#### Sets\n",
    "A set is a set of characters inside a pair of square brackets [] with a special meaning\n",
    "\n",
    "    Set\t                                    Description\n",
    "\n",
    "    [arn]   \t        Returns a match where one of the specified characters (a, r, or n) are present\n",
    "    \n",
    "    [a-n]                   Returns a match for any lower case character, alphabetically between a and n\n",
    "    \n",
    "    [0123]  \t        Returns a match where any of the specified digits (0, 1, 2, or 3) are present\n",
    "    \n",
    "    [0-9]     \t        Returns a match for any digit between 0 and 9\n",
    "    \n",
    "    [0-5][0-9]      \tReturns a match for any two-digit numbers from 00 and 59\n",
    "    \n",
    "    [a-zA-Z]        \tReturns a match for any character alphabetically between a and z, lower case OR upper case\n",
    "\n",
    "\n",
    "    [^arn]                  Returns a match for any character EXCEPT a, r, and n\n",
    "                \n",
    "    [+]\t                In sets, +, *, ., |, (), $,{} has no special meaning. so [+] means: return a match for any +                                                     chraracter in the string\t"
   ]
  },
  {
   "cell_type": "raw",
   "id": "263806ae",
   "metadata": {},
   "source": [
    "To find any special char in the str that has some functionalities, use those special chars within [] to overcome their functionalities. Rest of the special chars can be used as it is. "
   ]
  },
  {
   "cell_type": "markdown",
   "id": "6813a623",
   "metadata": {},
   "source": [
    "#### match()"
   ]
  },
  {
   "cell_type": "code",
   "execution_count": 22,
   "id": "d68187bf",
   "metadata": {},
   "outputs": [],
   "source": [
    "S='hai python'"
   ]
  },
  {
   "cell_type": "code",
   "execution_count": 2,
   "id": "09c9db74",
   "metadata": {},
   "outputs": [
    {
     "data": {
      "text/plain": [
       "<re.Match object; span=(0, 1), match='h'>"
      ]
     },
     "execution_count": 2,
     "metadata": {},
     "output_type": "execute_result"
    }
   ],
   "source": [
    "re.match('h',S)"
   ]
  },
  {
   "cell_type": "code",
   "execution_count": 3,
   "id": "f59da0db",
   "metadata": {},
   "outputs": [
    {
     "data": {
      "text/plain": [
       "<re.Match object; span=(0, 3), match='hai'>"
      ]
     },
     "execution_count": 3,
     "metadata": {},
     "output_type": "execute_result"
    }
   ],
   "source": [
    "re.match('\\w{3}',S)"
   ]
  },
  {
   "cell_type": "markdown",
   "id": "df342c73",
   "metadata": {},
   "source": [
    "#### search()"
   ]
  },
  {
   "cell_type": "code",
   "execution_count": 8,
   "id": "3ef3a1d8",
   "metadata": {},
   "outputs": [],
   "source": [
    "re.search('w',S)"
   ]
  },
  {
   "cell_type": "code",
   "execution_count": 7,
   "id": "9c919e59",
   "metadata": {},
   "outputs": [
    {
     "data": {
      "text/plain": [
       "<re.Match object; span=(0, 1), match='h'>"
      ]
     },
     "execution_count": 7,
     "metadata": {},
     "output_type": "execute_result"
    }
   ],
   "source": [
    "re.search('h',S)"
   ]
  },
  {
   "cell_type": "code",
   "execution_count": 5,
   "id": "9cc85025",
   "metadata": {},
   "outputs": [
    {
     "data": {
      "text/plain": [
       "<re.Match object; span=(4, 5), match='p'>"
      ]
     },
     "execution_count": 5,
     "metadata": {},
     "output_type": "execute_result"
    }
   ],
   "source": [
    "re.search('p',S)"
   ]
  },
  {
   "cell_type": "code",
   "execution_count": 17,
   "id": "aab14569",
   "metadata": {},
   "outputs": [
    {
     "data": {
      "text/plain": [
       "<re.Match object; span=(0, 1), match='h'>"
      ]
     },
     "execution_count": 17,
     "metadata": {},
     "output_type": "execute_result"
    }
   ],
   "source": [
    "re.search('h',S)"
   ]
  },
  {
   "cell_type": "code",
   "execution_count": 20,
   "id": "15279d91",
   "metadata": {},
   "outputs": [
    {
     "data": {
      "text/plain": [
       "<re.Match object; span=(0, 1), match='h'>"
      ]
     },
     "execution_count": 20,
     "metadata": {},
     "output_type": "execute_result"
    }
   ],
   "source": [
    "re.search('^h',S)"
   ]
  },
  {
   "cell_type": "code",
   "execution_count": 21,
   "id": "28bb5cea",
   "metadata": {},
   "outputs": [],
   "source": [
    "re.search('h$',S)"
   ]
  },
  {
   "cell_type": "markdown",
   "id": "3086b617",
   "metadata": {},
   "source": [
    "#### findall()"
   ]
  },
  {
   "cell_type": "code",
   "execution_count": 9,
   "id": "79b44247",
   "metadata": {},
   "outputs": [
    {
     "data": {
      "text/plain": [
       "['h', 'h']"
      ]
     },
     "execution_count": 9,
     "metadata": {},
     "output_type": "execute_result"
    }
   ],
   "source": [
    "re.findall('h',S)"
   ]
  },
  {
   "cell_type": "code",
   "execution_count": 10,
   "id": "44ef103c",
   "metadata": {},
   "outputs": [
    {
     "data": {
      "text/plain": [
       "['p']"
      ]
     },
     "execution_count": 10,
     "metadata": {},
     "output_type": "execute_result"
    }
   ],
   "source": [
    "re.findall('p',S)"
   ]
  },
  {
   "cell_type": "code",
   "execution_count": 13,
   "id": "50e0560f",
   "metadata": {},
   "outputs": [
    {
     "data": {
      "text/plain": [
       "['h', 'h']"
      ]
     },
     "execution_count": 13,
     "metadata": {},
     "output_type": "execute_result"
    }
   ],
   "source": [
    "re.findall('h',S)"
   ]
  },
  {
   "cell_type": "code",
   "execution_count": 15,
   "id": "a9bbaf73",
   "metadata": {
    "scrolled": true
   },
   "outputs": [
    {
     "data": {
      "text/plain": [
       "['h', 'a', 'i', ' ', 'p', 'y', 't', 'h', 'o', 'n']"
      ]
     },
     "execution_count": 15,
     "metadata": {},
     "output_type": "execute_result"
    }
   ],
   "source": [
    "re.findall('.',S)"
   ]
  },
  {
   "cell_type": "code",
   "execution_count": 23,
   "id": "b1665561",
   "metadata": {},
   "outputs": [],
   "source": [
    "S='hai heeep hep hp heep hello'"
   ]
  },
  {
   "cell_type": "code",
   "execution_count": 24,
   "id": "a6677058",
   "metadata": {},
   "outputs": [
    {
     "data": {
      "text/plain": [
       "['hep']"
      ]
     },
     "execution_count": 24,
     "metadata": {},
     "output_type": "execute_result"
    }
   ],
   "source": [
    "re.findall('hep',S)"
   ]
  },
  {
   "cell_type": "code",
   "execution_count": 25,
   "id": "da499917",
   "metadata": {},
   "outputs": [
    {
     "data": {
      "text/plain": [
       "['heeep', 'hep', 'hp', 'heep']"
      ]
     },
     "execution_count": 25,
     "metadata": {},
     "output_type": "execute_result"
    }
   ],
   "source": [
    "re.findall('he*p',S)"
   ]
  },
  {
   "cell_type": "code",
   "execution_count": 26,
   "id": "102df66c",
   "metadata": {},
   "outputs": [],
   "source": [
    "S='hai heeep hep hp heep hello heap'"
   ]
  },
  {
   "cell_type": "code",
   "execution_count": 27,
   "id": "e9706806",
   "metadata": {},
   "outputs": [
    {
     "data": {
      "text/plain": [
       "['heeep', 'hep', 'hp', 'heep']"
      ]
     },
     "execution_count": 27,
     "metadata": {},
     "output_type": "execute_result"
    }
   ],
   "source": [
    "re.findall('he*p',S)"
   ]
  },
  {
   "cell_type": "code",
   "execution_count": 28,
   "id": "92c9249f",
   "metadata": {},
   "outputs": [
    {
     "data": {
      "text/plain": [
       "['heeep', 'hep', 'heep']"
      ]
     },
     "execution_count": 28,
     "metadata": {},
     "output_type": "execute_result"
    }
   ],
   "source": [
    "re.findall('he+p',S)"
   ]
  },
  {
   "cell_type": "code",
   "execution_count": 29,
   "id": "e02ebb4b",
   "metadata": {},
   "outputs": [
    {
     "data": {
      "text/plain": [
       "['hep', 'hp']"
      ]
     },
     "execution_count": 29,
     "metadata": {},
     "output_type": "execute_result"
    }
   ],
   "source": [
    "re.findall('he?p',S)"
   ]
  },
  {
   "cell_type": "code",
   "execution_count": 30,
   "id": "ee3787ce",
   "metadata": {},
   "outputs": [
    {
     "data": {
      "text/plain": [
       "['heep']"
      ]
     },
     "execution_count": 30,
     "metadata": {},
     "output_type": "execute_result"
    }
   ],
   "source": [
    "re.findall('he{2}p',S)"
   ]
  },
  {
   "cell_type": "code",
   "execution_count": 31,
   "id": "db4705d7",
   "metadata": {},
   "outputs": [
    {
     "data": {
      "text/plain": [
       "['heeep', 'hep', 'heep']"
      ]
     },
     "execution_count": 31,
     "metadata": {},
     "output_type": "execute_result"
    }
   ],
   "source": [
    "re.findall('he{1,3}p',S)"
   ]
  },
  {
   "cell_type": "code",
   "execution_count": 32,
   "id": "9da6b8a8",
   "metadata": {},
   "outputs": [
    {
     "data": {
      "text/plain": [
       "['hai', 'heeep', 'hep', 'heep']"
      ]
     },
     "execution_count": 32,
     "metadata": {},
     "output_type": "execute_result"
    }
   ],
   "source": [
    "re.findall('he{1,3}p|hai',S)"
   ]
  },
  {
   "cell_type": "code",
   "execution_count": 33,
   "id": "d8d687ca",
   "metadata": {},
   "outputs": [],
   "source": [
    "S='abc hai bye'"
   ]
  },
  {
   "cell_type": "code",
   "execution_count": 35,
   "id": "5a749872",
   "metadata": {},
   "outputs": [
    {
     "data": {
      "text/plain": [
       "['abc']"
      ]
     },
     "execution_count": 35,
     "metadata": {},
     "output_type": "execute_result"
    }
   ],
   "source": [
    "re.findall('abc',S)"
   ]
  },
  {
   "cell_type": "code",
   "execution_count": 36,
   "id": "51471b80",
   "metadata": {},
   "outputs": [
    {
     "data": {
      "text/plain": [
       "['a', 'b', 'c', 'a', 'b']"
      ]
     },
     "execution_count": 36,
     "metadata": {},
     "output_type": "execute_result"
    }
   ],
   "source": [
    "re.findall('[abc]',S)"
   ]
  },
  {
   "cell_type": "code",
   "execution_count": 37,
   "id": "5f2e9a5c",
   "metadata": {},
   "outputs": [
    {
     "data": {
      "text/plain": [
       "['a', 'b', 'c', 'h', 'a', 'i', 'b', 'e']"
      ]
     },
     "execution_count": 37,
     "metadata": {},
     "output_type": "execute_result"
    }
   ],
   "source": [
    "re.findall('[abcdefghijkl]',S)"
   ]
  },
  {
   "cell_type": "code",
   "execution_count": 38,
   "id": "fe4bfe46",
   "metadata": {},
   "outputs": [
    {
     "data": {
      "text/plain": [
       "['a', 'b', 'c', 'h', 'a', 'i', 'b', 'e']"
      ]
     },
     "execution_count": 38,
     "metadata": {},
     "output_type": "execute_result"
    }
   ],
   "source": [
    "re.findall('[a-l]',S)"
   ]
  },
  {
   "cell_type": "code",
   "execution_count": 39,
   "id": "58d86d90",
   "metadata": {},
   "outputs": [],
   "source": [
    "S='Hai 123 HELLO'"
   ]
  },
  {
   "cell_type": "code",
   "execution_count": 40,
   "id": "e5f04eb1",
   "metadata": {},
   "outputs": [
    {
     "data": {
      "text/plain": [
       "['a', 'i']"
      ]
     },
     "execution_count": 40,
     "metadata": {},
     "output_type": "execute_result"
    }
   ],
   "source": [
    "re.findall('[a-z]',S)"
   ]
  },
  {
   "cell_type": "code",
   "execution_count": 41,
   "id": "398e7c7d",
   "metadata": {},
   "outputs": [
    {
     "data": {
      "text/plain": [
       "['H', 'a', 'i', 'H', 'E', 'L', 'L', 'O']"
      ]
     },
     "execution_count": 41,
     "metadata": {},
     "output_type": "execute_result"
    }
   ],
   "source": [
    "re.findall('[a-zA-Z]',S)"
   ]
  },
  {
   "cell_type": "code",
   "execution_count": 42,
   "id": "1ef04991",
   "metadata": {},
   "outputs": [
    {
     "data": {
      "text/plain": [
       "['H', 'a', 'i', '1', '2', '3', 'H', 'E', 'L', 'L', 'O']"
      ]
     },
     "execution_count": 42,
     "metadata": {},
     "output_type": "execute_result"
    }
   ],
   "source": [
    "re.findall('[a-zA-Z1-9]',S)"
   ]
  },
  {
   "cell_type": "markdown",
   "id": "228fb1b9",
   "metadata": {},
   "source": [
    "#### finditer()"
   ]
  },
  {
   "cell_type": "code",
   "execution_count": 11,
   "id": "188d10a0",
   "metadata": {},
   "outputs": [
    {
     "data": {
      "text/plain": [
       "<callable_iterator at 0x266ef5a1fd0>"
      ]
     },
     "execution_count": 11,
     "metadata": {},
     "output_type": "execute_result"
    }
   ],
   "source": [
    "re.finditer('h',S)"
   ]
  },
  {
   "cell_type": "code",
   "execution_count": 12,
   "id": "f5c3a108",
   "metadata": {},
   "outputs": [
    {
     "name": "stdout",
     "output_type": "stream",
     "text": [
      "<re.Match object; span=(0, 1), match='h'>\n",
      "<re.Match object; span=(7, 8), match='h'>\n"
     ]
    }
   ],
   "source": [
    "IO=re.finditer('h',S)\n",
    "for i in IO:\n",
    "    print(i)"
   ]
  },
  {
   "cell_type": "code",
   "execution_count": 3,
   "id": "5d078c32",
   "metadata": {},
   "outputs": [
    {
     "data": {
      "text/plain": [
       "['h', 'h']"
      ]
     },
     "execution_count": 3,
     "metadata": {},
     "output_type": "execute_result"
    }
   ],
   "source": [
    "S='hai python and django1234'\n",
    "re.findall('h',S)"
   ]
  },
  {
   "cell_type": "code",
   "execution_count": 4,
   "id": "c8a35254",
   "metadata": {},
   "outputs": [
    {
     "data": {
      "text/plain": [
       "['h', 'h']"
      ]
     },
     "execution_count": 4,
     "metadata": {},
     "output_type": "execute_result"
    }
   ],
   "source": [
    "re.findall('[h]',S)"
   ]
  },
  {
   "cell_type": "code",
   "execution_count": 5,
   "id": "6b3edb02",
   "metadata": {},
   "outputs": [
    {
     "data": {
      "text/plain": [
       "['and']"
      ]
     },
     "execution_count": 5,
     "metadata": {},
     "output_type": "execute_result"
    }
   ],
   "source": [
    "re.findall('and',S)"
   ]
  },
  {
   "cell_type": "code",
   "execution_count": 6,
   "id": "181940d0",
   "metadata": {},
   "outputs": [
    {
     "data": {
      "text/plain": [
       "['a', 'n', 'a', 'n', 'd', 'd', 'a', 'n']"
      ]
     },
     "execution_count": 6,
     "metadata": {},
     "output_type": "execute_result"
    }
   ],
   "source": [
    "re.findall('[and]',S)"
   ]
  },
  {
   "cell_type": "code",
   "execution_count": 7,
   "id": "62de7f62",
   "metadata": {},
   "outputs": [
    {
     "data": {
      "text/plain": [
       "['a', 'a', 'd', 'd', 'a']"
      ]
     },
     "execution_count": 7,
     "metadata": {},
     "output_type": "execute_result"
    }
   ],
   "source": [
    "re.findall('[abcdef]',S)"
   ]
  },
  {
   "cell_type": "code",
   "execution_count": 8,
   "id": "b43d57fc",
   "metadata": {
    "scrolled": true
   },
   "outputs": [
    {
     "data": {
      "text/plain": [
       "['h',\n",
       " 'a',\n",
       " 'i',\n",
       " 'p',\n",
       " 'y',\n",
       " 't',\n",
       " 'h',\n",
       " 'o',\n",
       " 'n',\n",
       " 'a',\n",
       " 'n',\n",
       " 'd',\n",
       " 'd',\n",
       " 'j',\n",
       " 'a',\n",
       " 'n',\n",
       " 'g',\n",
       " 'o']"
      ]
     },
     "execution_count": 8,
     "metadata": {},
     "output_type": "execute_result"
    }
   ],
   "source": [
    "re.findall('[a-z]',S)"
   ]
  },
  {
   "cell_type": "code",
   "execution_count": 9,
   "id": "9db372d8",
   "metadata": {},
   "outputs": [
    {
     "data": {
      "text/plain": [
       "['a', 'i', 'y', 't', 'h', 'o', 'n', 'n', 'd', 'j', 'a', 'n', 'g', 'o']"
      ]
     },
     "execution_count": 9,
     "metadata": {},
     "output_type": "execute_result"
    }
   ],
   "source": [
    "S='Hai Python And Django1234'\n",
    "re.findall('[a-z]',S)"
   ]
  },
  {
   "cell_type": "code",
   "execution_count": 10,
   "id": "4a36b83b",
   "metadata": {
    "scrolled": true
   },
   "outputs": [
    {
     "data": {
      "text/plain": [
       "['H',\n",
       " 'a',\n",
       " 'i',\n",
       " 'P',\n",
       " 'y',\n",
       " 't',\n",
       " 'h',\n",
       " 'o',\n",
       " 'n',\n",
       " 'A',\n",
       " 'n',\n",
       " 'd',\n",
       " 'D',\n",
       " 'j',\n",
       " 'a',\n",
       " 'n',\n",
       " 'g',\n",
       " 'o']"
      ]
     },
     "execution_count": 10,
     "metadata": {},
     "output_type": "execute_result"
    }
   ],
   "source": [
    "re.findall('[a-zA-Z]',S)"
   ]
  },
  {
   "cell_type": "code",
   "execution_count": 11,
   "id": "3ed35d43",
   "metadata": {
    "scrolled": true
   },
   "outputs": [
    {
     "data": {
      "text/plain": [
       "['H',\n",
       " 'a',\n",
       " 'i',\n",
       " 'P',\n",
       " 'y',\n",
       " 't',\n",
       " 'h',\n",
       " 'o',\n",
       " 'n',\n",
       " 'A',\n",
       " 'n',\n",
       " 'd',\n",
       " 'D',\n",
       " 'j',\n",
       " 'a',\n",
       " 'n',\n",
       " 'g',\n",
       " 'o',\n",
       " '1',\n",
       " '2',\n",
       " '3',\n",
       " '4']"
      ]
     },
     "execution_count": 11,
     "metadata": {},
     "output_type": "execute_result"
    }
   ],
   "source": [
    "re.findall('[a-zA-Z0-9]',S)"
   ]
  },
  {
   "cell_type": "code",
   "execution_count": 12,
   "id": "7bdf2de2",
   "metadata": {},
   "outputs": [
    {
     "data": {
      "text/plain": [
       "['Ha', 'Py', 'th', 'on', 'An', 'Dj', 'an', 'go', '12', '34']"
      ]
     },
     "execution_count": 12,
     "metadata": {},
     "output_type": "execute_result"
    }
   ],
   "source": [
    "re.findall('[a-zA-Z0-9][a-zA-Z0-9]',S)"
   ]
  },
  {
   "cell_type": "code",
   "execution_count": 13,
   "id": "f6e8ad87",
   "metadata": {},
   "outputs": [
    {
     "data": {
      "text/plain": [
       "['Ha', 'Py', 'th', 'on', 'An', 'Dj', 'an', 'go', '12', '34']"
      ]
     },
     "execution_count": 13,
     "metadata": {},
     "output_type": "execute_result"
    }
   ],
   "source": [
    "re.findall('[a-zA-Z0-9]{2}',S)"
   ]
  },
  {
   "cell_type": "code",
   "execution_count": 14,
   "id": "dcee9efe",
   "metadata": {},
   "outputs": [
    {
     "data": {
      "text/plain": [
       "['Pyth', 'Djan', 'go12']"
      ]
     },
     "execution_count": 14,
     "metadata": {},
     "output_type": "execute_result"
    }
   ],
   "source": [
    "re.findall('[a-zA-Z0-9]{4}',S)"
   ]
  },
  {
   "cell_type": "code",
   "execution_count": 15,
   "id": "8555d693",
   "metadata": {},
   "outputs": [
    {
     "data": {
      "text/plain": [
       "['23']"
      ]
     },
     "execution_count": 15,
     "metadata": {},
     "output_type": "execute_result"
    }
   ],
   "source": [
    "re.findall('[2-5][0-9]',S)"
   ]
  },
  {
   "cell_type": "code",
   "execution_count": 16,
   "id": "726bd14d",
   "metadata": {},
   "outputs": [
    {
     "data": {
      "text/plain": [
       "['a', 'n', 'n', 'd', 'a', 'n']"
      ]
     },
     "execution_count": 16,
     "metadata": {},
     "output_type": "execute_result"
    }
   ],
   "source": [
    "re.findall('[and]',S)"
   ]
  },
  {
   "cell_type": "code",
   "execution_count": 17,
   "id": "9911da14",
   "metadata": {
    "scrolled": true
   },
   "outputs": [
    {
     "data": {
      "text/plain": [
       "['H',\n",
       " 'i',\n",
       " ' ',\n",
       " 'P',\n",
       " 'y',\n",
       " 't',\n",
       " 'h',\n",
       " 'o',\n",
       " ' ',\n",
       " 'A',\n",
       " ' ',\n",
       " 'D',\n",
       " 'j',\n",
       " 'g',\n",
       " 'o',\n",
       " '1',\n",
       " '2',\n",
       " '3',\n",
       " '4']"
      ]
     },
     "execution_count": 17,
     "metadata": {},
     "output_type": "execute_result"
    }
   ],
   "source": [
    "re.findall('[^and]',S)"
   ]
  },
  {
   "cell_type": "code",
   "execution_count": 18,
   "id": "c94a0f26",
   "metadata": {},
   "outputs": [
    {
     "data": {
      "text/plain": [
       "['123', '45', '59']"
      ]
     },
     "execution_count": 18,
     "metadata": {},
     "output_type": "execute_result"
    }
   ],
   "source": [
    "S='hai 123 45 599 695'\n",
    "re.findall('[2-5][0-9]|[1-5][0-9][0-9]',S)"
   ]
  },
  {
   "cell_type": "code",
   "execution_count": 19,
   "id": "156832be",
   "metadata": {},
   "outputs": [
    {
     "data": {
      "text/plain": [
       "['123', '45', '59', '69']"
      ]
     },
     "execution_count": 19,
     "metadata": {},
     "output_type": "execute_result"
    }
   ],
   "source": [
    "re.findall('[2-9][0-9]|[1-5][0-9][0-9]',S)"
   ]
  },
  {
   "cell_type": "code",
   "execution_count": 20,
   "id": "d8a73f4f",
   "metadata": {},
   "outputs": [
    {
     "data": {
      "text/plain": [
       "['123', '45', '599', '69']"
      ]
     },
     "execution_count": 20,
     "metadata": {},
     "output_type": "execute_result"
    }
   ],
   "source": [
    "re.findall('[1-5][0-9][0-9]|[2-9][0-9]',S)"
   ]
  },
  {
   "cell_type": "code",
   "execution_count": 21,
   "id": "f7dbc883",
   "metadata": {},
   "outputs": [
    {
     "data": {
      "text/plain": [
       "['123', '45', '599', '69']"
      ]
     },
     "execution_count": 21,
     "metadata": {},
     "output_type": "execute_result"
    }
   ],
   "source": [
    "L=re.findall('[1-5][0-9][0-9]|[2-9][0-9]',S)\n",
    "L"
   ]
  },
  {
   "cell_type": "code",
   "execution_count": 23,
   "id": "0feba1b4",
   "metadata": {},
   "outputs": [
    {
     "data": {
      "text/plain": [
       "['123', '45', '69']"
      ]
     },
     "execution_count": 23,
     "metadata": {},
     "output_type": "execute_result"
    }
   ],
   "source": [
    "for i in L:\n",
    "    if int(i)>590:\n",
    "        L.remove(i)\n",
    "L"
   ]
  },
  {
   "cell_type": "code",
   "execution_count": 24,
   "id": "c2b665d9",
   "metadata": {},
   "outputs": [
    {
     "data": {
      "text/plain": [
       "['@']"
      ]
     },
     "execution_count": 24,
     "metadata": {},
     "output_type": "execute_result"
    }
   ],
   "source": [
    "S='hai harshad@gmail.com'\n",
    "re.findall('@',S)"
   ]
  },
  {
   "cell_type": "code",
   "execution_count": 25,
   "id": "949250c9",
   "metadata": {
    "scrolled": true
   },
   "outputs": [
    {
     "data": {
      "text/plain": [
       "['h',\n",
       " 'a',\n",
       " 'i',\n",
       " ' ',\n",
       " 'h',\n",
       " 'a',\n",
       " 'r',\n",
       " 's',\n",
       " 'h',\n",
       " 'a',\n",
       " 'd',\n",
       " '@',\n",
       " 'g',\n",
       " 'm',\n",
       " 'a',\n",
       " 'i',\n",
       " 'l',\n",
       " '.',\n",
       " 'c',\n",
       " 'o',\n",
       " 'm']"
      ]
     },
     "execution_count": 25,
     "metadata": {},
     "output_type": "execute_result"
    }
   ],
   "source": [
    "re.findall('.',S)"
   ]
  },
  {
   "cell_type": "code",
   "execution_count": 26,
   "id": "89bb1d7b",
   "metadata": {},
   "outputs": [
    {
     "data": {
      "text/plain": [
       "['.']"
      ]
     },
     "execution_count": 26,
     "metadata": {},
     "output_type": "execute_result"
    }
   ],
   "source": [
    "re.findall('[.]',S)"
   ]
  },
  {
   "cell_type": "code",
   "execution_count": 27,
   "id": "33bee0f4",
   "metadata": {},
   "outputs": [
    {
     "data": {
      "text/plain": [
       "['.']"
      ]
     },
     "execution_count": 27,
     "metadata": {},
     "output_type": "execute_result"
    }
   ],
   "source": [
    "re.findall('\\.',S)"
   ]
  },
  {
   "cell_type": "code",
   "execution_count": 28,
   "id": "8b5d00bd",
   "metadata": {},
   "outputs": [
    {
     "data": {
      "text/plain": [
       "'hai harshad@gmail.com'"
      ]
     },
     "execution_count": 28,
     "metadata": {},
     "output_type": "execute_result"
    }
   ],
   "source": [
    "S"
   ]
  },
  {
   "cell_type": "code",
   "execution_count": 29,
   "id": "4cfd3e02",
   "metadata": {},
   "outputs": [
    {
     "data": {
      "text/plain": [
       "['h',\n",
       " 'a',\n",
       " 'i',\n",
       " ' ',\n",
       " 'h',\n",
       " 'a',\n",
       " 'r',\n",
       " 's',\n",
       " 'h',\n",
       " 'a',\n",
       " 'd',\n",
       " '@',\n",
       " 'g',\n",
       " 'm',\n",
       " 'a',\n",
       " 'i',\n",
       " 'l',\n",
       " 'c',\n",
       " 'o',\n",
       " 'm']"
      ]
     },
     "execution_count": 29,
     "metadata": {},
     "output_type": "execute_result"
    }
   ],
   "source": [
    "re.findall('[^.]',S)"
   ]
  },
  {
   "cell_type": "code",
   "execution_count": 30,
   "id": "69de0558",
   "metadata": {},
   "outputs": [
    {
     "data": {
      "text/plain": [
       "['@g']"
      ]
     },
     "execution_count": 30,
     "metadata": {},
     "output_type": "execute_result"
    }
   ],
   "source": [
    "re.findall('@.',S)"
   ]
  },
  {
   "cell_type": "code",
   "execution_count": 31,
   "id": "09f1d646",
   "metadata": {},
   "outputs": [
    {
     "data": {
      "text/plain": [
       "['ha', 'ha', 'ha']"
      ]
     },
     "execution_count": 31,
     "metadata": {},
     "output_type": "execute_result"
    }
   ],
   "source": [
    "re.findall('h.',S)"
   ]
  },
  {
   "cell_type": "code",
   "execution_count": 33,
   "id": "756a1891",
   "metadata": {},
   "outputs": [],
   "source": [
    "S='Hai 123 Va_li@gmail.com'"
   ]
  },
  {
   "cell_type": "code",
   "execution_count": 34,
   "id": "b662fc95",
   "metadata": {
    "scrolled": true
   },
   "outputs": [
    {
     "data": {
      "text/plain": [
       "['H',\n",
       " 'a',\n",
       " 'i',\n",
       " '1',\n",
       " '2',\n",
       " '3',\n",
       " 'V',\n",
       " 'a',\n",
       " '_',\n",
       " 'l',\n",
       " 'i',\n",
       " 'g',\n",
       " 'm',\n",
       " 'a',\n",
       " 'i',\n",
       " 'l',\n",
       " 'c',\n",
       " 'o',\n",
       " 'm']"
      ]
     },
     "execution_count": 34,
     "metadata": {},
     "output_type": "execute_result"
    }
   ],
   "source": [
    "re.findall('\\w',S)"
   ]
  },
  {
   "cell_type": "code",
   "execution_count": 35,
   "id": "a6d03cf2",
   "metadata": {},
   "outputs": [
    {
     "data": {
      "text/plain": [
       "[' ', ' ', '@', '.']"
      ]
     },
     "execution_count": 35,
     "metadata": {},
     "output_type": "execute_result"
    }
   ],
   "source": [
    "re.findall('\\W',S)"
   ]
  },
  {
   "cell_type": "code",
   "execution_count": 36,
   "id": "0bd2b07e",
   "metadata": {},
   "outputs": [
    {
     "data": {
      "text/plain": [
       "['1', '2', '3']"
      ]
     },
     "execution_count": 36,
     "metadata": {},
     "output_type": "execute_result"
    }
   ],
   "source": [
    "re.findall('\\d',S)"
   ]
  },
  {
   "cell_type": "code",
   "execution_count": 37,
   "id": "9d5617da",
   "metadata": {},
   "outputs": [
    {
     "data": {
      "text/plain": [
       "['H',\n",
       " 'a',\n",
       " 'i',\n",
       " ' ',\n",
       " ' ',\n",
       " 'V',\n",
       " 'a',\n",
       " '_',\n",
       " 'l',\n",
       " 'i',\n",
       " '@',\n",
       " 'g',\n",
       " 'm',\n",
       " 'a',\n",
       " 'i',\n",
       " 'l',\n",
       " '.',\n",
       " 'c',\n",
       " 'o',\n",
       " 'm']"
      ]
     },
     "execution_count": 37,
     "metadata": {},
     "output_type": "execute_result"
    }
   ],
   "source": [
    "re.findall('\\D',S)"
   ]
  },
  {
   "cell_type": "code",
   "execution_count": 38,
   "id": "760da4ce",
   "metadata": {},
   "outputs": [
    {
     "data": {
      "text/plain": [
       "[' ', ' ']"
      ]
     },
     "execution_count": 38,
     "metadata": {},
     "output_type": "execute_result"
    }
   ],
   "source": [
    "re.findall('\\s',S)"
   ]
  },
  {
   "cell_type": "code",
   "execution_count": 39,
   "id": "ab2da58f",
   "metadata": {},
   "outputs": [
    {
     "data": {
      "text/plain": [
       "['H']"
      ]
     },
     "execution_count": 39,
     "metadata": {},
     "output_type": "execute_result"
    }
   ],
   "source": [
    "re.findall('\\AH',S)"
   ]
  },
  {
   "cell_type": "code",
   "execution_count": 40,
   "id": "12525f84",
   "metadata": {},
   "outputs": [
    {
     "data": {
      "text/plain": [
       "['om']"
      ]
     },
     "execution_count": 40,
     "metadata": {},
     "output_type": "execute_result"
    }
   ],
   "source": [
    "re.findall('om\\Z',S)"
   ]
  },
  {
   "cell_type": "markdown",
   "id": "e74985f6",
   "metadata": {},
   "source": [
    "#### Extraction of all the Indian mobile numbers from the given string by using Regex"
   ]
  },
  {
   "cell_type": "code",
   "execution_count": 3,
   "id": "d14efd93",
   "metadata": {},
   "outputs": [
    {
     "data": {
      "text/plain": [
       "['+91-8762280884', '+91-9989373825']"
      ]
     },
     "execution_count": 3,
     "metadata": {},
     "output_type": "execute_result"
    }
   ],
   "source": [
    "s = '+91-8762280884 +12-874622 +91-9989373825'\n",
    "pattern = '[+]91-[6-9]\\d{9}'\n",
    "re.findall(pattern, s)"
   ]
  },
  {
   "cell_type": "markdown",
   "id": "14f64699",
   "metadata": {},
   "source": [
    "#### Parts of an email to be checked for validation / Rules for an email-id\n",
    "1. aplhabets or numbers\n",
    "2. alpahabets, numbers or underscore\n",
    "3. '.' is present for 0-1 times\n",
    "4. alphabets, numbers or '_' 1 to n times\n",
    "5. @\n",
    "6. gmail\n",
    "7. '.'\n",
    "8. com"
   ]
  },
  {
   "cell_type": "code",
   "execution_count": 33,
   "id": "0b35ac5f",
   "metadata": {
    "scrolled": true
   },
   "outputs": [
    {
     "data": {
      "text/plain": [
       "['hello123@gmail.com',\n",
       " 'iamshree45@gmail.com',\n",
       " 'shree456@gmail.com',\n",
       " '56shreemj@gmail.com',\n",
       " 'hello@gmail.com']"
      ]
     },
     "execution_count": 33,
     "metadata": {},
     "output_type": "execute_result"
    }
   ],
   "source": [
    "s = 'hello123@gmail.com iamshree45@gmail.com  $shree456@gmail.com  56shreemj@gmail.com  %hello@gmail.com'\n",
    "pattern = '[a-zA-Z1-9]\\w*[.]?\\w+@gmail[.]com'\n",
    "re.findall(pattern, s)"
   ]
  },
  {
   "cell_type": "markdown",
   "id": "43bbe46e",
   "metadata": {},
   "source": [
    "\n",
    "    [abc] extracted element in 'abc'\n",
    "\n",
    "    [^abc] extracted element not in 'abc'\n",
    "\n",
    "    '^' \n",
    "    1)---> search for a pattern in the beginning of the string\n",
    "    2)---> Matching the Start of Each Line, When using the re.MULTILINE flag, the ^ symbol matches the start of each line              within a multi-line string.\n",
    "    3)---> Negating a Character Class, When used within square brackets [], the ^ symbol negates the character class,                  meaning it matches any character not in the brackets.\n",
    "\n",
    "    '$' \n",
    "    \n",
    "    1)---> at the end of a pattern: Matches the end of a string.\n",
    "    2)---> $ with re.MULTILINE flag: Matches the end of each line within a multi-line string.\n",
    "\n",
    "    '.'\n",
    "    \n",
    "    .  :- Matches any single character except newline (\\n).\n",
    "    .* :- Matches zero or more of any character except newline.\n",
    "    .? :- Matches zero or one of any character except newline.\n",
    "    .+ :- Matches one or more of any character except newline.\n",
    "    re.DOTALL flag: Allows . to match newline characters as well.    \n",
    "\n",
    "    []\n",
    "    [aeiou]  :- Matches any one of the characters 'a', 'e', 'i', 'o', 'u'.\n",
    "    [a-z]    :- Matches any lowercase letter.\n",
    "    [a-zA-Z] :- Matches any lowercase or uppercase letter.\n",
    "    [^0-9]   :- Matches any character that is not a digit.\n",
    "    [\\[\\]\\-] :- Matches the characters '[', ']', or '-'.\n",
    "    \\w[0-9]  :- Matches a word character followed by a digit.\n"
   ]
  },
  {
   "cell_type": "code",
   "execution_count": 1,
   "id": "f781a030",
   "metadata": {},
   "outputs": [
    {
     "data": {
      "text/plain": [
       "['h', 'p', 't', 'h']"
      ]
     },
     "execution_count": 1,
     "metadata": {},
     "output_type": "execute_result"
    }
   ],
   "source": [
    "import re\n",
    "s = 'hi python'\n",
    "re.findall('[pth]', s)"
   ]
  },
  {
   "cell_type": "code",
   "execution_count": 2,
   "id": "385259df",
   "metadata": {},
   "outputs": [
    {
     "data": {
      "text/plain": [
       "['h', 'p', 't', 'h']"
      ]
     },
     "execution_count": 2,
     "metadata": {},
     "output_type": "execute_result"
    }
   ],
   "source": [
    "re.findall('p|t|h', s)"
   ]
  },
  {
   "cell_type": "markdown",
   "id": "d4eed092",
   "metadata": {},
   "source": [
    "#### Rules for IP address"
   ]
  },
  {
   "cell_type": "code",
   "execution_count": null,
   "id": "cc1c8d26",
   "metadata": {},
   "outputs": [],
   "source": []
  }
 ],
 "metadata": {
  "kernelspec": {
   "display_name": "Python 3 (ipykernel)",
   "language": "python",
   "name": "python3"
  },
  "language_info": {
   "codemirror_mode": {
    "name": "ipython",
    "version": 3
   },
   "file_extension": ".py",
   "mimetype": "text/x-python",
   "name": "python",
   "nbconvert_exporter": "python",
   "pygments_lexer": "ipython3",
   "version": "3.8.3"
  }
 },
 "nbformat": 4,
 "nbformat_minor": 5
}
