{
 "cells": [
  {
   "cell_type": "code",
   "execution_count": 2,
   "id": "0d4d9207",
   "metadata": {},
   "outputs": [
    {
     "data": {
      "application/javascript": [
       "for (let i = 0; i < 2; i++) {\n",
       "  console.log(\"hello\");\n",
       "}\n"
      ],
      "text/plain": [
       "<IPython.core.display.Javascript object>"
      ]
     },
     "metadata": {},
     "output_type": "display_data"
    }
   ],
   "source": [
    "%%javascript\n",
    "for (let i = 0; i < 2; i++) {\n",
    "  console.log(\"hello\");\n",
    "}"
   ]
  },
  {
   "cell_type": "code",
   "execution_count": 4,
   "id": "e06f1edb",
   "metadata": {},
   "outputs": [
    {
     "data": {
      "application/javascript": [
       "\n",
       "for (let i = 0; i < 2; i++) {\n",
       "  console.log(\"hello\");\n",
       "}\n"
      ],
      "text/plain": [
       "<IPython.core.display.Javascript object>"
      ]
     },
     "metadata": {},
     "output_type": "display_data"
    }
   ],
   "source": [
    "%%javascript\n",
    "\n",
    "for (let i = 0; i < 2; i++) {\n",
    "  console.log(\"hello\");\n",
    "}"
   ]
  },
  {
   "cell_type": "code",
   "execution_count": 9,
   "id": "e5346715",
   "metadata": {},
   "outputs": [
    {
     "data": {
      "application/javascript": [
       "/*ternary operator - uses 3 operands;*/\n",
       "/*condition? expressionIfTrue:expressionIfFalse; */\n",
       "let score = 85;\n",
       "let grade = (score >= 90) ? \"A\" :\n",
       "            (score >= 80) ? \"B\" :\n",
       "            (score >= 70) ? \"C\" :\n",
       "            (score >= 60) ? \"D\" : \"F\";\n",
       "\n",
       "console.log(`Your grade is ${grade}`);\n"
      ],
      "text/plain": [
       "<IPython.core.display.Javascript object>"
      ]
     },
     "metadata": {},
     "output_type": "display_data"
    }
   ],
   "source": [
    "%%javascript  \n",
    "/*ternary operator - uses 3 operands;*/\n",
    "/*condition? expressionIfTrue:expressionIfFalse; */\n",
    "let score = 85;\n",
    "let grade = (score >= 90) ? \"A\" :\n",
    "            (score >= 80) ? \"B\" :\n",
    "            (score >= 70) ? \"C\" :\n",
    "            (score >= 60) ? \"D\" : \"F\";\n",
    "\n",
    "console.log(`Your grade is ${grade}`);"
   ]
  },
  {
   "cell_type": "code",
   "execution_count": 11,
   "id": "0274105f",
   "metadata": {},
   "outputs": [
    {
     "data": {
      "application/javascript": [
       "for(let i=0;i<=100;i++){\n",
       "    if(i%2==0)\n",
       "    console.log(i++)\n",
       "}\n"
      ],
      "text/plain": [
       "<IPython.core.display.Javascript object>"
      ]
     },
     "metadata": {},
     "output_type": "display_data"
    }
   ],
   "source": [
    "%%javascript\n",
    "for(let i=0;i<=100;i++){\n",
    "    if(i%2==0)\n",
    "    console.log(i++)\n",
    "}"
   ]
  },
  {
   "cell_type": "code",
   "execution_count": 18,
   "id": "f3fcf652",
   "metadata": {},
   "outputs": [
    {
     "data": {
      "application/javascript": [
       "let n=25;\n",
       "let guess = prompt('Guess the number: ')\n",
       "while(guess != n){\n",
       "    guess = prompt('Entered wrong number. Guess again: ')\n",
       "}\n",
       "console.log('congratulations! You guessed it right')\n"
      ],
      "text/plain": [
       "<IPython.core.display.Javascript object>"
      ]
     },
     "metadata": {},
     "output_type": "display_data"
    }
   ],
   "source": [
    "%%javascript\n",
    "let n=25;\n",
    "let guess = prompt('Guess the number: ')\n",
    "while(guess != n){\n",
    "    guess = prompt('Entered wrong number. Guess again: ')\n",
    "}\n",
    "console.log('congratulations! You guessed it right')"
   ]
  },
  {
   "cell_type": "code",
   "execution_count": null,
   "id": "09c64fa0",
   "metadata": {},
   "outputs": [],
   "source": [
    "%%javascript\n"
   ]
  }
 ],
 "metadata": {
  "kernelspec": {
   "display_name": "Python 3 (ipykernel)",
   "language": "python",
   "name": "python3"
  },
  "language_info": {
   "codemirror_mode": {
    "name": "ipython",
    "version": 3
   },
   "file_extension": ".py",
   "mimetype": "text/x-python",
   "name": "python",
   "nbconvert_exporter": "python",
   "pygments_lexer": "ipython3",
   "version": "3.8.3"
  }
 },
 "nbformat": 4,
 "nbformat_minor": 5
}
