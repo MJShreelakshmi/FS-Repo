{
 "cells": [
  {
   "cell_type": "code",
   "execution_count": 1,
   "id": "9c069028",
   "metadata": {},
   "outputs": [],
   "source": [
    "# overriding is not possible in JS (bcz functns can be called with any num of args ??!!)\n",
    "# Arrow functions can be called before declaration or not?"
   ]
  },
  {
   "cell_type": "code",
   "execution_count": 11,
   "id": "d5d7b8b6",
   "metadata": {},
   "outputs": [],
   "source": [
    "from PIL import Image"
   ]
  },
  {
   "cell_type": "markdown",
   "id": "fe567575",
   "metadata": {},
   "source": [
    "#### Functions\n",
    "1. Function is a set of statements1. which is used to perform some task\n",
    "2. There are 3 ways to create functions in JS\n",
    "* Function Declaration\n",
    "* Function Expression\n",
    "* Arrow Function\n",
    "\n",
    "#### Note\n",
    "* While creating functions, Access modifiers, Non-Access Modifiers and  Return types are not allowed\n",
    "* Return types are not allowed, but function can return any type of value\n",
    "\n",
    "#### Function Declaration\n",
    "Creating a function with function keyword followed by function name is known as Function Declaration\n",
    "\n",
    "Syntax:\n",
    "\n",
    "        keyword idenitier()\n",
    "        {\n",
    "        }\n",
    "eg:\n",
    "\n",
    "        main();\n",
    "        function main()\n",
    "        {\n",
    "            console.log('main starts')\n",
    "            console.log('main ends')\n",
    "            return;\n",
    "        }\n",
    "        \n",
    "#### Return Statement\n",
    "* Return statement is used to return the control to its calling function\n",
    "* In JS, a function can return any type of value\n",
    "* If a return function is not returning any value, then writing return statement is optional\n",
    "* If we are not returning any value from a function, then implicitly \"undefined\"  will be returned by the JS engine\n",
    "\n",
    "(Note: JS doesnot take any return type means-- donot or need not define the data type of return value from a function as in java)"
   ]
  },
  {
   "cell_type": "code",
   "execution_count": 2,
   "id": "9101c21b",
   "metadata": {},
   "outputs": [
    {
     "data": {
      "application/javascript": [
       "main()\n",
       "function main()\n",
       "{\n",
       "    console.log('main starts')\n",
       "    let i = m1();\n",
       "    console.log('main ends')\n",
       "}\n",
       "function m1()\n",
       "{\n",
       "    console.log(' m1 is executing')\n",
       "    return 10\n",
       "    // return True\n",
       "    // return\n",
       "}\n"
      ],
      "text/plain": [
       "<IPython.core.display.Javascript object>"
      ]
     },
     "metadata": {},
     "output_type": "display_data"
    }
   ],
   "source": [
    "%%javascript\n",
    "main()\n",
    "function main()\n",
    "{\n",
    "    console.log('main starts')\n",
    "    let i = m1();\n",
    "    console.log('main ends')\n",
    "}\n",
    "function m1()\n",
    "{\n",
    "    console.log(' m1 is executing')\n",
    "    return 10\n",
    "    // return True\n",
    "    // return\n",
    "}"
   ]
  },
  {
   "cell_type": "markdown",
   "id": "b2585836",
   "metadata": {},
   "source": [
    "#### Unreachable statements\n",
    "The statemnt which will never ever execute throughout the program is known as an Unreachable statement"
   ]
  },
  {
   "cell_type": "markdown",
   "id": "32b36cd8",
   "metadata": {},
   "source": [
    "    function m1()\n",
    "    {\n",
    "        n= 5\n",
    "        if (n%2 ==0)\n",
    "            {\n",
    "            stmt 1\n",
    "            return \n",
    "            stmt 2\n",
    "            }\n",
    "        stmt 3\n",
    "    }"
   ]
  },
  {
   "cell_type": "markdown",
   "id": "1dfd0fa7",
   "metadata": {},
   "source": [
    "Here stmt 2 is unreachable - meaning it will never be executed in any condition"
   ]
  },
  {
   "cell_type": "code",
   "execution_count": 4,
   "id": "2534658c",
   "metadata": {},
   "outputs": [
    {
     "data": {
      "application/javascript": [
       "main()\n",
       "function main()\n",
       "{\n",
       "    console.log('main starts')\n",
       "    let i = m1();\n",
       "    console.log('main ends')\n",
       "    console.log('return val of m1 is ', i)\n",
       "}\n",
       "function m1()\n",
       "{\n",
       "    console.log(' m1 is executing')\n",
       "    return 10\n",
       "    return True\n",
       "    // return\n",
       "}\n"
      ],
      "text/plain": [
       "<IPython.core.display.Javascript object>"
      ]
     },
     "metadata": {},
     "output_type": "display_data"
    }
   ],
   "source": [
    "%%javascript\n",
    "main()\n",
    "function main()\n",
    "{\n",
    "    console.log('main starts')\n",
    "    let i = m1();\n",
    "    console.log('main ends')\n",
    "    console.log('return val of m1 is ', i)\n",
    "}\n",
    "function m1()\n",
    "{\n",
    "    console.log(' m1 is executing')\n",
    "    return 10\n",
    "    return True\n",
    "    // return\n",
    "}"
   ]
  },
  {
   "cell_type": "code",
   "execution_count": 9,
   "id": "8354287e",
   "metadata": {},
   "outputs": [
    {
     "data": {
      "application/javascript": [
       "function m1()\n",
       "{\n",
       "    let a=5\n",
       "    if(a%2==0)\n",
       "        {\n",
       "            a++;\n",
       "            ++a;\n",
       "            return;\n",
       "            //a++; --> unreachable\n",
       "        }\n",
       "    ++a;\n",
       "}\n",
       "m1()\n"
      ],
      "text/plain": [
       "<IPython.core.display.Javascript object>"
      ]
     },
     "metadata": {},
     "output_type": "display_data"
    }
   ],
   "source": [
    "%%javascript\n",
    "function m1()\n",
    "{\n",
    "    let a=5\n",
    "    if(a%2==0)\n",
    "        {\n",
    "            a++;\n",
    "            ++a;\n",
    "            return;\n",
    "            //a++; --> unreachable\n",
    "        }\n",
    "    ++a;\n",
    "}\n",
    "m1()"
   ]
  },
  {
   "cell_type": "markdown",
   "id": "2fa7db4c",
   "metadata": {},
   "source": [
    "If there is any unreachable statements in JS program, then we wont get any type of error"
   ]
  },
  {
   "cell_type": "markdown",
   "id": "de39b140",
   "metadata": {},
   "source": [
    "#### Parameters\n",
    "There are 2 types of parameters\n",
    "* Formal parameters\n",
    "* Actual parameters\n",
    "\n",
    "The parameters which are passed at the time of function declaration is known as Formal parameters\n",
    "\n",
    "The parameters which are passed at function call is known as Actual parameters. (Actual parameters are also known as arguments)"
   ]
  },
  {
   "cell_type": "code",
   "execution_count": 11,
   "id": "1745205a",
   "metadata": {},
   "outputs": [
    {
     "data": {
      "application/javascript": [
       "main()\n",
       "function main()\n",
       "{\n",
       "    m1(10, 20) // actual\n",
       "}\n",
       "function m1(a,b) // formal\n",
       "{\n",
       "    console.log(a)\n",
       "    console.log(b)\n",
       "}\n"
      ],
      "text/plain": [
       "<IPython.core.display.Javascript object>"
      ]
     },
     "metadata": {},
     "output_type": "display_data"
    }
   ],
   "source": [
    "%%javascript\n",
    "main()\n",
    "function main()\n",
    "{\n",
    "    m1(10, 20) // actual\n",
    "}\n",
    "function m1(a,b) // formal\n",
    "{\n",
    "    console.log(a)\n",
    "    console.log(b)\n",
    "}"
   ]
  },
  {
   "cell_type": "code",
   "execution_count": 13,
   "id": "d9db7c39",
   "metadata": {},
   "outputs": [
    {
     "data": {
      "application/javascript": [
       "main()\n",
       "function main()\n",
       "{\n",
       "    let i=m1()\n",
       "    let j=m1()*10\n",
       "    console.log(m1())\n",
       "    console.log(i,j)\n",
       "}\n",
       "function m1()\n",
       "{\n",
       "    console.log('m1 is executing')\n",
       "    return 10\n",
       "}\n"
      ],
      "text/plain": [
       "<IPython.core.display.Javascript object>"
      ]
     },
     "metadata": {},
     "output_type": "display_data"
    }
   ],
   "source": [
    "%%javascript\n",
    "main()\n",
    "function main()\n",
    "{\n",
    "    let i=m1()\n",
    "    let j=m1()*10\n",
    "    console.log(m1())\n",
    "    console.log(i,j)\n",
    "}\n",
    "function m1()\n",
    "{\n",
    "    console.log('m1 is executing')\n",
    "    return 10\n",
    "}"
   ]
  },
  {
   "cell_type": "code",
   "execution_count": null,
   "id": "c1f73d05",
   "metadata": {},
   "outputs": [],
   "source": [
    "%%javascript\n",
    "<script>\n",
    "    main();//function call\n",
    "    function main()\n",
    "    {\n",
    "       console.log('main starts')\n",
    "       m1(1,2)             // actual\n",
    "       console.log('main ends') \n",
    "    } \n",
    "    \n",
    "    function m1(n1, n2)   // formal\n",
    "    {\n",
    "        console.log(n1, n2)\n",
    "    }\n",
    "</script>"
   ]
  },
  {
   "cell_type": "markdown",
   "id": "690ee7ae",
   "metadata": {},
   "source": [
    "[ If we pass parametrized arguments in JS, we must provide as many values in the function call. If we dont provide the values, JS engine will provide default values as undefined ]\n",
    "\n",
    "* In javascript a parametrised function can be called with less arguments, equal arguments or more number of arguments\n",
    "* In case of less argumets, default value is proided JS engine, i.e. undefined\n",
    "* In case of more arguments, it ignores unwanted parameters\n",
    "\n",
    "If we perform any arithematic operations on undefined values, we get 'Not a number'(Nan) as output"
   ]
  },
  {
   "cell_type": "markdown",
   "id": "6a0eca8d",
   "metadata": {},
   "source": [
    "#### Function Expression\n",
    "* Creating anonymous function and storing it into a variable is known as Function Expression\n",
    "* A function without a name is known as anonymous function\n",
    "* In Javascript, functions are considered as non-primitive values. [ functions are considered as values (that are non-primitive) and hence can be stored in a variable and called with the variable later ]\n",
    "\n",
    "#### Differences between function declaration and function expression"
   ]
  },
  {
   "cell_type": "raw",
   "id": "0286bfd0",
   "metadata": {},
   "source": [
    "        Function Declaration                                                       Function Expression\n",
    "1. Function declaration can be used before                     1. Function Expression cannot be accessed before its \n",
    "   its creation                                                   initialization\n",
    "2. Since function declaration is a block, we                   2. Since function expression is a statement, we can use \n",
    "   cannot use semicolon                                           semicolon at the end\n",
    "3. Arguments object will be created in Function                3. Argument Object will be created in function expression\n",
    "   Declaration as well as Function Expression"
   ]
  },
  {
   "cell_type": "markdown",
   "id": "bbfdc6ed",
   "metadata": {},
   "source": [
    "#### Arguments Object\n",
    "* Arguments Object is a local variable for Function Declaration and Function Expression\n",
    "* Arguments Object contains all the values which we pass at function call\n",
    "* In arguments object, the values are stored in the form of index\n",
    "\n",
    "##### Note:\n",
    "Arguments object is not an array because apart from length property, no other proeprties are present for arguments object\n",
    "\n",
    "#### Arrow function\n",
    "* Arrow functions  are introduces in Ecma Script 6 (ES6) version\n",
    "* Arrow functions are used to create anonymous function is simple or shorter ways\n",
    "* In Arrow functions, arguments object will not be created\n",
    "\n",
    "## Note:\n",
    "\n",
    "Function declaration can be called before declaration itself\n",
    "\n",
    "Function Expression can not be called before declaration\n",
    "\n",
    "Arrow functions --?\n",
    "\n",
    "#### Rest operator or Rest Parameters\n",
    "* Rest parameter is introduced in ES6 version\n",
    "* Rest parameter makes a function to accpet any number of arguments as an array\n",
    "* To represent Rest parameter, we use \" ...parameter_name \" (3 consecutive dots with parameter name)\n",
    "\n",
    "#### Default parameters or Optional Parameters\n",
    "* Default parameters were introcuced in ES6 version\n",
    "* Default parameter makes us to provide default (Or initial) values for the formal paramters when no arguments (or less args) are passed at function call\n",
    "\n",
    "#### Pure Functions\n",
    "* A function which always produces same output for same input is known as Pure function \n",
    "* Pure functions doesnt modify the state (data members such as n1, n2 etc are not modified in the given example)\n",
    "* Pure functions doesn't have any side effects (meaning it is not updating external data)\n",
    "\n",
    "#### Impure Functions\n",
    "* A function which produces different output for same inputs is known as Impure Function\n",
    "* Impure Function modifies the state and has side effects as well"
   ]
  },
  {
   "cell_type": "markdown",
   "id": "4ff5f507",
   "metadata": {},
   "source": [
    "### Object\n",
    "* object is a physical or real world entity which is collection of state and behaviour\n",
    "* State means Properties or data\n",
    "* Behaviour means functions/functionality\n",
    "\n",
    "In Javascript, there are 2 ways to create an object\n",
    "#### 1. Object literal\n",
    "\n",
    "syntax:\n",
    "\n",
    "    let objeRef = {\n",
    "                    key: value,\n",
    "                    key: value\n",
    "                   };\n",
    "                    \n",
    "#### 2. Object Constructor\n",
    "\n",
    "syntax:\n",
    "\n",
    "    let objRef = new Object();\n",
    "    objRef.key = value;\n",
    "    \n",
    "There are 2 ways to create an Object:\n",
    "\n",
    "1. Dot notation (objRef.prop_name )\n",
    "2. Brackets Notation ( objeRef[\" prop_name \"] )"
   ]
  },
  {
   "cell_type": "code",
   "execution_count": 18,
   "id": "221cac44",
   "metadata": {},
   "outputs": [
    {
     "data": {
      "application/javascript": [
       "let student={\n",
       "    stuId:101,\n",
       "    firstName: \"Rohit\",\n",
       "    lastName: \"Sharma\",\n",
       "    birthYear:2000,\n",
       "    age:24\n",
       "};\n",
       "console.log(student, typeof student);\n",
       "\n",
       "// accessing properties through .notation (objRef.prop_name )\n",
       "let stuName_1=student.firstName\n",
       "let stuAge_1=student.age\n",
       "console.log(`Student name = ${stuName_1}, Student age = ${stuAge_1}`);\n",
       "\n",
       "// accessing properties through [ ] bracket notation (objRef[\"prop_name\"] )\n",
       "let stuName_2=student.firstName\n",
       "let stuAge_2=student.age\n",
       "console.log(`Student name = ${stuName_2}, Student age = ${stuAge_2}`);\n",
       "\n",
       "// accessing non-existing properties \n",
       "console.log(student.phNo);\n",
       "console.log(student[\"email\"]);\n"
      ],
      "text/plain": [
       "<IPython.core.display.Javascript object>"
      ]
     },
     "metadata": {},
     "output_type": "display_data"
    }
   ],
   "source": [
    "%%javascript\n",
    "let student={\n",
    "    stuId:101,\n",
    "    firstName: \"Rohit\",\n",
    "    lastName: \"Sharma\",\n",
    "    birthYear:2000,\n",
    "    age:24\n",
    "};\n",
    "console.log(student, typeof student);\n",
    "\n",
    "// accessing properties through .notation (objRef.prop_name )\n",
    "let stuName_1=student.firstName\n",
    "let stuAge_1=student.age\n",
    "console.log(`Student name = ${stuName_1}, Student age = ${stuAge_1}`);\n",
    "\n",
    "// accessing properties through [ ] bracket notation (objRef[\"prop_name\"] )\n",
    "let stuName_2=student.firstName\n",
    "let stuAge_2=student.age\n",
    "console.log(`Student name = ${stuName_2}, Student age = ${stuAge_2}`);\n",
    "\n",
    "// accessing non-existing properties \n",
    "console.log(student.phNo);\n",
    "console.log(student[\"email\"]);"
   ]
  },
  {
   "cell_type": "markdown",
   "id": "6ea8361e",
   "metadata": {},
   "source": [
    "When a class doesnot inherit from any class, it still inherits the proerties from object class. So the above object belongs to object class. Hence the type here is \"object\" \n",
    "\n",
    "If we try to access non-existing properties from any object, then the returned value is undefined. (Note that 'undefined' is a falsy value)"
   ]
  },
  {
   "cell_type": "code",
   "execution_count": 26,
   "id": "48ce0aa0",
   "metadata": {},
   "outputs": [
    {
     "data": {
      "application/javascript": [
       "let student={\n",
       "    stuId:101,\n",
       "    firstName: \"Rohit\",\n",
       "    lastName: \"Sharma\",\n",
       "    birthYear:2000,\n",
       "    age:24\n",
       "};\n",
       "\n",
       "// let info =\"age\"\n",
       "// console.log(student.info)\n",
       "// console.log(student[info])\n",
       "\n",
       "let info = prompt(\"Search here\")\n",
       "if (student[info])\n",
       "    {\n",
       "        console.log(\"Searched data = \",+student[info])\n",
       "    }\n",
       "else\n",
       "    {\n",
       "        console.log(\"Invalid search\")\n",
       "    }\n"
      ],
      "text/plain": [
       "<IPython.core.display.Javascript object>"
      ]
     },
     "metadata": {},
     "output_type": "display_data"
    }
   ],
   "source": [
    "%%javascript\n",
    "let student={\n",
    "    stuId:101,\n",
    "    firstName: \"Rohit\",\n",
    "    lastName: \"Sharma\",\n",
    "    birthYear:2000,\n",
    "    age:24\n",
    "};\n",
    "\n",
    "// let info =\"age\"\n",
    "// console.log(student.info)  \n",
    "// console.log(student[info])\n",
    "\n",
    "let info = prompt(\"Search here\")\n",
    "if (student[info])\n",
    "    {\n",
    "        console.log(\"Searched data = \",+student[info])\n",
    "    }\n",
    "else\n",
    "    {\n",
    "        console.log(\"Invalid search\")\n",
    "    }"
   ]
  },
  {
   "cell_type": "markdown",
   "id": "9ef6d621",
   "metadata": {},
   "source": [
    "#### Differences between Dot Notation and Bracket Notation\n",
    "* When the object property is invalid identifier (-->invalid way to define a variable), those properties can be accessed only by Brackets Notation\n",
    "* If we try to access non-existing properties from an object, then it returns \"undefined\" not the error\n",
    "* By using Bracket notation, we can access the data of object based on dynamic input --> Major difference\n"
   ]
  },
  {
   "cell_type": "markdown",
   "id": "bc89de11",
   "metadata": {},
   "source": [
    "    var a = 10\n",
    "    var b = 20\n",
    "    function add(n1, n2)\n",
    "    {\n",
    "        var res = 0;\n",
    "        res = n1 + n2;\n",
    "        return res\n",
    "\n",
    "    }\n",
    "    var op1 = add(a,b)\n",
    "    var op2 = add(op1, b)\n",
    "\n",
    "#### Global Execution Context (GEC)"
   ]
  },
  {
   "cell_type": "raw",
   "id": "5d4d85cf",
   "metadata": {},
   "source": [
    "(GEC)Memory       Code Execution                   add(10, 20)                               ADD(30, 20)\n",
    "a: undefined         10                  Memory              Code execution             Memory            Code Execution \n",
    "b: undefined         20             argsObject:{0:10(n1)                           argsObject:{0:30(n1)   \n",
    "add: {----}                                     1:20(n2)}                                    1: 20(n2)}\n",
    "op1: undefined       30 ------------->res:undefined            0 -->XXX -->30             \n",
    "op2: undefined       50--------------------------------------------------------------> res: undefined       0 XXX->50 \n",
    "                                    |------------ both are deleted after their repsective executions ---------------|"
   ]
  },
  {
   "cell_type": "raw",
   "id": "8c1a5bc4",
   "metadata": {},
   "source": [
    "<script>\n",
    "    // Execution Context\n",
    "    main();\n",
    "    function main()\n",
    "    {\n",
    "        var i=1\n",
    "        var j= 0\n",
    "        j = m1(i++)+m1(++i);\n",
    "        console.log(i,j)\n",
    "    }\n",
    "    function m1(a)\n",
    "    {\n",
    "        return a++\n",
    "    }\n",
    "</script>"
   ]
  },
  {
   "cell_type": "raw",
   "id": "e6f98b95",
   "metadata": {},
   "source": [
    "# Incomplete\n",
    "Global Eexecution Context             add(10, 20)                        ADD(30, 20)\n",
    "Memory       Code Execution      Memory      Code execution        Memory            Code Execution \n",
    "main: {---}         10        argsObject:{}                      argsObject:{}       \n",
    "m1:   {---}         20                                          \n",
    "                                                                        \n",
    "deleted hen browser is closed      deleted when function is exited         deleted when function is exited"
   ]
  },
  {
   "cell_type": "markdown",
   "id": "f4d1d2bf",
   "metadata": {},
   "source": [
    "Every execution context can be associated with an object; This object will always have 3 properties\n",
    "1. Variable Env/Var Object\n",
    "2. Scope chain will be determined\n",
    "3. this keyword is created\n",
    "\n",
    "#### 1. Variable Env/Var Object\n",
    "Variable object is a property of execution context which creates memory for all the variables, functions and inner function declarations\n",
    "\n",
    "If the vars are created with var keyword, then the initial value is 'undefined'\n",
    "If the vars are created with let or const keyword, then the initial value is 'uninitialized'\n",
    "\n",
    "For function declaration, initial value is actual function\n",
    "\n",
    "For function expression and arrow functions, the initial value depends on the keyword which we use to create a variable to store a function"
   ]
  },
  {
   "cell_type": "raw",
   "id": "4a2cd574",
   "metadata": {},
   "source": [
    "<script>\n",
    "    // Execution Contest\n",
    "    function studentDetails(id,sname)\n",
    "    {\n",
    "        var instName = 'JSP'\n",
    "        let branch  = 'Marathahalli'\n",
    "        const course = 'Python'\n",
    "        \n",
    "        function printDetails()\n",
    "        {\n",
    "            console.log(`student name = ${sname}, student course = ${course}`)\n",
    "        }\n",
    "        let greetMsg = function()\n",
    "        {\n",
    "            let msg_1 = 'Good evening'\n",
    "            console.log(`Hi ${sname} ${msg_1}`)\n",
    "        }\n",
    "        greetMsg();\n",
    "        \n",
    "        var wishMsg = () =>\n",
    "        {\n",
    "            let msg = `Happy Birthday`\n",
    "            console.log(`Hi ${sname} ${msg}`)\n",
    "        }\n",
    "        wishMsg();\n",
    "    }\n",
    "    studentDetails(101, 'Ashok')\n",
    "</script>"
   ]
  },
  {
   "cell_type": "raw",
   "id": "35e4cf55",
   "metadata": {},
   "source": [
    "    Global Exceution Context                              studentDetails(101, 'Ashok')\n",
    "  Memory           Code Execution                   Memory                  Code Exceution\n",
    "variableObj                                      variableObj\n",
    "{                                                {\n",
    "  studentDetails                                   argsObj{0:101\n",
    "  {------------}                                       1:'Ashok'}\n",
    "}\n",
    "                                                 instName:undefined\n",
    "                                                 \n",
    "                                                 branch: uninitialized\n",
    "                                                 \n",
    "                                                 course:uninitialized\n",
    "                                                 \n",
    "                                                 printDetails:{-------}\n",
    "                                                 \n",
    "                                                 greetMsg:uninitialized\n",
    "                                                 \n",
    "                                                 wishMsg: undefined"
   ]
  },
  {
   "cell_type": "markdown",
   "id": "eff87a4d",
   "metadata": {},
   "source": [
    "#### Scopes\n",
    "Scope is the accessibility of variables\n",
    "\n",
    "In JS, there are 3 scopes\n",
    "1. Global scope\n",
    "2. Function scope\n",
    "3. Block scope\n",
    "\n",
    "#### Global scope\n",
    "* The variables or functions which are not part of any other function or block are known as Global code\n",
    "* The global code is also knwon as 'Top Level Code'\n",
    "* The top level code has global scope\n",
    "\n",
    "#### Function Scope\n",
    "Function scope is also known as 'Local Scope'\n",
    "\n",
    "The variables or functions which are created inside the function are only accessible within the function\n",
    "\n",
    "#### Block scope\n",
    "* Blocks are creating scope from ES6 version\n",
    "* The variables which are created using let or const keywords are accessible only within the blocks\n",
    "* let and const variables are having block scopes\n",
    "* var keyword variables are having function scope"
   ]
  },
  {
   "cell_type": "markdown",
   "id": "ad687fcd",
   "metadata": {},
   "source": [
    "#### Scope Chain\n",
    "When we use a variable in Javascipt, JS Engine looks for that variable in current scope (local memory). If it is not found there, then it looks into outer scope. This process continues unitll global scope is known as Scope Chain.\n",
    "\n",
    "OR\n",
    "\n",
    "Outer scope variables are accessable in inner scope\n",
    "\n",
    "* In JS, scope chain is possible because of Lexical Environment\n",
    "* Lexical Environment is a local memory along with its Parent's Lexical Environment Reference\n",
    "* Lexical Environment ill be created along with every execution context"
   ]
  },
  {
   "cell_type": "raw",
   "id": "15cae580",
   "metadata": {},
   "source": [
    "    Global Exceution Context                              studentDetails(101, 'Ashok')\n",
    "  Memory           Code Execution                   Memory                  Code Exceution\n",
    "variableObj                                      variableObj\n",
    "{                                                {\n",
    "  n: undefined         10\n",
    "  outer:{-----}                                            argsObj{0:101     \n",
    "}"
   ]
  },
  {
   "cell_type": "markdown",
   "id": "c4cdef52",
   "metadata": {},
   "source": [
    "#### Closure:\n",
    "A closure is a combination a function bundled together to its Lexical Environemnt\n",
    "\n",
    "OR\n",
    "\n",
    "Accessing a function variables even when the function execution is completed\n",
    "\n",
    "#### Callback function\n",
    "A function which is passed as an argument to another function is known as Callback function \n",
    "\n",
    "suppose:- let res_1 = calc(10,20, mul); Note that mul here is a callback function\n",
    "\n",
    "#### Higher Order Function\n",
    "A function which is accepting another function as a argument is lnown as Higher Order Function\n",
    "\n",
    "suppose:- let res_1 = calc(10,20, mul); Note that calc here is a Higher Order function\n",
    "\n",
    "A function which is returning another function is also known as Higher Order function"
   ]
  },
  {
   "cell_type": "markdown",
   "id": "621fa446",
   "metadata": {},
   "source": [
    "#### First class function or first class citizen:\n",
    "A function that can be stored into a variable, a function can be passed as an argument to another function, a function can return another function\n",
    "\n",
    "#### this keyword\n",
    "1. this keyword is a vraible which is created for every execution context\n",
    "2. this keyword value is always assigned at runtime\n",
    "3. In global exeution context, this keyword points to window object\n",
    "4. In regular function call(function declaration and function expression), this keyword points to window object in normal mode. In strict mode, this keyword points to 'undefined'\n",
    "5. Arrow function doesn't have its own this keyword value. If we use this keyword in arrow functions, it points to it's parent's scope this value\n",
    "6. In method call, this keyword points to current object (Current Object --> the object reference with which the method is called)  \n",
    "[A function is said to be a method if it is called with any object reference]"
   ]
  },
  {
   "cell_type": "markdown",
   "id": "ba191955",
   "metadata": {},
   "source": [
    "* In JS, functions are treated as objects (first class object/ citizen)\n",
    "* The functions have some inbuilt methods\n",
    "* There are 3 function methods which are used to set/modify the this keyword value for functions explicitly by providing     different object context\n",
    "* Call method, apply and bind method\n",
    "  syntax \n",
    "          \n",
    "        - function.call(thisArg, agr1, arg2,....argN)\n",
    "        - function.apply(thisArg, [agr1, arg2,....argN])\n",
    "        - let result = function.bind(thisArg, agr1, arg2,....argN)  \n",
    "          Here note that result stores the new function reference\n",
    "* These aboove methods are used to change the context of function execution\n"
   ]
  },
  {
   "cell_type": "markdown",
   "id": "9f4ab5a0",
   "metadata": {},
   "source": [
    "* call() method is a predefined function method which is used to change the context of this keyword inside a function execution\n",
    "* apply() method is similar to call method.But instead of taking the arguments of the function separated by commas, it takes the arguments in an array format\n",
    "* bind() method is also used to change the this keyword context\n",
    "* While call() and apply() methods immediately invoke the function, bind() method returns a function reference which can be used later"
   ]
  },
  {
   "cell_type": "code",
   "execution_count": null,
   "id": "85780e02",
   "metadata": {},
   "outputs": [],
   "source": []
  }
 ],
 "metadata": {
  "kernelspec": {
   "display_name": "Python 3 (ipykernel)",
   "language": "python",
   "name": "python3"
  },
  "language_info": {
   "codemirror_mode": {
    "name": "ipython",
    "version": 3
   },
   "file_extension": ".py",
   "mimetype": "text/x-python",
   "name": "python",
   "nbconvert_exporter": "python",
   "pygments_lexer": "ipython3",
   "version": "3.8.3"
  }
 },
 "nbformat": 4,
 "nbformat_minor": 5
}
