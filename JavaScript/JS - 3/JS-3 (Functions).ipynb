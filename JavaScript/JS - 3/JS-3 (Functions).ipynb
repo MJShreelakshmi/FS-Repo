{
 "cells": [
  {
   "cell_type": "code",
   "execution_count": 1,
   "id": "9c069028",
   "metadata": {},
   "outputs": [],
   "source": [
    "# overriding is not possible in JS (bcz functns can be called with any num of args ??!!)\n",
    "# Arrow functions can be called before declaration or not?"
   ]
  },
  {
   "cell_type": "markdown",
   "id": "fe567575",
   "metadata": {},
   "source": [
    "#### Functions\n",
    "1. Function is a set of statements1. which is used to perform some task\n",
    "2. There are 3 ways to create functions in JS\n",
    "* Function Declaration\n",
    "* Function Expression\n",
    "* Arrow Function\n",
    "\n",
    "#### Note\n",
    "* While creating functions, Access modifiers, Non-Access Modifiers and  Return types are not allowed\n",
    "* Return types are not allowed, but function can return any type of value\n",
    "\n",
    "#### Function Declaration\n",
    "Creating a function with function keyword followed by function name is known as Function Declaration\n",
    "\n",
    "Syntax:\n",
    "\n",
    "        keyword idenitier()\n",
    "        {\n",
    "        }\n",
    "eg:\n",
    "\n",
    "        main();\n",
    "        function main()\n",
    "        {\n",
    "            console.log('main starts')\n",
    "            console.log('main ends')\n",
    "            return;\n",
    "        }\n",
    "        \n",
    "#### Return Statement\n",
    "* Return statement is used to return the control to its calling function\n",
    "* In JS, a function can return any type of value\n",
    "* I f a return function is not returning any value, then writing return statement is optional\n",
    "* If we are not returning any value from a function, then implicitly \"undefined\"  will be returned by the JS engine"
   ]
  },
  {
   "cell_type": "raw",
   "id": "e1f07907",
   "metadata": {},
   "source": [
    "eg:\n",
    "    main()\n",
    "    function main()\n",
    "    {\n",
    "        console.log('main starts')\n",
    "        let i = m1();\n",
    "        console.log('main ends')\n",
    "    }\n",
    "    function m1()\n",
    "    {\n",
    "        console.log(' m1 is executing')\n",
    "        return 10\n",
    "        // return True\n",
    "        // return\n",
    "    }"
   ]
  },
  {
   "cell_type": "markdown",
   "id": "b2585836",
   "metadata": {},
   "source": [
    "#### Unreachable statements\n",
    "The statemnt which is never ever executed in a program is known as an Unreachable statement\n",
    "\n",
    "    function m1()\n",
    "    {\n",
    "        n= 5\n",
    "        if (n%2 ==0)\n",
    "            {\n",
    "            stmt 1\n",
    "            return \n",
    "            stmt 2\n",
    "            }\n",
    "        stmt 3\n",
    "    }\n",
    "\n",
    "Here stmt 2 is unreachable - meaning it will never be executed in any condition\n",
    "\n",
    "#### Parameters\n",
    "* Formal parameters\n",
    "* Actual parameters\n",
    "\n",
    "The parameters which we pass at the time of function declaration is known as Formal parameters\n",
    "\n",
    "The parameters which we pass at function call is known as Actual parameters"
   ]
  },
  {
   "cell_type": "raw",
   "id": "3f1c372f",
   "metadata": {},
   "source": [
    "<script>\n",
    "    main();//function call\n",
    "    function main()\n",
    "    {\n",
    "       console.log('main starts')\n",
    "       m1(1,2)             // actual\n",
    "       console.log('main ends') \n",
    "    } \n",
    "    \n",
    "    function m1(n1, n2)   // formal\n",
    "    {\n",
    "        console.log(n1, n2)\n",
    "    }\n",
    "</script>"
   ]
  },
  {
   "cell_type": "markdown",
   "id": "690ee7ae",
   "metadata": {},
   "source": [
    "[ If we pass parametrized arguments in JS, we must provide as many values in the function call. If we dont provide the values, JS engine will provide default values as undefined ]\n",
    "\n",
    "* In javascript a parametrised function can be called with less arguments, equal arguments or more number of arguments\n",
    "* In case of less argumets, default value is proided JS engine, i.e. undefined\n",
    "* In case of more arguments, it ignores unwanted parameters\n",
    "\n",
    "If we perform any arithematic operations on undefined values, we get 'Not a number' as output"
   ]
  },
  {
   "cell_type": "markdown",
   "id": "6a0eca8d",
   "metadata": {},
   "source": [
    "#### Function Expression\n",
    "* Creating anonymous function and storing it into a variable is known as Function Expression\n",
    "* A function without a name is known as anonymous function\n",
    "* In Javascript, functions are considered as non-primitive values. [ functions are considered as values (that are non-primitive) and hence can be stored in a variable and called with the variable later ]\n",
    "\n",
    "#### Differences between function declaration and function expression"
   ]
  },
  {
   "cell_type": "raw",
   "id": "0286bfd0",
   "metadata": {},
   "source": [
    "        Function Declaration                                                       Function Expression\n",
    "1. Function declaration can be used before                     1. Function Expression cannot be accessed before its \n",
    "   its creation                                                   initialization\n",
    "2. Since function declaration is a block, we                   2. Since function expression is a statemnt, we can use \n",
    "   cannot use semicolon                                           semicolon at the end\n",
    "3. Arguments object will be created in Function                3. Argument Object will be created in function expression\n",
    "Declaration as well as Function Expression"
   ]
  },
  {
   "cell_type": "markdown",
   "id": "bbfdc6ed",
   "metadata": {},
   "source": [
    "#### Arguments Object\n",
    "* Arguments Object is a local variable for Function Declaration and Function Expression\n",
    "* Arguments Object contains all the values which we pass at function call\n",
    "* In arguments object, the values are stored in the form of index\n",
    "\n",
    "##### Note:\n",
    "Arguments object is not an array because apart from length property, no other proeprties are present for arguments object\n",
    "\n",
    "#### Arrow function\n",
    "* Arrow functions  are introduces in Ecma Script 6 (ES6) version\n",
    "* Arrow functions are used to create anonymous function is simple or shorter ways\n",
    "* In Arrow functions, arguments object will not be created\n",
    "\n",
    "## Note:\n",
    "\n",
    "Function declaration can be called before declaration itself\n",
    "\n",
    "Function Expression can not be called before declaration\n",
    "\n",
    "Arrow functions --?\n",
    "\n",
    "#### Rest operator or Rest Parameters\n",
    "* Rest parameter is introduced in ES6 version\n",
    "* Rest parameter makes a function to accpet any number of arguments as an array\n",
    "* To represent Rest parameter, we use \" ...parameter_name \" (3 consecutive dots with parameter name)\n",
    "\n",
    "#### Default parameters or Optional Parameters\n",
    "* Default parameters were introcuced in ES6 version\n",
    "* Default parameter makes us to provide default (Or initial) values for the formal paramters when no arguments (or less args) are passed at function call\n",
    "\n",
    "#### Pure Functions\n",
    "* A function which always produces same output for same input is known as Pure function \n",
    "* Pure functions doesnt modify the state (data members such as n1, n2 etc are not modifies in the given example)\n",
    "* Pure functions doesn't have any side effects (meaning it is not updating external data)\n",
    "\n",
    "#### Impure Functions\n",
    "* A function which produces different output for same inputs is known as Impure Function\n",
    "* Impure Function modifies the state and has side effects as well"
   ]
  },
  {
   "cell_type": "markdown",
   "id": "4ff5f507",
   "metadata": {},
   "source": [
    "#### Object\n",
    "* object is a physical or real world entity which is collection of state and behaviour\n",
    "* State means Properties\n",
    "* Behaviour means functions\n",
    "\n",
    "In Javascript, there are 2 ways to create an object\n",
    "#### 1. Object literal\n",
    "\n",
    "syntax:\n",
    "\n",
    "    let objeRef = {\n",
    "                    key: value,\n",
    "                    key: value\n",
    "                   };\n",
    "                    \n",
    "#### 2. Object Constructor\n",
    "\n",
    "syntax:\n",
    "\n",
    "    let objRef = new Object();\n",
    "    objRef.key = value;\n",
    "    \n",
    "There are 2 ways to create an Object:\n",
    "\n",
    "1. Dot notation (objRef.prop_name )\n",
    "2. Brackets Notation ( objeRef[\" prop_name \"] )"
   ]
  },
  {
   "cell_type": "markdown",
   "id": "9ef6d621",
   "metadata": {},
   "source": [
    "#### Differences between Dot Notation and Bracket Notation\n",
    "* When the object property is invalid identifier (-->invalid way to define a variable), those properties can be accessed only by Brackets Notation\n",
    "* If we try to access non-existing properties from an object, then it returns \"undefined\" not the error\n",
    "* By using Bracket notation, we can access the data of object based on dynamic input --> Major difference\n",
    "\n"
   ]
  },
  {
   "cell_type": "markdown",
   "id": "bc89de11",
   "metadata": {},
   "source": [
    "    var a = 10\n",
    "    var b = 20\n",
    "    function add(n1, n2)\n",
    "    {\n",
    "        var res = 0;\n",
    "        res = n1 + n2;\n",
    "        return res\n",
    "\n",
    "    }\n",
    "    var op1 = add(a,b)\n",
    "    var op2 = add(op1, b)\n",
    "\n",
    "#### Global Execution Contest"
   ]
  },
  {
   "cell_type": "raw",
   "id": "5d4d85cf",
   "metadata": {},
   "source": [
    "  Memory            Code Execution                   add(10, 20)                               ADD(30, 20)\n",
    "a: undefined            10                  Memory              Code execution\n",
    "b: undefined            20             argsObject:{0:10(n1)                             argsObject:{0:10(n1)\n",
    "add: {----}                                        1:20(n2)}                                       1: 20(n2)}\n",
    "op1: undefined          30 ------------->res:undefined            0 -->XXX -->30\n",
    "op2: undefined          50-------------------------------------------------------------->"
   ]
  },
  {
   "cell_type": "code",
   "execution_count": null,
   "id": "bc4c34c4",
   "metadata": {},
   "outputs": [],
   "source": []
  },
  {
   "cell_type": "code",
   "execution_count": null,
   "id": "87853606",
   "metadata": {},
   "outputs": [],
   "source": []
  },
  {
   "cell_type": "code",
   "execution_count": null,
   "id": "698168d6",
   "metadata": {},
   "outputs": [],
   "source": []
  },
  {
   "cell_type": "code",
   "execution_count": null,
   "id": "04500324",
   "metadata": {},
   "outputs": [],
   "source": []
  },
  {
   "cell_type": "code",
   "execution_count": null,
   "id": "76f46c77",
   "metadata": {},
   "outputs": [],
   "source": []
  },
  {
   "cell_type": "code",
   "execution_count": 4,
   "id": "82b27228",
   "metadata": {},
   "outputs": [],
   "source": [
    "import copy"
   ]
  },
  {
   "cell_type": "code",
   "execution_count": 7,
   "id": "cf08f2fe",
   "metadata": {},
   "outputs": [
    {
     "data": {
      "text/plain": [
       "[1, 2]"
      ]
     },
     "execution_count": 7,
     "metadata": {},
     "output_type": "execute_result"
    }
   ],
   "source": [
    "a=[1,2, 'sdafsa']\n",
    "b=copy.deepcopy(a)\n",
    "a=[3,4]\n",
    "b"
   ]
  },
  {
   "cell_type": "code",
   "execution_count": null,
   "id": "ce4f8f5c",
   "metadata": {},
   "outputs": [],
   "source": []
  },
  {
   "cell_type": "code",
   "execution_count": null,
   "id": "82e54432",
   "metadata": {},
   "outputs": [],
   "source": []
  },
  {
   "cell_type": "code",
   "execution_count": null,
   "id": "ea48866a",
   "metadata": {},
   "outputs": [],
   "source": []
  },
  {
   "cell_type": "code",
   "execution_count": null,
   "id": "12956fd2",
   "metadata": {},
   "outputs": [],
   "source": []
  },
  {
   "cell_type": "code",
   "execution_count": null,
   "id": "57f9ae72",
   "metadata": {},
   "outputs": [],
   "source": []
  }
 ],
 "metadata": {
  "kernelspec": {
   "display_name": "Python 3 (ipykernel)",
   "language": "python",
   "name": "python3"
  },
  "language_info": {
   "codemirror_mode": {
    "name": "ipython",
    "version": 3
   },
   "file_extension": ".py",
   "mimetype": "text/x-python",
   "name": "python",
   "nbconvert_exporter": "python",
   "pygments_lexer": "ipython3",
   "version": "3.8.3"
  }
 },
 "nbformat": 4,
 "nbformat_minor": 5
}
