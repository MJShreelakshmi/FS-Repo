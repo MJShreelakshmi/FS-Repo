{
 "cells": [
  {
   "cell_type": "code",
   "execution_count": null,
   "id": "9c069028",
   "metadata": {},
   "outputs": [],
   "source": [
    "# overriding is not possible in JS (bcz functns can be called with a ny num of args ??!!)\n"
   ]
  },
  {
   "cell_type": "markdown",
   "id": "b2585836",
   "metadata": {},
   "source": [
    "#### Unreachable statements\n",
    "\n",
    "    function m1()\n",
    "    {\n",
    "        n= 5\n",
    "        if (n%2 ==0)\n",
    "            {\n",
    "            stmt 1\n",
    "            return \n",
    "            stmt 2\n",
    "            }\n",
    "        stmt 3\n",
    "    }\n",
    "\n",
    "Here stmt 2 is unreachable - meaning it will never be executed in any condition\n",
    "\n",
    "#### Parameters\n",
    "* Formal parameters\n",
    "* Actual parameters\n",
    "\n",
    "The parameters which we pass at the time of function declaration is known as Formal parameters\n",
    "\n",
    "The parameters which we pass at function call is known as Actual parameters"
   ]
  },
  {
   "cell_type": "raw",
   "id": "3f1c372f",
   "metadata": {},
   "source": [
    "<script>\n",
    "    m1();//function call\n",
    "    \n",
    "    function m1(n1, n2)   // formal\n",
    "    {\n",
    "        console.log(n1, n2)\n",
    "        return\n",
    "    }\n",
    "    m1(10,20)  // actual\n",
    "</script>"
   ]
  },
  {
   "cell_type": "markdown",
   "id": "690ee7ae",
   "metadata": {},
   "source": [
    "* In javascript a parametrised function can be called with less arguments, equal arguments or more number of arguments\n",
    "* In case of less argumets, default value is proided JS engine\n",
    "* In case of more arguments, it ignores unwanted parameters"
   ]
  },
  {
   "cell_type": "markdown",
   "id": "2ebb72c6",
   "metadata": {},
   "source": [
    "If we perform any arithematic operations on undefined values, we get 'Not a number' as output"
   ]
  },
  {
   "cell_type": "markdown",
   "id": "6a0eca8d",
   "metadata": {},
   "source": [
    "#### Function Expression\n",
    "* Creating anonymous function and storing it into a variable is known as Function Expression\n",
    "* A function without a name is known as anonymous function\n",
    "* In Javascript, functions are considered as non-primitive values. (functions are considered as values and hence can be stored in a variable and called with the variable later)\n",
    "\n",
    "#### Differences between function declaration and function expression"
   ]
  },
  {
   "cell_type": "raw",
   "id": "0286bfd0",
   "metadata": {},
   "source": [
    "        Function Declaration                                                       Function Expression\n",
    "1. Function declaration can be used before                     1. Function Expression cannot be accessed before its \n",
    "   its creation                                                   initialization\n",
    "2. Since function declaration is a block, we                   2. Since function expression is a statemnt, we can use \n",
    "   cannot use semicolon                                           semicolon at the end\n",
    "   \n",
    "Arguments object will be created in Function Declaration as well as Function Expression"
   ]
  },
  {
   "cell_type": "markdown",
   "id": "bbfdc6ed",
   "metadata": {},
   "source": [
    "#### Arguments Object\n",
    "* Arguments Object is a local variable for Function Declaration and Function Expression\n",
    "* Arguments Object contains all the values which we pass at function call\n",
    "* In arguments object, the values are stored in the form of index\n",
    "\n",
    "##### Note:\n",
    "Arguments object is not an array because apart from length property, no other proeprties are present for arguments object\n",
    "\n",
    "#### Arrow function\n",
    "* Arrow functions  are introduces in Ecma Script 6 (ES6) version\n",
    "* Arrow functions are used to create anonymous function is simple or shorter ways\n",
    "\n",
    "#### Rest operator or Rest Parameters\n",
    "* Rest parameter is introduced in EES6 version\n",
    "* Rest parameter makes a function to accpet any number of arguments as an array\n",
    "* To represent Rest parameter, we use \" ...parameter_name \" (3 consecutive dots with parameter name)\n",
    "\n",
    "#### Default parameters or Optional Parameters\n",
    "* Default parameters were introcuced in ES6 version\n",
    "* Default parameter makes us to provide default (Or initial) values for the formal paramters when no arguments (or less args) are passed at function call"
   ]
  },
  {
   "cell_type": "code",
   "execution_count": null,
   "id": "82b27228",
   "metadata": {},
   "outputs": [],
   "source": []
  },
  {
   "cell_type": "code",
   "execution_count": null,
   "id": "cf08f2fe",
   "metadata": {},
   "outputs": [],
   "source": []
  },
  {
   "cell_type": "code",
   "execution_count": null,
   "id": "ce4f8f5c",
   "metadata": {},
   "outputs": [],
   "source": []
  },
  {
   "cell_type": "code",
   "execution_count": null,
   "id": "82e54432",
   "metadata": {},
   "outputs": [],
   "source": []
  },
  {
   "cell_type": "code",
   "execution_count": null,
   "id": "ea48866a",
   "metadata": {},
   "outputs": [],
   "source": []
  },
  {
   "cell_type": "code",
   "execution_count": null,
   "id": "12956fd2",
   "metadata": {},
   "outputs": [],
   "source": []
  },
  {
   "cell_type": "code",
   "execution_count": null,
   "id": "57f9ae72",
   "metadata": {},
   "outputs": [],
   "source": []
  }
 ],
 "metadata": {
  "kernelspec": {
   "display_name": "Python 3 (ipykernel)",
   "language": "python",
   "name": "python3"
  },
  "language_info": {
   "codemirror_mode": {
    "name": "ipython",
    "version": 3
   },
   "file_extension": ".py",
   "mimetype": "text/x-python",
   "name": "python",
   "nbconvert_exporter": "python",
   "pygments_lexer": "ipython3",
   "version": "3.8.3"
  }
 },
 "nbformat": 4,
 "nbformat_minor": 5
}
