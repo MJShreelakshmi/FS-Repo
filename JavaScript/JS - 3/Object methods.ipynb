{
 "cells": [
  {
   "cell_type": "markdown",
   "id": "12dad896",
   "metadata": {},
   "source": [
    "### Object Methods\n",
    "#### 1. Object keys()\n",
    "\n",
    "It returns the key of an object properties in an array format\n",
    "\n",
    "syntax:\n",
    "\n",
    "    let result = Object.keys(objeRef)\n",
    "    \n",
    "    result --> [key1, key2, ...]\n",
    "    \n",
    "#### 2. Object.entries()\n",
    "It returns the key and value pairs as arrays inside another array\n",
    "\n",
    "synatx:\n",
    "\n",
    "    let result = OBject.entries(objRef)\n",
    "    result --> [[key1,value1], [key2,value2] ...]\n",
    "    \n",
    "#### 3. Object.freeze()\n",
    "It freezes an object from further changes\n",
    "\n",
    "The object can't be modified\n",
    "\n",
    "syntax:\n",
    "\n",
    "        Object.freeze(objRef)\n",
    "        \n",
    "#### 4. Object.seal()\n",
    "It freezes an object from adding new properties \n",
    "\n",
    "The existing properties can be modified but will not allow new proerties to be added\n",
    "\n",
    "Syntax:\n",
    "\n",
    "        Object.seal(objRef)\n",
    "        \n",
    "#### 5. Object.assign()\n",
    "It is used to merge other objects properties into a target object\n",
    "\n",
    "Synatx:\n",
    "\n",
    "        Object.assign(targetObj, add_Obj1, add_obj2..)"
   ]
  },
  {
   "cell_type": "code",
   "execution_count": null,
   "id": "e7a2aa44",
   "metadata": {},
   "outputs": [],
   "source": []
  },
  {
   "cell_type": "code",
   "execution_count": null,
   "id": "0145ab29",
   "metadata": {},
   "outputs": [],
   "source": []
  }
 ],
 "metadata": {
  "kernelspec": {
   "display_name": "Python 3 (ipykernel)",
   "language": "python",
   "name": "python3"
  },
  "language_info": {
   "codemirror_mode": {
    "name": "ipython",
    "version": 3
   },
   "file_extension": ".py",
   "mimetype": "text/x-python",
   "name": "python",
   "nbconvert_exporter": "python",
   "pygments_lexer": "ipython3",
   "version": "3.8.3"
  }
 },
 "nbformat": 4,
 "nbformat_minor": 5
}
