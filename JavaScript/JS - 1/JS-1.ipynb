{
 "cells": [
  {
   "cell_type": "markdown",
   "id": "201d4a04",
   "metadata": {},
   "source": [
    "### JavaScript\n",
    "1. JavaScript is high level programming language which is used for creating dynamic/inertactive web pages\n",
    "2. Initially, javascript was devoloped by Brendon Eich in the year 1994 at company called \"Netscape Navigor\"\n",
    "3. Initially JavaScript was only used for Client-Side (Front-end) devolopment. The modern Javascript can be used for Client-side and Server side development as well\n",
    "4. For Client-side development, the run-time enviroment is browser\n",
    "5. For Server-side development, the run-time enviroment is Nodejs\n",
    "6. We can call Javascript as ECMA script (ECMA - European Computer Manufacturing Association - A company)\n",
    "\n",
    "JS is high level and Client -side Lang.\n",
    "\n",
    "Javascript is implicit semi-coloned programming language (js engine will automatically end statements with ' ; ')\n",
    "\n",
    "Modern Javascript is JIT (Just In Time ) Complilation Programming language \n",
    "(After compilation generally, the byte code is available to be run in some other OS which is not possible in JIT Compilation Prog Lang.)\n",
    "\n",
    "Converting high level code to machine level code at once and execute immediately is known as JIT compilation Progr. Lang.\n",
    "\n",
    "JS is synchronous language --> code is executed line by line  \n",
    "\n",
    "' // ' is used for single line comment\n",
    "\n",
    "JS is single threaded Programming language"
   ]
  },
  {
   "cell_type": "code",
   "execution_count": 1,
   "id": "ce42342d",
   "metadata": {},
   "outputs": [],
   "source": [
    "#  live server\n",
    "# JIT compilation Progr. Lang"
   ]
  },
  {
   "cell_type": "markdown",
   "id": "a2677342",
   "metadata": {},
   "source": [
    "We can attach script code to HTML files in 2 ways\n",
    "1. Internal Javascript\n",
    "2. External Javascript"
   ]
  },
  {
   "cell_type": "raw",
   "id": "e35dfff7",
   "metadata": {},
   "source": [
    "----- Internal JS\n",
    "<!DOCYTYPE html>\n",
    "<html>\n",
    "    <head>\n",
    "        <title> Document </title>\n",
    "        <script> \n",
    "            console.log('Hello world')\n",
    "        </script>\n",
    "    </head>\n",
    "    <body>\n",
    "        <h3>Js Basics</h3>\n",
    "    </body>\n",
    "</html>"
   ]
  },
  {
   "cell_type": "raw",
   "id": "ac8a6a06",
   "metadata": {},
   "source": [
    "---- External JS   -- not working\n",
    "<!DOCYTYPE html>\n",
    "<html>\n",
    "    <head>\n",
    "        <title> Document </title>\n",
    "        <script src = \"ext.js\"> </script>\n",
    "    </head>\n",
    "    <body>\n",
    "        <h3>Js Basics</h3>\n",
    "    </body>\n",
    "</html>"
   ]
  },
  {
   "cell_type": "markdown",
   "id": "08c3e5db",
   "metadata": {},
   "source": [
    "#### Function\n",
    "1. Function is a set of statements which is used to perform specific task\n",
    "2. To execute the statements of the function, function call is compulsory\n",
    "3. Functions called before their declaration\n",
    "Syntax:\n",
    "        \n",
    "        function function_name():\n",
    "        {\n",
    "            ----------\n",
    "            ----------\n",
    "         }\n",
    "         function_name();  // function call\n",
    "         \n",
    "#### Identifiers\n",
    "1. Identifiers are the names given by the programmers or developers\n",
    "Example: variable names, function names, class names etc\n",
    "\n",
    "Rules for Identifiers:\n",
    "1. Identifiers should not start with digits\n",
    "2. Identifiers should not contain any special characters except ( $ ) dollar and ('_') underscore\n",
    "3. Keywords or reserved words should not be used for identifiers"
   ]
  },
  {
   "cell_type": "raw",
   "id": "7704a6e6",
   "metadata": {},
   "source": [
    "valid or invalid identifiers\n",
    "demo  - valid\n",
    "1demo  - invalid\n",
    "\n",
    "num_1  - valid\n",
    "num 1  - invalid\n",
    "num@1  - valid\n",
    "num$1  - valid\n",
    "\n",
    "_num1  - valid\n",
    "$num1  - valid\n",
    "\n",
    "#num1  - invalid\n",
    "\n",
    "for    - invalid\n",
    "switch - invalid\n",
    "else   - invalid"
   ]
  },
  {
   "cell_type": "raw",
   "id": "778e534d",
   "metadata": {},
   "source": [
    "<!DOCYTYPE html>\n",
    "<html>\n",
    "    <head>\n",
    "        <title> Document </title>\n",
    "        <script>\n",
    "             function main():\n",
    "             {\n",
    "                console.log('main starts');\n",
    "                console.log('main ends');\n",
    "              }\n",
    "              main();  // function call\n",
    "        </script>\n",
    "    </head>\n",
    "    <body>\n",
    "        <h3>Js Basics</h3>\n",
    "    </body>\n",
    "</html>"
   ]
  },
  {
   "cell_type": "markdown",
   "id": "322948fd",
   "metadata": {},
   "source": [
    "Javascript is implicit semi-coloned programming language (js engine will automatically end statements with ;)"
   ]
  },
  {
   "cell_type": "markdown",
   "id": "63a0b571",
   "metadata": {},
   "source": [
    "### Variable\n",
    "1. Variable is a container which is used to store a single value\n",
    "\n",
    "Syntax:\n",
    "\n",
    "    keyword varName;  // Declaration\n",
    "    varName=value; // Initialization\n",
    "2. To create a variable in Javascript, we can use 'let' keyword or 'const' keyword or 'var' keyword\n",
    "3. let and const keywords are instroduced in ECMA script 6 version( ES6)\n",
    "4. var keyword was introduced in older versions of Javascript\n",
    "5. let variables cannot be redeclared but it can be re-intialized (multiple variables can be declared in a dingle line using let keyword)\n",
    "6. var variables can be redeclared and reinitialized as well\n",
    "7. const variables cannot be redeclared and reinitialized\n",
    "8. const variables must be initialised at the time of declaration itself\n",
    "9. Javascript can be created without using any keywords( is a bad practice to do so)\n",
    "\n",
    "see let.html, var.html and const.html\n",
    "\n",
    "#### Strict Mode in Javascript\n",
    "strict mode is used to maintain \"secured javascript code\" (which means we can avoid the mistakes which are commonly done by developers i.e., eg: doesn't allow variables to be declared without using keywords)\n",
    "\n",
    "see var_declaring_without_keyword.html, strict_mode.html\n",
    "\n",
    "If we declare a variable without initialization, then the default value is assigned by Javascipt engine. (Evey browser has Javascript engine to run the browser) \n",
    "\n",
    "In Javascript, the deafult value is undefined\n",
    "\n",
    "Javascript is a multi-paradigm programming language which implies that programming can be done in Procedural Oriented or Object Oriented Approach"
   ]
  },
  {
   "cell_type": "raw",
   "id": "0543d005",
   "metadata": {},
   "source": [
    "Object - Real world entity that is collection of state and behaviour\n",
    "*Proceduarl*                                                           *OOPS*\n",
    "data member(states) and functions(behaviours) declared separately       data members and functions are declared together\n",
    "--- hence a multi-paradigm lang."
   ]
  },
  {
   "cell_type": "raw",
   "id": "043c4231",
   "metadata": {},
   "source": [
    "<script>\n",
    "    studentDetails();\n",
    "    function studentDetails()\n",
    "        {                   \n",
    "           let stId, firstName, email, gender;\n",
    "           stId='JSP101';\n",
    "           firstName='Rohit';\n",
    "           email='rohitsingh248@gmail.com';\n",
    "           console.log(stId,firstName,email,gender);\n",
    "        }\n",
    "       \n",
    "</script>\n",
    "// see log_method_args.html"
   ]
  },
  {
   "cell_type": "raw",
   "id": "67fe84b5",
   "metadata": {},
   "source": [
    "<script>\n",
    "    main();\n",
    "    function main()\n",
    "        {                   \n",
    "           let a=10;\n",
    "            console.log(a);\n",
    "            console.log(typeof a);\n",
    "            a='jsp'\n",
    "            console.log(a, typeof a);\n",
    "            a=true\n",
    "            console.log(a, typeof a);\n",
    "        }\n",
    "        \n",
    "</script>"
   ]
  },
  {
   "cell_type": "markdown",
   "id": "46dbd664",
   "metadata": {},
   "source": [
    "#### Types of Variables\n",
    "In function oriented programming, there are 2 types of variables\n",
    "1. Global variable\n",
    "2. Local variable\n",
    "\n",
    "In class based programming, there are 3 types of variables\n",
    "1. Local variable\n",
    "2. Static variable\n",
    "3. Non-static variable\n",
    "\n",
    "The variables which are created outside the function or outside the block are known as global variables\n",
    "\n",
    "The variables which are created inside the function or block are called as local variable"
   ]
  },
  {
   "cell_type": "markdown",
   "id": "423ffaea",
   "metadata": {},
   "source": [
    "1. Javascript is dynamic programming language \n",
    "2. In dynamic typed programming languages, we need not declare/use data types at the time of variable declaration. \n",
    "3. In Javascript, data types are assigned to a variable at run-time by javascript engine\n",
    "\n",
    "#### typeof operator:\n",
    "typeof operator is used to check the data type of a variable"
   ]
  },
  {
   "cell_type": "markdown",
   "id": "1c49fc95",
   "metadata": {},
   "source": [
    "### Data types\n",
    "Data types are used to represent the type of value which we store into a variable\n",
    "\n",
    "There are 2 types of data types\n",
    "1) Primitive and 2) Non-primitive\n",
    "\n",
    "Primitive data types are pre-defined\n",
    "\n",
    "Non-primitive data types are the derived data types, default value is null for non-primitive data types\n",
    "\n",
    "#### There are 7 primitive data types\n",
    "1. number\n",
    "2. string\n",
    "3. boolean\n",
    "4. undefined\n",
    "5. null\n",
    "6. BigInt\n",
    "7. symbol\n",
    "\n",
    "#### Non-primitive data types:\n",
    "1. Objects\n",
    "2. Arrays\n",
    "3. Functions\n",
    "4. Class\n",
    "5. regExp"
   ]
  },
  {
   "cell_type": "markdown",
   "id": "15b7e216",
   "metadata": {},
   "source": [
    "1. Number data type is used to store any numeric value (which can be decimal or non-decimal)\n",
    "2. String data type is used to store the group of letters or single letter. In javascript, string can be represented within \" \" or ' ' or `  ` (backtick operator)\n",
    "3. Boolean data type is used to store true or false values\n",
    "4. Undefined is a type which we get when a variable is created without initialization\n",
    "5. Null is an empty value or null is an intentional absence of object value (In javascript, null type is object which is a bug )"
   ]
  },
  {
   "cell_type": "markdown",
   "id": "8445f5c6",
   "metadata": {},
   "source": [
    "#### Differences between null and undefined "
   ]
  },
  {
   "cell_type": "raw",
   "id": "33e2464f",
   "metadata": {},
   "source": []
  },
  {
   "cell_type": "markdown",
   "id": "ebcd3ebf",
   "metadata": {},
   "source": [
    "see operators.html\n",
    "### Operators\n",
    "#### Arithematic Operators\n",
    "' + '  --> addition and concatenation \n",
    "\n",
    "' - ' --> subtraction\n",
    "\n",
    "' * ' --> multiplication\n",
    "\n",
    "' / ' --> quotient\n",
    "\n",
    "' // ' --> remainder\n",
    "\n",
    "    number (type) + number(type) ---> addition       --> number(type)\n",
    "    num           + str          ---> concatentaion  --> string\n",
    "    str           + num          ---> concatenation  --> string\n",
    "    str           + str          ---> concatenation  --> string       \n",
    "\n",
    "Concatenation is joining or combining two or more operands\n",
    "\n",
    "For concatentaion, + operator must be used\n",
    "\n",
    "For concatenation, atleast one operand should be string type\n",
    "\n",
    "\n",
    "#### Template string or Literal: \n",
    "####  ' string ${exp} '\n",
    "The above syntax to write expressions was introduced from ES6 version. This is called Template string or literal"
   ]
  },
  {
   "cell_type": "raw",
   "id": "ce7ae790",
   "metadata": {},
   "source": [
    "Eg: sum-concatenation.html\n",
    "console.log(' a value is ${a}');\n",
    "console.log('Addition of two numbers is ${a+b}');\n",
    "console.log('${a}+${b}=${res}')"
   ]
  },
  {
   "cell_type": "markdown",
   "id": "bd568af2",
   "metadata": {},
   "source": [
    "### Compound Assignment Operator\n",
    "\n",
    "    a+=1\n",
    "    a-=1\n",
    "    a*=1\n",
    "    a/=1\n",
    "    a%=1\n",
    "Note: We can use compound assignment operators when both the operands are same\n",
    "\n",
    "If a=1, b=2 and a=b+1, in such cases compound assignment operators cannot be used\n",
    "\n",
    "### Unary Operator\n",
    "The operator which takes single operator as input is known as Unary Operator\n",
    "1. Increment represented by ++\n",
    "2. Decrement represented by -- (Consecutive)\n",
    "\n",
    "Usage:\n",
    "\n",
    "    post Inc(var++)     post dec(var--)\n",
    "    pre Inc(++var)      pre dec(--var)\n",
    "\n",
    "### Type Coercion\n",
    "Converting one type to another type implicitly or automatically is known as Type coercion\n",
    "\n",
    "\"10\"*3\n",
    "\n",
    "#### prompt( )\n",
    "To take user input at runtime, we use prompt() function\n",
    "\n",
    "Eg: \n",
    "    \n",
    "    let n=prompt('Enter a number')\n",
    "    console.log(n)\n",
    "    \n",
    "### Type Conversion\n",
    "Converting one type to another type expilcitly or manually is known as Type Conversion\n",
    "\n",
    "Eg: \n",
    "    \n",
    "    {   let n1 = Number(prompt( 'Enter n1 value '));\n",
    "        let n2 = Number(prompt( 'Enter n2 value '));\n",
    "        console.log('${n1}+${n2}=${n1+n2}')\n",
    "        \n",
    "     }"
   ]
  },
  {
   "cell_type": "code",
   "execution_count": null,
   "id": "479fdda6",
   "metadata": {},
   "outputs": [],
   "source": []
  },
  {
   "cell_type": "code",
   "execution_count": null,
   "id": "ff8f5626",
   "metadata": {},
   "outputs": [],
   "source": []
  },
  {
   "cell_type": "code",
   "execution_count": null,
   "id": "dac76085",
   "metadata": {},
   "outputs": [],
   "source": []
  },
  {
   "cell_type": "code",
   "execution_count": null,
   "id": "e19dedd4",
   "metadata": {},
   "outputs": [],
   "source": []
  },
  {
   "cell_type": "code",
   "execution_count": null,
   "id": "a1d1715a",
   "metadata": {},
   "outputs": [],
   "source": []
  },
  {
   "cell_type": "markdown",
   "id": "eca37833",
   "metadata": {},
   "source": [
    "To display content when check box is checked\n",
    "\n",
    "    let checked = false;\n",
    "\n",
    "    checked = true;\n",
    "    if (checked)\n",
    "      {\n",
    "        show\n",
    "       }\n",
    "     else\n",
    "      {\n",
    "        hide\n",
    "       }\n",
    "In ReactJS the syntax is:\n",
    "\n",
    "    checked && <section>\n",
    "                ------\n",
    "                ------\n",
    "                ------\n",
    "                </section>\n",
    "        true  && true --> section is executed\n",
    "        false && true --> section is not executed"
   ]
  },
  {
   "cell_type": "raw",
   "id": "f7e3498a",
   "metadata": {},
   "source": [
    "The <section> content </section> will only execute if the box is checked OR checked section is True\n",
    "Since the <section> content </section> is always True, it will get execute when the check box is checked"
   ]
  },
  {
   "cell_type": "markdown",
   "id": "e3614db7",
   "metadata": {},
   "source": [
    "WAP for currency caluclator\n"
   ]
  },
  {
   "cell_type": "code",
   "execution_count": 33,
   "id": "981a1a6b",
   "metadata": {},
   "outputs": [],
   "source": [
    "# variable cant be accessed outside the if block within the function itself\n",
    "# operators.html"
   ]
  },
  {
   "cell_type": "markdown",
   "id": "1ebc006e",
   "metadata": {},
   "source": [
    "syntax for switch:\n",
    "    \n",
    "    switch (Exp)\n",
    "    {\n",
    "        case 1:\n",
    "            break\n",
    "        case 2:\n",
    "            break\n",
    "        --\n",
    "        --\n",
    "        --\n",
    "        --\n",
    "        default:\n",
    "            ---\n",
    "            ---\n",
    "    }"
   ]
  },
  {
   "cell_type": "markdown",
   "id": "7f6d586b",
   "metadata": {},
   "source": [
    "WAPT print number of days in a given month based on given year"
   ]
  },
  {
   "cell_type": "code",
   "execution_count": 34,
   "id": "f3a2e507",
   "metadata": {},
   "outputs": [],
   "source": [
    "# operators.html"
   ]
  },
  {
   "cell_type": "raw",
   "id": "096169be",
   "metadata": {},
   "source": [
    "WAPT I LOVE INDIA 5 times ## is not working - check while with internet"
   ]
  },
  {
   "cell_type": "code",
   "execution_count": 1,
   "id": "2f5d60e4",
   "metadata": {},
   "outputs": [],
   "source": [
    "# operators.html"
   ]
  },
  {
   "cell_type": "code",
   "execution_count": null,
   "id": "996ed491",
   "metadata": {},
   "outputs": [],
   "source": []
  }
 ],
 "metadata": {
  "kernelspec": {
   "display_name": "Python 3 (ipykernel)",
   "language": "python",
   "name": "python3"
  },
  "language_info": {
   "codemirror_mode": {
    "name": "ipython",
    "version": 3
   },
   "file_extension": ".py",
   "mimetype": "text/x-python",
   "name": "python",
   "nbconvert_exporter": "python",
   "pygments_lexer": "ipython3",
   "version": "3.8.3"
  }
 },
 "nbformat": 4,
 "nbformat_minor": 5
}
