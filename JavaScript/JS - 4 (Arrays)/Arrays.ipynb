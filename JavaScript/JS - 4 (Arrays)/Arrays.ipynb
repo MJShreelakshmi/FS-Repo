{
 "cells": [
  {
   "cell_type": "markdown",
   "id": "e3cd2ebe",
   "metadata": {},
   "source": [
    "typescript (Microsoft) and JS  -- 99% in frontend\n",
    "python --> embedded lang. --> embedded in C/C++ --> ease for ML"
   ]
  },
  {
   "cell_type": "markdown",
   "id": "c5ef3501",
   "metadata": {},
   "source": [
    "### Arrays\n",
    "* Array is a container which is used to store multiple values in an index format (Indices always start from 0)\n",
    "* Javascript array can contain any type of data\n",
    "* We can iterate the array using the inbuilt length property of the array\n",
    "\n",
    "#### Ways to create array in javasscript\n",
    "#### 1. Using array literals ( [ ] )\n",
    "syntax:\n",
    "\n",
    "        let name = [elt1, elt2, ..elt-n ]\n",
    "Example:"
   ]
  },
  {
   "cell_type": "code",
   "execution_count": 2,
   "id": "4d582cdb",
   "metadata": {},
   "outputs": [
    {
     "data": {
      "application/javascript": [
       "let students = ['virat', 'rohit', 'rahul', 'rakesh']\n",
       "let my_arr = [1,'a', 5, true]\n"
      ],
      "text/plain": [
       "<IPython.core.display.Javascript object>"
      ]
     },
     "metadata": {},
     "output_type": "display_data"
    }
   ],
   "source": [
    "%%javascript\n",
    "let students = ['virat', 'rohit', 'rahul', 'rakesh']\n",
    "let my_arr = [1,'a', 5, true]"
   ]
  },
  {
   "cell_type": "markdown",
   "id": "4f8d890c",
   "metadata": {},
   "source": [
    "#### 2. Using array constructor\n",
    "syntax:\n",
    "\n",
    "        let name = new Array(elt1, elt2, ...elt-n)\n",
    "Example"
   ]
  },
  {
   "cell_type": "code",
   "execution_count": 7,
   "id": "75410bb6",
   "metadata": {},
   "outputs": [
    {
     "data": {
      "application/javascript": [
       "let my_arr = new Array(10, 'abc', null, {name:'Shree'})\n",
       "console.log(my_arr)\n",
       "console.log(typeof my_arr)\n"
      ],
      "text/plain": [
       "<IPython.core.display.Javascript object>"
      ]
     },
     "metadata": {},
     "output_type": "display_data"
    }
   ],
   "source": [
    "%%javascript\n",
    "let my_arr = new Array(10, 'abc', null, {name:'Shree'}, false, undefined)\n",
    "console.log(my_arr)\n",
    "console.log(typeof my_arr)\n",
    "// note every non-primitive data type is of 'object' data type"
   ]
  },
  {
   "cell_type": "code",
   "execution_count": 11,
   "id": "302ef1e5",
   "metadata": {},
   "outputs": [
    {
     "data": {
      "application/javascript": [
       "\n",
       "let numbers = [10,20,30,40,50]\n",
       "console.log(numbers[0])\n",
       "console.log(numbers[1])\n",
       "console.log(numbers[2])\n",
       "console.log(numbers[3])\n",
       "console.log(numbers[7]) // undefined \n",
       "\n",
       "<!-- absent of obj prop, functn not returning anything, if the element is not defined in an array and is still is tried to access --- > undefined is returned -->\n"
      ],
      "text/plain": [
       "<IPython.core.display.Javascript object>"
      ]
     },
     "metadata": {},
     "output_type": "display_data"
    }
   ],
   "source": [
    "%%javascript\n",
    "// accessing\n",
    "\n",
    "let numbers = [10,20,30,40,50]\n",
    "console.log(numbers[0])\n",
    "console.log(numbers[1])\n",
    "console.log(numbers[2])\n",
    "console.log(numbers[3])\n",
    "console.log(numbers[7]) // undefined \n",
    "\n",
    "<!-- absent of obj prop, functn not returning anything, if the element is not defined in an array and is still is tried to access --- > undefined is returned -->"
   ]
  },
  {
   "cell_type": "code",
   "execution_count": 16,
   "id": "92b8c123",
   "metadata": {},
   "outputs": [
    {
     "data": {
      "application/javascript": [
       "// assigning\n",
       "\n",
       "let numbers = [10,20,30,40,50]\n",
       "numbers[0]=100\n",
       "console.log(numbers)\n",
       "\n",
       "numbers[10] = 3000\n",
       "console.log(numbers)\n",
       "\n",
       "console.log(numbers[5])\n",
       "\n",
       "console.log(numbers[10])\n"
      ],
      "text/plain": [
       "<IPython.core.display.Javascript object>"
      ]
     },
     "metadata": {},
     "output_type": "display_data"
    }
   ],
   "source": [
    "%%javascript\n",
    "// assigning\n",
    "\n",
    "let numbers = [10,20,30,40,50]\n",
    "numbers[0]=100\n",
    "console.log(numbers)\n",
    "\n",
    "numbers[10] = 3000\n",
    "console.log(numbers)\n",
    "\n",
    "console.log(numbers[5])\n",
    "\n",
    "console.log(numbers[10])"
   ]
  },
  {
   "cell_type": "code",
   "execution_count": 19,
   "id": "56049439",
   "metadata": {},
   "outputs": [
    {
     "data": {
      "application/javascript": [
       "// deleting\n",
       "\n",
       "let numbers = [10,20,30,40,50]\n",
       "delete numbers[0]\n",
       "console.log(numbers)\n"
      ],
      "text/plain": [
       "<IPython.core.display.Javascript object>"
      ]
     },
     "metadata": {},
     "output_type": "display_data"
    }
   ],
   "source": [
    "%%javascript\n",
    "// deleting\n",
    "\n",
    "let numbers = [10,20,30,40,50]\n",
    "delete numbers[0]\n",
    "console.log(numbers)"
   ]
  },
  {
   "cell_type": "code",
   "execution_count": 28,
   "id": "c3f7cb2d",
   "metadata": {},
   "outputs": [
    {
     "data": {
      "application/javascript": [
       "//  iterating array elements\n",
       "\n",
       "\n",
       "let arr = ['a','b','c','d','e']\n",
       "\n",
       "// for loop\n",
       "for(let i=0;i<arr.length; i++){\n",
       "    console.log(arr[i])\n",
       "};\n",
       "console.log('\\n')\n",
       "// while\n",
       "let j =0\n",
       "while (j< arr.length){\n",
       "    console.log(arr[j]);\n",
       "    j++\n",
       "}\n",
       "console.log('\\n')\n",
       "// do-while\n",
       "let k = 0\n",
       "do{\n",
       "    console.log(arr[k])\n",
       "    k++\n",
       "} while (k<arr.length);\n"
      ],
      "text/plain": [
       "<IPython.core.display.Javascript object>"
      ]
     },
     "metadata": {},
     "output_type": "display_data"
    }
   ],
   "source": [
    "%%javascript\n",
    "//  iterating array elements\n",
    "\n",
    "let arr = ['a','b','c','d','e']\n",
    "\n",
    "// for loop\n",
    "for(let i=0;i<arr.length; i++){\n",
    "    console.log(arr[i])\n",
    "};\n",
    "console.log('\\n')\n",
    "// while\n",
    "let j =0\n",
    "while (j< arr.length){\n",
    "    console.log(arr[j]);\n",
    "    j++\n",
    "}\n",
    "console.log('\\n')\n",
    "// do-while\n",
    "let k = 0\n",
    "do{\n",
    "    console.log(arr[k])\n",
    "    k++\n",
    "} while (k<arr.length);"
   ]
  },
  {
   "cell_type": "markdown",
   "id": "880e598f",
   "metadata": {},
   "source": [
    "#### for-in loop\n",
    "for-in loop is used to iterate object keys and array indices\n",
    "\n",
    "Syntax:\n",
    "\n",
    "        for (let identifier in object){\n",
    "                // statements\n",
    "            }"
   ]
  },
  {
   "cell_type": "code",
   "execution_count": 29,
   "id": "3028a957",
   "metadata": {},
   "outputs": [
    {
     "data": {
      "application/javascript": [
       "//  iterating array elements\n",
       "\n",
       "let arr = ['a','b','c','d','e']\n",
       "for (let index in arr){\n",
       "    console.log(index);\n",
       "}\n"
      ],
      "text/plain": [
       "<IPython.core.display.Javascript object>"
      ]
     },
     "metadata": {},
     "output_type": "display_data"
    }
   ],
   "source": [
    "%%javascript\n",
    "\n",
    "let arr = ['a','b','c','d','e']\n",
    "for (let index in arr){\n",
    "    console.log(index);\n",
    "}"
   ]
  },
  {
   "cell_type": "code",
   "execution_count": 43,
   "id": "f7e2a5c9",
   "metadata": {},
   "outputs": [],
   "source": [
    "# diff b/w for-in & for-of --> for interviews"
   ]
  },
  {
   "cell_type": "markdown",
   "id": "542c75e1",
   "metadata": {},
   "source": [
    "#### for-of loop\n",
    "* for-of loop is used to iterate the values of an iterative object.\n",
    "* for-of loop will not work for objects"
   ]
  },
  {
   "cell_type": "code",
   "execution_count": 31,
   "id": "cb1aa9c8",
   "metadata": {},
   "outputs": [
    {
     "data": {
      "application/javascript": [
       "\n",
       "let arr = ['a','b','c','d','e']\n",
       "for (let value of arr){\n",
       "    console.log(value);\n",
       "}\n"
      ],
      "text/plain": [
       "<IPython.core.display.Javascript object>"
      ]
     },
     "metadata": {},
     "output_type": "display_data"
    }
   ],
   "source": [
    "%%javascript\n",
    "\n",
    "let arr = ['a','b','c','d','e']\n",
    "for (let value of arr){\n",
    "    console.log(value);\n",
    "}"
   ]
  },
  {
   "cell_type": "markdown",
   "id": "3b999f4d",
   "metadata": {},
   "source": [
    "#### Array methods\n",
    "#### 1. push( ) method\n",
    "array.push() method is used to add elements in the end of the given array\n",
    "\n",
    "syntax:\n",
    "\n",
    "    arr.push(elt1, elt2,...elt-n)"
   ]
  },
  {
   "cell_type": "code",
   "execution_count": 32,
   "id": "3b09e474",
   "metadata": {},
   "outputs": [
    {
     "data": {
      "application/javascript": [
       "\n",
       "let num = [1,2,3,4]\n",
       "num.push(5)\n",
       "console.log(num)\n",
       "\n",
       "num.push(6,7,8)\n",
       "console.log(num)\n"
      ],
      "text/plain": [
       "<IPython.core.display.Javascript object>"
      ]
     },
     "metadata": {},
     "output_type": "display_data"
    }
   ],
   "source": [
    "%%javascript\n",
    "\n",
    "let num = [1,2,3,4]\n",
    "num.push(5)\n",
    "console.log(num)\n",
    "\n",
    "num.push(6,7,8)\n",
    "console.log(num)"
   ]
  },
  {
   "cell_type": "markdown",
   "id": "9da2d8ba",
   "metadata": {},
   "source": [
    "#### 2. pop() method\n",
    "pop() method is used for deleting the last element from the array and returns the deleted element"
   ]
  },
  {
   "cell_type": "code",
   "execution_count": 38,
   "id": "ed02b62e",
   "metadata": {},
   "outputs": [
    {
     "data": {
      "application/javascript": [
       "\n",
       "let num = [1,2,3,4]\n",
       "let result = num.pop() // same as--> num.pop(2)--> only last elt is deleted irrespectively; \n",
       "\n",
       "console.log(num)\n",
       "console.log(result)\n"
      ],
      "text/plain": [
       "<IPython.core.display.Javascript object>"
      ]
     },
     "metadata": {},
     "output_type": "display_data"
    }
   ],
   "source": [
    "%%javascript\n",
    "\n",
    "let num = [1,2,3,4]\n",
    "let result = num.pop() // same as--> num.pop(2)--> only last elt is deleted irrespectively; \n",
    "\n",
    "console.log(num)\n",
    "console.log(result)"
   ]
  },
  {
   "cell_type": "markdown",
   "id": "515a99b8",
   "metadata": {},
   "source": [
    "#### 3. unshift() method\n",
    "It is used to add elements in the starting of the array"
   ]
  },
  {
   "cell_type": "code",
   "execution_count": 39,
   "id": "c29a9864",
   "metadata": {},
   "outputs": [
    {
     "data": {
      "application/javascript": [
       "\n",
       "let num = [1,2,3,4]\n",
       "num.unshift(77,88)\n",
       "console.log(num)\n"
      ],
      "text/plain": [
       "<IPython.core.display.Javascript object>"
      ]
     },
     "metadata": {},
     "output_type": "display_data"
    }
   ],
   "source": [
    "%%javascript\n",
    "\n",
    "let num = [1,2,3,4]\n",
    "num.unshift(77,88)\n",
    "console.log(num)"
   ]
  },
  {
   "cell_type": "markdown",
   "id": "8a5f5fe9",
   "metadata": {},
   "source": [
    "#### 4. shift() method\n",
    "It removes/deletes the starting element of the array"
   ]
  },
  {
   "cell_type": "code",
   "execution_count": 41,
   "id": "c9975d02",
   "metadata": {},
   "outputs": [
    {
     "data": {
      "application/javascript": [
       "\n",
       "let num = [77, 88, 1, 2, 3, 4]\n",
       "let result = num.shift()\n",
       "console.log(num)\n",
       "console.log(result)\n",
       "\n",
       "let result1 = num.shift()\n",
       "console.log(num)\n",
       "console.log(result1)\n"
      ],
      "text/plain": [
       "<IPython.core.display.Javascript object>"
      ]
     },
     "metadata": {},
     "output_type": "display_data"
    }
   ],
   "source": [
    "%%javascript\n",
    "\n",
    "let num = [77, 88, 1, 2, 3, 4]\n",
    "let result = num.shift()\n",
    "console.log(num)\n",
    "console.log(result)\n",
    "\n",
    "let result1 = num.shift()\n",
    "console.log(num)\n",
    "console.log(result1)"
   ]
  },
  {
   "cell_type": "code",
   "execution_count": null,
   "id": "6ad12c15",
   "metadata": {},
   "outputs": [],
   "source": []
  }
 ],
 "metadata": {
  "kernelspec": {
   "display_name": "Python 3 (ipykernel)",
   "language": "python",
   "name": "python3"
  },
  "language_info": {
   "codemirror_mode": {
    "name": "ipython",
    "version": 3
   },
   "file_extension": ".py",
   "mimetype": "text/x-python",
   "name": "python",
   "nbconvert_exporter": "python",
   "pygments_lexer": "ipython3",
   "version": "3.8.3"
  }
 },
 "nbformat": 4,
 "nbformat_minor": 5
}
