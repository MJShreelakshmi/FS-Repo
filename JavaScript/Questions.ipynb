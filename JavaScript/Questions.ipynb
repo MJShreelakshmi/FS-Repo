{
 "cells": [
  {
   "cell_type": "markdown",
   "id": "26713f23",
   "metadata": {},
   "source": [
    "#### Interview Questions\n",
    "1. What is callback function?\n",
    "2. What is HOF?\n",
    "3. What is closure\n",
    "4. What are the difference beteen let and var keywords?\n",
    "5. What is lexical environment?\n",
    "6. What is lexical scope?\n",
    "7. What is scope chain?\n",
    "8. Explain scopes\n",
    "9. Differences between function expression and function declaration\n",
    "10. Why we need arrow function?\n",
    "11. What is rest parameter?\n",
    "12. What is default parameter?\n",
    "13. What is template literal?\n",
    "14. Explain about falsy values\n",
    "15. What is type coercion and type conversion?\n",
    "16. What is dynamic type programming language?\n",
    "17. What is JIT compiler?\n",
    "18. What is difference between . and [] notation?\n",
    "19. What is callstack?\n",
    "20. Whai is execution context?\n",
    "21. Differences between logical & and Bitwise & operators\n",
    "22. Differences between == and ===\n",
    "23. Difference beteen null and undefined\n",
    "24. What is first class function or first class citizen ?"
   ]
  },
  {
   "cell_type": "code",
   "execution_count": null,
   "id": "9e798ea6",
   "metadata": {},
   "outputs": [],
   "source": []
  }
 ],
 "metadata": {
  "kernelspec": {
   "display_name": "Python 3 (ipykernel)",
   "language": "python",
   "name": "python3"
  },
  "language_info": {
   "codemirror_mode": {
    "name": "ipython",
    "version": 3
   },
   "file_extension": ".py",
   "mimetype": "text/x-python",
   "name": "python",
   "nbconvert_exporter": "python",
   "pygments_lexer": "ipython3",
   "version": "3.8.3"
  }
 },
 "nbformat": 4,
 "nbformat_minor": 5
}
