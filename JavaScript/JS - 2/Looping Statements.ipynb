{
 "cells": [
  {
   "cell_type": "markdown",
   "id": "a212e353",
   "metadata": {},
   "source": [
    "* For\n",
    "* while\n",
    "* do-while\n",
    "* for in loop   ---->\n",
    "* for of loop       |--------> Eexcuted in sequence, These are used for strings/arrays/literals\n",
    "\n",
    "#### For loop\n",
    "\n",
    "    for (initialization: condition: index )\n",
    "        {\n",
    "            -------\n",
    "            -------\n",
    "            -------\n",
    "         }"
   ]
  },
  {
   "cell_type": "markdown",
   "id": "23e8ba51",
   "metadata": {},
   "source": [
    "#### WAPT 1 to 10 numbers\n",
    "\n",
    "    <script>\n",
    "        main();//function call\n",
    "        function main()\n",
    "        {\n",
    "         for (let i=1; i<11;i++)\n",
    "             {\n",
    "                 console.log(i);\n",
    "             }\n",
    "\n",
    "        }\n",
    "    </script>"
   ]
  },
  {
   "cell_type": "raw",
   "id": "fa526482",
   "metadata": {},
   "source": [
    "#### "
   ]
  },
  {
   "cell_type": "code",
   "execution_count": 10,
   "id": "5b9ecea0",
   "metadata": {},
   "outputs": [],
   "source": [
    "for i in range(1,20):\n",
    "    if i%5==0:\n",
    "        break\n",
    "        print('i',i)"
   ]
  },
  {
   "cell_type": "code",
   "execution_count": null,
   "id": "48b4cec9",
   "metadata": {},
   "outputs": [],
   "source": []
  },
  {
   "cell_type": "code",
   "execution_count": null,
   "id": "2bc156da",
   "metadata": {},
   "outputs": [],
   "source": []
  }
 ],
 "metadata": {
  "kernelspec": {
   "display_name": "Python 3 (ipykernel)",
   "language": "python",
   "name": "python3"
  },
  "language_info": {
   "codemirror_mode": {
    "name": "ipython",
    "version": 3
   },
   "file_extension": ".py",
   "mimetype": "text/x-python",
   "name": "python",
   "nbconvert_exporter": "python",
   "pygments_lexer": "ipython3",
   "version": "3.8.3"
  }
 },
 "nbformat": 4,
 "nbformat_minor": 5
}
