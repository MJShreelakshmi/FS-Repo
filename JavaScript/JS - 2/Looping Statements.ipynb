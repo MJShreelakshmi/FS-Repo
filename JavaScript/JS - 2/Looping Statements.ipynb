{
 "cells": [
  {
   "cell_type": "markdown",
   "id": "a212e353",
   "metadata": {},
   "source": [
    "#### Looping statements in JS\n",
    "* For\n",
    "* while\n",
    "* do-while\n",
    "* for in loop   \n",
    "* for of loop   \n",
    "for, while, do-while: conditions can be given \n",
    "\n",
    "for in, for of: always works in sequence of order from first to last\n",
    "\n",
    "#### For loop\n",
    "\n",
    "    for (initialization: condition: inc / dec )\n",
    "        {\n",
    "            -------\n",
    "            -------\n",
    "            -------\n",
    "         }\n",
    "         \n",
    "#### While loop\n",
    "\n",
    "Syntax:\n",
    "\n",
    "        initialization\n",
    "        \n",
    "        while(cond)\n",
    "        {\n",
    "        ---------\n",
    "        ---------\n",
    "        ---------\n",
    "        inc/dec;\n",
    "        }        \n",
    "#### do-while\n",
    "Syntax:\n",
    "\n",
    "        initialization\n",
    "        \n",
    "        do\n",
    "        {\n",
    "        ---------\n",
    "        ---------\n",
    "        ---------\n",
    "        inc/dec;\n",
    "        }\n",
    "        while(cond)"
   ]
  },
  {
   "cell_type": "raw",
   "id": "c4da9049",
   "metadata": {},
   "source": [
    "1. while does not execute if the condition is false\n",
    "2. do-while executes once even if the condition is false and later if the condition is false it does not execute. Further execution happens only if the condition is true"
   ]
  },
  {
   "cell_type": "code",
   "execution_count": null,
   "id": "60422385",
   "metadata": {},
   "outputs": [],
   "source": []
  },
  {
   "cell_type": "code",
   "execution_count": 6,
   "id": "5914c84f",
   "metadata": {},
   "outputs": [
    {
     "ename": "SyntaxError",
     "evalue": "invalid syntax (1479190657.py, line 4)",
     "output_type": "error",
     "traceback": [
      "\u001b[1;36m  Cell \u001b[1;32mIn[6], line 4\u001b[1;36m\u001b[0m\n\u001b[1;33m    for(i=1;i<=10, i++)\u001b[0m\n\u001b[1;37m         ^\u001b[0m\n\u001b[1;31mSyntaxError\u001b[0m\u001b[1;31m:\u001b[0m invalid syntax\n"
     ]
    }
   ],
   "source": [
    "# WAPT javascript is a dynamic programming language\n",
    "\n",
    "%%js\n",
    "for(i=1;i<=10, i++)\n",
    "{\n",
    "    console.log('javascript is a dynamic programming language')\n",
    "}\n",
    "\n",
    "\n",
    "# let i for(i=1;i<=10)\n",
    "# {\n",
    "#     console.log('javascript is a dynamic programming language')\n",
    "#     i++\n",
    "# }"
   ]
  },
  {
   "cell_type": "raw",
   "id": "0b39591f",
   "metadata": {},
   "source": [
    "# WAPT 1 to 10 numbers\n",
    "for(leti=1, i<=10, i++)\n",
    "   {\n",
    "       console.log(i)\n",
    "   } "
   ]
  },
  {
   "cell_type": "markdown",
   "id": "23e8ba51",
   "metadata": {},
   "source": [
    "#### WAPT 1 to 10 numbers\n",
    "\n",
    "    <script>\n",
    "        main();//function call\n",
    "        function main()\n",
    "        {\n",
    "         for (let i=1; i<11;i++)\n",
    "             {\n",
    "                 console.log(i);\n",
    "             }\n",
    "\n",
    "        }\n",
    "    </script>"
   ]
  },
  {
   "cell_type": "code",
   "execution_count": 2,
   "id": "2da0e0bb",
   "metadata": {},
   "outputs": [],
   "source": [
    "#  automorphic, neon, first 10 fibo numbers in a triangular pattern etc."
   ]
  },
  {
   "cell_type": "code",
   "execution_count": null,
   "id": "9da7d374",
   "metadata": {},
   "outputs": [],
   "source": []
  },
  {
   "cell_type": "code",
   "execution_count": null,
   "id": "81789b4b",
   "metadata": {},
   "outputs": [],
   "source": []
  },
  {
   "cell_type": "code",
   "execution_count": null,
   "id": "d4dc3a7f",
   "metadata": {},
   "outputs": [],
   "source": []
  },
  {
   "cell_type": "code",
   "execution_count": null,
   "id": "41ff7c02",
   "metadata": {},
   "outputs": [],
   "source": []
  },
  {
   "cell_type": "code",
   "execution_count": null,
   "id": "05364d0d",
   "metadata": {},
   "outputs": [],
   "source": []
  },
  {
   "cell_type": "code",
   "execution_count": null,
   "id": "0fd63822",
   "metadata": {},
   "outputs": [],
   "source": []
  },
  {
   "cell_type": "markdown",
   "id": "433fa13a",
   "metadata": {},
   "source": [
    "#### Break:\n",
    "Break statemnts is used to terminate the loop\n",
    "\n",
    "#### Continue:\n",
    "Continue statement is used to used to skip the remaining program of current iteration\n",
    "\n",
    "#### Return:\n",
    "Return statement is used to terminate the function"
   ]
  },
  {
   "cell_type": "markdown",
   "id": "c873549a",
   "metadata": {},
   "source": [
    "#### WAPT find factors of a given number\n",
    "10 --> The factors are 1,2,5,10\n",
    "\n",
    "6  --> The factors are 1,2,3,6\n",
    "\n",
    "    <script>\n",
    "         main();\n",
    "        function main()\n",
    "        {\n",
    "        let n = 10 //prompt('Enter a number: ') --> to take input at runtime\n",
    "        for (let i=1;i<=n;i++)\n",
    "            {\n",
    "                if ( n%i ==0)\n",
    "                    console.log(i)\n",
    "            }\n",
    "        }\n",
    "\n",
    "    </script>\n",
    "    \n",
    "#### WAPT count factors of a given number\n",
    "\n",
    "\n",
    "#### WAPT check given number is prime number or not\n",
    "\n",
    "#### WAPT check given num is perfect or not\n",
    "\n",
    "\n",
    "To be completed---\n",
    "\n",
    "#### * WAPT print first 10 fibanocci numbers\n",
    "####  * to print fibonacci numbers in a given range\n",
    "#### * 5 alternate fibonacci series\n",
    "#### * to check given number belongs to fibnocci or not\n",
    "#### * to check given number is Armstrong or not\n",
    "#### * to check given number is strong or not\n",
    "#### * to check given number is palindrome or not\n"
   ]
  },
  {
   "cell_type": "code",
   "execution_count": null,
   "id": "36fd7b39",
   "metadata": {},
   "outputs": [],
   "source": []
  },
  {
   "cell_type": "code",
   "execution_count": null,
   "id": "0cb9571b",
   "metadata": {},
   "outputs": [],
   "source": []
  }
 ],
 "metadata": {
  "kernelspec": {
   "display_name": "Python 3 (ipykernel)",
   "language": "python",
   "name": "python3"
  },
  "language_info": {
   "codemirror_mode": {
    "name": "ipython",
    "version": 3
   },
   "file_extension": ".py",
   "mimetype": "text/x-python",
   "name": "python",
   "nbconvert_exporter": "python",
   "pygments_lexer": "ipython3",
   "version": "3.8.3"
  }
 },
 "nbformat": 4,
 "nbformat_minor": 5
}
