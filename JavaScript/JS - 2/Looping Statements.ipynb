{
 "cells": [
  {
   "cell_type": "markdown",
   "id": "a212e353",
   "metadata": {},
   "source": [
    "* For\n",
    "* while\n",
    "* do-while\n",
    "* for in loop   ---->\n",
    "* for of loop       |--------> Eexcuted in sequence, These are used for strings/arrays/literals\n",
    "\n",
    "#### For loop\n",
    "\n",
    "    for (initialization: condition: index )\n",
    "        {\n",
    "            -------\n",
    "            -------\n",
    "            -------\n",
    "         }"
   ]
  },
  {
   "cell_type": "markdown",
   "id": "23e8ba51",
   "metadata": {},
   "source": [
    "#### WAPT 1 to 10 numbers\n",
    "\n",
    "    <script>\n",
    "        main();//function call\n",
    "        function main()\n",
    "        {\n",
    "         for (let i=1; i<11;i++)\n",
    "             {\n",
    "                 console.log(i);\n",
    "             }\n",
    "\n",
    "        }\n",
    "    </script>"
   ]
  },
  {
   "cell_type": "markdown",
   "id": "433fa13a",
   "metadata": {},
   "source": [
    "#### Break:\n",
    "Break statemnts is used to terminate the loop\n",
    "\n",
    "#### Continue:\n",
    "Continue statement is used to used to skip the remaining program of current iteration\n",
    "\n",
    "#### Return:\n",
    "Return statement is used to terminate the function"
   ]
  },
  {
   "cell_type": "markdown",
   "id": "c873549a",
   "metadata": {},
   "source": [
    "#### WAPT find factors of a given number\n",
    "10 --> The factors are 1,2,5,10\n",
    "\n",
    "6  --> The factors are 1,2,3,6\n",
    "\n",
    "    <script>\n",
    "         main();\n",
    "        function main()\n",
    "        {\n",
    "        let n = 10 //prompt('Enter a number: ') --> to take input at runtime\n",
    "        for (let i=1;i<=n;i++)\n",
    "            {\n",
    "                if ( n%i ==0)\n",
    "                    console.log(i)\n",
    "            }\n",
    "        }\n",
    "\n",
    "    </script>\n",
    "    \n",
    "#### WAPT count factors of a given number\n",
    "\n",
    "\n",
    "#### WAPT check given number is prime number or not\n",
    "\n",
    "#### WAPT check given num is perfect or not\n",
    "\n",
    "\n",
    "To be completed---\n",
    "\n",
    "#### * WAPT print first 10 fibanocci numbers\n",
    "####  * to print fibonacci numbers in a given range\n",
    "#### * 5 alternate fibonacci series\n",
    "#### * to check given number belongs to fibnocci or not\n",
    "#### * to check given number is Armstrong or not\n",
    "#### * to check given number is strong or not\n",
    "#### * to check given number is palindrome or not\n"
   ]
  },
  {
   "cell_type": "code",
   "execution_count": null,
   "id": "2bc156da",
   "metadata": {},
   "outputs": [],
   "source": []
  },
  {
   "cell_type": "code",
   "execution_count": null,
   "id": "36fd7b39",
   "metadata": {},
   "outputs": [],
   "source": []
  },
  {
   "cell_type": "code",
   "execution_count": null,
   "id": "0cb9571b",
   "metadata": {},
   "outputs": [],
   "source": []
  }
 ],
 "metadata": {
  "kernelspec": {
   "display_name": "Python 3 (ipykernel)",
   "language": "python",
   "name": "python3"
  },
  "language_info": {
   "codemirror_mode": {
    "name": "ipython",
    "version": 3
   },
   "file_extension": ".py",
   "mimetype": "text/x-python",
   "name": "python",
   "nbconvert_exporter": "python",
   "pygments_lexer": "ipython3",
   "version": "3.8.3"
  }
 },
 "nbformat": 4,
 "nbformat_minor": 5
}
