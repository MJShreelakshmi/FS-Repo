{
 "cells": [
  {
   "cell_type": "markdown",
   "id": "e017a3d7",
   "metadata": {},
   "source": [
    "#### JS Run Time Environment\n",
    "JavaScript is an environment which has few necessary components to execute code\n",
    "\n",
    "There are mainly 5 components\n",
    "1. JS enginne\n",
    "2. WEB APIs\n",
    "3. Microtask Queue\n",
    "4. Callback Queue\n",
    "5. Event Loop"
   ]
  },
  {
   "cell_type": "markdown",
   "id": "6dde4d77",
   "metadata": {},
   "source": [
    "JS engine is a collection of programs which is used to run the script code\n",
    "\n",
    "Call stack is the place where the JS programs are executed with the help of execution context\n",
    "\n",
    "Heap is an unstructured memory pool, which is used to store the JS objects\n",
    "\n",
    "WEB APIs are used to provide additional functionality to JS programs( WEB APIs are not a part of JS language)\n",
    "\n",
    "Callback and Microtask Queues are used to store callback functions, but microtask queue stores higher priority callback functions\n",
    "\n",
    "Event loop is pushing the callback functions from microtask and callback queues to callstack onorder to execute the code\n"
   ]
  },
  {
   "cell_type": "code",
   "execution_count": null,
   "id": "fed69e8d",
   "metadata": {},
   "outputs": [],
   "source": []
  }
 ],
 "metadata": {
  "kernelspec": {
   "display_name": "Python 3 (ipykernel)",
   "language": "python",
   "name": "python3"
  },
  "language_info": {
   "codemirror_mode": {
    "name": "ipython",
    "version": 3
   },
   "file_extension": ".py",
   "mimetype": "text/x-python",
   "name": "python",
   "nbconvert_exporter": "python",
   "pygments_lexer": "ipython3",
   "version": "3.8.3"
  }
 },
 "nbformat": 4,
 "nbformat_minor": 5
}
