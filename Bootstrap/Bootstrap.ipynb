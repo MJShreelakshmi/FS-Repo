{
 "cells": [
  {
   "cell_type": "markdown",
   "id": "e6304941",
   "metadata": {},
   "source": [
    "#### Bootstrap\n",
    "1. Bootstrap is a framework of HTML, CSS and Javascript\n",
    "2. By using Bootstrap, we can create fast and responsive webpages\n",
    "3. Bootstrap can be used in 2 ways:\n",
    "\n",
    "        1. download and use \n",
    "        2. CDN method - CDN stands for Content Delivery Network"
   ]
  },
  {
   "cell_type": "code",
   "execution_count": null,
   "id": "3feeb17f",
   "metadata": {},
   "outputs": [],
   "source": []
  }
 ],
 "metadata": {
  "kernelspec": {
   "display_name": "Python 3 (ipykernel)",
   "language": "python",
   "name": "python3"
  },
  "language_info": {
   "codemirror_mode": {
    "name": "ipython",
    "version": 3
   },
   "file_extension": ".py",
   "mimetype": "text/x-python",
   "name": "python",
   "nbconvert_exporter": "python",
   "pygments_lexer": "ipython3",
   "version": "3.8.3"
  }
 },
 "nbformat": 4,
 "nbformat_minor": 5
}
