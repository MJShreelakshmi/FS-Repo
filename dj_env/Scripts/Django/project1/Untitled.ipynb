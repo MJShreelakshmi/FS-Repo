{
 "cells": [
  {
   "cell_type": "markdown",
   "id": "e904d0c9-cd90-4ecc-9267-b7bf814f7dfc",
   "metadata": {},
   "source": [
    "#### Steps to perform specific url mapping"
   ]
  },
  {
   "cell_type": "markdown",
   "id": "45f3f80a-7f2d-442f-9d11-849c0f6dd9bd",
   "metadata": {},
   "source": [
    "1. Go to scripts, activate the venv, Create a project\n",
    "\n",
    "       django-admin startproject ipl2\n",
    "2. Enter into the project, create multiple applications\n",
    "\n",
    "        python manage.py startapp csk, python manage.py startapp rcb, python manage.py startapp mi\n",
    "3. Open VS Code, Go to settings.py file of the app and and register all the apps there and save the file.\n",
    "4. Go to one of the created apps (say csk ) create views. \n",
    "       1. import httpResponse from django.http\n",
    "       2. create the view\n",
    "       3. save the file\n",
    "5. Create urls.py within this app to perform specific url mapping\n",
    "       1. Importing the view from the app; from csk.views import *\n",
    "       2. Importing the path from django.urls; from django.urls import path\n",
    "       3. Perform url mapping, create urlpatterns variable with path function in it\n",
    "                   path('secondary_suffix/', func_address,name='function_name')\n",
    "       4. Save urls.py file\n",
    "6. Connect this specific url to generic urls.py to perform specific url mapping\n",
    "       1. Go to generic urls.py of the app\n",
    "       2. Imort the apps; import csk; import rcb\n",
    "       3. Import include from django.urls; from django.urls import include\n",
    "       4. Add the path to the specific app using urlpatterns variable\n",
    "           path('primary_suffix/', include('csk.urls'))\n",
    "7. Run the server\n",
    "\n",
    "           python manage.py runserver\n",
    "9. Check the browser with both primary and secondary suffix"
   ]
  }
 ],
 "metadata": {
  "kernelspec": {
   "display_name": "Python 3 (ipykernel)",
   "language": "python",
   "name": "python3"
  },
  "language_info": {
   "codemirror_mode": {
    "name": "ipython",
    "version": 3
   },
   "file_extension": ".py",
   "mimetype": "text/x-python",
   "name": "python",
   "nbconvert_exporter": "python",
   "pygments_lexer": "ipython3",
   "version": "3.12.4"
  }
 },
 "nbformat": 4,
 "nbformat_minor": 5
}
