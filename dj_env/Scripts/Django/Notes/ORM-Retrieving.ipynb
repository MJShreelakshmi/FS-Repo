{
 "cells": [
  {
   "cell_type": "markdown",
   "id": "ad532472-5c28-46e8-b4f3-a419fce7cb6f",
   "metadata": {},
   "source": [
    "#### Retrieving of data\n",
    "We can retrieve the data from tables in many ways using ORM\n",
    "#### 1. Syntax for retrieving all the data\n",
    "\n",
    "    model_name.objects.all()\n",
    "#### Steps to display all the retrieved content\n",
    "* Create an Html file\n",
    "* Go to views and import all the models\n",
    "* Create a variable and store all the values of query set\n",
    "\n",
    "        Example: variable_name = model_name.objects.all()\n",
    "* Send the query set to the front-end using context\n",
    "* Use jinja tags to display the context data\n",
    "#### Syntax for retrieving single row or a particular row\n",
    "There are 2 methods to retrieve a single row or a particular row\n",
    "\n",
    "        1. get\n",
    "        2. filter\n",
    "#### 1. get method\n",
    "1. Based on a given condition, we can retrieve the data\n",
    "2. It will directly return the object\n",
    "Syntax:\n",
    "\n",
    "        model_name.objects.get(column_name = value)\n",
    "#### Drawbacks\n",
    "1. Value must be a primary key\n",
    "2. get throws an error if\n",
    "\n",
    "        1. None of the rows are satisfying the given condition\n",
    "        2. More than one row is satisfying the given condition\n",
    "#### 2. filter method\n",
    "It will return a query set in the form a list\n",
    "\n",
    "Syntax:\n",
    "\n",
    "        model_name.objects.filter(column_name = value)\n",
    "#### Note:\n",
    "It is an ideal method to retrieve the data from the models\n",
    "#### Sorting the retrieved data\n",
    "Ascending Order syntax:\n",
    "\n",
    "        model_name.objects.order_by('column_name')\n",
    "Descending Order syntax:\n",
    "\n",
    "        model_name.objects.order_by('-column_name')\n",
    "\n",
    "Arranging in an order based on length\n",
    "\n",
    "        from django.db.models.functions import Length\n",
    "Syntax:\n",
    "\n",
    "        model_name.objects.order_by(Length('column_name'))           # Ascending Order\n",
    "\n",
    "        models_name.objects.order_by(Length('column_name'), desc())  # Descending Order\n",
    "#### exclude method\n",
    "By using the exclude method, we can remove the rows which are satisfying the given condition\n",
    "\n",
    "Syntax:\n",
    "\n",
    "        model_name.objects.exclude(column_name = value)\n",
    "* Note that slicing can be done upon the retrieved data using all, filter and exclude method"
   ]
  },
  {
   "cell_type": "raw",
   "id": "8f284d8d-6478-4c6e-a29d-dbc1b3095a51",
   "metadata": {},
   "source": [
    "# insertion methods, retrieving methods, 2 views rendering 1 Html page for all 3 projects\n",
    "# Entering data to child table without a foreign key"
   ]
  },
  {
   "cell_type": "raw",
   "id": "7525f268-5c8b-4c19-b91f-6ffe6bf3fdf0",
   "metadata": {},
   "source": [
    "like ---->   startswith, endswith,  contains\n",
    "special ops ---> range, in, isnull\n",
    "date ---> year, month, day"
   ]
  },
  {
   "cell_type": "code",
   "execution_count": null,
   "id": "9852b8c6-5659-4873-b2a3-812ae324d02a",
   "metadata": {},
   "outputs": [],
   "source": []
  }
 ],
 "metadata": {
  "kernelspec": {
   "display_name": "Python 3 (ipykernel)",
   "language": "python",
   "name": "python3"
  },
  "language_info": {
   "codemirror_mode": {
    "name": "ipython",
    "version": 3
   },
   "file_extension": ".py",
   "mimetype": "text/x-python",
   "name": "python",
   "nbconvert_exporter": "python",
   "pygments_lexer": "ipython3",
   "version": "3.12.4"
  }
 },
 "nbformat": 4,
 "nbformat_minor": 5
}
