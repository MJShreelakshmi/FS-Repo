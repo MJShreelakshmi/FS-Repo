{
 "cells": [
  {
   "cell_type": "markdown",
   "id": "ad532472-5c28-46e8-b4f3-a419fce7cb6f",
   "metadata": {},
   "source": [
    "#### Retrieving of data\n",
    "We can retrieve the data from tables in many ways using ORM\n",
    "#### 1. Syntax for retrieving all the data\n",
    "\n",
    "    model_name.objects.all()\n",
    "#### Steps to display all the retrieved content\n",
    "* Create an Html file\n",
    "* Go to views and import all the models\n",
    "* Create a variable and store all the values of query set\n",
    "\n",
    "        Example: variable_name = model_name.objects.all()\n",
    "* Send the query set to the front-end using context\n",
    "* Use jinja tags to display the context data\n",
    "#### Syntax for retrieving single row or a particular row\n",
    "There are 2 methods to retrieve a single row or a particular row\n",
    "\n",
    "        1. get\n",
    "        2. filter\n",
    "#### 1. get method\n",
    "1. Based on a given condition, we can retrieve the data\n",
    "2. It will directly return the object\n",
    "Syntax:\n",
    "\n",
    "        model_name.objects.get(column_name = value)\n",
    "#### Drawbacks\n",
    "1. Value must be a primary key\n",
    "2. get throws an error if\n",
    "\n",
    "        1. None of the rows are satisfying the given condition\n",
    "        2. More than one row is satisfying the given condition\n",
    "#### 2. filter method\n",
    "It will return a query set in the form a list\n",
    "\n",
    "Syntax:\n",
    "\n",
    "        model_name.objects.filter(column_name = value)\n",
    "#### Note:\n",
    "It is an ideal method to retrieve the data from the models\n",
    "#### Sorting the retrieved data\n",
    "Ascending Order syntax:\n",
    "\n",
    "        model_name.objects.order_by('column_name')\n",
    "Descending Order syntax:\n",
    "\n",
    "        model_name.objects.order_by('-column_name')\n",
    "\n",
    "Arranging in an order based on length\n",
    "\n",
    "        from django.db.models.functions import Length\n",
    "Syntax:\n",
    "\n",
    "        model_name.objects.order_by(Length('column_name'))           # Ascending Order\n",
    "\n",
    "        model_name.objects.order_by(Length('column_name').desc())  # Descending Order\n",
    "#### exclude method\n",
    "By using the exclude method, we can remove the rows which are satisfying the given condition\n",
    "\n",
    "Syntax:\n",
    "\n",
    "        model_name.objects.exclude(column_name = value)\n",
    "* Note that slicing can be done upon the retrieved data using all, filter and exclude method"
   ]
  },
  {
   "cell_type": "markdown",
   "id": "06be67c6-e3cd-4bff-bb9c-4e2ee6010b0c",
   "metadata": {},
   "source": [
    "#### Field Lookups\n",
    "* These are used for achieving where conditions more precisely\n",
    "* Filed lookups start with double underscore \n",
    "#### Syntax:\n",
    "\n",
    "        columnName__lookup_name = value\n",
    "* The field lookups must be written inside the filter method\n",
    "* #### Modified syntax representation\n",
    "\n",
    "        model_name.objects.filter(columnName__lookup_name = value )\n",
    "#### Different types of field lookups\n",
    "\n",
    "        __gt --->  it is equivalent to greater than symbol\n",
    "        __lt --->  equivalent to less than symbol\n",
    "        __gte ---> equivalent to greater than or equal to symbol ( >= ) \n",
    "        __lte ---> equivalent to less than or equal to symbol ( <= )\n",
    "#### Date Format\n",
    "'YYYY-MM-DD'\n",
    "#### Moth lookup\n",
    "It is used for comparing only the months of a date\n",
    "#### Syntax:\n",
    "columnName__month = 'value in number'\n",
    "#### Year lookup\n",
    "It is used for comparing only the year of a date\n",
    "#### Syntax:\n",
    "columnName__year = 'value in number'\n",
    "#### Day lookup\n",
    "It is used for comparing only the day of the date\n",
    "#### Syntax:\n",
    "columnName__day = 'value in number'"
   ]
  },
  {
   "cell_type": "markdown",
   "id": "b5a51eaa-f3fd-4557-9944-65a1cd273db3",
   "metadata": {},
   "source": [
    "#### LIKE operator:\n",
    "Like operator functionality can be achieved using below method\n",
    "#### startswith\n",
    "It is used for checking whether specified string is starting with specified value or not\n",
    "#### Syntax:\n",
    "model_name.objects.filter( columnName__startswith = 'value')\n",
    "#### endswith\n",
    "It is used for checking whether specified string is ending with specified value or not\n",
    "#### Syntax:\n",
    "model_name.objects.filter( columnNname__endswith = 'value')\n",
    "#### In\n",
    "It is used for checking multiple values of same column\n",
    "#### Syntax:\n",
    "model_name.objects.filter(columnName__in = (val_1, val_2...val_n))\n",
    "#### contains\n",
    "It is used for checking if sepcified characters are present inside the string or not\n",
    "#### Syntax:\n",
    "model_name.objects.filter(columnName__contains = value )\n",
    "#### regex\n",
    "It is used for comparing using patterns\n",
    "#### Syntax:\n",
    "model_name.objects.filter(columnName__regex = r'pattern')"
   ]
  },
  {
   "cell_type": "markdown",
   "id": "ab9d76c0-c70f-4f82-a778-0dd4b2348d6c",
   "metadata": {},
   "source": [
    "#### Q objects\n",
    "* Q objects are mainly used for encapsulating keyword arguments\n",
    "* Q objects are used whenever we are dealing with complex conditions or multiple conditions\n",
    "* Q objects are imported from models module as shown below\n",
    "\n",
    "        from django.db.models import Q\n",
    "* We can combine more than one query set using & or | operators\n",
    "* Thus a new query is obtained by combining the represented queries\n",
    "\n",
    "#### Syntax:\n",
    "\n",
    "        model_name.objects.filter( Q( condition1 | condition2 ))\n",
    "                or\n",
    "        model_name.objects.filter( Q( condition1 & condition2 ))"
   ]
  },
  {
   "cell_type": "raw",
   "id": "7525f268-5c8b-4c19-b91f-6ffe6bf3fdf0",
   "metadata": {},
   "source": [
    "special ops ---> range, in, isnull"
   ]
  },
  {
   "cell_type": "markdown",
   "id": "34aadce1-dcb5-4cae-96b4-faa4e238cc5e",
   "metadata": {},
   "source": [
    "#### Two Views rendering one Html page\n",
    "Example: In models_creation project, we have display_topics view which gives LTO to display_topics html page.\n",
    "Suppose we want diplay_topics Html page to be rendered by insert_topic view, we need to provide LTO to display_topics Html page."
   ]
  },
  {
   "cell_type": "raw",
   "id": "8f284d8d-6478-4c6e-a29d-dbc1b3095a51",
   "metadata": {},
   "source": [
    "# insertion methods, retrieving methods, 2 views rendering 1 Html page for all 3 projects\n",
    "# Entering data to child table without a foreign key"
   ]
  },
  {
   "cell_type": "code",
   "execution_count": null,
   "id": "9852b8c6-5659-4873-b2a3-812ae324d02a",
   "metadata": {},
   "outputs": [],
   "source": []
  }
 ],
 "metadata": {
  "kernelspec": {
   "display_name": "Python 3 (ipykernel)",
   "language": "python",
   "name": "python3"
  },
  "language_info": {
   "codemirror_mode": {
    "name": "ipython",
    "version": 3
   },
   "file_extension": ".py",
   "mimetype": "text/x-python",
   "name": "python",
   "nbconvert_exporter": "python",
   "pygments_lexer": "ipython3",
   "version": "3.12.4"
  }
 },
 "nbformat": 4,
 "nbformat_minor": 5
}
