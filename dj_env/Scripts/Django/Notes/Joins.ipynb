{
 "cells": [
  {
   "cell_type": "markdown",
   "id": "1d58435f-994c-4c42-9bb4-3cf7c092aeb8",
   "metadata": {},
   "source": [
    "Joins\n",
    "* Inner Joins\n",
    "\n",
    "          Equi Joins\n",
    "          Non-Equi Joins\n",
    "          Self Joins\n",
    "* Outer Joins\n",
    "  \n",
    "          Left Outer Joins\n",
    "          Right Outer Joins\n",
    "          Full Outer Joins\n",
    "* Cross Joins"
   ]
  },
  {
   "cell_type": "markdown",
   "id": "8bd16d9c-8578-410f-ae2f-20067828698b",
   "metadata": {},
   "source": [
    "#### Inner Joins\n",
    "Combines records from 2 tables whenever there are matching values in a field common to both tables (returns only those rows that satisfy the joining condition)\n",
    "\n",
    "1. Equi Join: An Equi Join is a joining condition with equality operator \n",
    "\n",
    "2. Non-Equi Join: An Non-Equi Join is a joining condition with anything other than equality operator (say between and operator)\n",
    "\n",
    "3. Slef Join: This is an Equi Join of a table with itself "
   ]
  },
  {
   "cell_type": "code",
   "execution_count": null,
   "id": "4714e3c2-9444-4be8-a9bd-e32e442845ef",
   "metadata": {},
   "outputs": [],
   "source": []
  },
  {
   "cell_type": "markdown",
   "id": "4b61f9c5-dda4-4a67-ad64-ca07045712ca",
   "metadata": {},
   "source": [
    "After joining the data in ORM, the resulting table structure look like shown below:\n",
    "\n",
    "        EmpNo   EName   Job   Sal   Mgr   Comm   HireDate    DeptNo           DeptNo     \n",
    "                                                                      DName   Loc   DeptNo\n",
    "        123      ABC    X     345   21     22    2000-09-09   15      JKL      XY    56\n",
    "        124      BCA    X     344   21     18    2000-05-10   15      JKL      XY    56\n",
    "        125      CAB    X     343   21     20    2000-07-05   15      JKL      XY    56"
   ]
  },
  {
   "cell_type": "markdown",
   "id": "43e5b448-9cb8-4ccf-9811-876cd5105971",
   "metadata": {},
   "source": [
    "Syntax for accessing child table in Front End:\n",
    "\n",
    "                    object_name.column_name\n",
    "Syntax for accessing parent table data in Front End:\n",
    "\n",
    "                    object_name.common_column.column_name"
   ]
  },
  {
   "cell_type": "markdown",
   "id": "2a913533-a6d8-450b-b331-c7f59844ce57",
   "metadata": {},
   "source": [
    "#### Note\n",
    "* While writing the condition for Child table column, we can directly provide\n",
    "\n",
    "        column_name = 'value'\n",
    "* While writing condition based on Parent table column, we should use below mentioned syntax\n",
    "\n",
    "        commonclm_name__Parent_colName = 'value'\n",
    "  "
   ]
  },
  {
   "cell_type": "markdown",
   "id": "5260e7ab-2c23-4a6c-a94b-db5b7d1a8390",
   "metadata": {},
   "source": [
    "#### prefetch_related\n",
    "\n",
    "                  select_related                                                        prefetch_related\n",
    "    1. One-to-One & One-to-Many (FK)                                           1. Many-to-one & Many-to-Many \n",
    "    2. We are joining child table to parent table                              2. We are joining parent table to child table\n",
    "    3. We use common column for writing joining condition                      3. We use related_name for writing joining condition\n",
    "    4. Structure of table:                                                     4. Strucutre of table: \n",
    "    Child_CN1 Child_CN2.....Child_CNn Parent_CN1 Parent_CN2....Parent_CNn      Parent table object_1\n",
    "                                                                                        all child table data\n",
    "                                                                               Parent table object_2\n",
    "                                                                                       all child table data"
   ]
  },
  {
   "cell_type": "markdown",
   "id": "51f31923-5771-41c3-a0fe-ea4dace79b14",
   "metadata": {},
   "source": [
    "* views.py\n",
    "\n",
    "      def DeptEmp_prefetchRelated(request):\n",
    "        LEDO = Dept.objects.prefetch_related('emp_set').all()\n",
    "        d = {'LDEO':LEDO}\n",
    "        return render(request, 'DeptEmp_prefetchRelated.html', d)\n",
    "\n",
    "* related_name has 2 functions:\n",
    "\n",
    "      1) as argument for prefetch_related function for joining Parent table to Child table\n",
    "\n",
    "                  default value is \"childTableName_set\" \n",
    "      2) fetching the child table data without using child table name and only using parent table name\n",
    "         Syntax is\n",
    "\n",
    "                  ParentTableObject.related_name.all\n",
    "      "
   ]
  },
  {
   "cell_type": "markdown",
   "id": "fbde30ba-b2a0-4e89-8051-6bb78b420e76",
   "metadata": {},
   "source": [
    "inline, outside & persheet"
   ]
  },
  {
   "cell_type": "code",
   "execution_count": null,
   "id": "42173e74-aec9-443f-b991-d3c194b7b69d",
   "metadata": {},
   "outputs": [],
   "source": []
  }
 ],
 "metadata": {
  "kernelspec": {
   "display_name": "Python 3 (ipykernel)",
   "language": "python",
   "name": "python3"
  },
  "language_info": {
   "codemirror_mode": {
    "name": "ipython",
    "version": 3
   },
   "file_extension": ".py",
   "mimetype": "text/x-python",
   "name": "python",
   "nbconvert_exporter": "python",
   "pygments_lexer": "ipython3",
   "version": "3.12.4"
  }
 },
 "nbformat": 4,
 "nbformat_minor": 5
}
