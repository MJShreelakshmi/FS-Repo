{
 "cells": [
  {
   "cell_type": "markdown",
   "id": "1d58435f-994c-4c42-9bb4-3cf7c092aeb8",
   "metadata": {},
   "source": [
    "Joins\n",
    "* Inner Joins\n",
    "\n",
    "          Equi Joins\n",
    "          Non-Equi Joins\n",
    "          Self Joins\n",
    "* Outer Joins\n",
    "  \n",
    "          Left Outer Joins\n",
    "          Right Outer Joins\n",
    "          Full Outer Joins\n",
    "* Cross Joins"
   ]
  },
  {
   "cell_type": "markdown",
   "id": "8bd16d9c-8578-410f-ae2f-20067828698b",
   "metadata": {},
   "source": [
    "#### Inner Joins\n",
    "Combines records from 2 tables whenever there are matching values in a field common to both tables (returns only those rows that satisfy the joining condition)\n",
    "\n",
    "1. Equi Join: An Equi Join is a joining condition with equality operator \n",
    "\n",
    "2. Non-Equi Join: An Non-Equi Join is a joining condition with anything other than equality operator (say between and operator)\n",
    "\n",
    "3. Slef Join: This is an Equi Join of a table with itself "
   ]
  },
  {
   "cell_type": "code",
   "execution_count": null,
   "id": "4714e3c2-9444-4be8-a9bd-e32e442845ef",
   "metadata": {},
   "outputs": [],
   "source": []
  },
  {
   "cell_type": "markdown",
   "id": "4b61f9c5-dda4-4a67-ad64-ca07045712ca",
   "metadata": {},
   "source": [
    "After joining the data in ORM, the resulting table structure look like shown below:\n",
    "\n",
    "        EmpNo   EName   Job   Sal   Mgr   Comm   HireDate    DeptNo           DeptNo     \n",
    "                                                                      DName   Loc   DeptNo\n",
    "        123      ABC    X     345   21     22    2000-09-09   15      JKL      XY    56\n",
    "        124      BCA    X     344   21     18    2000-05-10   15      JKL      XY    56\n",
    "        125      CAB    X     343   21     20    2000-07-05   15      JKL      XY    56"
   ]
  },
  {
   "cell_type": "markdown",
   "id": "43e5b448-9cb8-4ccf-9811-876cd5105971",
   "metadata": {},
   "source": [
    "Syntax for accessing child table in FE:\n",
    "\n",
    "                    object_name.column_name\n",
    "Syntax for accessing parent table data in FE:\n",
    "\n",
    "                    object_name.common_column.column_name"
   ]
  },
  {
   "cell_type": "code",
   "execution_count": null,
   "id": "12211648-3df7-4c42-88a2-d4ef04bb9138",
   "metadata": {},
   "outputs": [],
   "source": []
  },
  {
   "cell_type": "code",
   "execution_count": null,
   "id": "d971c0a0-50bc-4f4c-a656-106bac46e2b9",
   "metadata": {},
   "outputs": [],
   "source": []
  }
 ],
 "metadata": {
  "kernelspec": {
   "display_name": "Python 3 (ipykernel)",
   "language": "python",
   "name": "python3"
  },
  "language_info": {
   "codemirror_mode": {
    "name": "ipython",
    "version": 3
   },
   "file_extension": ".py",
   "mimetype": "text/x-python",
   "name": "python",
   "nbconvert_exporter": "python",
   "pygments_lexer": "ipython3",
   "version": "3.12.4"
  }
 },
 "nbformat": 4,
 "nbformat_minor": 5
}
