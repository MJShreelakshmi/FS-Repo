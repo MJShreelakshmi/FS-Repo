{
 "cells": [
  {
   "cell_type": "markdown",
   "id": "1d58435f-994c-4c42-9bb4-3cf7c092aeb8",
   "metadata": {},
   "source": [
    "Joins\n",
    "* Inner Joins\n",
    "\n",
    "          Equi Joins\n",
    "          Non-Equi Joins\n",
    "          Self Joins\n",
    "* Outer Joins\n",
    "  \n",
    "          Left Outer Joins\n",
    "          Right Outer Joins\n",
    "          Full Outer Joins\n",
    "* Cross Joins"
   ]
  },
  {
   "cell_type": "markdown",
   "id": "8bd16d9c-8578-410f-ae2f-20067828698b",
   "metadata": {},
   "source": [
    "#### Inner Joins\n",
    "Combines records from 2 tables whenever there are matching values in a field common to both tables (returns only those rows that satisfy the joining condition)\n",
    "\n",
    "1. Equi Join: An Equi Join is a joining condition with equality operator \n",
    "\n",
    "2. Non-Equi Join: An Non-Equi Join is a joining condition with anything other than equality operator (say between and operator)\n",
    "\n",
    "3. Slef Join: This is an Equi Join of a table with itself "
   ]
  },
  {
   "cell_type": "code",
   "execution_count": null,
   "id": "4714e3c2-9444-4be8-a9bd-e32e442845ef",
   "metadata": {},
   "outputs": [],
   "source": []
  },
  {
   "cell_type": "markdown",
   "id": "4b61f9c5-dda4-4a67-ad64-ca07045712ca",
   "metadata": {},
   "source": [
    "After joining the data in ORM, the resulting table structure look like shown below:\n",
    "\n",
    "        EmpNo   EName   Job   Sal   Mgr   Comm   HireDate    DeptNo           DeptNo     \n",
    "                                                                      DName   Loc   DeptNo\n",
    "        123      ABC    X     345   21     22    2000-09-09   15      JKL      XY    56\n",
    "        124      BCA    X     344   21     18    2000-05-10   15      JKL      XY    56\n",
    "        125      CAB    X     343   21     20    2000-07-05   15      JKL      XY    56"
   ]
  },
  {
   "cell_type": "markdown",
   "id": "43e5b448-9cb8-4ccf-9811-876cd5105971",
   "metadata": {},
   "source": [
    "Syntax for accessing child table in Front End:\n",
    "\n",
    "                    object_name.column_name\n",
    "Syntax for accessing parent table data in Front End:\n",
    "\n",
    "                    object_name.common_column.column_name"
   ]
  },
  {
   "cell_type": "markdown",
   "id": "2a913533-a6d8-450b-b331-c7f59844ce57",
   "metadata": {},
   "source": [
    "#### Note\n",
    "* While writing the condition for Child table column, we can directly provide\n",
    "\n",
    "        column_name = 'value'\n",
    "* While writing condition based on Parent table column, we should use below mentioned syntax\n",
    "\n",
    "        commonclm_name__Parent_colName = 'value'\n",
    "  "
   ]
  },
  {
   "cell_type": "markdown",
   "id": "5260e7ab-2c23-4a6c-a94b-db5b7d1a8390",
   "metadata": {},
   "source": [
    "#### prefetch_related\n",
    "\n",
    "                  select_related                                                        prefetch_related\n",
    "    1. One-to-One & One-to-Many (FK)                                           1. Many-to-one & Many-to-Many \n",
    "    2. We are joining child table to parent table                              2. We are joining parent table to child table\n",
    "    3. We use common column for writing joining condition                      3. We use related_name for writing joining condition\n",
    "    4. Structure of table:                                                     4. Strucutre of table: \n",
    "    Child_CN1 Child_CN2.....Child_CNn Parent_CN1 Parent_CN2....Parent_CNn      Parent table object_1\n",
    "        --       --    .....        --       --          --     ....   --              all child table data\n",
    "                                                                               Parent table object_2\n",
    "                                                                                       all child table data"
   ]
  },
  {
   "cell_type": "markdown",
   "id": "51f31923-5771-41c3-a0fe-ea4dace79b14",
   "metadata": {},
   "source": [
    "* views.py\n",
    "\n",
    "      def DeptEmp_prefetchRelated(request):\n",
    "        LEDO = Dept.objects.prefetch_related('emp_set').all()\n",
    "        d = {'LDEO':LEDO}\n",
    "        return render(request, 'DeptEmp_prefetchRelated.html', d)\n",
    "\n",
    "* related_name has 2 functions:\n",
    "\n",
    "      1) as argument for prefetch_related function for joining Parent table to Child table\n",
    "\n",
    "                  default value is \"childTableName_set\"\n",
    "         Note that childTableName in related_name is always in the lower case irrespective of its original case\n",
    "                  \n",
    "      2) fetching the child table data without using child table name and only using parent table name\n",
    "         Syntax is\n",
    "\n",
    "                  ParentTableObject.related_name.all\n",
    "      "
   ]
  },
  {
   "cell_type": "markdown",
   "id": "986ec057-e4ec-4dc1-a345-cae2a72e7046",
   "metadata": {},
   "source": [
    "#### In prefetch_related --> data is fetched through the parent table to child table\n",
    "* syntax for filtering based on Parent Table Column\n",
    "  \n",
    "        PTN.objects.prefetch_related('related_name').filter(PColName = value )\n",
    "\n",
    "        Here the specified PTO (Parent Table Objects) and all the related CTO (Child Table Objects) are fetched         \n",
    "\n",
    "* syntax for filtering based on Child Table Column to get all PTO but only specified CTO\n",
    "\n",
    "        PTN.objects.prefetch_related(Prefetch('related_name', queryset = CTN.objects.filter(CColName = value )))\n",
    "\n",
    "* syntax for filtering based on Child Table Column to get specified PTO and only related specified CTO\n",
    "\n",
    "        PTN.objects.filter(PCN = value).prefetch_related(Prefetch('related_name', queryset = CTN.objects.filter(CColName = value )))\n"
   ]
  },
  {
   "cell_type": "markdown",
   "id": "9f0642ba-5a0a-43c3-aba7-5953408d46ed",
   "metadata": {},
   "source": [
    "#### Examples\n",
    "* Query to fetch all the Department objects and all of its related Child Table Objects\n",
    "  \n",
    "        LEDO = Dept.objects.prefetch_related('emp_set').all()\n",
    "* Query to fetch only Dept 10 object and only all of its related Emp objects \n",
    "\n",
    "        LEDO = Dept.objects.prefetch_related('emp_set').filter(Dept_No = 10)\n",
    "\n",
    "* Query to fetch all the Department objects and only Raj Emp object\n",
    "\n",
    "        LEDO = Dept.objects.prefetch_related(Prefetch('emp_set', queryset=Emp.objects.filter(EName = 'Raj')))\n",
    "\n",
    "* Query to fetch only the Department 10 object and only Raj Emp object\n",
    "\n",
    "      DN = Dept.objects.filter(EName = 'Raj').values_list('Dept_No)  \n",
    "      LEDO = Dept.objects.filter(Dept_No__in = 10).prefetch_related(Prefetch('emp_set', queryset=Emp.objects.filter(EName = 'Raj')))\n",
    "        \n"
   ]
  },
  {
   "cell_type": "markdown",
   "id": "301ea999-a9ff-47ef-8be7-720cd44f26ba",
   "metadata": {},
   "source": [
    "values -----> returns a queryset of list of dictionaries with key as column names and values as their values\n",
    "\n",
    "values_list  ----> returns a queryset of list of tuples with values of  the specified column names in the condition"
   ]
  },
  {
   "cell_type": "markdown",
   "id": "c1a4bd7b-4acd-470d-b61f-4fdd8d78dc35",
   "metadata": {},
   "source": [
    "#### aggregate \n",
    "* aggregate function can be used for performing all the aggregation procedures on the query set \n",
    "* Some of the aggregate methods are Max, Min, Sum, Avg, Count etc.\n",
    "* Syntax:\n",
    "\n",
    "        from django.db.models import Max, Min, Sum, Avg, Count\n",
    "        Max_sal_dict = Emp.objects.aggregate(Max('Sal'))\n",
    "* By default, the aggregate method return a dictionary with key as the column name and lowercase of specified aggregate function name combined using double underscore.\n",
    "\n",
    "        Eg:'Sal__max' in the given case \n",
    "* But we can give custom key names by specifying the desired keyname within the aggregate function and value as the specified aggregate function\n",
    "\n",
    "        Eg: aggregate(emp_max_sal = Max('Sal'))\n",
    "* We can fetch the resulting aggregate function value by providing the keyname at the end of the dictionary:\n",
    "\n",
    "        Max_sal = Emp.objects.aggregate(Max('Sal'))['Sal__max']\n",
    "#### annotate\n",
    "* annotate method is used to create a temporary column for the execution purpose using aggregate functions\n",
    "* Example is to display the rows that has 5 or more characters in EName \n",
    "* Syntax:\n",
    "\n",
    "        LEO = Emp.objects.annotate(NL = Length('EName')).filter(NL__gte = 5).values_list('EName')\n",
    "\n",
    "* values_list is used to get the ENanes directly from the queryset of Emp objects"
   ]
  },
  {
   "cell_type": "markdown",
   "id": "ec1bd0b2-22ca-4702-93e4-f9795aae9080",
   "metadata": {},
   "source": [
    "#### Implementing 'Group by' using Annotate: To find Avg Sal in each Dept\n",
    "\n",
    "    Emp.objects.values('Dept_No').annotate (Avg('Sal'))"
   ]
  },
  {
   "cell_type": "markdown",
   "id": "569b59b6-b746-4da5-8af7-0a40d7183a1e",
   "metadata": {},
   "source": [
    "#### Updating the records:\n",
    "In 2 ways, we can update the records\n",
    "\n",
    "    1. update_or_create method\n",
    "    2. update method\n",
    "#### Syntax for updating a particular row\n",
    "\n",
    "    model_name.objects.filter(condition).update(column_name = 'value')\n",
    "#### Syntax for updating entire table\n",
    "\n",
    "    model_name.objects.all().update(column_name = value1,....)  \n",
    "#### Note\n",
    "1. Update command will update the rows which satifies the given condition\n",
    "2. If no rows are satisying the condition, then it will not do any operation\n",
    "3. Updates multiple rows as well\n",
    "4. While dealing with foreign key column, we need to provide values which are present in the main/parent table\n",
    "\n",
    "#### update_or_create\n",
    "Syntax:\n",
    "\n",
    "    model_name.objects.update_or_create(column_name = value,..., defaults = {'column_name': 'value'})\n",
    "\n",
    "#### Note:\n",
    "1. If a row satisfies the condition, then it gets updated\n",
    "2. Incase, if such a row doesnot exist, then a new record is created\n",
    "3. Mutliple records can not be created or updated\n",
    "4. While dealing with foreign key column, we need to provide instance which is present in the main table"
   ]
  },
  {
   "cell_type": "markdown",
   "id": "d27f0caa-b133-4114-90c7-6775239f1688",
   "metadata": {},
   "source": [
    "#### Deleting the records from the table\n",
    "We use delete method inorder to delete data from the tables\n",
    "\n",
    "Syntax for deleting a particular record/row from the table:\n",
    "\n",
    "    model_name.objects.filter(condition).delete()\n",
    "\n",
    "SQL syntax:   delete from table_name where condition\n",
    "\n",
    "Syntax for deleting entire data from a model:\n",
    "\n",
    "    model_name.objects.all().delete()   \n",
    "                OR\n",
    "    model_name.objects.delete()\n",
    "\n",
    "SQL syntax:  truncate table table_name"
   ]
  },
  {
   "cell_type": "code",
   "execution_count": null,
   "id": "72a2202f-9174-42ee-b7c8-4e959888750b",
   "metadata": {},
   "outputs": [],
   "source": []
  },
  {
   "cell_type": "raw",
   "id": "a9df5141-c2b3-41d1-a803-3aaa607db282",
   "metadata": {},
   "source": [
    "model.objects.filter(statuc = 'active').count()\n",
    "\n",
    "F function\n",
    "\n",
    "--------------------------------\n",
    "*** https://www.youtube.com/watch?v=UtqPJ9ohf_g\n",
    "Models - ORM\n",
    "\n",
    "Queryset - Optimising Query set, Sharding and indexing in DBs, Model managers,             Pagination and apply Limits\n",
    "\n",
    "Django Middleware - Write a custom middleware or restrict an ip etc\n",
    "\n",
    "Authentication and authorization - Customize\n",
    "\n",
    "Permissions - \n",
    "\n",
    "Signals - How it works\n",
    "\n",
    "Transactions and Locks\n",
    "\n",
    "Django Debug Toolbar\n",
    "\n",
    "\n",
    "\n",
    "*** https://www.youtube.com/watch?v=XG-zXG1rCBU\n",
    "1. CRUD Operations Along with Http methods like POST, GET, PUT AND DELETE request\n",
    "2. Token or Tokenization\n",
    "\n",
    "        What are JWT tokens, how to create and use (Header, Payload and Signature)\n",
    "        Encrypt and Decrypt tokens\n",
    "3. Authentication and Authorization\n",
    "\n",
    "        OAuth2 Authentication\n",
    "        SAML\n",
    "        SSO                \n",
    "4. Static Files\n",
    "\n",
    "5. Integrate Payment Gateway\n",
    "\n",
    "6. Integrate Celery  (Workers in Celery)\n",
    "7. Deployment in AWS, Heroku\n",
    "\n",
    "\n",
    "*** https://www.youtube.com/watch?v=mkQSMCqW-Xo\n",
    "\n",
    "1. CRUD Operations - Database, views and template engines\n",
    "2. Authentication, Authorization User roles - user permissions, registering users, working with sessions\n",
    "3. Static files - Storing Images, PDFs, JS files and configuring app to handl user uploaded content\n",
    "4. Building APIs - Build an API to use with front-end and Basic REST Practices\n",
    "5. Project Architecture - Separate the apps(Separate the code into a new app) of a project based on use-case and how to do it? Where to store templates and Why? How to structure ans separate URLs?\n",
    "6. Basic Web Dev Knowledge on How web works --- like HTML, CSS, Python, Git and Github, Request Response Cycles and Http methods\n",
    "7. \n",
    "\n",
    "*** Django Interview Questions \n",
    "\n",
    "* https://www.youtube.com/watch?v=9ai0b1LRMQM (Junior Developer)\n",
    "\n",
    "* Nitman Talks\n",
    "\n",
    "* MinMajix\n",
    "\n",
    "* Coding for All\n",
    "\n",
    "* Intellipaat"
   ]
  },
  {
   "cell_type": "raw",
   "id": "ab7e6e98-0fa6-4a6f-96c6-b062049ebfb5",
   "metadata": {},
   "source": [
    "first, last, exists, raw, only, defer"
   ]
  },
  {
   "cell_type": "code",
   "execution_count": null,
   "id": "d5776b84-b432-439b-9285-a3df98fe875c",
   "metadata": {},
   "outputs": [],
   "source": []
  },
  {
   "cell_type": "code",
   "execution_count": null,
   "id": "72f767f3-b6a0-4d4d-9196-3e7ac1035358",
   "metadata": {},
   "outputs": [],
   "source": []
  },
  {
   "cell_type": "code",
   "execution_count": null,
   "id": "e06780e0-468c-4f7b-914e-c95ce9b777f5",
   "metadata": {},
   "outputs": [],
   "source": []
  },
  {
   "cell_type": "code",
   "execution_count": null,
   "id": "bc1aef68-a52e-49ef-9494-af5a78e4af1a",
   "metadata": {},
   "outputs": [],
   "source": []
  },
  {
   "cell_type": "code",
   "execution_count": null,
   "id": "5db2413e-5dca-4bbe-940d-048616072e12",
   "metadata": {},
   "outputs": [],
   "source": []
  },
  {
   "cell_type": "code",
   "execution_count": null,
   "id": "f3d6e648-9148-471e-959a-83b36501beca",
   "metadata": {},
   "outputs": [],
   "source": []
  },
  {
   "cell_type": "code",
   "execution_count": null,
   "id": "b7ece64b-8501-4adc-bb3a-544fd60f3f5f",
   "metadata": {},
   "outputs": [],
   "source": []
  },
  {
   "cell_type": "code",
   "execution_count": null,
   "id": "5c6f5983-8fe1-4037-9f62-e5d648e045d3",
   "metadata": {},
   "outputs": [],
   "source": []
  },
  {
   "cell_type": "code",
   "execution_count": null,
   "id": "2759b544-65bd-4ce7-8803-b3424f96ba1d",
   "metadata": {},
   "outputs": [],
   "source": []
  },
  {
   "cell_type": "code",
   "execution_count": null,
   "id": "ee9482ee-7a4a-478f-9725-51ad39e32178",
   "metadata": {},
   "outputs": [],
   "source": []
  },
  {
   "cell_type": "code",
   "execution_count": null,
   "id": "b55dedcc-ba99-4e1e-a23f-79d3bcdcd9b5",
   "metadata": {},
   "outputs": [],
   "source": []
  },
  {
   "cell_type": "code",
   "execution_count": null,
   "id": "f7d737e5-a262-48f9-817e-bb09c6c2a8b5",
   "metadata": {},
   "outputs": [],
   "source": []
  },
  {
   "cell_type": "code",
   "execution_count": null,
   "id": "05f37529-f89f-48d0-ad39-b8d552568934",
   "metadata": {},
   "outputs": [],
   "source": []
  }
 ],
 "metadata": {
  "kernelspec": {
   "display_name": "Python 3 (ipykernel)",
   "language": "python",
   "name": "python3"
  },
  "language_info": {
   "codemirror_mode": {
    "name": "ipython",
    "version": 3
   },
   "file_extension": ".py",
   "mimetype": "text/x-python",
   "name": "python",
   "nbconvert_exporter": "python",
   "pygments_lexer": "ipython3",
   "version": "3.12.4"
  }
 },
 "nbformat": 4,
 "nbformat_minor": 5
}
