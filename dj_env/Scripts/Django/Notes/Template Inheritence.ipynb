{
 "cells": [
  {
   "cell_type": "markdown",
   "id": "180949da-26b4-4794-81c3-b536d09401b1",
   "metadata": {},
   "source": [
    "### Template Inheritence \n",
    "It is the process of inheriting the properties of one Html file into another Html file\n",
    "\n",
    "#### Advantage\n",
    "1. It will reduce the code redundancy and ioncrease code-reusability\n",
    "2. Within leass time we can build our Html file(content)\n",
    "\n",
    "We use the jinja tag 'extends' to inherit the proeprties\n",
    "\n",
    "Syntax:\n",
    "\n",
    "    {% extends 'html_file_name.extension' %}\n",
    "Example:\n",
    "\n",
    "    {% extends 'parent.html' %}\n",
    "#### Disadvantages:\n",
    "If we use extends, then all the parent html properties will be copied to child html along with title\n",
    "\n",
    "To avoid that, we use jinja block tags. This helps us to stop inheriting all the properties\n",
    "\n",
    "#### Jinja tag syntax for blocking title\n",
    "    <head>\n",
    "        {% block title %}\n",
    "            <title> parent.html </title>\n",
    "        {% endblock %}\n",
    "    </head>\n",
    "\n",
    "#### Jinja tag syntax for blocking body content\n",
    "    <body>\n",
    "        content to be inherited\n",
    "        {% block body_block %}\n",
    "            content not to be inherited\n",
    "        {% endblock %}\n",
    "    </body>\n",
    "#### Note:\n",
    "1. We cannot have more than one body block in a single Html file\n",
    "2. It is mandatory to have empty body blocks incase we want to inherit all the properties into the child along with some additional properties"
   ]
  },
  {
   "cell_type": "markdown",
   "id": "316c62b7-3604-48d9-9de6-8457fe3eb56d",
   "metadata": {},
   "source": [
    "Note:\n",
    "* While performing template inheritence, the control can access templates(html files) across apps and hence if we have templates(html files) with same names across the apps, only the template(html file) in the app present at first will be displayed.\n",
    "* To avoid that, create another folder with the app name within the templates folder and store the templates(html files) in it. \n",
    "* In the views, while rendering the template, pass the app name along with template name for these templates to be accessible.\n",
    "* Thus we can have templates with same names arcoss multiple apps."
   ]
  },
  {
   "cell_type": "code",
   "execution_count": null,
   "id": "164b09ab-6522-45d9-a9d4-2b0d964c19a2",
   "metadata": {},
   "outputs": [],
   "source": []
  }
 ],
 "metadata": {
  "kernelspec": {
   "display_name": "Python 3 (ipykernel)",
   "language": "python",
   "name": "python3"
  },
  "language_info": {
   "codemirror_mode": {
    "name": "ipython",
    "version": 3
   },
   "file_extension": ".py",
   "mimetype": "text/x-python",
   "name": "python",
   "nbconvert_exporter": "python",
   "pygments_lexer": "ipython3",
   "version": "3.12.4"
  }
 },
 "nbformat": 4,
 "nbformat_minor": 5
}
