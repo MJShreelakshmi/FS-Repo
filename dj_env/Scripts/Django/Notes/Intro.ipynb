{
 "cells": [
  {
   "cell_type": "markdown",
   "id": "ed5bb757-9ae0-43bc-abce-cc06d1ee1868",
   "metadata": {},
   "source": [
    "#### Software\n",
    "Software is a set of instructions or collection of programs which are used for either performing a specific task or for operating a system\n",
    "#### Program\n",
    "Program is a set of instructions\n",
    "#### Instructions\n",
    "Set of rules and regulations that make computer to do a task"
   ]
  },
  {
   "cell_type": "markdown",
   "id": "72f36b15-8d5a-48a6-ae43-03a2d9d7bcd9",
   "metadata": {},
   "source": [
    "#### Classification of softwares\n",
    "These softwares are classified into 2 types\n",
    "1. System software\n",
    "2. Application software\n",
    "#### 1. System software\n",
    "Software which is responsible for operating and  controlling a system.\n",
    "\n",
    "        or\n",
    "Software which is responsible for creating a platform where we can run other softwares\n",
    "\n",
    "Eg: Operating systems like windows, Mac, OS etc.\n",
    "\n",
    "#### 2. Application Software\n",
    "Software which is responsible for performing a specific task"
   ]
  },
  {
   "cell_type": "markdown",
   "id": "d32633dd",
   "metadata": {},
   "source": [
    "#### Classification of Application softwares\n",
    "#### 1. Standalone Software\n",
    "Software which is not dependent on either netywork connection or OS\n",
    "\n",
    "Example: MS-Office, PPT, Calculator, LudoKing etc\n",
    "#### 2. Web Application Software\n",
    "Software which are accessed through the web browsers\n",
    "\n",
    "Example: Bet365\n",
    "#### Clinet Server Software\n",
    "It is distributed application structure/software which are used for dividing the tasks between Service Providers(Servers) and Service Requesters (Clients)\n",
    "\n",
    "Eg: World Wide Web"
   ]
  },
  {
   "cell_type": "markdown",
   "id": "08b923e9",
   "metadata": {},
   "source": [
    "#### Software Architecture\n",
    "It is a design pattern in which we will create a software\n",
    "\n",
    "#### Classification\n",
    "1. One-Tier Architecture\n",
    "2. Two-Tier Architecture\n",
    "3. N-Tier Architecture\n",
    "\n",
    "#### 1. One-Tier Architecture\n",
    "* Here will be only one end or one phase\n",
    "* We will only use Front-end technologies like HTML, CSS for designing the application\n",
    "* Modification in the application can be done only by using Html Pagge\n",
    "* We can create only static applications by using One-Tier Architectures\n",
    "#### 2. Two-Tier Architecture    \n",
    "Here we will be having two ends                                                                                                                         \n",
    "\n",
    "        1) Front-End\n",
    "        2) Back-End\n",
    "* We use Front-end technologies for displaying content and Python programs to make any changes in the Back-end\n",
    "* Semi-dynamic web pages are created by using 2 tier architecture\n",
    "#### 3. N-Tier Architecture\n",
    "This type of architecture has 3 ends or phases\n",
    "        \n",
    "        1) Front-End\n",
    "        2) Back-End\n",
    "        3) DB Layer\n",
    "We can create dynamic applications using N-Tier architecture\n",
    "Example: Instagram, FaceBook etc"
   ]
  },
  {
   "cell_type": "markdown",
   "id": "646902a0-ee26-4a1f-8cd3-fa0b5363f142",
   "metadata": {},
   "source": [
    "#### Design Patterns\n",
    "Design Patterns are used for describing how the data and code segregation should be done while developing appications\n",
    "\n",
    "There are 2 types of Design Patterns\n",
    "1. MVC - Model View Control\n",
    "2. MVT - Model View Template\n",
    "\n",
    "### 1. MVC:\n",
    "It is a design pattern ehich is responsible for designing an application where the separation data happens in following format\n",
    "#### Model\n",
    "Model is responsible for for writing all the operations related to Database\n",
    "#### View\n",
    "This is the fle where we write the logic by using python programs\n",
    "\n",
    "This is used for displaying the content from Database end to User end \n",
    "#### Control\n",
    "Django framewprk itself will take care of controlling part\n",
    "\n",
    "### 2. MVT --> MVC + Template\n",
    "#### Template\n",
    "It is used for dealing with Html files"
   ]
  },
  {
   "cell_type": "markdown",
   "id": "3056f890-0e13-44e3-bd1c-3e2d28f200e0",
   "metadata": {},
   "source": [
    "### Framework\n",
    "* The main goal of Framework of is to allow developers to focus on the compeonents of the applications that are new instead of spending time on previosuly developed components\n",
    "* A framework is used for providing a prototype\n",
    "* Framework is a software which is used for supporting the development of application\n",
    "* Web Framework: are responsible for developing web applications\n",
    "\n",
    "                   OR\n",
    "* A framework is like a structure that provides a base for the application development process. \n",
    "* With the help of a framework, you can avoid writing everything from scratch.\n",
    "* Frameworks provide a set of tools and elements that help in the speedy development process.\n",
    "* It acts like a template that can be used and even modified to meet the project requirements.\n",
    "#### Classification of Frameworks\n",
    "        1. Major Framework\n",
    "        2. Micro Framework\n",
    "#### 1. Micro Framework\n",
    "By using Micro Frameworks, we create applications suitable for small scale industries like schools, colleges etc.\n",
    "#### Drawbacks\n",
    "Application cannnot be accessed by many people at the same time\n",
    "Example: School and College websites\n",
    "#### 2. Major Framework\n",
    "* By using major Framework, we can create an application which is suitable for large scale industries\n",
    "* Many people can access the appliaction at a time\n",
    "Example: Youtube, Pubg, Facebook etc\n",
    "\n",
    "### Frameworks Of Different Programming/Scripting Languages\n",
    "* JAVA   : Spring, Hibernate, Structs\n",
    "* C#     : .NET\n",
    "* PHP    : LARAVEL, PHALCON\n",
    "* Python : \n",
    "\n",
    "           Major :- Django, Pyramid\n",
    "           Micro :- Flask"
   ]
  },
  {
   "cell_type": "markdown",
   "id": "b3b6a7f2-9825-43d1-989d-10bc6dc7dfbb",
   "metadata": {},
   "source": [
    "#### Some of the apps designed by using python\n",
    "* Netflix\n",
    "* Youtube\n",
    "* Instagram\n",
    "* Dropbox\n",
    "* Uber\n",
    "* Spotify\n",
    "* Reddit\n",
    "* Pinterest etc."
   ]
  },
  {
   "cell_type": "markdown",
   "id": "99d569c2-b8b7-4deb-8739-d946608f8d65",
   "metadata": {},
   "source": [
    "#### Django Framework\n",
    "* A web application framework is a toolkit of all components needed for application development\n",
    "* Djanog is high level open-source python based framework which is responsible for rapid development of web application with clean programmatic design with more security\n",
    "* Djnago follows MVC and MVT design patterns\n",
    "#### Installation of External python Packages\n",
    "1. Go to command prompt\n",
    "\n",
    "        pip install packagename (Will install latest version of packages)\n",
    "        pip install packagename == version_number ( to install specific version of package)\n",
    "2. Make sure that system is having internet connection while installing the packages\n",
    "Note: Before installing packages, install the virtual environment\n",
    "\n",
    "        pip freeze: Displays all the packages installed in the system"
   ]
  },
  {
   "cell_type": "code",
   "execution_count": null,
   "id": "41c0e7c0-3f2a-46b3-9110-4eb488d95c46",
   "metadata": {},
   "outputs": [],
   "source": []
  }
 ],
 "metadata": {
  "kernelspec": {
   "display_name": "Python 3 (ipykernel)",
   "language": "python",
   "name": "python3"
  },
  "language_info": {
   "codemirror_mode": {
    "name": "ipython",
    "version": 3
   },
   "file_extension": ".py",
   "mimetype": "text/x-python",
   "name": "python",
   "nbconvert_exporter": "python",
   "pygments_lexer": "ipython3",
   "version": "3.12.4"
  }
 },
 "nbformat": 4,
 "nbformat_minor": 5
}
