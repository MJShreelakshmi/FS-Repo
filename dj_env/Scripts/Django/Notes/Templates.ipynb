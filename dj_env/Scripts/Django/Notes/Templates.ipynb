{
 "cells": [
  {
   "cell_type": "markdown",
   "id": "b2a2082b-69a7-45b5-ad24-a31d0e20b3c8",
   "metadata": {},
   "source": [
    "Flow of execution of urls in case of HTML page rendering"
   ]
  },
  {
   "cell_type": "code",
   "execution_count": 1,
   "id": "2b6b9672-d861-4058-ada6-ddfb3b7cfd46",
   "metadata": {},
   "outputs": [],
   "source": [
    "# diagram"
   ]
  },
  {
   "cell_type": "markdown",
   "id": "80a4810e-330b-4abb-8ffd-2b0b5bb6939b",
   "metadata": {},
   "source": [
    "#### Templates Directory\n",
    "Templates directory is specifically used to store only html files\n",
    "\n",
    "There are 2 types of templates directory\n",
    "1. Generic template directory\n",
    "2. Specific template directory\n",
    "\n",
    "1. Generic template directory\n",
    "If we create template directory inside main project, that type of template is known as generic template directory\n",
    "\n",
    "#### Procedure to create and register templates directory\n",
    "* create project\n",
    "* create an application and register in settings.py file\n",
    "* create a templates directory by command mkdir templates\n",
    "\n",
    "#### Procedure to register templates\n",
    "* go to settings.py\n",
    "* create TEMPLATE_DIR variable and store the path of the template as value\n",
    "  \n",
    "There are 3 methods how we can add the path of the templates folder\n",
    "#### Method 1\n",
    "* create TEMPLATE_DIR variable\n",
    "* copy the path of the templates folder\n",
    "* paste it as a string value for TEMPLATE_DIR\n",
    "* change all the single slashes to double slashes\n",
    "* register TEMPLATE_DIR in DIRS key of TEMPLATES\n",
    "\n",
    "#### Drawbacks\n",
    "This method will not work if we are storing the templates directory in different path other than we specified"
   ]
  },
  {
   "cell_type": "markdown",
   "id": "587e6b73-09da-4669-b8f0-b794b38bfc53",
   "metadata": {},
   "source": [
    "#### Method 2\n",
    "Concatenation of path of BASE_DIR with templates\n",
    "\n",
    "1. BASE_DIR gives the path till the main outer project independent of path where we save it\n",
    "2. So we can represent path as shown below TEMPLATE_DIR = BASE_DIR / 'templates'\n",
    "3. Register TEMPLATE_DIR in DIRS key of TEMPLATES\n",
    "\n",
    "#### Drawbacks of this method\n",
    "1. This type of path representation will not work in all types Operating Systems because we use forward slashes for representing path in Windows and backward slashes in Linux\n",
    "2. So we go for representation of path by using OS module\n"
   ]
  },
  {
   "cell_type": "markdown",
   "id": "0da63c8e-d3b7-42e4-834b-681add408eb1",
   "metadata": {},
   "source": [
    "#### Method 3\n",
    "Using OS module\n",
    "1. This is universal way of representing path\n",
    "2. In real time, always this is the method used\n",
    "\n",
    "        import os\n",
    "        TEMPLATE_DIR = os.path.join(BASE_DIR, 'templates')\n",
    "        register TEMPLATE_DIR in DIRS key of TEMPLATES\n",
    "#### Creating html files\n",
    "* select and right click on the templates folder\n",
    "* click on new file\n",
    "* name the html file with .html or .htm extension\n",
    "* write the content by using html tags\n",
    "\n",
    "This is how views.py looks like while we render files:\n",
    "        \n",
    "        from django.shortcuts import render\n",
    "        \n",
    "        def function(request):\n",
    "            return render(request, 'file_name.html')\n",
    "\n",
    "#### Diagrammatic representation of files of a project while we create generic templates folder"
   ]
  },
  {
   "cell_type": "code",
   "execution_count": 1,
   "id": "945773db-e761-4ca5-ac81-7bdb5ca7a3fb",
   "metadata": {},
   "outputs": [],
   "source": [
    "# 29-11-2024"
   ]
  },
  {
   "cell_type": "code",
   "execution_count": null,
   "id": "872498f9-6f90-4baa-8293-c1b37675b148",
   "metadata": {},
   "outputs": [],
   "source": []
  }
 ],
 "metadata": {
  "kernelspec": {
   "display_name": "Python 3 (ipykernel)",
   "language": "python",
   "name": "python3"
  },
  "language_info": {
   "codemirror_mode": {
    "name": "ipython",
    "version": 3
   },
   "file_extension": ".py",
   "mimetype": "text/x-python",
   "name": "python",
   "nbconvert_exporter": "python",
   "pygments_lexer": "ipython3",
   "version": "3.12.4"
  }
 },
 "nbformat": 4,
 "nbformat_minor": 5
}
