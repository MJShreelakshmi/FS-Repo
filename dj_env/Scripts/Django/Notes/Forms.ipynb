{
 "cells": [
  {
   "cell_type": "markdown",
   "id": "777f5c87-457c-4dc6-8b32-d67fccd36b2a",
   "metadata": {},
   "source": [
    "path(suffix/, view_name, url_name)\n",
    "\n",
    "1. When suffix is searched for, view_name is called\n",
    "2. The POST method is now inactive, hence the HTML page (empty form) is called\n",
    "3. Once the data is submitted, \n",
    "    * submitted data is wrapped into a dictionary named request.POST\n",
    "    * POST method is active \n",
    "4. View is called again with active POST method and submitted data\n",
    "5. Control now enters the if condition and collects the submitted data under specified variable names\n",
    "6. As per the written logic, corresponding data is either retireved from the db or new entry is recorded into the db and repsonse is returned accordingly."
   ]
  },
  {
   "cell_type": "markdown",
   "id": "d3800547-0527-46d5-b491-1bd50864d03a",
   "metadata": {},
   "source": [
    "When we insert data into child table, we should not collect the data from Parent Table in the form of text boxes. Instead provide the Parent table data as options (for the user to select only from the given options)\n",
    "\n",
    "Options can be provided in 2 ways:\n",
    "\n",
    "    Single option selection\n",
    "        1. Drop down list (one)\n",
    "        2. Radio buttons\n",
    "    Multiple option selection\n",
    "        1. Drop down list (multiple)\n",
    "        2. Checkbox"
   ]
  },
  {
   "cell_type": "markdown",
   "id": "f083125a-1493-4a39-a51f-8f0a9bbd6bd8",
   "metadata": {},
   "source": [
    "We can access the data submitted from the form in 3 ways:\n",
    "1. By using Key name\n",
    "   \n",
    "        request.POST[keyname]\n",
    "   \n",
    "3. get method\n",
    "\n",
    "        We use get method whenever we access single row of data\n",
    "        Syntax:\n",
    "           request.POST.get('key_name')\n",
    "4. getlist method\n",
    "\n",
    "        It is used for accessing multiple inputs from front-end\n",
    "        Output will be in the form of list\n",
    "        Syntax:\n",
    "            var_name = request.POST.getlist(name_attr_val)\n",
    "\n",
    "Note: By using select tag, checkbox we can access multiple rows of data\n",
    "#### Displaying multiple content\n",
    "Inorder to display multiple querysets, we have to concatenate them using | operator\n",
    "\n",
    "Syntax for creating empty query set:\n",
    "\n",
    "    model_name.objects.none()"
   ]
  },
  {
   "cell_type": "code",
   "execution_count": null,
   "id": "aeb8beae-485a-40e2-b417-a91931b3df92",
   "metadata": {},
   "outputs": [],
   "source": []
  }
 ],
 "metadata": {
  "kernelspec": {
   "display_name": "Python 3 (ipykernel)",
   "language": "python",
   "name": "python3"
  },
  "language_info": {
   "codemirror_mode": {
    "name": "ipython",
    "version": 3
   },
   "file_extension": ".py",
   "mimetype": "text/x-python",
   "name": "python",
   "nbconvert_exporter": "python",
   "pygments_lexer": "ipython3",
   "version": "3.12.4"
  }
 },
 "nbformat": 4,
 "nbformat_minor": 5
}
