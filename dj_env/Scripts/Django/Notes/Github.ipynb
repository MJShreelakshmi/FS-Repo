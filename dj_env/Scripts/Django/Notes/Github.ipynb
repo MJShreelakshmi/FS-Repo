{
 "cells": [
  {
   "cell_type": "markdown",
   "id": "d171976b-9a35-4776-b1f8-8046cee0d935",
   "metadata": {},
   "source": [
    "### Version Control Systems\n",
    "These are used for dealing with different versions of the software development process\n",
    "#### Classification of Version Control Systems\n",
    "Generally version control systems are classified into 2 types:\n",
    "\n",
    "    1. Centralized Version Control System\n",
    "    2. Distributed Version Control System (Mercurial, SVN, bAZAAR AND Git)\n",
    "#### Git\n",
    "Git is Distributed Version Control System which is reponsible for storing and managing code written for developing a software\n",
    "\n",
    "#### Github\n",
    "1. Github is a cloud-based open-source software which is used for hosting and managing the github repositories\n",
    "2. Developers use github for code transmission purpose\n",
    "#### Git repository\n",
    "It is a folder that we create in the memory which is provided by github.com\n",
    "#### Procedure to upload projects in github\n",
    "1. Go tot the browser and search for the url: https://git-scm.com/downloads\n",
    "2. Click on download 2.92.2 verison\n",
    "3. Search for url: https://github.com\n",
    "4. Signup into github by providing the necessary details\n",
    "5. After signing up, sign in into the github through browser\n",
    "6. Click on plus (+) symbol and click on new repository\n",
    "7. Give a name for repository and click on create repository\n",
    "8. Go to the git command prompt by carrying path of the file that needs to be uploaded in git\n",
    "#### Run the following commands\n",
    "1. git init\n",
    "\n",
    "   Initializes a local git memory insisde our local system\n",
    "2. git add .\n",
    "\n",
    "    It is used to connect the folders and files which are present in the current cmd path into git memory\n",
    "3. git commit -m \"first commit\"\n",
    "\n",
    "    By using above command, we can save the connected files in our local git memory\n",
    "4. git branch -m main\n",
    "   It is used for creatong one branch with name main. If we want to change the name, we can use below syntax:\n",
    "\n",
    "    git branch -m branch_name\n",
    "5. git remote add origin https://github.com/MJShreelakshmi/repo.git\n",
    "   This command is used for creating a repository or folder inside github.com\n",
    "7. git push -u origin master\n",
    "8. This command is used for pushing the saved, connected files in git memory of local system into the gitub.com"
   ]
  },
  {
   "cell_type": "markdown",
   "id": "3ac16b24-99d0-4806-af1c-37e38edb681d",
   "metadata": {},
   "source": [
    "#### Diagramatic reprsentation  "
   ]
  },
  {
   "cell_type": "code",
   "execution_count": null,
   "id": "367ae367-650b-4b34-b039-17d7d173957b",
   "metadata": {},
   "outputs": [],
   "source": []
  }
 ],
 "metadata": {
  "kernelspec": {
   "display_name": "Python 3 (ipykernel)",
   "language": "python",
   "name": "python3"
  },
  "language_info": {
   "codemirror_mode": {
    "name": "ipython",
    "version": 3
   },
   "file_extension": ".py",
   "mimetype": "text/x-python",
   "name": "python",
   "nbconvert_exporter": "python",
   "pygments_lexer": "ipython3",
   "version": "3.12.4"
  }
 },
 "nbformat": 4,
 "nbformat_minor": 5
}
