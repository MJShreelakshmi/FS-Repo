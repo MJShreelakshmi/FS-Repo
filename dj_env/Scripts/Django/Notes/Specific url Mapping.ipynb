{
 "cells": [
  {
   "cell_type": "markdown",
   "id": "cec69557-9686-4f81-9f4f-e9f007999e30",
   "metadata": {},
   "source": [
    "#### Drawbacks of Generic urls.py incase of multiple application\n",
    "1. code complexity and time complexity will be more\n",
    "2. We cannot define function with same name in multiple applcations\n",
    "3. Difficulty in debugging\n",
    "Inorder to avoid these drwabacks, we create specific urls.py file\n",
    "#### Specific urls.py file\n",
    "* Specific urls.py file is an individual urls.py created within each and every application\n",
    "* To create urls.py file, right click on the app, choose new file and save as urls.py file\n",
    "#### Purpose of creating specific urls\n",
    "* To avoid difficulty in modifying and deleting the urls of a particular application when we have multiple applications\n",
    "\n",
    "Content to be written in specific urls.py file:\n",
    "1. import path\n",
    "2. import views\n",
    "3. urlpatterns list to be created\n",
    "4. specify value for app_name"
   ]
  },
  {
   "cell_type": "markdown",
   "id": "e432eba8-430b-4bb3-b4a1-43eacaa50f4e",
   "metadata": {},
   "source": [
    "#### Url representation of specific urls\n",
    "syntax:\n",
    "\n",
    "        http://127.0.0.1:8000/primary_suffix/secondary_suffix\n",
    "\n",
    "* primary suffix is used to navigate the control from project urls to app urls\n",
    "* secondary suffix is used to navigate from app urls to views of application. We use include function to connect specific urls.py with generic urls.py\n",
    "\n",
    "          import include from django.urls\n",
    "          from django.urls import path, include\n",
    "\n",
    "syntax of path with include\n",
    "\n",
    "          path('suffix/',include('app_name.urls'))"
   ]
  },
  {
   "cell_type": "markdown",
   "id": "6ca7b272-ee56-40d7-a3f9-bd4d279a932d",
   "metadata": {},
   "source": [
    "#### Steps to perform Specific Url mapping\n",
    "1. Go to scripts, activate the virtaul env and create a project\n",
    "\n",
    "        django-adin startproject ipl2\n",
    "2. Enter into the project, create multiple applications\n",
    "\n",
    "        python manage.py startapp csk\n",
    "        python manage.py startapp rcb\n",
    "        python manage.py startapp mi\n",
    "3. Open VSCode, go to settings.py file of the app and register all the apps there and save the file\n",
    "4. Go to one of the created apps and create views\n",
    "\n",
    "        1. from django.http import HttpResponse\n",
    "        2. create the view\n",
    "        3. save the file\n",
    "5. Create urls.py file within this app to perform specific url mapping\n",
    "6. Connect this specific urls to generic urls.py file to perform specific url mapping\n",
    "7. Run the server\n",
    "8. Check the browser with primary (app_name) and secondary (function_name) suffixes"
   ]
  },
  {
   "cell_type": "markdown",
   "id": "209c5eb3-cc27-4024-ae6b-2a40829d0c9a",
   "metadata": {},
   "source": [
    "#### Flow of execution of urls incase of Specific Url Mapping\n",
    "Diagram---------------"
   ]
  },
  {
   "cell_type": "code",
   "execution_count": null,
   "id": "7b3895c1-d074-4f50-b4e2-6b40e1176e9f",
   "metadata": {},
   "outputs": [],
   "source": []
  }
 ],
 "metadata": {
  "kernelspec": {
   "display_name": "Python 3 (ipykernel)",
   "language": "python",
   "name": "python3"
  },
  "language_info": {
   "codemirror_mode": {
    "name": "ipython",
    "version": 3
   },
   "file_extension": ".py",
   "mimetype": "text/x-python",
   "name": "python",
   "nbconvert_exporter": "python",
   "pygments_lexer": "ipython3",
   "version": "3.12.4"
  }
 },
 "nbformat": 4,
 "nbformat_minor": 5
}
