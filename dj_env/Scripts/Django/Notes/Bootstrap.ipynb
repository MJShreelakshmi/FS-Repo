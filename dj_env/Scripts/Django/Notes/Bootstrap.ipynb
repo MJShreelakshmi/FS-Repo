{
 "cells": [
  {
   "cell_type": "markdown",
   "id": "976441e9-6d0a-40df-9cf4-d0489c60e66f",
   "metadata": {},
   "source": [
    "### Bootstrap\n",
    "1. Bootstrap is a CSS framework\n",
    "2. Bootstrap has some pre-defined classes with which we can add some CSS features\n",
    "3. Bootstrap is a CSS framework in which the developers have given default properties for each and every tag\n",
    "4. We can make a webpage more responsive using bootstrap\n",
    "\n",
    "#### Procedure to link bootstrap to Html files\n",
    "We can connect bootstrap to out html files in 2 ways:\n",
    "1. CDN method\n",
    "2. Download method\n",
    "#### 1. CDN (Content Delivery Network Method)\n",
    "\n",
    "    * Search for bootstrap.com in the browser\n",
    "    * Click on 'get started'\n",
    "    * Copy the starter template in which they have connected the Bootstrap CSS and JS properties and paste them in the respective Html file\n",
    "#### Disadvantages of CDN method\n",
    "1. Netwprk connection must be present\n",
    "2. CDN cache will be cleared if we are not using particular content regularly\n",
    "3. There might be a chance of CDN getting blocked while we block spam contents"
   ]
  },
  {
   "cell_type": "markdown",
   "id": "16084670-de84-4461-bfff-a2b3a6c8dc82",
   "metadata": {},
   "source": [
    "#### Download bootstrap to our project\n",
    "1. Go to bootstrap.com\n",
    "2. Click on download; Bootstrap download page will be opened\n",
    "3. Click on download button\n",
    "4. A zip file with bootstrap properties will be downloaded\n",
    "5. Copy the CSS properties from the zip file and paste it in the CSS folder of our project\n",
    "6. Copy the JS properties from the zip file and paste it in the JS folder of our project\n",
    "#### Connecting CSS and JS properties\n",
    "1. We use link tag to connect to CSS properties\n",
    "2. We use script tag to connect to JS properties\n",
    "Example:\n",
    "\n",
    "        <head>\n",
    "        <link rel=\"stylesheet\" href=\"{% static 'css/bootstrap reboot.min.css' %}\">\n",
    "        </head>\n",
    "        <body>\n",
    "        <script src = \"{% static 'js/bootstrap bundle.js' %}\"></script>\n",
    "        </body>\n",
    "#### Note:\n",
    "It is difficult to connect CSS ans JS properties each and every Html file. To avolid that we have a concept called Template Inheritence "
   ]
  }
 ],
 "metadata": {
  "kernelspec": {
   "display_name": "Python 3 (ipykernel)",
   "language": "python",
   "name": "python3"
  },
  "language_info": {
   "codemirror_mode": {
    "name": "ipython",
    "version": 3
   },
   "file_extension": ".py",
   "mimetype": "text/x-python",
   "name": "python",
   "nbconvert_exporter": "python",
   "pygments_lexer": "ipython3",
   "version": "3.12.4"
  }
 },
 "nbformat": 4,
 "nbformat_minor": 5
}
