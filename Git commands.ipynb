{
 "cells": [
  {
   "cell_type": "markdown",
   "id": "56bb9ee1",
   "metadata": {},
   "source": [
    "#### git add command\n",
    "    git add -A\n",
    "    git add .\n",
    "    git add --ignore removal .\n",
    "    git add -u"
   ]
  },
  {
   "cell_type": "markdown",
   "id": "1992f8cf",
   "metadata": {},
   "source": [
    "The commands git add -A and git add . are both used to stage changes in your working directory for the next commit, but they handle changes in different ways. Here’s a breakdown of the differences between the two:\n",
    "\n",
    "#### git add -A\n",
    "\n",
    "All Changes: Stages all changes in the repository, including modifications, deletions, and new files.\n",
    "Anywhere in the Working Directory: It stages changes throughout the entire working directory, regardless of the current directory you are in when you run the command.\n",
    "Equivalent Commands: This is equivalent to running git add --all.\n",
    "\n",
    "#### git add .\n",
    "\n",
    "Current Directory and Below: Stages changes only in the current directory and its subdirectories.\n",
    "Modifications and New Files: Stages modifications to tracked files and new files, but it does not stage deletions of files that have been removed from the working directory.\n",
    "\n",
    "#### Use Cases\n",
    "\n",
    "git add -A is useful when you want to ensure that all changes in the working directory, including deletions, are staged.\n",
    "git add . is useful when you want to stage changes only in the current directory and its subdirectories, and you do not want to include deletions."
   ]
  },
  {
   "cell_type": "markdown",
   "id": "212edb21",
   "metadata": {},
   "source": [
    "        .\n",
    "        ├── file1.txt\n",
    "        ├── dir1\n",
    "        │   └── file2.txt\n",
    "        └── dir2\n",
    "            └── file3.txt\n",
    "\n",
    "        If you delete file1.txt, modify dir1/file2.txt, and add a new file dir2/file4.txt, then:\n",
    "\n",
    "        Running git add -A will stage all changes: the deletion of file1.txt, the modification of dir1/file2.txt, and the addition of dir2/file4.txt.\n",
    "\n",
    "        Running git add . from the root directory will stage the modification of dir1/file2.txt and the addition of dir2/file4.txt, but not the deletion of file1.txt.\n",
    "\n",
    "        Running git add . from within dir2 will stage only the addition of file4.txt."
   ]
  },
  {
   "cell_type": "markdown",
   "id": "bcc1d2d3",
   "metadata": {},
   "source": [
    "#### git add --ignore-removal .\n",
    "    Modifications and New Files: This command stages modifications to tracked files and any new files that are within the current directory and its subdirectories.\n",
    "\n",
    "    Ignores Deletions: It explicitly ignores any deletions of tracked files. If we have deleted files, they will not be staged for removal with this command.\n",
    "\n",
    "    Current Directory Scope: It only considers changes in the current directory and its subdirectories.\n",
    "\n",
    "##### Use Case: we want to stage changes and new files but not deletions within the current directory.\n",
    "\n",
    "##### Example\n",
    "    Suppose we have the following changes in our repository:\n",
    "\n",
    "    Modified file1.txt\n",
    "    Added newfile.txt\n",
    "    Deleted file2.txt\n",
    "    Running git add --ignore-removal . will stage the modifications to file1.txt and the new newfile.txt, but it will not stage the deletion of file2.txt.\n",
    "\n",
    "#### git add -u\n",
    "    Modifications and Deletions: This command stages modifications to tracked files and any deletions of tracked files.\n",
    "    Does Not Include New Files: It does not stage new untracked files.\n",
    "\n",
    "    Entire Working Directory: It considers changes throughout the entire working directory, not just the current directory.\n",
    "\n",
    "    ##### Use Case: we want to stage modifications and deletions of tracked files but not new files across the entire repository.\n",
    "\n",
    "##### Example: \n",
    "    Suppose we have the following changes in our repository:\n",
    "\n",
    "    Modified file1.txt\n",
    "    Added newfile.txt\n",
    "    Deleted file2.txt\n",
    "    Running git add -u will stage the modifications to file1.txt and the deletion of file2.txt, but it will not stage the new newfile.txt.\n",
    "\n",
    "#### Summary\n",
    "#### git add --ignore-removal .\n",
    "    Stages modifications and new files in the current directory and subdirectories, ignoring deletions.\n",
    "\n",
    "#### git add -u\n",
    "    Stages modifications and deletions of tracked files throughout the entire repository, ignoring new files."
   ]
  },
  {
   "cell_type": "markdown",
   "id": "318c00f9",
   "metadata": {},
   "source": [
    "#### Summary of Effects on Remote and Remote-Tracking Branches:\n",
    "    Operation\tAffects Remote main?\t      Affects Remote-Tracking origin/main?\t        Affects Local Branch (main)?\n",
    "    \n",
    "    * git pull--> No, only fetches updates    --> Yes, updates remote-tracking branch      --> Yes, updates our local branch with merged changes\n",
    "    \n",
    "     * git push-->\tYes, pushes changes       --> No, but updates next fetch of origin/main--> No, but changes will be reflected when fetched\n",
    "    \n",
    "     * git fetch--> No, just retrieves updates--> Yes, updates remote-tracking branch      --> No\n",
    "    \n",
    "    git merge-->          \tNo                 --> No                  \t                   --> Yes, merges into local branch\n",
    "    \n",
    "#### Key Takeaways:\n",
    "   * origin/main is a local reference to the state of the remote main branch.\n",
    "   * git push and git pull affect the remote main branch directly (via push or merge).\n",
    "   * git fetch updates local references (origin/main) without affecting the remote main.\n",
    "   * Operations on our local main will not automatically update the remote main until we push our changes."
   ]
  },
  {
   "cell_type": "markdown",
   "id": "7750adb6-1907-48e6-a827-0ff550af95aa",
   "metadata": {},
   "source": [
    "#### Revert the changes\n",
    "To undo the current commit and revert your repository to the state of the previous commit, you can use the git reset command. There are a few different options depending on what you want to achieve:\n",
    "\n",
    "#### Soft Reset\n",
    "\n",
    "To undo the commit but keep the changes you made (i.e., the changes will be in your working directory and staged for commit):\n",
    "\n",
    "        git reset --soft HEAD~1\n",
    "\n",
    "#### Mixed Reset\n",
    "\n",
    "If you want to undo the commit and keep the changes in your working directory but not staged for commit:\n",
    "\n",
    "        git reset --mixed HEAD~1\n",
    "\n",
    "#### Hard Reset\n",
    "\n",
    "If you want to undo the commit and discard all the changes you made:\n",
    "\n",
    "        git reset --hard HEAD~1\n",
    "\n",
    "The HEAD~1 notation means \"one commit before the current HEAD\".\n",
    "\n",
    "Important Notes\n",
    "\n",
    "    Soft Reset: The changes will be in the staging area, ready to be committed again.\n",
    "    Mixed Reset: The changes will be in your working directory but not staged.\n",
    "    Hard Reset: The changes will be lost, and your working directory will match the state of the repository at the previous commit."
   ]
  },
  {
   "cell_type": "code",
   "execution_count": null,
   "id": "325e57cb-5521-4b63-90a3-3de19ebfade8",
   "metadata": {},
   "outputs": [],
   "source": []
  }
 ],
 "metadata": {
  "kernelspec": {
   "display_name": "Python 3 (ipykernel)",
   "language": "python",
   "name": "python3"
  },
  "language_info": {
   "codemirror_mode": {
    "name": "ipython",
    "version": 3
   },
   "file_extension": ".py",
   "mimetype": "text/x-python",
   "name": "python",
   "nbconvert_exporter": "python",
   "pygments_lexer": "ipython3",
   "version": "3.12.4"
  }
 },
 "nbformat": 4,
 "nbformat_minor": 5
}
